{
 "cells": [
  {
   "cell_type": "markdown",
   "id": "bbd593fb",
   "metadata": {},
   "source": [
    "# 금보원 데이터챌린지_계획서 제출 코드"
   ]
  },
  {
   "cell_type": "markdown",
   "id": "9e2d3b73",
   "metadata": {},
   "source": [
    "## 1. 데이터셋 및 라이브러리 불러오기"
   ]
  },
  {
   "cell_type": "code",
   "execution_count": 1,
   "id": "d43e5b9c",
   "metadata": {},
   "outputs": [],
   "source": [
    "import pandas as pd"
   ]
  },
  {
   "cell_type": "code",
   "execution_count": 2,
   "id": "e5bdfbff",
   "metadata": {},
   "outputs": [],
   "source": [
    "samsung = pd.read_csv(r\"E:\\금보원_데이터챌린지대회\\삼성카드_data.csv\",encoding='cp949')\n",
    "insurance = pd.read_csv(r\"E:\\금보원_데이터챌린지대회\\보험개발원_data.csv\",encoding='cp949')\n",
    "class_name = pd.read_csv('./카드_대중소분류.csv',encoding='cp949')"
   ]
  },
  {
   "cell_type": "markdown",
   "id": "34ce26fa",
   "metadata": {},
   "source": [
    "### 데이터셋 concat"
   ]
  },
  {
   "cell_type": "code",
   "execution_count": 3,
   "id": "42e2dbfe",
   "metadata": {},
   "outputs": [],
   "source": [
    "df= pd.concat([samsung, insurance], axis=1)"
   ]
  },
  {
   "cell_type": "code",
   "execution_count": 38,
   "id": "8fd179a7",
   "metadata": {
    "scrolled": true
   },
   "outputs": [
    {
     "name": "stdout",
     "output_type": "stream",
     "text": [
      "<class 'pandas.core.frame.DataFrame'>\n",
      "RangeIndex: 10 entries, 0 to 9\n",
      "Columns: 405 entries, 기준년도 to 자동차보험가입경력\n",
      "dtypes: float64(3), int64(391), object(11)\n",
      "memory usage: 31.8+ KB\n"
     ]
    }
   ],
   "source": [
    "df.info()"
   ]
  },
  {
   "cell_type": "code",
   "execution_count": 4,
   "id": "bdd2e842",
   "metadata": {},
   "outputs": [],
   "source": [
    "df.fillna(0,inplace=True)"
   ]
  },
  {
   "cell_type": "markdown",
   "id": "9eb03fb3",
   "metadata": {},
   "source": [
    "## 생명 보험 1, 장기 보험 2, 자동차 보험 3"
   ]
  },
  {
   "cell_type": "code",
   "execution_count": 4,
   "id": "389269b7",
   "metadata": {},
   "outputs": [],
   "source": [
    "df[\"보험료\"]=df[\"보험료\"].apply(lambda x: x.strip().replace(\",\",\"\")).astype(int)\n",
    "df[\"지급금액\"]=df[\"지급금액\"].apply(lambda x: x.strip().replace(\",\",\"\")).astype(int)\n",
    "\n",
    "df['생명보험사고율']=df[\"사고건수\"]/df[\"계약건수\"]\n",
    "df['장기보험사고율']=df[\"지급금액\"]/df[\"보험료\"]\n",
    "df['자동차보험사고율']= df[\"지급금액\"]/df[\"보험료\"]"
   ]
  },
  {
   "cell_type": "code",
   "execution_count": 31,
   "id": "ac312460",
   "metadata": {},
   "outputs": [],
   "source": [
    "def grade_acc(row):\n",
    "    if row['보험종류'] == 1:\n",
    "        ratio=row[\"생명보험사고율\"]\n",
    "    \n",
    "    else:\n",
    "        ratio=row[\"장기보험사고율\"]\n",
    "        \n",
    "    if ratio <= 0.2:\n",
    "            return 0\n",
    "    elif ratio <= 0.4:\n",
    "        return 1\n",
    "\n",
    "    elif ratio <= 0.6:\n",
    "        return 2\n",
    "\n",
    "    elif ratio <= 0.8:\n",
    "        return 3  \n",
    "    else:\n",
    "        return 4 \n",
    "\n",
    "    \n",
    "    return 4"
   ]
  },
  {
   "cell_type": "code",
   "execution_count": 26,
   "id": "d50329c8",
   "metadata": {},
   "outputs": [],
   "source": [
    "df[\"보험_사고율_등급\"]= df.apply(grade_acc, axis=1)"
   ]
  },
  {
   "cell_type": "code",
   "execution_count": 32,
   "id": "ef6fe0e4",
   "metadata": {
    "scrolled": true
   },
   "outputs": [
    {
     "name": "stdout",
     "output_type": "stream",
     "text": [
      "0.0    4\n",
      "1.0    1\n",
      "Name: 생명보험사고율, dtype: int64\n",
      "0.0     1\n",
      "40.0    1\n",
      "Name: 장기보험사고율, dtype: int64\n",
      "35.00    1\n",
      "43.75    1\n",
      "0.00     1\n",
      "Name: 자동차보험사고율, dtype: int64\n"
     ]
    }
   ],
   "source": [
    "print(df[df['보험종류']==1]['생명보험사고율'].value_counts())\n",
    "print(df[df['보험종류']==2]['장기보험사고율'].value_counts())\n",
    "print(df[df['보험종류']==3]['자동차보험사고율'].value_counts())"
   ]
  },
  {
   "cell_type": "code",
   "execution_count": 78,
   "id": "ec51f1cc",
   "metadata": {
    "scrolled": false
   },
   "outputs": [
    {
     "data": {
      "text/html": [
       "<div>\n",
       "<style scoped>\n",
       "    .dataframe tbody tr th:only-of-type {\n",
       "        vertical-align: middle;\n",
       "    }\n",
       "\n",
       "    .dataframe tbody tr th {\n",
       "        vertical-align: top;\n",
       "    }\n",
       "\n",
       "    .dataframe thead th {\n",
       "        text-align: right;\n",
       "    }\n",
       "</style>\n",
       "<table border=\"1\" class=\"dataframe\">\n",
       "  <thead>\n",
       "    <tr style=\"text-align: right;\">\n",
       "      <th></th>\n",
       "      <th>보험종류</th>\n",
       "      <th>보험_사고율_등급</th>\n",
       "      <th>사고건수</th>\n",
       "      <th>계약건수</th>\n",
       "      <th>생명보험사고율</th>\n",
       "    </tr>\n",
       "  </thead>\n",
       "  <tbody>\n",
       "    <tr>\n",
       "      <th>0</th>\n",
       "      <td>1</td>\n",
       "      <td>0</td>\n",
       "      <td>0</td>\n",
       "      <td>0.5</td>\n",
       "      <td>0.00</td>\n",
       "    </tr>\n",
       "    <tr>\n",
       "      <th>1</th>\n",
       "      <td>1</td>\n",
       "      <td>0</td>\n",
       "      <td>0</td>\n",
       "      <td>1.0</td>\n",
       "      <td>0.00</td>\n",
       "    </tr>\n",
       "    <tr>\n",
       "      <th>2</th>\n",
       "      <td>1</td>\n",
       "      <td>4</td>\n",
       "      <td>1</td>\n",
       "      <td>1.0</td>\n",
       "      <td>1.00</td>\n",
       "    </tr>\n",
       "    <tr>\n",
       "      <th>3</th>\n",
       "      <td>1</td>\n",
       "      <td>0</td>\n",
       "      <td>0</td>\n",
       "      <td>1.0</td>\n",
       "      <td>0.00</td>\n",
       "    </tr>\n",
       "    <tr>\n",
       "      <th>4</th>\n",
       "      <td>2</td>\n",
       "      <td>0</td>\n",
       "      <td>0</td>\n",
       "      <td>2.0</td>\n",
       "      <td>0.00</td>\n",
       "    </tr>\n",
       "    <tr>\n",
       "      <th>5</th>\n",
       "      <td>2</td>\n",
       "      <td>4</td>\n",
       "      <td>2</td>\n",
       "      <td>1.0</td>\n",
       "      <td>2.00</td>\n",
       "    </tr>\n",
       "    <tr>\n",
       "      <th>6</th>\n",
       "      <td>3</td>\n",
       "      <td>4</td>\n",
       "      <td>1</td>\n",
       "      <td>0.8</td>\n",
       "      <td>1.25</td>\n",
       "    </tr>\n",
       "    <tr>\n",
       "      <th>7</th>\n",
       "      <td>3</td>\n",
       "      <td>4</td>\n",
       "      <td>1</td>\n",
       "      <td>1.0</td>\n",
       "      <td>1.00</td>\n",
       "    </tr>\n",
       "    <tr>\n",
       "      <th>8</th>\n",
       "      <td>3</td>\n",
       "      <td>0</td>\n",
       "      <td>0</td>\n",
       "      <td>1.0</td>\n",
       "      <td>0.00</td>\n",
       "    </tr>\n",
       "    <tr>\n",
       "      <th>9</th>\n",
       "      <td>1</td>\n",
       "      <td>0</td>\n",
       "      <td>0</td>\n",
       "      <td>1.0</td>\n",
       "      <td>0.00</td>\n",
       "    </tr>\n",
       "  </tbody>\n",
       "</table>\n",
       "</div>"
      ],
      "text/plain": [
       "   보험종류  보험_사고율_등급  사고건수  계약건수  생명보험사고율\n",
       "0     1          0     0   0.5     0.00\n",
       "1     1          0     0   1.0     0.00\n",
       "2     1          4     1   1.0     1.00\n",
       "3     1          0     0   1.0     0.00\n",
       "4     2          0     0   2.0     0.00\n",
       "5     2          4     2   1.0     2.00\n",
       "6     3          4     1   0.8     1.25\n",
       "7     3          4     1   1.0     1.00\n",
       "8     3          0     0   1.0     0.00\n",
       "9     1          0     0   1.0     0.00"
      ]
     },
     "execution_count": 78,
     "metadata": {},
     "output_type": "execute_result"
    }
   ],
   "source": [
    "df[['보험종류', '보험_사고율_등급', '사고건수', '계약건수', '생명보험사고율']]"
   ]
  },
  {
   "cell_type": "markdown",
   "id": "5d3fb9ba",
   "metadata": {},
   "source": [
    "사고율 feature 추가"
   ]
  },
  {
   "cell_type": "markdown",
   "id": "663a1867",
   "metadata": {},
   "source": [
    "## 2. 데이터 분석 "
   ]
  },
  {
   "cell_type": "markdown",
   "id": "2b0335e3",
   "metadata": {},
   "source": [
    "## 3. feature 생성\n",
    "\n",
    "- 평균 매출 금액 = 매출 금액 합 / 매출 금액 건수"
   ]
  },
  {
   "cell_type": "markdown",
   "id": "904856d7",
   "metadata": {},
   "source": [
    "0. feature 대분류 dictionary 만들기"
   ]
  },
  {
   "cell_type": "code",
   "execution_count": 6,
   "id": "28a949d0",
   "metadata": {
    "scrolled": true
   },
   "outputs": [
    {
     "name": "stdout",
     "output_type": "stream",
     "text": [
      "{'쇼핑': {'문구사무용품': {'문구사무용품'}, '면세점': {'면세점'}, '아울렛': {'아울렛'}, '마트/할인점': {'대형마트/할인점', '마트'}, '스포츠의류용품': {'스포츠의류용품'}, '가전': {'가전'}, '쇼핑기타': {'방문판매'}, '패션잡화': {'패션잡화'}, '백화점': {'백화점'}, '의류': {'의류'}, '자': {'주류판매점'}, '화장품': {'화장품', '미용용품'}, '온라인쇼핑': {'오픈마켓', '종합몰', 'PG_일반인증', '기타쇼핑몰', '홈쇼핑'}, '상품권': {'상품권'}, '편의점': {'연금_복지매장', '편의점'}}, '생활': {'공과금': {'국세', '공공요금', '지방세'}, '가례': {'가례'}, '정기결제': {'4대보험', '전기', '통신비', '도시가스', '관리비'}, '보험': {'생명보험', '손해보험'}, '주생활관리': {'주생활관리'}, '인테리어': {'인테리어'}}, '유흥': {'유흥': {'유흥'}}, '여행': {'교통': {'고속버스', '철도', '여객선', '항공', '렌터카', '고속도로휴게실'}, '숙박': {'여관', '호텔', '콘도', '캠프장'}, '여행상품': {'관광여행사'}}, '자동차': {'주차': {'주차장'}, '차량구매': {'중고차', '수입차', '국산차', '오토바이'}, '대중교통': {'통행료', '택시', '버스/지하철'}, '주유': {'주유'}, '차량관리': {'차량관리'}}, '여가': {'동물병원': {'동물병원'}, '놀이공원': {'놀이공원'}, '취미': {'취미시설', '취미용품'}, '관람': {'관람_기타', '영화'}, '스포츠시설': {'스포츠시설'}, '골프장': {'골프장', '실내외골프연습장'}}, '건강': {'병원': {'이비인후과', '양방종합', '치과', '안과', '피부비뇨기과', '한방종합', '내과', '비뇨기과', '보건소', '기타외과', '한의원', '산부인과_조산원', '성형외과', '피부과', '양한방종합', '방사선과'}, '뷰티': {'미용실', '미용관리', '이발소'}, '건강보조': {'건강보조식품', '안경', '산후조리원', '의료기기용품', '요양원', '양약국'}}, '요식': {'커피/음료': {'커피/음료'}, '제과점': {'제과점_아이스크림점'}, '음식점': {'간이음식점', '주점', '부페', '한식', '일식', '양식', '중식', '패스트푸드점'}, '배달앱': {'배달앱'}}, '교육': {'교육기타': {'교육기타'}, '학원': {'문리계학원', '기능학원', '외국어학원', '예체능계학원'}, '학교': {'대학교', '특수학교', '초_중_고등학교'}, '서적': {'서적'}, '유아교육': {'유아교육'}}}\n"
     ]
    }
   ],
   "source": [
    "big_group = set(class_name['대'])\n",
    "\n",
    "class_dic = {}\n",
    "\n",
    "for big in big_group:\n",
    "    class_dic[big] = {}\n",
    "    \n",
    "    middle_group = set(class_name[class_name['대']==big]['중'])\n",
    "    \n",
    "    for middle in middle_group:\n",
    "        small_group = set(class_name[(class_name['대']==big) & (class_name['중']==middle)]['소'])\n",
    "        class_dic[big][middle] = small_group\n",
    "\n",
    "print(class_dic)"
   ]
  },
  {
   "cell_type": "markdown",
   "id": "415352e8",
   "metadata": {},
   "source": [
    "1) 대분류별 데이터셋 생성"
   ]
  },
  {
   "cell_type": "code",
   "execution_count": 12,
   "id": "1b65ae42",
   "metadata": {},
   "outputs": [
    {
     "data": {
      "text/plain": [
       "{'건강', '교육', '생활', '쇼핑', '여가', '여행', '요식', '유흥', '자동차'}"
      ]
     },
     "execution_count": 12,
     "metadata": {},
     "output_type": "execute_result"
    }
   ],
   "source": [
    "big_group"
   ]
  },
  {
   "cell_type": "code",
   "execution_count": 7,
   "id": "97330774",
   "metadata": {},
   "outputs": [],
   "source": [
    "big_list = list(big_group)#[\"요식\",\"자동차\",\"교육\",\"건강\",\"여가\",\"생활\",\"유흥\",\"쇼핑\",\"여행\"]"
   ]
  },
  {
   "cell_type": "code",
   "execution_count": 8,
   "id": "3b5f46b1",
   "metadata": {},
   "outputs": [],
   "source": [
    "alpha = [\"A\",\"B\",\"C\",\"D\",\"E\",\"F\",\"G\"]"
   ]
  },
  {
   "cell_type": "code",
   "execution_count": 9,
   "id": "61404a6e",
   "metadata": {},
   "outputs": [],
   "source": [
    "data = df[['기준년도', 'AGE', 'GENDER', 'JOB', 'INCOME', 'HOM_MGPO', 'HOM_SGG',\n",
    "       'OFFI_MGPO', 'OFFI_SGG', 'ONEPER_GD_C', 'EST_LFSTG', 'UMRD_SCORE',\n",
    "       'WEDD_EXP_SCORE', 'CHDB_EXP_SCORE', 'PSCH_OCH_SCORE', 'ESTUD_OCH_SCORE',\n",
    "       'MHSTUD_OCH_SCORE', 'CSTUD_OCH_SCORE', 'OCH_WEDD_EXP_SCORE',\n",
    "       'HOUSEWF_SCORE', 'ONL_PRSN', 'ERADP_TNDC', 'PRMM_CSM_TNDC', 'MDLV_PRSN',\n",
    "       'PET_PRSN', 'ODS_ACTI_INRT_TNDC', 'FRN_TRV_INRT_TNDC',\n",
    "       'INTERI_SLNG_TNDC', 'INTERI_REMDL_TNDC', 'HL_MNGT_INRT_TNDC']].copy()"
   ]
  },
  {
   "cell_type": "code",
   "execution_count": 10,
   "id": "45edadc2",
   "metadata": {
    "scrolled": false
   },
   "outputs": [],
   "source": [
    "total_count_sum = df[['총사용건수_A','총사용건수_B','총사용건수_C','총사용건수_D','총사용건수_E']].sum(axis=1)\n",
    "total_moeny_sum = df[['총사용금액_A','총사용금액_B','총사용금액_C','총사용금액_D','총사용금액_E']].sum(axis=1)\n",
    "df.loc[:,'총_평균금액_합'] = total_money_sum/total_count_sum"
   ]
  },
  {
   "cell_type": "code",
   "execution_count": 34,
   "id": "2cfaeae4",
   "metadata": {},
   "outputs": [
    {
     "data": {
      "text/html": [
       "<div>\n",
       "<style scoped>\n",
       "    .dataframe tbody tr th:only-of-type {\n",
       "        vertical-align: middle;\n",
       "    }\n",
       "\n",
       "    .dataframe tbody tr th {\n",
       "        vertical-align: top;\n",
       "    }\n",
       "\n",
       "    .dataframe thead th {\n",
       "        text-align: right;\n",
       "    }\n",
       "</style>\n",
       "<table border=\"1\" class=\"dataframe\">\n",
       "  <thead>\n",
       "    <tr style=\"text-align: right;\">\n",
       "      <th></th>\n",
       "      <th>기준년도</th>\n",
       "      <th>AGE</th>\n",
       "      <th>GENDER</th>\n",
       "      <th>JOB</th>\n",
       "      <th>INCOME</th>\n",
       "      <th>HOM_MGPO</th>\n",
       "      <th>HOM_SGG</th>\n",
       "      <th>OFFI_MGPO</th>\n",
       "      <th>OFFI_SGG</th>\n",
       "      <th>ONEPER_GD_C</th>\n",
       "      <th>...</th>\n",
       "      <th>보장내용</th>\n",
       "      <th>계약건수</th>\n",
       "      <th>보험료</th>\n",
       "      <th>사고건수</th>\n",
       "      <th>지급금액</th>\n",
       "      <th>자동차국외산구분코드</th>\n",
       "      <th>자동차보험가입경력</th>\n",
       "      <th>생명보험사고율</th>\n",
       "      <th>장기보험사고율</th>\n",
       "      <th>자동차보험사고율</th>\n",
       "    </tr>\n",
       "  </thead>\n",
       "  <tbody>\n",
       "    <tr>\n",
       "      <th>0</th>\n",
       "      <td>2018</td>\n",
       "      <td>A</td>\n",
       "      <td>M</td>\n",
       "      <td>A</td>\n",
       "      <td>A</td>\n",
       "      <td>Seoul</td>\n",
       "      <td>Jung-gu</td>\n",
       "      <td>Seoul</td>\n",
       "      <td>Dongdaemun-gu</td>\n",
       "      <td>5</td>\n",
       "      <td>...</td>\n",
       "      <td>1</td>\n",
       "      <td>0.5</td>\n",
       "      <td>13000</td>\n",
       "      <td>0</td>\n",
       "      <td>0</td>\n",
       "      <td>NaN</td>\n",
       "      <td>NaN</td>\n",
       "      <td>0.0</td>\n",
       "      <td>0.0</td>\n",
       "      <td>0.0</td>\n",
       "    </tr>\n",
       "  </tbody>\n",
       "</table>\n",
       "<p>1 rows × 408 columns</p>\n",
       "</div>"
      ],
      "text/plain": [
       "   기준년도 AGE GENDER JOB INCOME HOM_MGPO  HOM_SGG OFFI_MGPO       OFFI_SGG  \\\n",
       "0  2018   A      M   A      A    Seoul  Jung-gu     Seoul  Dongdaemun-gu   \n",
       "\n",
       "   ONEPER_GD_C  ... 보장내용  계약건수    보험료  사고건수  지급금액  자동차국외산구분코드  자동차보험가입경력  \\\n",
       "0            5  ...    1   0.5  13000     0     0         NaN        NaN   \n",
       "\n",
       "   생명보험사고율  장기보험사고율  자동차보험사고율  \n",
       "0      0.0      0.0       0.0  \n",
       "\n",
       "[1 rows x 408 columns]"
      ]
     },
     "execution_count": 34,
     "metadata": {},
     "output_type": "execute_result"
    }
   ],
   "source": [
    "df.head(1)"
   ]
  },
  {
   "cell_type": "code",
   "execution_count": 35,
   "id": "2d573a3a",
   "metadata": {
    "scrolled": true
   },
   "outputs": [
    {
     "data": {
      "text/plain": [
       "Index(['기준년도', 'AGE', 'GENDER', 'JOB', 'INCOME', 'HOM_MGPO', 'HOM_SGG',\n",
       "       'OFFI_MGPO', 'OFFI_SGG', 'ONEPER_GD_C', 'EST_LFSTG', 'UMRD_SCORE',\n",
       "       'WEDD_EXP_SCORE', 'CHDB_EXP_SCORE', 'PSCH_OCH_SCORE', 'ESTUD_OCH_SCORE',\n",
       "       'MHSTUD_OCH_SCORE', 'CSTUD_OCH_SCORE', 'OCH_WEDD_EXP_SCORE',\n",
       "       'HOUSEWF_SCORE', 'ONL_PRSN', 'ERADP_TNDC', 'PRMM_CSM_TNDC', 'MDLV_PRSN',\n",
       "       'PET_PRSN', 'ODS_ACTI_INRT_TNDC', 'FRN_TRV_INRT_TNDC',\n",
       "       'INTERI_SLNG_TNDC', 'INTERI_REMDL_TNDC', 'HL_MNGT_INRT_TNDC', '총사용건수_A',\n",
       "       '총사용건수_B', '총사용건수_C', '총사용건수_D', '총사용건수_E', '총사용건수_F', '총사용건수_G',\n",
       "       '매출건수합계_요식_A', '매출건수합계_요식_B', '매출건수합계_요식_C', '매출건수합계_요식_D',\n",
       "       '매출건수합계_요식_E', '매출건수합계_요식_F', '매출건수합계_요식_G', '매출건수합계_자동차_A',\n",
       "       '매출건수합계_자동차_B', '매출건수합계_자동차_C', '매출건수합계_자동차_D', '매출건수합계_자동차_E',\n",
       "       '매출건수합계_자동차_F', '매출건수합계_자동차_G', '매출건수합계_교육_A', '매출건수합계_교육_B',\n",
       "       '매출건수합계_교육_C', '매출건수합계_교육_D', '매출건수합계_교육_E', '매출건수합계_교육_F',\n",
       "       '매출건수합계_교육_G', '매출건수합계_건강_A', '매출건수합계_건강_B', '매출건수합계_건강_C',\n",
       "       '매출건수합계_건강_D', '매출건수합계_건강_E', '매출건수합계_건강_F', '매출건수합계_건강_G',\n",
       "       '매출건수합계_여가_A', '매출건수합계_여가_B', '매출건수합계_여가_C', '매출건수합계_여가_D',\n",
       "       '매출건수합계_여가_E', '매출건수합계_여가_F', '매출건수합계_여가_G', '매출건수합계_생활_A',\n",
       "       '매출건수합계_생활_B', '매출건수합계_생활_C', '매출건수합계_생활_D', '매출건수합계_생활_E',\n",
       "       '매출건수합계_생활_F', '매출건수합계_생활_G', '매출건수합계_유흥_A', '매출건수합계_유흥_B',\n",
       "       '매출건수합계_유흥_C', '매출건수합계_유흥_D', '매출건수합계_유흥_E', '매출건수합계_유흥_F',\n",
       "       '매출건수합계_유흥_G', '매출건수합계_쇼핑_A', '매출건수합계_쇼핑_B', '매출건수합계_쇼핑_C',\n",
       "       '매출건수합계_쇼핑_D', '매출건수합계_쇼핑_E', '매출건수합계_쇼핑_F', '매출건수합계_쇼핑_G',\n",
       "       '매출건수합계_여행_A', '매출건수합계_여행_B', '매출건수합계_여행_C', '매출건수합계_여행_D',\n",
       "       '매출건수합계_여행_E', '매출건수합계_여행_F', '매출건수합계_여행_G'],\n",
       "      dtype='object')"
      ]
     },
     "execution_count": 35,
     "metadata": {},
     "output_type": "execute_result"
    }
   ],
   "source": [
    "df.columns[:100]"
   ]
  },
  {
   "cell_type": "code",
   "execution_count": 12,
   "id": "03e97670",
   "metadata": {},
   "outputs": [],
   "source": [
    "df_columns = df.columns"
   ]
  },
  {
   "cell_type": "markdown",
   "id": "f669c1a4",
   "metadata": {},
   "source": [
    "for big in class_dic.keys():\n",
    "    df.loc[:,big+'_총사용건수_합']=0\n",
    "    df.loc[:,big+'_총사용금액_합']=0\n",
    "    for a in alpha:\n",
    "        df.loc[:,big+'_총사용건수_합'] += df[\"매출건수합계_\"+big+\"_\"+a].values\n",
    "        df.loc[:,big+'_총사용금액_합'] += df[\"매출금액합계_\"+big+\"_\"+a].values\n",
    "    df.loc[:,big+'_평균사용금액']= df[big+'_총사용금액_합']/df[big+'_총사용건수_합']\n",
    "    for mid in class_dic[big].keys():\n",
    "        df.loc[:,mid+'_총사용건수_합']=0\n",
    "        df.loc[:,mid+'_총사용금액_합']=0\n",
    "        if mid not in df_columns:\n",
    "            print(big,'의',mid,'없음')\n",
    "            continue\n",
    "        for a in alpha:\n",
    "            df.loc[:,mid+'_총사용건수_합'] += df[\"매출건수합계_\"+mid+\"_\"+a].values\n",
    "            df.loc[:,mid+'_총사용금액_합'] += df[\"매출금액합계_\"+mid+\"_\"+a].values\n",
    "        df.loc[:,mid+'_평균사용금액']= df[mid+'_총사용금액_합']/df[mid+'_총사용건수_합']\n",
    "        for small in class_dic[big][mid]:\n",
    "            df.loc[:,small+'_총사용건수_합']=0\n",
    "            df.loc[:,small+'_총사용금액_합']=0\n",
    "            if small in df_columns:\n",
    "                for a in alpha:\n",
    "                    df.loc[:,small+'_총사용건수_합'] += df[\"매출건수합계_\"+small+\"_\"+a].values\n",
    "                    df.loc[:,small+'_총사용금액_합'] += df[\"매출금액합계_\"+small+\"_\"+a].values\n",
    "                df.loc[:,small+'_평균사용금액']= df[small+'_총사용금액_합']/df[small+'_총사용건수_합']\n",
    "            else:\n",
    "                print(big,'의',mid,'의 ',small,'없음')\n",
    "            "
   ]
  },
  {
   "cell_type": "code",
   "execution_count": 13,
   "id": "0a1dd753",
   "metadata": {
    "scrolled": true
   },
   "outputs": [
    {
     "name": "stdout",
     "output_type": "stream",
     "text": [
      "쇼핑 의  문구사무용품 없음\n",
      "쇼핑 의  면세점 없음\n",
      "쇼핑 의  아울렛 없음\n",
      "쇼핑 의  마트/할인점 없음\n",
      "쇼핑 의  스포츠의류용품 없음\n",
      "쇼핑 의  가전 없음\n",
      "쇼핑 의  쇼핑기타 없음\n",
      "쇼핑 의  패션잡화 없음\n",
      "쇼핑 의  백화점 없음\n",
      "쇼핑 의  의류 없음\n",
      "쇼핑 의  자 없음\n",
      "쇼핑 의  화장품 없음\n",
      "쇼핑 의  온라인쇼핑 의 오픈마켓 없음\n",
      "쇼핑 의  온라인쇼핑 의 종합몰 없음\n",
      "쇼핑 의  온라인쇼핑 의 PG_일반인증 없음\n",
      "쇼핑 의  온라인쇼핑 의 기타쇼핑몰 없음\n",
      "쇼핑 의  온라인쇼핑 의 홈쇼핑 없음\n",
      "쇼핑 의  상품권 없음\n",
      "쇼핑 의  편의점 없음\n",
      "생활 의  공과금 없음\n",
      "생활 의  가례 없음\n",
      "생활 의  정기결제 없음\n",
      "생활 의  보험 없음\n",
      "생활 의  주생활관리 없음\n",
      "생활 의  인테리어 없음\n",
      "여행 의  교통 없음\n",
      "여행 의  숙박 없음\n",
      "여행 의  여행상품 없음\n",
      "자동차 의  주차 의 주차장 없음\n",
      "자동차 의  차량구매 의 중고차 없음\n",
      "자동차 의  차량구매 의 수입차 없음\n",
      "자동차 의  차량구매 의 국산차 없음\n",
      "자동차 의  차량구매 의 오토바이 없음\n",
      "자동차 의  대중교통 의 통행료 없음\n",
      "자동차 의  대중교통 의 택시 없음\n",
      "자동차 의  대중교통 의 버스/지하철 없음\n",
      "자동차 의  차량관리 없음\n",
      "여가 의  놀이공원 없음\n",
      "여가 의  취미 없음\n",
      "여가 의  관람 없음\n",
      "여가 의  골프장 의 실내외골프연습장 없음\n",
      "건강 의  병원 의 이비인후과 없음\n",
      "건강 의  병원 의 양방종합 없음\n",
      "건강 의  병원 의 치과 없음\n",
      "건강 의  병원 의 안과 없음\n",
      "건강 의  병원 의 피부비뇨기과 없음\n",
      "건강 의  병원 의 한방종합 없음\n",
      "건강 의  병원 의 내과 없음\n",
      "건강 의  병원 의 비뇨기과 없음\n",
      "건강 의  병원 의 보건소 없음\n",
      "건강 의  병원 의 기타외과 없음\n",
      "건강 의  병원 의 한의원 없음\n",
      "건강 의  병원 의 산부인과_조산원 없음\n",
      "건강 의  병원 의 성형외과 없음\n",
      "건강 의  병원 의 피부과 없음\n",
      "건강 의  병원 의 양한방종합 없음\n",
      "건강 의  병원 의 방사선과 없음\n",
      "건강 의  뷰티 없음\n",
      "요식 의  커피/음료 없음\n",
      "요식 의  제과점 없음\n",
      "요식 의  음식점 없음\n",
      "요식 의  배달앱 없음\n",
      "교육 의  교육기타 없음\n",
      "교육 의  학원 없음\n",
      "교육 의  학교 없음\n",
      "교육 의  서적 없음\n",
      "교육 의  유아교육 없음\n"
     ]
    }
   ],
   "source": [
    "for big in class_dic.keys():\n",
    "    \n",
    "    if (\"매출건수합계_\"+big+\"_A\") not in df_columns:\n",
    "        print(big,'없음')\n",
    "        continue\n",
    "    tmp_count = []\n",
    "    tmp_money = []\n",
    "    for a in alpha:\n",
    "        tmp_count.append(\"매출건수합계_\"+big+\"_\"+a)\n",
    "        tmp_money.append(\"매출금액합계_\"+big+\"_\"+a)\n",
    "    \n",
    "    tmp_count_sum = df[tmp_count].sum(axis=1)\n",
    "    tmp_money_sum = df[tmp_money].sum(axis=1)\n",
    "    \n",
    "    total = tmp_money_sum/tmp_count_sum\n",
    "    df.loc[:,big+'_평균사용금액']= total\n",
    "    \n",
    "    for mid in class_dic[big].keys():\n",
    "        if (\"매출건수합계_\"+mid+\"_A\") not in df_columns:\n",
    "            print(big,'의 ',mid,'없음')\n",
    "            continue\n",
    "        tmp_count = []\n",
    "        tmp_money = []\n",
    "        for a in alpha:\n",
    "            tmp_count.append(\"매출건수합계_\"+mid+\"_\"+a)\n",
    "            tmp_money.append(\"매출금액합계_\"+mid+\"_\"+a)\n",
    "    \n",
    "        tmp_count_sum = df[tmp_count].sum(axis=1)\n",
    "        tmp_money_sum = df[tmp_money].sum(axis=1)\n",
    "        \n",
    "        total = tmp_money_sum/tmp_count_sum\n",
    "        df.loc[:,mid+'_평균사용금액']= total\n",
    "        \n",
    "        for small in class_dic[big][mid]:\n",
    "            if (\"매출건수합계_\"+small+\"_A\") not in df_columns:\n",
    "                print(big,'의 ',mid,'의',small,'없음')\n",
    "                continue\n",
    "            tmp_count = []\n",
    "            tmp_money = []\n",
    "            for a in alpha:\n",
    "                tmp_count.append(\"매출건수합계_\"+small+\"_\"+a)\n",
    "                tmp_money.append(\"매출금액합계_\"+small+\"_\"+a)\n",
    "\n",
    "            tmp_count_sum = df[tmp_count].sum(axis=1)\n",
    "            tmp_money_sum = df[tmp_money].sum(axis=1)\n",
    "            \n",
    "            total = tmp_money_sum/tmp_count_sum\n",
    "            df.loc[:,small+'_평균사용금액']= total\n",
    "    "
   ]
  },
  {
   "cell_type": "code",
   "execution_count": 15,
   "id": "5a41a6a6",
   "metadata": {
    "scrolled": true
   },
   "outputs": [
    {
     "data": {
      "text/plain": [
       "{'건강', '교육', '생활', '쇼핑', '여가', '여행', '요식', '유흥', '자동차'}"
      ]
     },
     "execution_count": 15,
     "metadata": {},
     "output_type": "execute_result"
    }
   ],
   "source": [
    "big_group"
   ]
  },
  {
   "cell_type": "code",
   "execution_count": 23,
   "id": "7accd02f",
   "metadata": {},
   "outputs": [
    {
     "data": {
      "text/plain": [
       "Index(['매출건수합계_요양원_C', '매출건수합계_요양원_D', '매출건수합계_요양원_E', '매출건수합계_요양원_F',\n",
       "       '매출건수합계_요양원_G', '매출건수합계_의료기기용품_A', '매출건수합계_의료기기용품_B', '매출건수합계_의료기기용품_C',\n",
       "       '매출건수합계_의료기기용품_D', '매출건수합계_의료기기용품_E', '매출건수합계_의료기기용품_F',\n",
       "       '매출건수합계_의료기기용품_G', '총사용금액_A', '총사용금액_B', '총사용금액_C', '총사용금액_D',\n",
       "       '총사용금액_E', '총사용금액_F', '총사용금액_G', '매출금액합계_요식_A', '매출금액합계_요식_B',\n",
       "       '매출금액합계_요식_C', '매출금액합계_요식_D', '매출금액합계_요식_E', '매출금액합계_요식_F',\n",
       "       '매출금액합계_요식_G', '매출금액합계_자동차_A', '매출금액합계_자동차_B', '매출금액합계_자동차_C',\n",
       "       '매출금액합계_자동차_D', '매출금액합계_자동차_E', '매출금액합계_자동차_F', '매출금액합계_자동차_G',\n",
       "       '매출금액합계_교육_A', '매출금액합계_교육_B', '매출금액합계_교육_C', '매출금액합계_교육_D',\n",
       "       '매출금액합계_교육_E', '매출금액합계_교육_F', '매출금액합계_교육_G', '매출금액합계_건강_A',\n",
       "       '매출금액합계_건강_B', '매출금액합계_건강_C', '매출금액합계_건강_D', '매출금액합계_건강_E',\n",
       "       '매출금액합계_건강_F', '매출금액합계_건강_G', '매출금액합계_여가_A', '매출금액합계_여가_B',\n",
       "       '매출금액합계_여가_C'],\n",
       "      dtype='object')"
      ]
     },
     "execution_count": 23,
     "metadata": {},
     "output_type": "execute_result"
    }
   ],
   "source": [
    "df.columns[200:250]"
   ]
  },
  {
   "cell_type": "code",
   "execution_count": 17,
   "id": "4eef55bc",
   "metadata": {
    "scrolled": true
   },
   "outputs": [
    {
     "data": {
      "text/plain": [
       "{'생활': {'보험': {'생명보험', '손해보험'},\n",
       "  '인테리어': {'인테리어'},\n",
       "  '정기결제': {'4대보험', '관리비', '도시가스', '전기', '통신비'},\n",
       "  '주생활관리': {'주생활관리'},\n",
       "  '가례': {'가례'},\n",
       "  '공과금': {'공공요금', '국세', '지방세'}},\n",
       " '여행': {'교통': {'고속도로휴게실', '고속버스', '렌터카', '여객선', '철도', '항공'},\n",
       "  '숙박': {'여관', '캠프장', '콘도', '호텔'},\n",
       "  '여행상품': {'관광여행사'}},\n",
       " '요식': {'커피/음료': {'커피/음료'},\n",
       "  '제과점': {'제과점_아이스크림점'},\n",
       "  '음식점': {'간이음식점', '부페', '양식', '일식', '주점', '중식', '패스트푸드점', '한식'},\n",
       "  '배달앱': {'배달앱'}},\n",
       " '자동차': {'차량관리': {'차량관리'},\n",
       "  '대중교통': {'버스/지하철', '택시', '통행료'},\n",
       "  '주유': {'주유'},\n",
       "  '주차': {'주차장'},\n",
       "  '차량구매': {'국산차', '수입차', '오토바이', '중고차'}},\n",
       " '교육': {'서적': {'서적'},\n",
       "  '교육기타': {'교육기타'},\n",
       "  '학원': {'기능학원', '문리계학원', '예체능계학원', '외국어학원'},\n",
       "  '학교': {'대학교', '초_중_고등학교', '특수학교'},\n",
       "  '유아교육': {'유아교육'}},\n",
       " '유흥': {'유흥': {'유흥'}},\n",
       " '여가': {'스포츠시설': {'스포츠시설'},\n",
       "  '동물병원': {'동물병원'},\n",
       "  '관람': {'관람_기타', '영화'},\n",
       "  '골프장': {'골프장', '실내외골프연습장'},\n",
       "  '놀이공원': {'놀이공원'},\n",
       "  '취미': {'취미시설', '취미용품'}},\n",
       " '건강': {'건강보조': {'건강보조식품', '산후조리원', '안경', '양약국', '요양원', '의료기기용품'},\n",
       "  '뷰티': {'미용관리', '미용실', '이발소'},\n",
       "  '병원': {'기타외과',\n",
       "   '내과',\n",
       "   '방사선과',\n",
       "   '보건소',\n",
       "   '비뇨기과',\n",
       "   '산부인과_조산원',\n",
       "   '성형외과',\n",
       "   '안과',\n",
       "   '양방종합',\n",
       "   '양한방종합',\n",
       "   '이비인후과',\n",
       "   '치과',\n",
       "   '피부과',\n",
       "   '피부비뇨기과',\n",
       "   '한방종합',\n",
       "   '한의원'}},\n",
       " '쇼핑': {'온라인쇼핑': {'PG_일반인증', '기타쇼핑몰', '오픈마켓', '종합몰', '홈쇼핑'},\n",
       "  '화장품': {'미용용품', '화장품'},\n",
       "  '쇼핑기타': {'방문판매'},\n",
       "  '마트/할인점': {'대형마트/할인점', '마트'},\n",
       "  '스포츠의류용품': {'스포츠의류용품'},\n",
       "  '아울렛': {'아울렛'},\n",
       "  '편의점': {'연금_복지매장', '편의점'},\n",
       "  '상품권': {'상품권'},\n",
       "  '의류': {'의류'},\n",
       "  '패션잡화': {'패션잡화'},\n",
       "  '자': {'주류판매점'},\n",
       "  '백화점': {'백화점'},\n",
       "  '면세점': {'면세점'},\n",
       "  '가전': {'가전'},\n",
       "  '문구사무용품': {'문구사무용품'}}}"
      ]
     },
     "execution_count": 17,
     "metadata": {},
     "output_type": "execute_result"
    }
   ],
   "source": [
    "class_dic"
   ]
  },
  {
   "cell_type": "markdown",
   "id": "c74b9df2",
   "metadata": {},
   "source": [
    "### 새로운 feature 생성"
   ]
  },
  {
   "cell_type": "markdown",
   "id": "1bae9181",
   "metadata": {},
   "source": [
    "출퇴근 간격 생성"
   ]
  },
  {
   "cell_type": "code",
   "execution_count": 1,
   "id": "e2da8764",
   "metadata": {
    "scrolled": true
   },
   "outputs": [],
   "source": [
    "from selenium import webdriver\n",
    "from selenium.webdriver.common.keys import Keys"
   ]
  },
  {
   "cell_type": "code",
   "execution_count": 69,
   "id": "ab93cae9",
   "metadata": {},
   "outputs": [
    {
     "name": "stdout",
     "output_type": "stream",
     "text": [
      "{\"message\":{\"result\":{\"srcLangType\":\"en\",\"tarLangType\":\"ko\",\"translatedText\":\"서울성북구\",\"engineType\":\"N2MT\"},\"@type\":\"response\",\"@service\":\"naverservice.nmt.proxy\",\"@version\":\"1.0.0\"}}\n"
     ]
    }
   ],
   "source": [
    "import os\n",
    "import sys\n",
    "import urllib.request\n",
    "\n",
    "client_id = \"dfegGXhsPL7vfqj2yg3i\"\n",
    "client_secret = \"HXjgTp_aS5\"\n",
    "encText = urllib.parse.quote('seoul seongbukgu')\n",
    "\n",
    "url = \"https://openapi.naver.com/v1/papago/n2mt\"\n",
    "request = urllib.request.Request(url)\n",
    "request.add_header(\"X-Naver-Client-Id\",client_id)\n",
    "request.add_header(\"X-Naver-Client-Secret\",client_secret)\n",
    "\n",
    "data = \"source=en&target=ko&text=\"+encText\n",
    "response = urllib.request.urlopen(request,data=data.encode('utf-8'))\n",
    "rescode = response.getcode()\n",
    "\n",
    "if(rescode==200):\n",
    "    response_body = response.read()\n",
    "    print(response_body.decode('utf-8'))\n",
    "else:\n",
    "    print(\"error code\"+rescode)\n",
    "    \n"
   ]
  },
  {
   "cell_type": "code",
   "execution_count": 76,
   "id": "20a58493",
   "metadata": {},
   "outputs": [
    {
     "data": {
      "text/plain": [
       "'서울성북구'"
      ]
     },
     "execution_count": 76,
     "metadata": {},
     "output_type": "execute_result"
    }
   ],
   "source": [
    "eval(response_body.decode('utf-8'))['message']['result']['translatedText']"
   ]
  },
  {
   "cell_type": "code",
   "execution_count": 88,
   "id": "973e6bea",
   "metadata": {
    "scrolled": true
   },
   "outputs": [
    {
     "name": "stdout",
     "output_type": "stream",
     "text": [
      "Seoul Jung-gu\n",
      "Seoul Seocho-gu\n",
      "Seoul Songpa-gu\n",
      "Seoul Yeongdeungpo-gu\n",
      "Gyeonggi Namyangju-si\n",
      "Gyeonggi Siheung-si\n",
      "Gyeonggi Uijeongbu-si\n",
      "Gyeonggi Ansan-si danwon-gu\n",
      "Incheon Namdong-gu\n",
      "Incheon Bupyeong-gu\n"
     ]
    }
   ],
   "source": [
    "map_dict = {}\n",
    "for row in df.iterrows():\n",
    "    home = row[1][6]+\" \"+row[1][7]\n",
    "    office = row[1][8]+\" \"+row[1][9]\n",
    "    if home not in map_dict:\n",
    "        data = \"source=en&target=ko&text=\"+home\n",
    "        response = urllib.request.urlopen(request,data=data.encode('utf-8'))\n",
    "        rescode = response.getcode()\n",
    "\n",
    "        if(rescode==200):\n",
    "            response_body = response.read()\n",
    "            tmp = eval(response_body.decode('utf-8'))['message']['result']['translatedText']\n",
    "            map_dict[home]=tmp\n",
    "            \n",
    "        else:\n",
    "            print(\"error code\"+rescode)\n",
    "            \n",
    "    if office not in map_dict:\n",
    "        \n",
    "        data = \"source=en&target=ko&text=\"+office\n",
    "        response = urllib.request.urlopen(request,data=data.encode('utf-8'))\n",
    "        rescode = response.getcode()\n",
    "\n",
    "        if(rescode==200):\n",
    "            response_body = response.read()\n",
    "            tmp = eval(response_body.decode('utf-8'))['message']['result']['translatedText']\n",
    "            map_dict[office]=tmp\n",
    "            \n",
    "        else:\n",
    "            print(\"error code\"+rescode)\n",
    "            "
   ]
  },
  {
   "cell_type": "code",
   "execution_count": 89,
   "id": "da982830",
   "metadata": {},
   "outputs": [
    {
     "data": {
      "text/plain": [
       "{'Seoul Jung-gu': '서울 중구',\n",
       " 'Seoul Dongdaemun-gu': '서울 동대문구',\n",
       " 'Seoul Seocho-gu': '서울서초구',\n",
       " 'Seoul Guro-gu': '서울구로구',\n",
       " 'Seoul Songpa-gu': '서울송파구',\n",
       " 'Gyeonggi Ansan-si danwon-gu': '경기 안산시 단원구',\n",
       " 'Seoul Yeongdeungpo-gu': '서울 영등포구',\n",
       " 'Gyeonggi Seongnam-si bundang-gu': '경기 성남시 분당구',\n",
       " 'Gyeonggi Namyangju-si': '경기 남양주시',\n",
       " 'Gyeonggi Goyang-si ilsandong-gu': '경기 고양시 일산동구',\n",
       " 'Gyeonggi Siheung-si': '경기 시흥시',\n",
       " 'Incheon Michuhol-gu': '인천미추홀구',\n",
       " 'Gyeonggi Uijeongbu-si': '경기 의정부시',\n",
       " 'Seoul Gwangjin-gu': '서울광진구',\n",
       " 'Seoul Yangcheon-gu': '서울 양천구',\n",
       " 'Incheon Namdong-gu': '인천 남동구',\n",
       " 'Incheon Bupyeong-gu': '인천부평구',\n",
       " 'Incheon Seo-gu': '인천 서구'}"
      ]
     },
     "execution_count": 89,
     "metadata": {},
     "output_type": "execute_result"
    }
   ],
   "source": [
    "map_dict"
   ]
  },
  {
   "cell_type": "code",
   "execution_count": 19,
   "id": "1c28d4b8",
   "metadata": {},
   "outputs": [],
   "source": [
    "from bs4 import BeautifulSoup"
   ]
  },
  {
   "cell_type": "code",
   "execution_count": 28,
   "id": "5bec032a",
   "metadata": {},
   "outputs": [],
   "source": [
    "import time"
   ]
  },
  {
   "cell_type": "code",
   "execution_count": 102,
   "id": "2ddf0439",
   "metadata": {},
   "outputs": [],
   "source": [
    "from selenium.webdriver.common.by import By\n",
    "from bs4 import BeautifulSoup\n",
    "import time\n",
    "from selenium.webdriver.common.keys import Keys\n",
    "from selenium.webdriver.support.ui import WebDriverWait\n",
    "from selenium.webdriver.support import expected_conditions as EC\n",
    "from selenium import webdriver\n",
    "import pickle\n",
    "from tqdm.auto import tqdm"
   ]
  },
  {
   "cell_type": "code",
   "execution_count": 103,
   "id": "f0270081",
   "metadata": {},
   "outputs": [
    {
     "data": {
      "application/vnd.jupyter.widget-view+json": {
       "model_id": "e8b862fc1e03463b8e1d0c4cbcda90c4",
       "version_major": 2,
       "version_minor": 0
      },
      "text/plain": [
       "  0%|          | 0/2425 [00:00<?, ?it/s]"
      ]
     },
     "metadata": {},
     "output_type": "display_data"
    },
    {
     "ename": "TimeoutException",
     "evalue": "Message: \nStacktrace:\nBacktrace:\n\tGetHandleVerifier [0x00007FF6AAFE4A62+57106]\n\t(No symbol) [0x00007FF6AAF5CF52]\n\t(No symbol) [0x00007FF6AAE2E2CB]\n\t(No symbol) [0x00007FF6AAE6786E]\n\t(No symbol) [0x00007FF6AAE6795C]\n\t(No symbol) [0x00007FF6AAEA0477]\n\t(No symbol) [0x00007FF6AAE869FF]\n\t(No symbol) [0x00007FF6AAE9E522]\n\t(No symbol) [0x00007FF6AAE86793]\n\t(No symbol) [0x00007FF6AAE5CE81]\n\t(No symbol) [0x00007FF6AAE5E064]\n\tGetHandleVerifier [0x00007FF6AB294222+2873042]\n\tGetHandleVerifier [0x00007FF6AB2E6590+3209792]\n\tGetHandleVerifier [0x00007FF6AB2DF3AF+3180639]\n\tGetHandleVerifier [0x00007FF6AB075F25+652245]\n\t(No symbol) [0x00007FF6AAF68618]\n\t(No symbol) [0x00007FF6AAF647C4]\n\t(No symbol) [0x00007FF6AAF648BC]\n\t(No symbol) [0x00007FF6AAF54C33]\n\tBaseThreadInitThunk [0x00007FFF49047614+20]\n\tRtlUserThreadStart [0x00007FFF49EE26B1+33]\n",
     "output_type": "error",
     "traceback": [
      "\u001b[1;31m---------------------------------------------------------------------------\u001b[0m",
      "\u001b[1;31mTimeoutException\u001b[0m                          Traceback (most recent call last)",
      "Input \u001b[1;32mIn [103]\u001b[0m, in \u001b[0;36m<cell line: 53>\u001b[1;34m()\u001b[0m\n\u001b[0;32m     56\u001b[0m         result[which] \u001b[38;5;241m=\u001b[39m \u001b[38;5;241m0\u001b[39m\n\u001b[0;32m     57\u001b[0m     \u001b[38;5;28;01melse\u001b[39;00m:\n\u001b[1;32m---> 58\u001b[0m         a \u001b[38;5;241m=\u001b[39m \u001b[43mcheck_distance\u001b[49m\u001b[43m(\u001b[49m\u001b[43mi\u001b[49m\u001b[43m[\u001b[49m\u001b[38;5;241;43m0\u001b[39;49m\u001b[43m]\u001b[49m\u001b[43m,\u001b[49m\u001b[43m \u001b[49m\u001b[43mi\u001b[49m\u001b[43m[\u001b[49m\u001b[38;5;241;43m1\u001b[39;49m\u001b[43m]\u001b[49m\u001b[43m,\u001b[49m\u001b[43m \u001b[49m\u001b[38;5;241;43m3\u001b[39;49m\u001b[43m)\u001b[49m\n\u001b[0;32m     59\u001b[0m         result[which] \u001b[38;5;241m=\u001b[39m a\n\u001b[0;32m     60\u001b[0m \u001b[38;5;28;01mwith\u001b[39;00m \u001b[38;5;28mopen\u001b[39m(\u001b[38;5;124m'\u001b[39m\u001b[38;5;124mregion_result.pkl\u001b[39m\u001b[38;5;124m'\u001b[39m, \u001b[38;5;124m'\u001b[39m\u001b[38;5;124mwb\u001b[39m\u001b[38;5;124m'\u001b[39m) \u001b[38;5;28;01mas\u001b[39;00m f:\n",
      "Input \u001b[1;32mIn [103]\u001b[0m, in \u001b[0;36mcheck_distance\u001b[1;34m(src, dst, t)\u001b[0m\n\u001b[0;32m     32\u001b[0m driver\u001b[38;5;241m.\u001b[39mfind_element(By\u001b[38;5;241m.\u001b[39mCLASS_NAME,\u001b[38;5;124m'\u001b[39m\u001b[38;5;124mlink_tab.car\u001b[39m\u001b[38;5;124m'\u001b[39m)\u001b[38;5;241m.\u001b[39mclick()\n\u001b[0;32m     33\u001b[0m WebDriverWait(driver, timeout)\u001b[38;5;241m.\u001b[39muntil(EC\u001b[38;5;241m.\u001b[39mpresence_of_element_located((By\u001b[38;5;241m.\u001b[39mCLASS_NAME, \u001b[38;5;124m'\u001b[39m\u001b[38;5;124mvalue.ng-star-inserted\u001b[39m\u001b[38;5;124m'\u001b[39m)))\n\u001b[1;32m---> 34\u001b[0m \u001b[43mWebDriverWait\u001b[49m\u001b[43m(\u001b[49m\u001b[43mdriver\u001b[49m\u001b[43m,\u001b[49m\u001b[43m \u001b[49m\u001b[43mtimeout\u001b[49m\u001b[43m)\u001b[49m\u001b[38;5;241;43m.\u001b[39;49m\u001b[43muntil\u001b[49m\u001b[43m(\u001b[49m\u001b[43mEC\u001b[49m\u001b[38;5;241;43m.\u001b[39;49m\u001b[43mpresence_of_element_located\u001b[49m\u001b[43m(\u001b[49m\u001b[43m(\u001b[49m\u001b[43mBy\u001b[49m\u001b[38;5;241;43m.\u001b[39;49m\u001b[43mTAG_NAME\u001b[49m\u001b[43m,\u001b[49m\u001b[43m \u001b[49m\u001b[38;5;124;43m'\u001b[39;49m\u001b[38;5;124;43mreadable-distance\u001b[39;49m\u001b[38;5;124;43m'\u001b[39;49m\u001b[43m)\u001b[49m\u001b[43m)\u001b[49m\u001b[43m)\u001b[49m\n\u001b[0;32m     35\u001b[0m \u001b[38;5;66;03m# time.sleep(1)\u001b[39;00m\n\u001b[0;32m     36\u001b[0m html_source \u001b[38;5;241m=\u001b[39m driver\u001b[38;5;241m.\u001b[39mpage_source\n",
      "File \u001b[1;32m~\\Anaconda3\\lib\\site-packages\\selenium\\webdriver\\support\\wait.py:95\u001b[0m, in \u001b[0;36mWebDriverWait.until\u001b[1;34m(self, method, message)\u001b[0m\n\u001b[0;32m     93\u001b[0m     \u001b[38;5;28;01mif\u001b[39;00m time\u001b[38;5;241m.\u001b[39mmonotonic() \u001b[38;5;241m>\u001b[39m end_time:\n\u001b[0;32m     94\u001b[0m         \u001b[38;5;28;01mbreak\u001b[39;00m\n\u001b[1;32m---> 95\u001b[0m \u001b[38;5;28;01mraise\u001b[39;00m TimeoutException(message, screen, stacktrace)\n",
      "\u001b[1;31mTimeoutException\u001b[0m: Message: \nStacktrace:\nBacktrace:\n\tGetHandleVerifier [0x00007FF6AAFE4A62+57106]\n\t(No symbol) [0x00007FF6AAF5CF52]\n\t(No symbol) [0x00007FF6AAE2E2CB]\n\t(No symbol) [0x00007FF6AAE6786E]\n\t(No symbol) [0x00007FF6AAE6795C]\n\t(No symbol) [0x00007FF6AAEA0477]\n\t(No symbol) [0x00007FF6AAE869FF]\n\t(No symbol) [0x00007FF6AAE9E522]\n\t(No symbol) [0x00007FF6AAE86793]\n\t(No symbol) [0x00007FF6AAE5CE81]\n\t(No symbol) [0x00007FF6AAE5E064]\n\tGetHandleVerifier [0x00007FF6AB294222+2873042]\n\tGetHandleVerifier [0x00007FF6AB2E6590+3209792]\n\tGetHandleVerifier [0x00007FF6AB2DF3AF+3180639]\n\tGetHandleVerifier [0x00007FF6AB075F25+652245]\n\t(No symbol) [0x00007FF6AAF68618]\n\t(No symbol) [0x00007FF6AAF647C4]\n\t(No symbol) [0x00007FF6AAF648BC]\n\t(No symbol) [0x00007FF6AAF54C33]\n\tBaseThreadInitThunk [0x00007FFF49047614+20]\n\tRtlUserThreadStart [0x00007FFF49EE26B1+33]\n"
     ]
    }
   ],
   "source": [
    "from selenium.webdriver.common.by import By\n",
    "from bs4 import BeautifulSoup\n",
    "import time\n",
    "from selenium.webdriver.common.keys import Keys\n",
    "from selenium.webdriver.support.ui import WebDriverWait\n",
    "from selenium.webdriver.support import expected_conditions as EC\n",
    "from selenium import webdriver\n",
    "import pickle\n",
    "from tqdm.auto import tqdm\n",
    "#,dk\n",
    "#네이버 길찾기 주소\n",
    "#driver.find_element_by_xpath('//*[@id=\"intro_popup_close\"]/span').click()\n",
    "def check_distance(src, dst, t):\n",
    "    driver = webdriver.Chrome()\n",
    "    driver.get('https://map.naver.com/v5/directions/-/-/car/')\n",
    "    delay = 10\n",
    "    driver.implicitly_wait(delay) # 3초 기달림\n",
    "    driver.find_element(By.ID, 'directionStart0').send_keys(src)\n",
    "    driver.find_element(By.ID, \"directionStart0\").send_keys(Keys.RETURN) # 엔터\n",
    "    driver.find_element(By.CLASS_NAME, 'link_search.selected.ng-star-inserted').click()\n",
    "    # driver.find_element(By.XPATH, '//*[@class=\"main\"]/div[1]/shrinkable-layout/directions-layout/directions-result/directions-search-list/search-list/search-list-contents/perfect-scrollbar/div/div[1]/div/div/div/search-item-place/div').click()\n",
    "    driver.find_element(By.ID, 'directionGoal1').send_keys(dst)\n",
    "    driver.find_element(By.ID, 'directionGoal1').send_keys(Keys.RETURN)\n",
    "    driver.find_element(By.CLASS_NAME, 'link_search.selected.ng-star-inserted').click()\n",
    "    timeout = 10\n",
    "    WebDriverWait(driver, timeout).until(EC.presence_of_element_located((By.CLASS_NAME, 'btn.btn_direction.active')))\n",
    "    driver.find_element(By.CLASS_NAME, 'btn.btn_direction.active').click()\n",
    "    time.sleep(t)\n",
    "    WebDriverWait(driver, timeout).until(EC.presence_of_element_located((By.CLASS_NAME, 'link_tab.car')))\n",
    "    driver.find_element(By.CLASS_NAME,'link_tab.car').click()\n",
    "    driver.find_element(By.CLASS_NAME,'link_tab.car').click()\n",
    "    driver.find_element(By.CLASS_NAME,'link_tab.car').click()\n",
    "    WebDriverWait(driver, timeout).until(EC.presence_of_element_located((By.CLASS_NAME, 'value.ng-star-inserted')))\n",
    "    WebDriverWait(driver, timeout).until(EC.presence_of_element_located((By.TAG_NAME, 'readable-distance')))\n",
    "    # time.sleep(1)\n",
    "    html_source = driver.page_source\n",
    "    soup = BeautifulSoup(html_source,'html.parser')\n",
    "    #wait = WebDriverWait(driver, 10)\n",
    "    # target_span = wait.until(EC.presence_of_element_located((By.CLASS_NAME, 'value.ng-star-inserted')))\n",
    "    #data = soup.find('div',class_ = 'route_summary_info_area')\n",
    "    # time.sleep(2)\n",
    "    span_element = soup.select_one('span.value.ng-star-inserted')\n",
    "    data2 = soup.select_one('span.summary_info.distance')\n",
    "    # WebElement 객체에서 텍스트 추출 및 출력\n",
    "    # print(\"Span 태그 사이의 텍스트:\", span_element.text)\n",
    "    # print(\"Span 태그 사이의 텍스트:\", data2.text)\n",
    "    # #print(target_span)\n",
    "    driver.quit()\n",
    "    #span.value.ng-star-inserted\n",
    "    return (span_element.text, data2.text)\n",
    "\n",
    "result = dict()\n",
    "for i in tqdm(comb1):\n",
    "    which = '_'.join([i[0], i[1]])\n",
    "    if i[0] == i[1]:\n",
    "        result[which] = 0\n",
    "    else:\n",
    "        a = check_distance(i[0], i[1], 3)\n",
    "        result[which] = a\n",
    "with open('region_result.pkl', 'wb') as f:\n",
    "    pickle.dump(result, f)\n",
    "# try :\n",
    "#     #driver.find_element_by_xpath('//*[@id=\"container\"]/div[1]/shrinkable-layout/directions-layout/directions-result/div/directions-search/div[2]/button[2]').click()\n",
    "#     driver.find_element(By.CLASS_NAME, 'btn.btn_direction.active').click()\n",
    "# except:\n",
    "#     print('1')"
   ]
  },
  {
   "cell_type": "code",
   "execution_count": 104,
   "id": "ff7cef5b",
   "metadata": {
    "scrolled": true
   },
   "outputs": [
    {
     "name": "stdout",
     "output_type": "stream",
     "text": [
      "('안동시', '아산시')\n"
     ]
    }
   ],
   "source": [
    "print(comb1[6])"
   ]
  },
  {
   "cell_type": "code",
   "execution_count": 78,
   "id": "a7c8a5fa",
   "metadata": {},
   "outputs": [
    {
     "data": {
      "text/plain": [
       "42.56333333333333"
      ]
     },
     "execution_count": 78,
     "metadata": {},
     "output_type": "execute_result"
    }
   ],
   "source": [
    "(51076*3)/(60*60)"
   ]
  },
  {
   "cell_type": "code",
   "execution_count": 80,
   "id": "d2f7e29e",
   "metadata": {},
   "outputs": [],
   "source": [
    "import pandas as pd"
   ]
  },
  {
   "cell_type": "code",
   "execution_count": 81,
   "id": "af58119b",
   "metadata": {},
   "outputs": [],
   "source": [
    "region = pd.read_csv('E:/Behavior_signature_data/지역ko_en.csv')"
   ]
  },
  {
   "cell_type": "code",
   "execution_count": 82,
   "id": "1df0c138",
   "metadata": {
    "scrolled": false
   },
   "outputs": [
    {
     "data": {
      "text/html": [
       "<div>\n",
       "<style scoped>\n",
       "    .dataframe tbody tr th:only-of-type {\n",
       "        vertical-align: middle;\n",
       "    }\n",
       "\n",
       "    .dataframe tbody tr th {\n",
       "        vertical-align: top;\n",
       "    }\n",
       "\n",
       "    .dataframe thead th {\n",
       "        text-align: right;\n",
       "    }\n",
       "</style>\n",
       "<table border=\"1\" class=\"dataframe\">\n",
       "  <thead>\n",
       "    <tr style=\"text-align: right;\">\n",
       "      <th></th>\n",
       "      <th>컬럼값_시군구</th>\n",
       "      <th>세부내용</th>\n",
       "      <th>컬럼값_광역시도</th>\n",
       "      <th>세부내용.1</th>\n",
       "    </tr>\n",
       "  </thead>\n",
       "  <tbody>\n",
       "    <tr>\n",
       "      <th>0</th>\n",
       "      <td>Andong-si</td>\n",
       "      <td>안동시</td>\n",
       "      <td>Busan</td>\n",
       "      <td>부산</td>\n",
       "    </tr>\n",
       "    <tr>\n",
       "      <th>1</th>\n",
       "      <td>Ansan-si danwon-gu</td>\n",
       "      <td>안산시 단원구</td>\n",
       "      <td>Chungbuk</td>\n",
       "      <td>충북</td>\n",
       "    </tr>\n",
       "    <tr>\n",
       "      <th>2</th>\n",
       "      <td>Ansan-si sangnok-gu</td>\n",
       "      <td>안산시 상록구</td>\n",
       "      <td>Chungnam</td>\n",
       "      <td>충남</td>\n",
       "    </tr>\n",
       "    <tr>\n",
       "      <th>3</th>\n",
       "      <td>Anseong-si</td>\n",
       "      <td>안성시</td>\n",
       "      <td>Daegu</td>\n",
       "      <td>대구</td>\n",
       "    </tr>\n",
       "    <tr>\n",
       "      <th>4</th>\n",
       "      <td>Anyang-si dongan-gu</td>\n",
       "      <td>안양시 동안구</td>\n",
       "      <td>Daejeon</td>\n",
       "      <td>대전</td>\n",
       "    </tr>\n",
       "  </tbody>\n",
       "</table>\n",
       "</div>"
      ],
      "text/plain": [
       "               컬럼값_시군구     세부내용  컬럼값_광역시도 세부내용.1\n",
       "0            Andong-si      안동시     Busan     부산\n",
       "1   Ansan-si danwon-gu  안산시 단원구  Chungbuk     충북\n",
       "2  Ansan-si sangnok-gu  안산시 상록구  Chungnam     충남\n",
       "3           Anseong-si      안성시     Daegu     대구\n",
       "4  Anyang-si dongan-gu  안양시 동안구   Daejeon     대전"
      ]
     },
     "execution_count": 82,
     "metadata": {},
     "output_type": "execute_result"
    }
   ],
   "source": [
    "region.head()"
   ]
  },
  {
   "cell_type": "code",
   "execution_count": 87,
   "id": "b29b756b",
   "metadata": {},
   "outputs": [],
   "source": [
    "list_region = []\n",
    "for i in region['세부내용'].tolist():\n",
    "    if '시' in i:\n",
    "        list_region.append(i)\n"
   ]
  },
  {
   "cell_type": "code",
   "execution_count": 89,
   "id": "c88df0ce",
   "metadata": {},
   "outputs": [
    {
     "data": {
      "text/plain": [
       "98"
      ]
     },
     "execution_count": 89,
     "metadata": {},
     "output_type": "execute_result"
    }
   ],
   "source": [
    "len(list_region)"
   ]
  },
  {
   "cell_type": "code",
   "execution_count": 90,
   "id": "83c90a29",
   "metadata": {
    "collapsed": true
   },
   "outputs": [
    {
     "name": "stdout",
     "output_type": "stream",
     "text": [
      "[('안동시', '안동시'), ('안동시', '안산시 단원구'), ('안동시', '안산시 상록구'), ('안동시', '안성시'), ('안동시', '안양시 동안구'), ('안동시', '안양시 만안구'), ('안동시', '아산시'), ('안동시', '보령시'), ('안동시', '부천시'), ('안동시', '창원시 진해구'), ('안동시', '창원시 마산합포구'), ('안동시', '창원시 마산회원구'), ('안동시', '창원시 성산구'), ('안동시', '창원시 의창구'), ('안동시', '천안시 동남구'), ('안동시', '천안시 서북구'), ('안동시', '청주시 청원구'), ('안동시', '청주시 흥덕구'), ('안동시', '청주시 상당구'), ('안동시', '청주시 서원구'), ('안동시', '춘천시'), ('안동시', '충주시'), ('안동시', '당진시'), ('안동시', '동두천시'), ('안동시', '동해시'), ('안동시', '강릉시'), ('안동시', '거제시'), ('안동시', '김천시'), ('안동시', '김해시'), ('안동시', '김제시'), ('안동시', '김포시'), ('안동시', '공주시'), ('안동시', '고양시 덕양구'), ('안동시', '고양시 일산동구'), ('안동시', '고양시 일산서구'), ('안동시', '구미시'), ('안동시', '군포시'), ('안동시', '군산시'), ('안동시', '구리시'), ('안동시', '과천시'), ('안동시', '광주시'), ('안동시', '광명시'), ('안동시', '광양시'), ('안동시', '경주시'), ('안동시', '경산시'), ('안동시', '계룡시'), ('안동시', '하남시'), ('안동시', '화성시'), ('안동시', '이천시'), ('안동시', '익산시'), ('안동시', '제천시'), ('안동시', '제주시'), ('안동시', '정읍시'), ('안동시', '전주시 덕진구'), ('안동시', '전주시 완산구'), ('안동시', '진주시'), ('안동시', '밀양시'), ('안동시', '목포시'), ('안동시', '문경시'), ('안동시', '나주시'), ('안동시', '남원시'), ('안동시', '남양주시'), ('안동시', '논산시'), ('안동시', '오산시'), ('안동시', '파주시'), ('안동시', '포천시'), ('안동시', '포항시 북구'), ('안동시', '포항시 남구'), ('안동시', '평택시'), ('안동시', '사천시'), ('안동시', '삼척시'), ('안동시', '상주시'), ('안동시', '서귀포시'), ('안동시', '성남시 분당구'), ('안동시', '성남시 중원구'), ('안동시', '성남시 수정구'), ('안동시', '서산시'), ('안동시', '시흥시'), ('안동시', '속초시'), ('안동시', '순천시'), ('안동시', '수원시 권선구'), ('안동시', '수원시 장안구'), ('안동시', '수원시 팔달구'), ('안동시', '수원시 영통구'), ('안동시', '태백시'), ('안동시', '통영시'), ('안동시', '의정부시'), ('안동시', '의왕시'), ('안동시', '원주시'), ('안동시', '양주시'), ('안동시', '양산시'), ('안동시', '여주시'), ('안동시', '영천시'), ('안동시', '영주시'), ('안동시', '여수시'), ('안동시', '용인시 처인구'), ('안동시', '용인시 기흥구'), ('안동시', '용인시 수지구'), ('안산시 단원구', '안산시 단원구'), ('안산시 단원구', '안산시 상록구'), ('안산시 단원구', '안성시'), ('안산시 단원구', '안양시 동안구'), ('안산시 단원구', '안양시 만안구'), ('안산시 단원구', '아산시'), ('안산시 단원구', '보령시'), ('안산시 단원구', '부천시'), ('안산시 단원구', '창원시 진해구'), ('안산시 단원구', '창원시 마산합포구'), ('안산시 단원구', '창원시 마산회원구'), ('안산시 단원구', '창원시 성산구'), ('안산시 단원구', '창원시 의창구'), ('안산시 단원구', '천안시 동남구'), ('안산시 단원구', '천안시 서북구'), ('안산시 단원구', '청주시 청원구'), ('안산시 단원구', '청주시 흥덕구'), ('안산시 단원구', '청주시 상당구'), ('안산시 단원구', '청주시 서원구'), ('안산시 단원구', '춘천시'), ('안산시 단원구', '충주시'), ('안산시 단원구', '당진시'), ('안산시 단원구', '동두천시'), ('안산시 단원구', '동해시'), ('안산시 단원구', '강릉시'), ('안산시 단원구', '거제시'), ('안산시 단원구', '김천시'), ('안산시 단원구', '김해시'), ('안산시 단원구', '김제시'), ('안산시 단원구', '김포시'), ('안산시 단원구', '공주시'), ('안산시 단원구', '고양시 덕양구'), ('안산시 단원구', '고양시 일산동구'), ('안산시 단원구', '고양시 일산서구'), ('안산시 단원구', '구미시'), ('안산시 단원구', '군포시'), ('안산시 단원구', '군산시'), ('안산시 단원구', '구리시'), ('안산시 단원구', '과천시'), ('안산시 단원구', '광주시'), ('안산시 단원구', '광명시'), ('안산시 단원구', '광양시'), ('안산시 단원구', '경주시'), ('안산시 단원구', '경산시'), ('안산시 단원구', '계룡시'), ('안산시 단원구', '하남시'), ('안산시 단원구', '화성시'), ('안산시 단원구', '이천시'), ('안산시 단원구', '익산시'), ('안산시 단원구', '제천시'), ('안산시 단원구', '제주시'), ('안산시 단원구', '정읍시'), ('안산시 단원구', '전주시 덕진구'), ('안산시 단원구', '전주시 완산구'), ('안산시 단원구', '진주시'), ('안산시 단원구', '밀양시'), ('안산시 단원구', '목포시'), ('안산시 단원구', '문경시'), ('안산시 단원구', '나주시'), ('안산시 단원구', '남원시'), ('안산시 단원구', '남양주시'), ('안산시 단원구', '논산시'), ('안산시 단원구', '오산시'), ('안산시 단원구', '파주시'), ('안산시 단원구', '포천시'), ('안산시 단원구', '포항시 북구'), ('안산시 단원구', '포항시 남구'), ('안산시 단원구', '평택시'), ('안산시 단원구', '사천시'), ('안산시 단원구', '삼척시'), ('안산시 단원구', '상주시'), ('안산시 단원구', '서귀포시'), ('안산시 단원구', '성남시 분당구'), ('안산시 단원구', '성남시 중원구'), ('안산시 단원구', '성남시 수정구'), ('안산시 단원구', '서산시'), ('안산시 단원구', '시흥시'), ('안산시 단원구', '속초시'), ('안산시 단원구', '순천시'), ('안산시 단원구', '수원시 권선구'), ('안산시 단원구', '수원시 장안구'), ('안산시 단원구', '수원시 팔달구'), ('안산시 단원구', '수원시 영통구'), ('안산시 단원구', '태백시'), ('안산시 단원구', '통영시'), ('안산시 단원구', '의정부시'), ('안산시 단원구', '의왕시'), ('안산시 단원구', '원주시'), ('안산시 단원구', '양주시'), ('안산시 단원구', '양산시'), ('안산시 단원구', '여주시'), ('안산시 단원구', '영천시'), ('안산시 단원구', '영주시'), ('안산시 단원구', '여수시'), ('안산시 단원구', '용인시 처인구'), ('안산시 단원구', '용인시 기흥구'), ('안산시 단원구', '용인시 수지구'), ('안산시 상록구', '안산시 상록구'), ('안산시 상록구', '안성시'), ('안산시 상록구', '안양시 동안구'), ('안산시 상록구', '안양시 만안구'), ('안산시 상록구', '아산시'), ('안산시 상록구', '보령시'), ('안산시 상록구', '부천시'), ('안산시 상록구', '창원시 진해구'), ('안산시 상록구', '창원시 마산합포구'), ('안산시 상록구', '창원시 마산회원구'), ('안산시 상록구', '창원시 성산구'), ('안산시 상록구', '창원시 의창구'), ('안산시 상록구', '천안시 동남구'), ('안산시 상록구', '천안시 서북구'), ('안산시 상록구', '청주시 청원구'), ('안산시 상록구', '청주시 흥덕구'), ('안산시 상록구', '청주시 상당구'), ('안산시 상록구', '청주시 서원구'), ('안산시 상록구', '춘천시'), ('안산시 상록구', '충주시'), ('안산시 상록구', '당진시'), ('안산시 상록구', '동두천시'), ('안산시 상록구', '동해시'), ('안산시 상록구', '강릉시'), ('안산시 상록구', '거제시'), ('안산시 상록구', '김천시'), ('안산시 상록구', '김해시'), ('안산시 상록구', '김제시'), ('안산시 상록구', '김포시'), ('안산시 상록구', '공주시'), ('안산시 상록구', '고양시 덕양구'), ('안산시 상록구', '고양시 일산동구'), ('안산시 상록구', '고양시 일산서구'), ('안산시 상록구', '구미시'), ('안산시 상록구', '군포시'), ('안산시 상록구', '군산시'), ('안산시 상록구', '구리시'), ('안산시 상록구', '과천시'), ('안산시 상록구', '광주시'), ('안산시 상록구', '광명시'), ('안산시 상록구', '광양시'), ('안산시 상록구', '경주시'), ('안산시 상록구', '경산시'), ('안산시 상록구', '계룡시'), ('안산시 상록구', '하남시'), ('안산시 상록구', '화성시'), ('안산시 상록구', '이천시'), ('안산시 상록구', '익산시'), ('안산시 상록구', '제천시'), ('안산시 상록구', '제주시'), ('안산시 상록구', '정읍시'), ('안산시 상록구', '전주시 덕진구'), ('안산시 상록구', '전주시 완산구'), ('안산시 상록구', '진주시'), ('안산시 상록구', '밀양시'), ('안산시 상록구', '목포시'), ('안산시 상록구', '문경시'), ('안산시 상록구', '나주시'), ('안산시 상록구', '남원시'), ('안산시 상록구', '남양주시'), ('안산시 상록구', '논산시'), ('안산시 상록구', '오산시'), ('안산시 상록구', '파주시'), ('안산시 상록구', '포천시'), ('안산시 상록구', '포항시 북구'), ('안산시 상록구', '포항시 남구'), ('안산시 상록구', '평택시'), ('안산시 상록구', '사천시'), ('안산시 상록구', '삼척시'), ('안산시 상록구', '상주시'), ('안산시 상록구', '서귀포시'), ('안산시 상록구', '성남시 분당구'), ('안산시 상록구', '성남시 중원구'), ('안산시 상록구', '성남시 수정구'), ('안산시 상록구', '서산시'), ('안산시 상록구', '시흥시'), ('안산시 상록구', '속초시'), ('안산시 상록구', '순천시'), ('안산시 상록구', '수원시 권선구'), ('안산시 상록구', '수원시 장안구'), ('안산시 상록구', '수원시 팔달구'), ('안산시 상록구', '수원시 영통구'), ('안산시 상록구', '태백시'), ('안산시 상록구', '통영시'), ('안산시 상록구', '의정부시'), ('안산시 상록구', '의왕시'), ('안산시 상록구', '원주시'), ('안산시 상록구', '양주시'), ('안산시 상록구', '양산시'), ('안산시 상록구', '여주시'), ('안산시 상록구', '영천시'), ('안산시 상록구', '영주시'), ('안산시 상록구', '여수시'), ('안산시 상록구', '용인시 처인구'), ('안산시 상록구', '용인시 기흥구'), ('안산시 상록구', '용인시 수지구'), ('안성시', '안성시'), ('안성시', '안양시 동안구'), ('안성시', '안양시 만안구'), ('안성시', '아산시'), ('안성시', '보령시'), ('안성시', '부천시'), ('안성시', '창원시 진해구'), ('안성시', '창원시 마산합포구'), ('안성시', '창원시 마산회원구'), ('안성시', '창원시 성산구'), ('안성시', '창원시 의창구'), ('안성시', '천안시 동남구'), ('안성시', '천안시 서북구'), ('안성시', '청주시 청원구'), ('안성시', '청주시 흥덕구'), ('안성시', '청주시 상당구'), ('안성시', '청주시 서원구'), ('안성시', '춘천시'), ('안성시', '충주시'), ('안성시', '당진시'), ('안성시', '동두천시'), ('안성시', '동해시'), ('안성시', '강릉시'), ('안성시', '거제시'), ('안성시', '김천시'), ('안성시', '김해시'), ('안성시', '김제시'), ('안성시', '김포시'), ('안성시', '공주시'), ('안성시', '고양시 덕양구'), ('안성시', '고양시 일산동구'), ('안성시', '고양시 일산서구'), ('안성시', '구미시'), ('안성시', '군포시'), ('안성시', '군산시'), ('안성시', '구리시'), ('안성시', '과천시'), ('안성시', '광주시'), ('안성시', '광명시'), ('안성시', '광양시'), ('안성시', '경주시'), ('안성시', '경산시'), ('안성시', '계룡시'), ('안성시', '하남시'), ('안성시', '화성시'), ('안성시', '이천시'), ('안성시', '익산시'), ('안성시', '제천시'), ('안성시', '제주시'), ('안성시', '정읍시'), ('안성시', '전주시 덕진구'), ('안성시', '전주시 완산구'), ('안성시', '진주시'), ('안성시', '밀양시'), ('안성시', '목포시'), ('안성시', '문경시'), ('안성시', '나주시'), ('안성시', '남원시'), ('안성시', '남양주시'), ('안성시', '논산시'), ('안성시', '오산시'), ('안성시', '파주시'), ('안성시', '포천시'), ('안성시', '포항시 북구'), ('안성시', '포항시 남구'), ('안성시', '평택시'), ('안성시', '사천시'), ('안성시', '삼척시'), ('안성시', '상주시'), ('안성시', '서귀포시'), ('안성시', '성남시 분당구'), ('안성시', '성남시 중원구'), ('안성시', '성남시 수정구'), ('안성시', '서산시'), ('안성시', '시흥시'), ('안성시', '속초시'), ('안성시', '순천시'), ('안성시', '수원시 권선구'), ('안성시', '수원시 장안구'), ('안성시', '수원시 팔달구'), ('안성시', '수원시 영통구'), ('안성시', '태백시'), ('안성시', '통영시'), ('안성시', '의정부시'), ('안성시', '의왕시'), ('안성시', '원주시'), ('안성시', '양주시'), ('안성시', '양산시'), ('안성시', '여주시'), ('안성시', '영천시'), ('안성시', '영주시'), ('안성시', '여수시'), ('안성시', '용인시 처인구'), ('안성시', '용인시 기흥구'), ('안성시', '용인시 수지구'), ('안양시 동안구', '안양시 동안구'), ('안양시 동안구', '안양시 만안구'), ('안양시 동안구', '아산시'), ('안양시 동안구', '보령시'), ('안양시 동안구', '부천시'), ('안양시 동안구', '창원시 진해구'), ('안양시 동안구', '창원시 마산합포구'), ('안양시 동안구', '창원시 마산회원구'), ('안양시 동안구', '창원시 성산구'), ('안양시 동안구', '창원시 의창구'), ('안양시 동안구', '천안시 동남구'), ('안양시 동안구', '천안시 서북구'), ('안양시 동안구', '청주시 청원구'), ('안양시 동안구', '청주시 흥덕구'), ('안양시 동안구', '청주시 상당구'), ('안양시 동안구', '청주시 서원구'), ('안양시 동안구', '춘천시'), ('안양시 동안구', '충주시'), ('안양시 동안구', '당진시'), ('안양시 동안구', '동두천시'), ('안양시 동안구', '동해시'), ('안양시 동안구', '강릉시'), ('안양시 동안구', '거제시'), ('안양시 동안구', '김천시'), ('안양시 동안구', '김해시'), ('안양시 동안구', '김제시'), ('안양시 동안구', '김포시'), ('안양시 동안구', '공주시'), ('안양시 동안구', '고양시 덕양구'), ('안양시 동안구', '고양시 일산동구'), ('안양시 동안구', '고양시 일산서구'), ('안양시 동안구', '구미시'), ('안양시 동안구', '군포시'), ('안양시 동안구', '군산시'), ('안양시 동안구', '구리시'), ('안양시 동안구', '과천시'), ('안양시 동안구', '광주시'), ('안양시 동안구', '광명시'), ('안양시 동안구', '광양시'), ('안양시 동안구', '경주시'), ('안양시 동안구', '경산시'), ('안양시 동안구', '계룡시'), ('안양시 동안구', '하남시'), ('안양시 동안구', '화성시'), ('안양시 동안구', '이천시'), ('안양시 동안구', '익산시'), ('안양시 동안구', '제천시'), ('안양시 동안구', '제주시'), ('안양시 동안구', '정읍시'), ('안양시 동안구', '전주시 덕진구'), ('안양시 동안구', '전주시 완산구'), ('안양시 동안구', '진주시'), ('안양시 동안구', '밀양시'), ('안양시 동안구', '목포시'), ('안양시 동안구', '문경시'), ('안양시 동안구', '나주시'), ('안양시 동안구', '남원시'), ('안양시 동안구', '남양주시'), ('안양시 동안구', '논산시'), ('안양시 동안구', '오산시'), ('안양시 동안구', '파주시'), ('안양시 동안구', '포천시'), ('안양시 동안구', '포항시 북구'), ('안양시 동안구', '포항시 남구'), ('안양시 동안구', '평택시'), ('안양시 동안구', '사천시'), ('안양시 동안구', '삼척시'), ('안양시 동안구', '상주시'), ('안양시 동안구', '서귀포시'), ('안양시 동안구', '성남시 분당구'), ('안양시 동안구', '성남시 중원구'), ('안양시 동안구', '성남시 수정구'), ('안양시 동안구', '서산시'), ('안양시 동안구', '시흥시'), ('안양시 동안구', '속초시'), ('안양시 동안구', '순천시'), ('안양시 동안구', '수원시 권선구'), ('안양시 동안구', '수원시 장안구'), ('안양시 동안구', '수원시 팔달구'), ('안양시 동안구', '수원시 영통구'), ('안양시 동안구', '태백시'), ('안양시 동안구', '통영시'), ('안양시 동안구', '의정부시'), ('안양시 동안구', '의왕시'), ('안양시 동안구', '원주시'), ('안양시 동안구', '양주시'), ('안양시 동안구', '양산시'), ('안양시 동안구', '여주시'), ('안양시 동안구', '영천시'), ('안양시 동안구', '영주시'), ('안양시 동안구', '여수시'), ('안양시 동안구', '용인시 처인구'), ('안양시 동안구', '용인시 기흥구'), ('안양시 동안구', '용인시 수지구'), ('안양시 만안구', '안양시 만안구'), ('안양시 만안구', '아산시'), ('안양시 만안구', '보령시'), ('안양시 만안구', '부천시'), ('안양시 만안구', '창원시 진해구'), ('안양시 만안구', '창원시 마산합포구'), ('안양시 만안구', '창원시 마산회원구'), ('안양시 만안구', '창원시 성산구'), ('안양시 만안구', '창원시 의창구'), ('안양시 만안구', '천안시 동남구'), ('안양시 만안구', '천안시 서북구'), ('안양시 만안구', '청주시 청원구'), ('안양시 만안구', '청주시 흥덕구'), ('안양시 만안구', '청주시 상당구'), ('안양시 만안구', '청주시 서원구'), ('안양시 만안구', '춘천시'), ('안양시 만안구', '충주시'), ('안양시 만안구', '당진시'), ('안양시 만안구', '동두천시'), ('안양시 만안구', '동해시'), ('안양시 만안구', '강릉시'), ('안양시 만안구', '거제시'), ('안양시 만안구', '김천시'), ('안양시 만안구', '김해시'), ('안양시 만안구', '김제시'), ('안양시 만안구', '김포시'), ('안양시 만안구', '공주시'), ('안양시 만안구', '고양시 덕양구'), ('안양시 만안구', '고양시 일산동구'), ('안양시 만안구', '고양시 일산서구'), ('안양시 만안구', '구미시'), ('안양시 만안구', '군포시'), ('안양시 만안구', '군산시'), ('안양시 만안구', '구리시'), ('안양시 만안구', '과천시'), ('안양시 만안구', '광주시'), ('안양시 만안구', '광명시'), ('안양시 만안구', '광양시'), ('안양시 만안구', '경주시'), ('안양시 만안구', '경산시'), ('안양시 만안구', '계룡시'), ('안양시 만안구', '하남시'), ('안양시 만안구', '화성시'), ('안양시 만안구', '이천시'), ('안양시 만안구', '익산시'), ('안양시 만안구', '제천시'), ('안양시 만안구', '제주시'), ('안양시 만안구', '정읍시'), ('안양시 만안구', '전주시 덕진구'), ('안양시 만안구', '전주시 완산구'), ('안양시 만안구', '진주시'), ('안양시 만안구', '밀양시'), ('안양시 만안구', '목포시'), ('안양시 만안구', '문경시'), ('안양시 만안구', '나주시'), ('안양시 만안구', '남원시'), ('안양시 만안구', '남양주시'), ('안양시 만안구', '논산시'), ('안양시 만안구', '오산시'), ('안양시 만안구', '파주시'), ('안양시 만안구', '포천시'), ('안양시 만안구', '포항시 북구'), ('안양시 만안구', '포항시 남구'), ('안양시 만안구', '평택시'), ('안양시 만안구', '사천시'), ('안양시 만안구', '삼척시'), ('안양시 만안구', '상주시'), ('안양시 만안구', '서귀포시'), ('안양시 만안구', '성남시 분당구'), ('안양시 만안구', '성남시 중원구'), ('안양시 만안구', '성남시 수정구'), ('안양시 만안구', '서산시'), ('안양시 만안구', '시흥시'), ('안양시 만안구', '속초시'), ('안양시 만안구', '순천시'), ('안양시 만안구', '수원시 권선구'), ('안양시 만안구', '수원시 장안구'), ('안양시 만안구', '수원시 팔달구'), ('안양시 만안구', '수원시 영통구'), ('안양시 만안구', '태백시'), ('안양시 만안구', '통영시'), ('안양시 만안구', '의정부시'), ('안양시 만안구', '의왕시'), ('안양시 만안구', '원주시'), ('안양시 만안구', '양주시'), ('안양시 만안구', '양산시'), ('안양시 만안구', '여주시'), ('안양시 만안구', '영천시'), ('안양시 만안구', '영주시'), ('안양시 만안구', '여수시'), ('안양시 만안구', '용인시 처인구'), ('안양시 만안구', '용인시 기흥구'), ('안양시 만안구', '용인시 수지구'), ('아산시', '아산시'), ('아산시', '보령시'), ('아산시', '부천시'), ('아산시', '창원시 진해구'), ('아산시', '창원시 마산합포구'), ('아산시', '창원시 마산회원구'), ('아산시', '창원시 성산구'), ('아산시', '창원시 의창구'), ('아산시', '천안시 동남구'), ('아산시', '천안시 서북구'), ('아산시', '청주시 청원구'), ('아산시', '청주시 흥덕구'), ('아산시', '청주시 상당구'), ('아산시', '청주시 서원구'), ('아산시', '춘천시'), ('아산시', '충주시'), ('아산시', '당진시'), ('아산시', '동두천시'), ('아산시', '동해시'), ('아산시', '강릉시'), ('아산시', '거제시'), ('아산시', '김천시'), ('아산시', '김해시'), ('아산시', '김제시'), ('아산시', '김포시'), ('아산시', '공주시'), ('아산시', '고양시 덕양구'), ('아산시', '고양시 일산동구'), ('아산시', '고양시 일산서구'), ('아산시', '구미시'), ('아산시', '군포시'), ('아산시', '군산시'), ('아산시', '구리시'), ('아산시', '과천시'), ('아산시', '광주시'), ('아산시', '광명시'), ('아산시', '광양시'), ('아산시', '경주시'), ('아산시', '경산시'), ('아산시', '계룡시'), ('아산시', '하남시'), ('아산시', '화성시'), ('아산시', '이천시'), ('아산시', '익산시'), ('아산시', '제천시'), ('아산시', '제주시'), ('아산시', '정읍시'), ('아산시', '전주시 덕진구'), ('아산시', '전주시 완산구'), ('아산시', '진주시'), ('아산시', '밀양시'), ('아산시', '목포시'), ('아산시', '문경시'), ('아산시', '나주시'), ('아산시', '남원시'), ('아산시', '남양주시'), ('아산시', '논산시'), ('아산시', '오산시'), ('아산시', '파주시'), ('아산시', '포천시'), ('아산시', '포항시 북구'), ('아산시', '포항시 남구'), ('아산시', '평택시'), ('아산시', '사천시'), ('아산시', '삼척시'), ('아산시', '상주시'), ('아산시', '서귀포시'), ('아산시', '성남시 분당구'), ('아산시', '성남시 중원구'), ('아산시', '성남시 수정구'), ('아산시', '서산시'), ('아산시', '시흥시'), ('아산시', '속초시'), ('아산시', '순천시'), ('아산시', '수원시 권선구'), ('아산시', '수원시 장안구'), ('아산시', '수원시 팔달구'), ('아산시', '수원시 영통구'), ('아산시', '태백시'), ('아산시', '통영시'), ('아산시', '의정부시'), ('아산시', '의왕시'), ('아산시', '원주시'), ('아산시', '양주시'), ('아산시', '양산시'), ('아산시', '여주시'), ('아산시', '영천시'), ('아산시', '영주시'), ('아산시', '여수시'), ('아산시', '용인시 처인구'), ('아산시', '용인시 기흥구'), ('아산시', '용인시 수지구'), ('보령시', '보령시'), ('보령시', '부천시'), ('보령시', '창원시 진해구'), ('보령시', '창원시 마산합포구'), ('보령시', '창원시 마산회원구'), ('보령시', '창원시 성산구'), ('보령시', '창원시 의창구'), ('보령시', '천안시 동남구'), ('보령시', '천안시 서북구'), ('보령시', '청주시 청원구'), ('보령시', '청주시 흥덕구'), ('보령시', '청주시 상당구'), ('보령시', '청주시 서원구'), ('보령시', '춘천시'), ('보령시', '충주시'), ('보령시', '당진시'), ('보령시', '동두천시'), ('보령시', '동해시'), ('보령시', '강릉시'), ('보령시', '거제시'), ('보령시', '김천시'), ('보령시', '김해시'), ('보령시', '김제시'), ('보령시', '김포시'), ('보령시', '공주시'), ('보령시', '고양시 덕양구'), ('보령시', '고양시 일산동구'), ('보령시', '고양시 일산서구'), ('보령시', '구미시'), ('보령시', '군포시'), ('보령시', '군산시'), ('보령시', '구리시'), ('보령시', '과천시'), ('보령시', '광주시'), ('보령시', '광명시'), ('보령시', '광양시'), ('보령시', '경주시'), ('보령시', '경산시'), ('보령시', '계룡시'), ('보령시', '하남시'), ('보령시', '화성시'), ('보령시', '이천시'), ('보령시', '익산시'), ('보령시', '제천시'), ('보령시', '제주시'), ('보령시', '정읍시'), ('보령시', '전주시 덕진구'), ('보령시', '전주시 완산구'), ('보령시', '진주시'), ('보령시', '밀양시'), ('보령시', '목포시'), ('보령시', '문경시'), ('보령시', '나주시'), ('보령시', '남원시'), ('보령시', '남양주시'), ('보령시', '논산시'), ('보령시', '오산시'), ('보령시', '파주시'), ('보령시', '포천시'), ('보령시', '포항시 북구'), ('보령시', '포항시 남구'), ('보령시', '평택시'), ('보령시', '사천시'), ('보령시', '삼척시'), ('보령시', '상주시'), ('보령시', '서귀포시'), ('보령시', '성남시 분당구'), ('보령시', '성남시 중원구'), ('보령시', '성남시 수정구'), ('보령시', '서산시'), ('보령시', '시흥시'), ('보령시', '속초시'), ('보령시', '순천시'), ('보령시', '수원시 권선구'), ('보령시', '수원시 장안구'), ('보령시', '수원시 팔달구'), ('보령시', '수원시 영통구'), ('보령시', '태백시'), ('보령시', '통영시'), ('보령시', '의정부시'), ('보령시', '의왕시'), ('보령시', '원주시'), ('보령시', '양주시'), ('보령시', '양산시'), ('보령시', '여주시'), ('보령시', '영천시'), ('보령시', '영주시'), ('보령시', '여수시'), ('보령시', '용인시 처인구'), ('보령시', '용인시 기흥구'), ('보령시', '용인시 수지구'), ('부천시', '부천시'), ('부천시', '창원시 진해구'), ('부천시', '창원시 마산합포구'), ('부천시', '창원시 마산회원구'), ('부천시', '창원시 성산구'), ('부천시', '창원시 의창구'), ('부천시', '천안시 동남구'), ('부천시', '천안시 서북구'), ('부천시', '청주시 청원구'), ('부천시', '청주시 흥덕구'), ('부천시', '청주시 상당구'), ('부천시', '청주시 서원구'), ('부천시', '춘천시'), ('부천시', '충주시'), ('부천시', '당진시'), ('부천시', '동두천시'), ('부천시', '동해시'), ('부천시', '강릉시'), ('부천시', '거제시'), ('부천시', '김천시'), ('부천시', '김해시'), ('부천시', '김제시'), ('부천시', '김포시'), ('부천시', '공주시'), ('부천시', '고양시 덕양구'), ('부천시', '고양시 일산동구'), ('부천시', '고양시 일산서구'), ('부천시', '구미시'), ('부천시', '군포시'), ('부천시', '군산시'), ('부천시', '구리시'), ('부천시', '과천시'), ('부천시', '광주시'), ('부천시', '광명시'), ('부천시', '광양시'), ('부천시', '경주시'), ('부천시', '경산시'), ('부천시', '계룡시'), ('부천시', '하남시'), ('부천시', '화성시'), ('부천시', '이천시'), ('부천시', '익산시'), ('부천시', '제천시'), ('부천시', '제주시'), ('부천시', '정읍시'), ('부천시', '전주시 덕진구'), ('부천시', '전주시 완산구'), ('부천시', '진주시'), ('부천시', '밀양시'), ('부천시', '목포시'), ('부천시', '문경시'), ('부천시', '나주시'), ('부천시', '남원시'), ('부천시', '남양주시'), ('부천시', '논산시'), ('부천시', '오산시'), ('부천시', '파주시'), ('부천시', '포천시'), ('부천시', '포항시 북구'), ('부천시', '포항시 남구'), ('부천시', '평택시'), ('부천시', '사천시'), ('부천시', '삼척시'), ('부천시', '상주시'), ('부천시', '서귀포시'), ('부천시', '성남시 분당구'), ('부천시', '성남시 중원구'), ('부천시', '성남시 수정구'), ('부천시', '서산시'), ('부천시', '시흥시'), ('부천시', '속초시'), ('부천시', '순천시'), ('부천시', '수원시 권선구'), ('부천시', '수원시 장안구'), ('부천시', '수원시 팔달구'), ('부천시', '수원시 영통구'), ('부천시', '태백시'), ('부천시', '통영시'), ('부천시', '의정부시'), ('부천시', '의왕시'), ('부천시', '원주시'), ('부천시', '양주시'), ('부천시', '양산시'), ('부천시', '여주시'), ('부천시', '영천시'), ('부천시', '영주시'), ('부천시', '여수시'), ('부천시', '용인시 처인구'), ('부천시', '용인시 기흥구'), ('부천시', '용인시 수지구'), ('창원시 진해구', '창원시 진해구'), ('창원시 진해구', '창원시 마산합포구'), ('창원시 진해구', '창원시 마산회원구'), ('창원시 진해구', '창원시 성산구'), ('창원시 진해구', '창원시 의창구'), ('창원시 진해구', '천안시 동남구'), ('창원시 진해구', '천안시 서북구'), ('창원시 진해구', '청주시 청원구'), ('창원시 진해구', '청주시 흥덕구'), ('창원시 진해구', '청주시 상당구'), ('창원시 진해구', '청주시 서원구'), ('창원시 진해구', '춘천시'), ('창원시 진해구', '충주시'), ('창원시 진해구', '당진시'), ('창원시 진해구', '동두천시'), ('창원시 진해구', '동해시'), ('창원시 진해구', '강릉시'), ('창원시 진해구', '거제시'), ('창원시 진해구', '김천시'), ('창원시 진해구', '김해시'), ('창원시 진해구', '김제시'), ('창원시 진해구', '김포시'), ('창원시 진해구', '공주시'), ('창원시 진해구', '고양시 덕양구'), ('창원시 진해구', '고양시 일산동구'), ('창원시 진해구', '고양시 일산서구'), ('창원시 진해구', '구미시'), ('창원시 진해구', '군포시'), ('창원시 진해구', '군산시'), ('창원시 진해구', '구리시'), ('창원시 진해구', '과천시'), ('창원시 진해구', '광주시'), ('창원시 진해구', '광명시'), ('창원시 진해구', '광양시'), ('창원시 진해구', '경주시'), ('창원시 진해구', '경산시'), ('창원시 진해구', '계룡시'), ('창원시 진해구', '하남시'), ('창원시 진해구', '화성시'), ('창원시 진해구', '이천시'), ('창원시 진해구', '익산시'), ('창원시 진해구', '제천시'), ('창원시 진해구', '제주시'), ('창원시 진해구', '정읍시'), ('창원시 진해구', '전주시 덕진구'), ('창원시 진해구', '전주시 완산구'), ('창원시 진해구', '진주시'), ('창원시 진해구', '밀양시'), ('창원시 진해구', '목포시'), ('창원시 진해구', '문경시'), ('창원시 진해구', '나주시'), ('창원시 진해구', '남원시'), ('창원시 진해구', '남양주시'), ('창원시 진해구', '논산시'), ('창원시 진해구', '오산시'), ('창원시 진해구', '파주시'), ('창원시 진해구', '포천시'), ('창원시 진해구', '포항시 북구'), ('창원시 진해구', '포항시 남구'), ('창원시 진해구', '평택시'), ('창원시 진해구', '사천시'), ('창원시 진해구', '삼척시'), ('창원시 진해구', '상주시'), ('창원시 진해구', '서귀포시'), ('창원시 진해구', '성남시 분당구'), ('창원시 진해구', '성남시 중원구'), ('창원시 진해구', '성남시 수정구'), ('창원시 진해구', '서산시'), ('창원시 진해구', '시흥시'), ('창원시 진해구', '속초시'), ('창원시 진해구', '순천시'), ('창원시 진해구', '수원시 권선구'), ('창원시 진해구', '수원시 장안구'), ('창원시 진해구', '수원시 팔달구'), ('창원시 진해구', '수원시 영통구'), ('창원시 진해구', '태백시'), ('창원시 진해구', '통영시'), ('창원시 진해구', '의정부시'), ('창원시 진해구', '의왕시'), ('창원시 진해구', '원주시'), ('창원시 진해구', '양주시'), ('창원시 진해구', '양산시'), ('창원시 진해구', '여주시'), ('창원시 진해구', '영천시'), ('창원시 진해구', '영주시'), ('창원시 진해구', '여수시'), ('창원시 진해구', '용인시 처인구'), ('창원시 진해구', '용인시 기흥구'), ('창원시 진해구', '용인시 수지구'), ('창원시 마산합포구', '창원시 마산합포구'), ('창원시 마산합포구', '창원시 마산회원구'), ('창원시 마산합포구', '창원시 성산구'), ('창원시 마산합포구', '창원시 의창구'), ('창원시 마산합포구', '천안시 동남구'), ('창원시 마산합포구', '천안시 서북구'), ('창원시 마산합포구', '청주시 청원구'), ('창원시 마산합포구', '청주시 흥덕구'), ('창원시 마산합포구', '청주시 상당구'), ('창원시 마산합포구', '청주시 서원구'), ('창원시 마산합포구', '춘천시'), ('창원시 마산합포구', '충주시'), ('창원시 마산합포구', '당진시'), ('창원시 마산합포구', '동두천시'), ('창원시 마산합포구', '동해시'), ('창원시 마산합포구', '강릉시'), ('창원시 마산합포구', '거제시'), ('창원시 마산합포구', '김천시'), ('창원시 마산합포구', '김해시'), ('창원시 마산합포구', '김제시'), ('창원시 마산합포구', '김포시'), ('창원시 마산합포구', '공주시'), ('창원시 마산합포구', '고양시 덕양구'), ('창원시 마산합포구', '고양시 일산동구'), ('창원시 마산합포구', '고양시 일산서구'), ('창원시 마산합포구', '구미시'), ('창원시 마산합포구', '군포시'), ('창원시 마산합포구', '군산시'), ('창원시 마산합포구', '구리시'), ('창원시 마산합포구', '과천시'), ('창원시 마산합포구', '광주시'), ('창원시 마산합포구', '광명시'), ('창원시 마산합포구', '광양시'), ('창원시 마산합포구', '경주시'), ('창원시 마산합포구', '경산시'), ('창원시 마산합포구', '계룡시'), ('창원시 마산합포구', '하남시'), ('창원시 마산합포구', '화성시'), ('창원시 마산합포구', '이천시'), ('창원시 마산합포구', '익산시'), ('창원시 마산합포구', '제천시'), ('창원시 마산합포구', '제주시'), ('창원시 마산합포구', '정읍시'), ('창원시 마산합포구', '전주시 덕진구'), ('창원시 마산합포구', '전주시 완산구'), ('창원시 마산합포구', '진주시'), ('창원시 마산합포구', '밀양시'), ('창원시 마산합포구', '목포시'), ('창원시 마산합포구', '문경시'), ('창원시 마산합포구', '나주시'), ('창원시 마산합포구', '남원시'), ('창원시 마산합포구', '남양주시'), ('창원시 마산합포구', '논산시'), ('창원시 마산합포구', '오산시'), ('창원시 마산합포구', '파주시'), ('창원시 마산합포구', '포천시'), ('창원시 마산합포구', '포항시 북구'), ('창원시 마산합포구', '포항시 남구'), ('창원시 마산합포구', '평택시'), ('창원시 마산합포구', '사천시'), ('창원시 마산합포구', '삼척시'), ('창원시 마산합포구', '상주시'), ('창원시 마산합포구', '서귀포시'), ('창원시 마산합포구', '성남시 분당구'), ('창원시 마산합포구', '성남시 중원구'), ('창원시 마산합포구', '성남시 수정구'), ('창원시 마산합포구', '서산시'), ('창원시 마산합포구', '시흥시'), ('창원시 마산합포구', '속초시'), ('창원시 마산합포구', '순천시'), ('창원시 마산합포구', '수원시 권선구'), ('창원시 마산합포구', '수원시 장안구'), ('창원시 마산합포구', '수원시 팔달구'), ('창원시 마산합포구', '수원시 영통구'), ('창원시 마산합포구', '태백시'), ('창원시 마산합포구', '통영시'), ('창원시 마산합포구', '의정부시'), ('창원시 마산합포구', '의왕시'), ('창원시 마산합포구', '원주시'), ('창원시 마산합포구', '양주시'), ('창원시 마산합포구', '양산시'), ('창원시 마산합포구', '여주시'), ('창원시 마산합포구', '영천시'), ('창원시 마산합포구', '영주시'), ('창원시 마산합포구', '여수시'), ('창원시 마산합포구', '용인시 처인구'), ('창원시 마산합포구', '용인시 기흥구'), ('창원시 마산합포구', '용인시 수지구'), ('창원시 마산회원구', '창원시 마산회원구'), ('창원시 마산회원구', '창원시 성산구'), ('창원시 마산회원구', '창원시 의창구'), ('창원시 마산회원구', '천안시 동남구'), ('창원시 마산회원구', '천안시 서북구'), ('창원시 마산회원구', '청주시 청원구'), ('창원시 마산회원구', '청주시 흥덕구'), ('창원시 마산회원구', '청주시 상당구'), ('창원시 마산회원구', '청주시 서원구'), ('창원시 마산회원구', '춘천시'), ('창원시 마산회원구', '충주시'), ('창원시 마산회원구', '당진시'), ('창원시 마산회원구', '동두천시'), ('창원시 마산회원구', '동해시'), ('창원시 마산회원구', '강릉시'), ('창원시 마산회원구', '거제시'), ('창원시 마산회원구', '김천시'), ('창원시 마산회원구', '김해시'), ('창원시 마산회원구', '김제시'), ('창원시 마산회원구', '김포시'), ('창원시 마산회원구', '공주시'), ('창원시 마산회원구', '고양시 덕양구'), ('창원시 마산회원구', '고양시 일산동구'), ('창원시 마산회원구', '고양시 일산서구'), ('창원시 마산회원구', '구미시'), ('창원시 마산회원구', '군포시'), ('창원시 마산회원구', '군산시'), ('창원시 마산회원구', '구리시'), ('창원시 마산회원구', '과천시'), ('창원시 마산회원구', '광주시'), ('창원시 마산회원구', '광명시'), ('창원시 마산회원구', '광양시'), ('창원시 마산회원구', '경주시'), ('창원시 마산회원구', '경산시'), ('창원시 마산회원구', '계룡시'), ('창원시 마산회원구', '하남시'), ('창원시 마산회원구', '화성시'), ('창원시 마산회원구', '이천시'), ('창원시 마산회원구', '익산시'), ('창원시 마산회원구', '제천시'), ('창원시 마산회원구', '제주시'), ('창원시 마산회원구', '정읍시'), ('창원시 마산회원구', '전주시 덕진구'), ('창원시 마산회원구', '전주시 완산구'), ('창원시 마산회원구', '진주시'), ('창원시 마산회원구', '밀양시'), ('창원시 마산회원구', '목포시'), ('창원시 마산회원구', '문경시'), ('창원시 마산회원구', '나주시'), ('창원시 마산회원구', '남원시'), ('창원시 마산회원구', '남양주시'), ('창원시 마산회원구', '논산시'), ('창원시 마산회원구', '오산시'), ('창원시 마산회원구', '파주시'), ('창원시 마산회원구', '포천시'), ('창원시 마산회원구', '포항시 북구'), ('창원시 마산회원구', '포항시 남구'), ('창원시 마산회원구', '평택시'), ('창원시 마산회원구', '사천시'), ('창원시 마산회원구', '삼척시'), ('창원시 마산회원구', '상주시'), ('창원시 마산회원구', '서귀포시'), ('창원시 마산회원구', '성남시 분당구'), ('창원시 마산회원구', '성남시 중원구'), ('창원시 마산회원구', '성남시 수정구'), ('창원시 마산회원구', '서산시'), ('창원시 마산회원구', '시흥시'), ('창원시 마산회원구', '속초시'), ('창원시 마산회원구', '순천시'), ('창원시 마산회원구', '수원시 권선구'), ('창원시 마산회원구', '수원시 장안구'), ('창원시 마산회원구', '수원시 팔달구'), ('창원시 마산회원구', '수원시 영통구'), ('창원시 마산회원구', '태백시'), ('창원시 마산회원구', '통영시'), ('창원시 마산회원구', '의정부시'), ('창원시 마산회원구', '의왕시'), ('창원시 마산회원구', '원주시'), ('창원시 마산회원구', '양주시'), ('창원시 마산회원구', '양산시'), ('창원시 마산회원구', '여주시'), ('창원시 마산회원구', '영천시'), ('창원시 마산회원구', '영주시'), ('창원시 마산회원구', '여수시'), ('창원시 마산회원구', '용인시 처인구'), ('창원시 마산회원구', '용인시 기흥구'), ('창원시 마산회원구', '용인시 수지구'), ('창원시 성산구', '창원시 성산구'), ('창원시 성산구', '창원시 의창구'), ('창원시 성산구', '천안시 동남구'), ('창원시 성산구', '천안시 서북구'), ('창원시 성산구', '청주시 청원구'), ('창원시 성산구', '청주시 흥덕구'), ('창원시 성산구', '청주시 상당구'), ('창원시 성산구', '청주시 서원구'), ('창원시 성산구', '춘천시'), ('창원시 성산구', '충주시'), ('창원시 성산구', '당진시'), ('창원시 성산구', '동두천시'), ('창원시 성산구', '동해시'), ('창원시 성산구', '강릉시'), ('창원시 성산구', '거제시'), ('창원시 성산구', '김천시'), ('창원시 성산구', '김해시'), ('창원시 성산구', '김제시'), ('창원시 성산구', '김포시'), ('창원시 성산구', '공주시'), ('창원시 성산구', '고양시 덕양구'), ('창원시 성산구', '고양시 일산동구'), ('창원시 성산구', '고양시 일산서구'), ('창원시 성산구', '구미시'), ('창원시 성산구', '군포시'), ('창원시 성산구', '군산시'), ('창원시 성산구', '구리시'), ('창원시 성산구', '과천시'), ('창원시 성산구', '광주시'), ('창원시 성산구', '광명시'), ('창원시 성산구', '광양시'), ('창원시 성산구', '경주시'), ('창원시 성산구', '경산시'), ('창원시 성산구', '계룡시'), ('창원시 성산구', '하남시'), ('창원시 성산구', '화성시'), ('창원시 성산구', '이천시'), ('창원시 성산구', '익산시'), ('창원시 성산구', '제천시'), ('창원시 성산구', '제주시'), ('창원시 성산구', '정읍시'), ('창원시 성산구', '전주시 덕진구'), ('창원시 성산구', '전주시 완산구'), ('창원시 성산구', '진주시'), ('창원시 성산구', '밀양시'), ('창원시 성산구', '목포시'), ('창원시 성산구', '문경시'), ('창원시 성산구', '나주시'), ('창원시 성산구', '남원시'), ('창원시 성산구', '남양주시'), ('창원시 성산구', '논산시'), ('창원시 성산구', '오산시'), ('창원시 성산구', '파주시'), ('창원시 성산구', '포천시'), ('창원시 성산구', '포항시 북구'), ('창원시 성산구', '포항시 남구'), ('창원시 성산구', '평택시'), ('창원시 성산구', '사천시'), ('창원시 성산구', '삼척시'), ('창원시 성산구', '상주시'), ('창원시 성산구', '서귀포시'), ('창원시 성산구', '성남시 분당구'), ('창원시 성산구', '성남시 중원구'), ('창원시 성산구', '성남시 수정구'), ('창원시 성산구', '서산시'), ('창원시 성산구', '시흥시'), ('창원시 성산구', '속초시'), ('창원시 성산구', '순천시'), ('창원시 성산구', '수원시 권선구'), ('창원시 성산구', '수원시 장안구'), ('창원시 성산구', '수원시 팔달구'), ('창원시 성산구', '수원시 영통구'), ('창원시 성산구', '태백시'), ('창원시 성산구', '통영시'), ('창원시 성산구', '의정부시'), ('창원시 성산구', '의왕시'), ('창원시 성산구', '원주시'), ('창원시 성산구', '양주시'), ('창원시 성산구', '양산시'), ('창원시 성산구', '여주시'), ('창원시 성산구', '영천시'), ('창원시 성산구', '영주시'), ('창원시 성산구', '여수시'), ('창원시 성산구', '용인시 처인구'), ('창원시 성산구', '용인시 기흥구'), ('창원시 성산구', '용인시 수지구'), ('창원시 의창구', '창원시 의창구'), ('창원시 의창구', '천안시 동남구'), ('창원시 의창구', '천안시 서북구'), ('창원시 의창구', '청주시 청원구'), ('창원시 의창구', '청주시 흥덕구'), ('창원시 의창구', '청주시 상당구'), ('창원시 의창구', '청주시 서원구'), ('창원시 의창구', '춘천시'), ('창원시 의창구', '충주시'), ('창원시 의창구', '당진시'), ('창원시 의창구', '동두천시'), ('창원시 의창구', '동해시'), ('창원시 의창구', '강릉시'), ('창원시 의창구', '거제시'), ('창원시 의창구', '김천시'), ('창원시 의창구', '김해시'), ('창원시 의창구', '김제시'), ('창원시 의창구', '김포시'), ('창원시 의창구', '공주시'), ('창원시 의창구', '고양시 덕양구'), ('창원시 의창구', '고양시 일산동구'), ('창원시 의창구', '고양시 일산서구'), ('창원시 의창구', '구미시'), ('창원시 의창구', '군포시'), ('창원시 의창구', '군산시'), ('창원시 의창구', '구리시'), ('창원시 의창구', '과천시'), ('창원시 의창구', '광주시'), ('창원시 의창구', '광명시'), ('창원시 의창구', '광양시'), ('창원시 의창구', '경주시'), ('창원시 의창구', '경산시'), ('창원시 의창구', '계룡시'), ('창원시 의창구', '하남시'), ('창원시 의창구', '화성시'), ('창원시 의창구', '이천시'), ('창원시 의창구', '익산시'), ('창원시 의창구', '제천시'), ('창원시 의창구', '제주시'), ('창원시 의창구', '정읍시'), ('창원시 의창구', '전주시 덕진구'), ('창원시 의창구', '전주시 완산구'), ('창원시 의창구', '진주시'), ('창원시 의창구', '밀양시'), ('창원시 의창구', '목포시'), ('창원시 의창구', '문경시'), ('창원시 의창구', '나주시'), ('창원시 의창구', '남원시'), ('창원시 의창구', '남양주시'), ('창원시 의창구', '논산시'), ('창원시 의창구', '오산시'), ('창원시 의창구', '파주시'), ('창원시 의창구', '포천시'), ('창원시 의창구', '포항시 북구'), ('창원시 의창구', '포항시 남구'), ('창원시 의창구', '평택시'), ('창원시 의창구', '사천시'), ('창원시 의창구', '삼척시'), ('창원시 의창구', '상주시'), ('창원시 의창구', '서귀포시'), ('창원시 의창구', '성남시 분당구'), ('창원시 의창구', '성남시 중원구'), ('창원시 의창구', '성남시 수정구'), ('창원시 의창구', '서산시'), ('창원시 의창구', '시흥시'), ('창원시 의창구', '속초시'), ('창원시 의창구', '순천시'), ('창원시 의창구', '수원시 권선구'), ('창원시 의창구', '수원시 장안구'), ('창원시 의창구', '수원시 팔달구'), ('창원시 의창구', '수원시 영통구'), ('창원시 의창구', '태백시'), ('창원시 의창구', '통영시'), ('창원시 의창구', '의정부시'), ('창원시 의창구', '의왕시'), ('창원시 의창구', '원주시'), ('창원시 의창구', '양주시'), ('창원시 의창구', '양산시'), ('창원시 의창구', '여주시'), ('창원시 의창구', '영천시'), ('창원시 의창구', '영주시'), ('창원시 의창구', '여수시'), ('창원시 의창구', '용인시 처인구'), ('창원시 의창구', '용인시 기흥구'), ('창원시 의창구', '용인시 수지구'), ('천안시 동남구', '천안시 동남구'), ('천안시 동남구', '천안시 서북구'), ('천안시 동남구', '청주시 청원구'), ('천안시 동남구', '청주시 흥덕구'), ('천안시 동남구', '청주시 상당구'), ('천안시 동남구', '청주시 서원구'), ('천안시 동남구', '춘천시'), ('천안시 동남구', '충주시'), ('천안시 동남구', '당진시'), ('천안시 동남구', '동두천시'), ('천안시 동남구', '동해시'), ('천안시 동남구', '강릉시'), ('천안시 동남구', '거제시'), ('천안시 동남구', '김천시'), ('천안시 동남구', '김해시'), ('천안시 동남구', '김제시'), ('천안시 동남구', '김포시'), ('천안시 동남구', '공주시'), ('천안시 동남구', '고양시 덕양구'), ('천안시 동남구', '고양시 일산동구'), ('천안시 동남구', '고양시 일산서구'), ('천안시 동남구', '구미시'), ('천안시 동남구', '군포시'), ('천안시 동남구', '군산시'), ('천안시 동남구', '구리시'), ('천안시 동남구', '과천시'), ('천안시 동남구', '광주시'), ('천안시 동남구', '광명시'), ('천안시 동남구', '광양시'), ('천안시 동남구', '경주시'), ('천안시 동남구', '경산시'), ('천안시 동남구', '계룡시'), ('천안시 동남구', '하남시'), ('천안시 동남구', '화성시'), ('천안시 동남구', '이천시'), ('천안시 동남구', '익산시'), ('천안시 동남구', '제천시'), ('천안시 동남구', '제주시'), ('천안시 동남구', '정읍시'), ('천안시 동남구', '전주시 덕진구'), ('천안시 동남구', '전주시 완산구'), ('천안시 동남구', '진주시'), ('천안시 동남구', '밀양시'), ('천안시 동남구', '목포시'), ('천안시 동남구', '문경시'), ('천안시 동남구', '나주시'), ('천안시 동남구', '남원시'), ('천안시 동남구', '남양주시'), ('천안시 동남구', '논산시'), ('천안시 동남구', '오산시'), ('천안시 동남구', '파주시'), ('천안시 동남구', '포천시'), ('천안시 동남구', '포항시 북구'), ('천안시 동남구', '포항시 남구'), ('천안시 동남구', '평택시'), ('천안시 동남구', '사천시'), ('천안시 동남구', '삼척시'), ('천안시 동남구', '상주시'), ('천안시 동남구', '서귀포시'), ('천안시 동남구', '성남시 분당구'), ('천안시 동남구', '성남시 중원구'), ('천안시 동남구', '성남시 수정구'), ('천안시 동남구', '서산시'), ('천안시 동남구', '시흥시'), ('천안시 동남구', '속초시'), ('천안시 동남구', '순천시'), ('천안시 동남구', '수원시 권선구'), ('천안시 동남구', '수원시 장안구'), ('천안시 동남구', '수원시 팔달구'), ('천안시 동남구', '수원시 영통구'), ('천안시 동남구', '태백시'), ('천안시 동남구', '통영시'), ('천안시 동남구', '의정부시'), ('천안시 동남구', '의왕시'), ('천안시 동남구', '원주시'), ('천안시 동남구', '양주시'), ('천안시 동남구', '양산시'), ('천안시 동남구', '여주시'), ('천안시 동남구', '영천시'), ('천안시 동남구', '영주시'), ('천안시 동남구', '여수시'), ('천안시 동남구', '용인시 처인구'), ('천안시 동남구', '용인시 기흥구'), ('천안시 동남구', '용인시 수지구'), ('천안시 서북구', '천안시 서북구'), ('천안시 서북구', '청주시 청원구'), ('천안시 서북구', '청주시 흥덕구'), ('천안시 서북구', '청주시 상당구'), ('천안시 서북구', '청주시 서원구'), ('천안시 서북구', '춘천시'), ('천안시 서북구', '충주시'), ('천안시 서북구', '당진시'), ('천안시 서북구', '동두천시'), ('천안시 서북구', '동해시'), ('천안시 서북구', '강릉시'), ('천안시 서북구', '거제시'), ('천안시 서북구', '김천시'), ('천안시 서북구', '김해시'), ('천안시 서북구', '김제시'), ('천안시 서북구', '김포시'), ('천안시 서북구', '공주시'), ('천안시 서북구', '고양시 덕양구'), ('천안시 서북구', '고양시 일산동구'), ('천안시 서북구', '고양시 일산서구'), ('천안시 서북구', '구미시'), ('천안시 서북구', '군포시'), ('천안시 서북구', '군산시'), ('천안시 서북구', '구리시'), ('천안시 서북구', '과천시'), ('천안시 서북구', '광주시'), ('천안시 서북구', '광명시'), ('천안시 서북구', '광양시'), ('천안시 서북구', '경주시'), ('천안시 서북구', '경산시'), ('천안시 서북구', '계룡시'), ('천안시 서북구', '하남시'), ('천안시 서북구', '화성시'), ('천안시 서북구', '이천시'), ('천안시 서북구', '익산시'), ('천안시 서북구', '제천시'), ('천안시 서북구', '제주시'), ('천안시 서북구', '정읍시'), ('천안시 서북구', '전주시 덕진구'), ('천안시 서북구', '전주시 완산구'), ('천안시 서북구', '진주시'), ('천안시 서북구', '밀양시'), ('천안시 서북구', '목포시'), ('천안시 서북구', '문경시'), ('천안시 서북구', '나주시'), ('천안시 서북구', '남원시'), ('천안시 서북구', '남양주시'), ('천안시 서북구', '논산시'), ('천안시 서북구', '오산시'), ('천안시 서북구', '파주시'), ('천안시 서북구', '포천시'), ('천안시 서북구', '포항시 북구'), ('천안시 서북구', '포항시 남구'), ('천안시 서북구', '평택시'), ('천안시 서북구', '사천시'), ('천안시 서북구', '삼척시'), ('천안시 서북구', '상주시'), ('천안시 서북구', '서귀포시'), ('천안시 서북구', '성남시 분당구'), ('천안시 서북구', '성남시 중원구'), ('천안시 서북구', '성남시 수정구'), ('천안시 서북구', '서산시'), ('천안시 서북구', '시흥시'), ('천안시 서북구', '속초시'), ('천안시 서북구', '순천시'), ('천안시 서북구', '수원시 권선구'), ('천안시 서북구', '수원시 장안구'), ('천안시 서북구', '수원시 팔달구'), ('천안시 서북구', '수원시 영통구'), ('천안시 서북구', '태백시'), ('천안시 서북구', '통영시'), ('천안시 서북구', '의정부시'), ('천안시 서북구', '의왕시'), ('천안시 서북구', '원주시'), ('천안시 서북구', '양주시'), ('천안시 서북구', '양산시'), ('천안시 서북구', '여주시'), ('천안시 서북구', '영천시'), ('천안시 서북구', '영주시'), ('천안시 서북구', '여수시'), ('천안시 서북구', '용인시 처인구'), ('천안시 서북구', '용인시 기흥구'), ('천안시 서북구', '용인시 수지구'), ('청주시 청원구', '청주시 청원구'), ('청주시 청원구', '청주시 흥덕구'), ('청주시 청원구', '청주시 상당구'), ('청주시 청원구', '청주시 서원구'), ('청주시 청원구', '춘천시'), ('청주시 청원구', '충주시'), ('청주시 청원구', '당진시'), ('청주시 청원구', '동두천시'), ('청주시 청원구', '동해시'), ('청주시 청원구', '강릉시'), ('청주시 청원구', '거제시'), ('청주시 청원구', '김천시'), ('청주시 청원구', '김해시'), ('청주시 청원구', '김제시'), ('청주시 청원구', '김포시'), ('청주시 청원구', '공주시'), ('청주시 청원구', '고양시 덕양구'), ('청주시 청원구', '고양시 일산동구'), ('청주시 청원구', '고양시 일산서구'), ('청주시 청원구', '구미시'), ('청주시 청원구', '군포시'), ('청주시 청원구', '군산시'), ('청주시 청원구', '구리시'), ('청주시 청원구', '과천시'), ('청주시 청원구', '광주시'), ('청주시 청원구', '광명시'), ('청주시 청원구', '광양시'), ('청주시 청원구', '경주시'), ('청주시 청원구', '경산시'), ('청주시 청원구', '계룡시'), ('청주시 청원구', '하남시'), ('청주시 청원구', '화성시'), ('청주시 청원구', '이천시'), ('청주시 청원구', '익산시'), ('청주시 청원구', '제천시'), ('청주시 청원구', '제주시'), ('청주시 청원구', '정읍시'), ('청주시 청원구', '전주시 덕진구'), ('청주시 청원구', '전주시 완산구'), ('청주시 청원구', '진주시'), ('청주시 청원구', '밀양시'), ('청주시 청원구', '목포시'), ('청주시 청원구', '문경시'), ('청주시 청원구', '나주시'), ('청주시 청원구', '남원시'), ('청주시 청원구', '남양주시'), ('청주시 청원구', '논산시'), ('청주시 청원구', '오산시'), ('청주시 청원구', '파주시'), ('청주시 청원구', '포천시'), ('청주시 청원구', '포항시 북구'), ('청주시 청원구', '포항시 남구'), ('청주시 청원구', '평택시'), ('청주시 청원구', '사천시'), ('청주시 청원구', '삼척시'), ('청주시 청원구', '상주시'), ('청주시 청원구', '서귀포시'), ('청주시 청원구', '성남시 분당구'), ('청주시 청원구', '성남시 중원구'), ('청주시 청원구', '성남시 수정구'), ('청주시 청원구', '서산시'), ('청주시 청원구', '시흥시'), ('청주시 청원구', '속초시'), ('청주시 청원구', '순천시'), ('청주시 청원구', '수원시 권선구'), ('청주시 청원구', '수원시 장안구'), ('청주시 청원구', '수원시 팔달구'), ('청주시 청원구', '수원시 영통구'), ('청주시 청원구', '태백시'), ('청주시 청원구', '통영시'), ('청주시 청원구', '의정부시'), ('청주시 청원구', '의왕시'), ('청주시 청원구', '원주시'), ('청주시 청원구', '양주시'), ('청주시 청원구', '양산시'), ('청주시 청원구', '여주시'), ('청주시 청원구', '영천시'), ('청주시 청원구', '영주시'), ('청주시 청원구', '여수시'), ('청주시 청원구', '용인시 처인구'), ('청주시 청원구', '용인시 기흥구'), ('청주시 청원구', '용인시 수지구'), ('청주시 흥덕구', '청주시 흥덕구'), ('청주시 흥덕구', '청주시 상당구'), ('청주시 흥덕구', '청주시 서원구'), ('청주시 흥덕구', '춘천시'), ('청주시 흥덕구', '충주시'), ('청주시 흥덕구', '당진시'), ('청주시 흥덕구', '동두천시'), ('청주시 흥덕구', '동해시'), ('청주시 흥덕구', '강릉시'), ('청주시 흥덕구', '거제시'), ('청주시 흥덕구', '김천시'), ('청주시 흥덕구', '김해시'), ('청주시 흥덕구', '김제시'), ('청주시 흥덕구', '김포시'), ('청주시 흥덕구', '공주시'), ('청주시 흥덕구', '고양시 덕양구'), ('청주시 흥덕구', '고양시 일산동구'), ('청주시 흥덕구', '고양시 일산서구'), ('청주시 흥덕구', '구미시'), ('청주시 흥덕구', '군포시'), ('청주시 흥덕구', '군산시'), ('청주시 흥덕구', '구리시'), ('청주시 흥덕구', '과천시'), ('청주시 흥덕구', '광주시'), ('청주시 흥덕구', '광명시'), ('청주시 흥덕구', '광양시'), ('청주시 흥덕구', '경주시'), ('청주시 흥덕구', '경산시'), ('청주시 흥덕구', '계룡시'), ('청주시 흥덕구', '하남시'), ('청주시 흥덕구', '화성시'), ('청주시 흥덕구', '이천시'), ('청주시 흥덕구', '익산시'), ('청주시 흥덕구', '제천시'), ('청주시 흥덕구', '제주시'), ('청주시 흥덕구', '정읍시'), ('청주시 흥덕구', '전주시 덕진구'), ('청주시 흥덕구', '전주시 완산구'), ('청주시 흥덕구', '진주시'), ('청주시 흥덕구', '밀양시'), ('청주시 흥덕구', '목포시'), ('청주시 흥덕구', '문경시'), ('청주시 흥덕구', '나주시'), ('청주시 흥덕구', '남원시'), ('청주시 흥덕구', '남양주시'), ('청주시 흥덕구', '논산시'), ('청주시 흥덕구', '오산시'), ('청주시 흥덕구', '파주시'), ('청주시 흥덕구', '포천시'), ('청주시 흥덕구', '포항시 북구'), ('청주시 흥덕구', '포항시 남구'), ('청주시 흥덕구', '평택시'), ('청주시 흥덕구', '사천시'), ('청주시 흥덕구', '삼척시'), ('청주시 흥덕구', '상주시'), ('청주시 흥덕구', '서귀포시'), ('청주시 흥덕구', '성남시 분당구'), ('청주시 흥덕구', '성남시 중원구'), ('청주시 흥덕구', '성남시 수정구'), ('청주시 흥덕구', '서산시'), ('청주시 흥덕구', '시흥시'), ('청주시 흥덕구', '속초시'), ('청주시 흥덕구', '순천시'), ('청주시 흥덕구', '수원시 권선구'), ('청주시 흥덕구', '수원시 장안구'), ('청주시 흥덕구', '수원시 팔달구'), ('청주시 흥덕구', '수원시 영통구'), ('청주시 흥덕구', '태백시'), ('청주시 흥덕구', '통영시'), ('청주시 흥덕구', '의정부시'), ('청주시 흥덕구', '의왕시'), ('청주시 흥덕구', '원주시'), ('청주시 흥덕구', '양주시'), ('청주시 흥덕구', '양산시'), ('청주시 흥덕구', '여주시'), ('청주시 흥덕구', '영천시'), ('청주시 흥덕구', '영주시'), ('청주시 흥덕구', '여수시'), ('청주시 흥덕구', '용인시 처인구'), ('청주시 흥덕구', '용인시 기흥구'), ('청주시 흥덕구', '용인시 수지구'), ('청주시 상당구', '청주시 상당구'), ('청주시 상당구', '청주시 서원구'), ('청주시 상당구', '춘천시'), ('청주시 상당구', '충주시'), ('청주시 상당구', '당진시'), ('청주시 상당구', '동두천시'), ('청주시 상당구', '동해시'), ('청주시 상당구', '강릉시'), ('청주시 상당구', '거제시'), ('청주시 상당구', '김천시'), ('청주시 상당구', '김해시'), ('청주시 상당구', '김제시'), ('청주시 상당구', '김포시'), ('청주시 상당구', '공주시'), ('청주시 상당구', '고양시 덕양구'), ('청주시 상당구', '고양시 일산동구'), ('청주시 상당구', '고양시 일산서구'), ('청주시 상당구', '구미시'), ('청주시 상당구', '군포시'), ('청주시 상당구', '군산시'), ('청주시 상당구', '구리시'), ('청주시 상당구', '과천시'), ('청주시 상당구', '광주시'), ('청주시 상당구', '광명시'), ('청주시 상당구', '광양시'), ('청주시 상당구', '경주시'), ('청주시 상당구', '경산시'), ('청주시 상당구', '계룡시'), ('청주시 상당구', '하남시'), ('청주시 상당구', '화성시'), ('청주시 상당구', '이천시'), ('청주시 상당구', '익산시'), ('청주시 상당구', '제천시'), ('청주시 상당구', '제주시'), ('청주시 상당구', '정읍시'), ('청주시 상당구', '전주시 덕진구'), ('청주시 상당구', '전주시 완산구'), ('청주시 상당구', '진주시'), ('청주시 상당구', '밀양시'), ('청주시 상당구', '목포시'), ('청주시 상당구', '문경시'), ('청주시 상당구', '나주시'), ('청주시 상당구', '남원시'), ('청주시 상당구', '남양주시'), ('청주시 상당구', '논산시'), ('청주시 상당구', '오산시'), ('청주시 상당구', '파주시'), ('청주시 상당구', '포천시'), ('청주시 상당구', '포항시 북구'), ('청주시 상당구', '포항시 남구'), ('청주시 상당구', '평택시'), ('청주시 상당구', '사천시'), ('청주시 상당구', '삼척시'), ('청주시 상당구', '상주시'), ('청주시 상당구', '서귀포시'), ('청주시 상당구', '성남시 분당구'), ('청주시 상당구', '성남시 중원구'), ('청주시 상당구', '성남시 수정구'), ('청주시 상당구', '서산시'), ('청주시 상당구', '시흥시'), ('청주시 상당구', '속초시'), ('청주시 상당구', '순천시'), ('청주시 상당구', '수원시 권선구'), ('청주시 상당구', '수원시 장안구'), ('청주시 상당구', '수원시 팔달구'), ('청주시 상당구', '수원시 영통구'), ('청주시 상당구', '태백시'), ('청주시 상당구', '통영시'), ('청주시 상당구', '의정부시'), ('청주시 상당구', '의왕시'), ('청주시 상당구', '원주시'), ('청주시 상당구', '양주시'), ('청주시 상당구', '양산시'), ('청주시 상당구', '여주시'), ('청주시 상당구', '영천시'), ('청주시 상당구', '영주시'), ('청주시 상당구', '여수시'), ('청주시 상당구', '용인시 처인구'), ('청주시 상당구', '용인시 기흥구'), ('청주시 상당구', '용인시 수지구'), ('청주시 서원구', '청주시 서원구'), ('청주시 서원구', '춘천시'), ('청주시 서원구', '충주시'), ('청주시 서원구', '당진시'), ('청주시 서원구', '동두천시'), ('청주시 서원구', '동해시'), ('청주시 서원구', '강릉시'), ('청주시 서원구', '거제시'), ('청주시 서원구', '김천시'), ('청주시 서원구', '김해시'), ('청주시 서원구', '김제시'), ('청주시 서원구', '김포시'), ('청주시 서원구', '공주시'), ('청주시 서원구', '고양시 덕양구'), ('청주시 서원구', '고양시 일산동구'), ('청주시 서원구', '고양시 일산서구'), ('청주시 서원구', '구미시'), ('청주시 서원구', '군포시'), ('청주시 서원구', '군산시'), ('청주시 서원구', '구리시'), ('청주시 서원구', '과천시'), ('청주시 서원구', '광주시'), ('청주시 서원구', '광명시'), ('청주시 서원구', '광양시'), ('청주시 서원구', '경주시'), ('청주시 서원구', '경산시'), ('청주시 서원구', '계룡시'), ('청주시 서원구', '하남시'), ('청주시 서원구', '화성시'), ('청주시 서원구', '이천시'), ('청주시 서원구', '익산시'), ('청주시 서원구', '제천시'), ('청주시 서원구', '제주시'), ('청주시 서원구', '정읍시'), ('청주시 서원구', '전주시 덕진구'), ('청주시 서원구', '전주시 완산구'), ('청주시 서원구', '진주시'), ('청주시 서원구', '밀양시'), ('청주시 서원구', '목포시'), ('청주시 서원구', '문경시'), ('청주시 서원구', '나주시'), ('청주시 서원구', '남원시'), ('청주시 서원구', '남양주시'), ('청주시 서원구', '논산시'), ('청주시 서원구', '오산시'), ('청주시 서원구', '파주시'), ('청주시 서원구', '포천시'), ('청주시 서원구', '포항시 북구'), ('청주시 서원구', '포항시 남구'), ('청주시 서원구', '평택시'), ('청주시 서원구', '사천시'), ('청주시 서원구', '삼척시'), ('청주시 서원구', '상주시'), ('청주시 서원구', '서귀포시'), ('청주시 서원구', '성남시 분당구'), ('청주시 서원구', '성남시 중원구'), ('청주시 서원구', '성남시 수정구'), ('청주시 서원구', '서산시'), ('청주시 서원구', '시흥시'), ('청주시 서원구', '속초시'), ('청주시 서원구', '순천시'), ('청주시 서원구', '수원시 권선구'), ('청주시 서원구', '수원시 장안구'), ('청주시 서원구', '수원시 팔달구'), ('청주시 서원구', '수원시 영통구'), ('청주시 서원구', '태백시'), ('청주시 서원구', '통영시'), ('청주시 서원구', '의정부시'), ('청주시 서원구', '의왕시'), ('청주시 서원구', '원주시'), ('청주시 서원구', '양주시'), ('청주시 서원구', '양산시'), ('청주시 서원구', '여주시'), ('청주시 서원구', '영천시'), ('청주시 서원구', '영주시'), ('청주시 서원구', '여수시'), ('청주시 서원구', '용인시 처인구'), ('청주시 서원구', '용인시 기흥구'), ('청주시 서원구', '용인시 수지구'), ('춘천시', '춘천시'), ('춘천시', '충주시'), ('춘천시', '당진시'), ('춘천시', '동두천시'), ('춘천시', '동해시'), ('춘천시', '강릉시'), ('춘천시', '거제시'), ('춘천시', '김천시'), ('춘천시', '김해시'), ('춘천시', '김제시'), ('춘천시', '김포시'), ('춘천시', '공주시'), ('춘천시', '고양시 덕양구'), ('춘천시', '고양시 일산동구'), ('춘천시', '고양시 일산서구'), ('춘천시', '구미시'), ('춘천시', '군포시'), ('춘천시', '군산시'), ('춘천시', '구리시'), ('춘천시', '과천시'), ('춘천시', '광주시'), ('춘천시', '광명시'), ('춘천시', '광양시'), ('춘천시', '경주시'), ('춘천시', '경산시'), ('춘천시', '계룡시'), ('춘천시', '하남시'), ('춘천시', '화성시'), ('춘천시', '이천시'), ('춘천시', '익산시'), ('춘천시', '제천시'), ('춘천시', '제주시'), ('춘천시', '정읍시'), ('춘천시', '전주시 덕진구'), ('춘천시', '전주시 완산구'), ('춘천시', '진주시'), ('춘천시', '밀양시'), ('춘천시', '목포시'), ('춘천시', '문경시'), ('춘천시', '나주시'), ('춘천시', '남원시'), ('춘천시', '남양주시'), ('춘천시', '논산시'), ('춘천시', '오산시'), ('춘천시', '파주시'), ('춘천시', '포천시'), ('춘천시', '포항시 북구'), ('춘천시', '포항시 남구'), ('춘천시', '평택시'), ('춘천시', '사천시'), ('춘천시', '삼척시'), ('춘천시', '상주시'), ('춘천시', '서귀포시'), ('춘천시', '성남시 분당구'), ('춘천시', '성남시 중원구'), ('춘천시', '성남시 수정구'), ('춘천시', '서산시'), ('춘천시', '시흥시'), ('춘천시', '속초시'), ('춘천시', '순천시'), ('춘천시', '수원시 권선구'), ('춘천시', '수원시 장안구'), ('춘천시', '수원시 팔달구'), ('춘천시', '수원시 영통구'), ('춘천시', '태백시'), ('춘천시', '통영시'), ('춘천시', '의정부시'), ('춘천시', '의왕시'), ('춘천시', '원주시'), ('춘천시', '양주시'), ('춘천시', '양산시'), ('춘천시', '여주시'), ('춘천시', '영천시'), ('춘천시', '영주시'), ('춘천시', '여수시'), ('춘천시', '용인시 처인구'), ('춘천시', '용인시 기흥구'), ('춘천시', '용인시 수지구'), ('충주시', '충주시'), ('충주시', '당진시'), ('충주시', '동두천시'), ('충주시', '동해시'), ('충주시', '강릉시'), ('충주시', '거제시'), ('충주시', '김천시'), ('충주시', '김해시'), ('충주시', '김제시'), ('충주시', '김포시'), ('충주시', '공주시'), ('충주시', '고양시 덕양구'), ('충주시', '고양시 일산동구'), ('충주시', '고양시 일산서구'), ('충주시', '구미시'), ('충주시', '군포시'), ('충주시', '군산시'), ('충주시', '구리시'), ('충주시', '과천시'), ('충주시', '광주시'), ('충주시', '광명시'), ('충주시', '광양시'), ('충주시', '경주시'), ('충주시', '경산시'), ('충주시', '계룡시'), ('충주시', '하남시'), ('충주시', '화성시'), ('충주시', '이천시'), ('충주시', '익산시'), ('충주시', '제천시'), ('충주시', '제주시'), ('충주시', '정읍시'), ('충주시', '전주시 덕진구'), ('충주시', '전주시 완산구'), ('충주시', '진주시'), ('충주시', '밀양시'), ('충주시', '목포시'), ('충주시', '문경시'), ('충주시', '나주시'), ('충주시', '남원시'), ('충주시', '남양주시'), ('충주시', '논산시'), ('충주시', '오산시'), ('충주시', '파주시'), ('충주시', '포천시'), ('충주시', '포항시 북구'), ('충주시', '포항시 남구'), ('충주시', '평택시'), ('충주시', '사천시'), ('충주시', '삼척시'), ('충주시', '상주시'), ('충주시', '서귀포시'), ('충주시', '성남시 분당구'), ('충주시', '성남시 중원구'), ('충주시', '성남시 수정구'), ('충주시', '서산시'), ('충주시', '시흥시'), ('충주시', '속초시'), ('충주시', '순천시'), ('충주시', '수원시 권선구'), ('충주시', '수원시 장안구'), ('충주시', '수원시 팔달구'), ('충주시', '수원시 영통구'), ('충주시', '태백시'), ('충주시', '통영시'), ('충주시', '의정부시'), ('충주시', '의왕시'), ('충주시', '원주시'), ('충주시', '양주시'), ('충주시', '양산시'), ('충주시', '여주시'), ('충주시', '영천시'), ('충주시', '영주시'), ('충주시', '여수시'), ('충주시', '용인시 처인구'), ('충주시', '용인시 기흥구'), ('충주시', '용인시 수지구'), ('당진시', '당진시'), ('당진시', '동두천시'), ('당진시', '동해시'), ('당진시', '강릉시'), ('당진시', '거제시'), ('당진시', '김천시'), ('당진시', '김해시'), ('당진시', '김제시'), ('당진시', '김포시'), ('당진시', '공주시'), ('당진시', '고양시 덕양구'), ('당진시', '고양시 일산동구'), ('당진시', '고양시 일산서구'), ('당진시', '구미시'), ('당진시', '군포시'), ('당진시', '군산시'), ('당진시', '구리시'), ('당진시', '과천시'), ('당진시', '광주시'), ('당진시', '광명시'), ('당진시', '광양시'), ('당진시', '경주시'), ('당진시', '경산시'), ('당진시', '계룡시'), ('당진시', '하남시'), ('당진시', '화성시'), ('당진시', '이천시'), ('당진시', '익산시'), ('당진시', '제천시'), ('당진시', '제주시'), ('당진시', '정읍시'), ('당진시', '전주시 덕진구'), ('당진시', '전주시 완산구'), ('당진시', '진주시'), ('당진시', '밀양시'), ('당진시', '목포시'), ('당진시', '문경시'), ('당진시', '나주시'), ('당진시', '남원시'), ('당진시', '남양주시'), ('당진시', '논산시'), ('당진시', '오산시'), ('당진시', '파주시'), ('당진시', '포천시'), ('당진시', '포항시 북구'), ('당진시', '포항시 남구'), ('당진시', '평택시'), ('당진시', '사천시'), ('당진시', '삼척시'), ('당진시', '상주시'), ('당진시', '서귀포시'), ('당진시', '성남시 분당구'), ('당진시', '성남시 중원구'), ('당진시', '성남시 수정구'), ('당진시', '서산시'), ('당진시', '시흥시'), ('당진시', '속초시'), ('당진시', '순천시'), ('당진시', '수원시 권선구'), ('당진시', '수원시 장안구'), ('당진시', '수원시 팔달구'), ('당진시', '수원시 영통구'), ('당진시', '태백시'), ('당진시', '통영시'), ('당진시', '의정부시'), ('당진시', '의왕시'), ('당진시', '원주시'), ('당진시', '양주시'), ('당진시', '양산시'), ('당진시', '여주시'), ('당진시', '영천시'), ('당진시', '영주시'), ('당진시', '여수시'), ('당진시', '용인시 처인구'), ('당진시', '용인시 기흥구'), ('당진시', '용인시 수지구'), ('동두천시', '동두천시'), ('동두천시', '동해시'), ('동두천시', '강릉시'), ('동두천시', '거제시'), ('동두천시', '김천시'), ('동두천시', '김해시'), ('동두천시', '김제시'), ('동두천시', '김포시'), ('동두천시', '공주시'), ('동두천시', '고양시 덕양구'), ('동두천시', '고양시 일산동구'), ('동두천시', '고양시 일산서구'), ('동두천시', '구미시'), ('동두천시', '군포시'), ('동두천시', '군산시'), ('동두천시', '구리시'), ('동두천시', '과천시'), ('동두천시', '광주시'), ('동두천시', '광명시'), ('동두천시', '광양시'), ('동두천시', '경주시'), ('동두천시', '경산시'), ('동두천시', '계룡시'), ('동두천시', '하남시'), ('동두천시', '화성시'), ('동두천시', '이천시'), ('동두천시', '익산시'), ('동두천시', '제천시'), ('동두천시', '제주시'), ('동두천시', '정읍시'), ('동두천시', '전주시 덕진구'), ('동두천시', '전주시 완산구'), ('동두천시', '진주시'), ('동두천시', '밀양시'), ('동두천시', '목포시'), ('동두천시', '문경시'), ('동두천시', '나주시'), ('동두천시', '남원시'), ('동두천시', '남양주시'), ('동두천시', '논산시'), ('동두천시', '오산시'), ('동두천시', '파주시'), ('동두천시', '포천시'), ('동두천시', '포항시 북구'), ('동두천시', '포항시 남구'), ('동두천시', '평택시'), ('동두천시', '사천시'), ('동두천시', '삼척시'), ('동두천시', '상주시'), ('동두천시', '서귀포시'), ('동두천시', '성남시 분당구'), ('동두천시', '성남시 중원구'), ('동두천시', '성남시 수정구'), ('동두천시', '서산시'), ('동두천시', '시흥시'), ('동두천시', '속초시'), ('동두천시', '순천시'), ('동두천시', '수원시 권선구'), ('동두천시', '수원시 장안구'), ('동두천시', '수원시 팔달구'), ('동두천시', '수원시 영통구'), ('동두천시', '태백시'), ('동두천시', '통영시'), ('동두천시', '의정부시'), ('동두천시', '의왕시'), ('동두천시', '원주시'), ('동두천시', '양주시'), ('동두천시', '양산시'), ('동두천시', '여주시'), ('동두천시', '영천시'), ('동두천시', '영주시'), ('동두천시', '여수시'), ('동두천시', '용인시 처인구'), ('동두천시', '용인시 기흥구'), ('동두천시', '용인시 수지구'), ('동해시', '동해시'), ('동해시', '강릉시'), ('동해시', '거제시'), ('동해시', '김천시'), ('동해시', '김해시'), ('동해시', '김제시'), ('동해시', '김포시'), ('동해시', '공주시'), ('동해시', '고양시 덕양구'), ('동해시', '고양시 일산동구'), ('동해시', '고양시 일산서구'), ('동해시', '구미시'), ('동해시', '군포시'), ('동해시', '군산시'), ('동해시', '구리시'), ('동해시', '과천시'), ('동해시', '광주시'), ('동해시', '광명시'), ('동해시', '광양시'), ('동해시', '경주시'), ('동해시', '경산시'), ('동해시', '계룡시'), ('동해시', '하남시'), ('동해시', '화성시'), ('동해시', '이천시'), ('동해시', '익산시'), ('동해시', '제천시'), ('동해시', '제주시'), ('동해시', '정읍시'), ('동해시', '전주시 덕진구'), ('동해시', '전주시 완산구'), ('동해시', '진주시'), ('동해시', '밀양시'), ('동해시', '목포시'), ('동해시', '문경시'), ('동해시', '나주시'), ('동해시', '남원시'), ('동해시', '남양주시'), ('동해시', '논산시'), ('동해시', '오산시'), ('동해시', '파주시'), ('동해시', '포천시'), ('동해시', '포항시 북구'), ('동해시', '포항시 남구'), ('동해시', '평택시'), ('동해시', '사천시'), ('동해시', '삼척시'), ('동해시', '상주시'), ('동해시', '서귀포시'), ('동해시', '성남시 분당구'), ('동해시', '성남시 중원구'), ('동해시', '성남시 수정구'), ('동해시', '서산시'), ('동해시', '시흥시'), ('동해시', '속초시'), ('동해시', '순천시'), ('동해시', '수원시 권선구'), ('동해시', '수원시 장안구'), ('동해시', '수원시 팔달구'), ('동해시', '수원시 영통구'), ('동해시', '태백시'), ('동해시', '통영시'), ('동해시', '의정부시'), ('동해시', '의왕시'), ('동해시', '원주시'), ('동해시', '양주시'), ('동해시', '양산시'), ('동해시', '여주시'), ('동해시', '영천시'), ('동해시', '영주시'), ('동해시', '여수시'), ('동해시', '용인시 처인구'), ('동해시', '용인시 기흥구'), ('동해시', '용인시 수지구'), ('강릉시', '강릉시'), ('강릉시', '거제시'), ('강릉시', '김천시'), ('강릉시', '김해시'), ('강릉시', '김제시'), ('강릉시', '김포시'), ('강릉시', '공주시'), ('강릉시', '고양시 덕양구'), ('강릉시', '고양시 일산동구'), ('강릉시', '고양시 일산서구'), ('강릉시', '구미시'), ('강릉시', '군포시'), ('강릉시', '군산시'), ('강릉시', '구리시'), ('강릉시', '과천시'), ('강릉시', '광주시'), ('강릉시', '광명시'), ('강릉시', '광양시'), ('강릉시', '경주시'), ('강릉시', '경산시'), ('강릉시', '계룡시'), ('강릉시', '하남시'), ('강릉시', '화성시'), ('강릉시', '이천시'), ('강릉시', '익산시'), ('강릉시', '제천시'), ('강릉시', '제주시'), ('강릉시', '정읍시'), ('강릉시', '전주시 덕진구'), ('강릉시', '전주시 완산구'), ('강릉시', '진주시'), ('강릉시', '밀양시'), ('강릉시', '목포시'), ('강릉시', '문경시'), ('강릉시', '나주시'), ('강릉시', '남원시'), ('강릉시', '남양주시'), ('강릉시', '논산시'), ('강릉시', '오산시'), ('강릉시', '파주시'), ('강릉시', '포천시'), ('강릉시', '포항시 북구'), ('강릉시', '포항시 남구'), ('강릉시', '평택시'), ('강릉시', '사천시'), ('강릉시', '삼척시'), ('강릉시', '상주시'), ('강릉시', '서귀포시'), ('강릉시', '성남시 분당구'), ('강릉시', '성남시 중원구'), ('강릉시', '성남시 수정구'), ('강릉시', '서산시'), ('강릉시', '시흥시'), ('강릉시', '속초시'), ('강릉시', '순천시'), ('강릉시', '수원시 권선구'), ('강릉시', '수원시 장안구'), ('강릉시', '수원시 팔달구'), ('강릉시', '수원시 영통구'), ('강릉시', '태백시'), ('강릉시', '통영시'), ('강릉시', '의정부시'), ('강릉시', '의왕시'), ('강릉시', '원주시'), ('강릉시', '양주시'), ('강릉시', '양산시'), ('강릉시', '여주시'), ('강릉시', '영천시'), ('강릉시', '영주시'), ('강릉시', '여수시'), ('강릉시', '용인시 처인구'), ('강릉시', '용인시 기흥구'), ('강릉시', '용인시 수지구'), ('거제시', '거제시'), ('거제시', '김천시'), ('거제시', '김해시'), ('거제시', '김제시'), ('거제시', '김포시'), ('거제시', '공주시'), ('거제시', '고양시 덕양구'), ('거제시', '고양시 일산동구'), ('거제시', '고양시 일산서구'), ('거제시', '구미시'), ('거제시', '군포시'), ('거제시', '군산시'), ('거제시', '구리시'), ('거제시', '과천시'), ('거제시', '광주시'), ('거제시', '광명시'), ('거제시', '광양시'), ('거제시', '경주시'), ('거제시', '경산시'), ('거제시', '계룡시'), ('거제시', '하남시'), ('거제시', '화성시'), ('거제시', '이천시'), ('거제시', '익산시'), ('거제시', '제천시'), ('거제시', '제주시'), ('거제시', '정읍시'), ('거제시', '전주시 덕진구'), ('거제시', '전주시 완산구'), ('거제시', '진주시'), ('거제시', '밀양시'), ('거제시', '목포시'), ('거제시', '문경시'), ('거제시', '나주시'), ('거제시', '남원시'), ('거제시', '남양주시'), ('거제시', '논산시'), ('거제시', '오산시'), ('거제시', '파주시'), ('거제시', '포천시'), ('거제시', '포항시 북구'), ('거제시', '포항시 남구'), ('거제시', '평택시'), ('거제시', '사천시'), ('거제시', '삼척시'), ('거제시', '상주시'), ('거제시', '서귀포시'), ('거제시', '성남시 분당구'), ('거제시', '성남시 중원구'), ('거제시', '성남시 수정구'), ('거제시', '서산시'), ('거제시', '시흥시'), ('거제시', '속초시'), ('거제시', '순천시'), ('거제시', '수원시 권선구'), ('거제시', '수원시 장안구'), ('거제시', '수원시 팔달구'), ('거제시', '수원시 영통구'), ('거제시', '태백시'), ('거제시', '통영시'), ('거제시', '의정부시'), ('거제시', '의왕시'), ('거제시', '원주시'), ('거제시', '양주시'), ('거제시', '양산시'), ('거제시', '여주시'), ('거제시', '영천시'), ('거제시', '영주시'), ('거제시', '여수시'), ('거제시', '용인시 처인구'), ('거제시', '용인시 기흥구'), ('거제시', '용인시 수지구'), ('김천시', '김천시'), ('김천시', '김해시'), ('김천시', '김제시'), ('김천시', '김포시'), ('김천시', '공주시'), ('김천시', '고양시 덕양구'), ('김천시', '고양시 일산동구'), ('김천시', '고양시 일산서구'), ('김천시', '구미시'), ('김천시', '군포시'), ('김천시', '군산시'), ('김천시', '구리시'), ('김천시', '과천시'), ('김천시', '광주시'), ('김천시', '광명시'), ('김천시', '광양시'), ('김천시', '경주시'), ('김천시', '경산시'), ('김천시', '계룡시'), ('김천시', '하남시'), ('김천시', '화성시'), ('김천시', '이천시'), ('김천시', '익산시'), ('김천시', '제천시'), ('김천시', '제주시'), ('김천시', '정읍시'), ('김천시', '전주시 덕진구'), ('김천시', '전주시 완산구'), ('김천시', '진주시'), ('김천시', '밀양시'), ('김천시', '목포시'), ('김천시', '문경시'), ('김천시', '나주시'), ('김천시', '남원시'), ('김천시', '남양주시'), ('김천시', '논산시'), ('김천시', '오산시'), ('김천시', '파주시'), ('김천시', '포천시'), ('김천시', '포항시 북구'), ('김천시', '포항시 남구'), ('김천시', '평택시'), ('김천시', '사천시'), ('김천시', '삼척시'), ('김천시', '상주시'), ('김천시', '서귀포시'), ('김천시', '성남시 분당구'), ('김천시', '성남시 중원구'), ('김천시', '성남시 수정구'), ('김천시', '서산시'), ('김천시', '시흥시'), ('김천시', '속초시'), ('김천시', '순천시'), ('김천시', '수원시 권선구'), ('김천시', '수원시 장안구'), ('김천시', '수원시 팔달구'), ('김천시', '수원시 영통구'), ('김천시', '태백시'), ('김천시', '통영시'), ('김천시', '의정부시'), ('김천시', '의왕시'), ('김천시', '원주시'), ('김천시', '양주시'), ('김천시', '양산시'), ('김천시', '여주시'), ('김천시', '영천시'), ('김천시', '영주시'), ('김천시', '여수시'), ('김천시', '용인시 처인구'), ('김천시', '용인시 기흥구'), ('김천시', '용인시 수지구'), ('김해시', '김해시'), ('김해시', '김제시'), ('김해시', '김포시'), ('김해시', '공주시'), ('김해시', '고양시 덕양구'), ('김해시', '고양시 일산동구'), ('김해시', '고양시 일산서구'), ('김해시', '구미시'), ('김해시', '군포시'), ('김해시', '군산시'), ('김해시', '구리시'), ('김해시', '과천시'), ('김해시', '광주시'), ('김해시', '광명시'), ('김해시', '광양시'), ('김해시', '경주시'), ('김해시', '경산시'), ('김해시', '계룡시'), ('김해시', '하남시'), ('김해시', '화성시'), ('김해시', '이천시'), ('김해시', '익산시'), ('김해시', '제천시'), ('김해시', '제주시'), ('김해시', '정읍시'), ('김해시', '전주시 덕진구'), ('김해시', '전주시 완산구'), ('김해시', '진주시'), ('김해시', '밀양시'), ('김해시', '목포시'), ('김해시', '문경시'), ('김해시', '나주시'), ('김해시', '남원시'), ('김해시', '남양주시'), ('김해시', '논산시'), ('김해시', '오산시'), ('김해시', '파주시'), ('김해시', '포천시'), ('김해시', '포항시 북구'), ('김해시', '포항시 남구'), ('김해시', '평택시'), ('김해시', '사천시'), ('김해시', '삼척시'), ('김해시', '상주시'), ('김해시', '서귀포시'), ('김해시', '성남시 분당구'), ('김해시', '성남시 중원구'), ('김해시', '성남시 수정구'), ('김해시', '서산시'), ('김해시', '시흥시'), ('김해시', '속초시'), ('김해시', '순천시'), ('김해시', '수원시 권선구'), ('김해시', '수원시 장안구'), ('김해시', '수원시 팔달구'), ('김해시', '수원시 영통구'), ('김해시', '태백시'), ('김해시', '통영시'), ('김해시', '의정부시'), ('김해시', '의왕시'), ('김해시', '원주시'), ('김해시', '양주시'), ('김해시', '양산시'), ('김해시', '여주시'), ('김해시', '영천시'), ('김해시', '영주시'), ('김해시', '여수시'), ('김해시', '용인시 처인구'), ('김해시', '용인시 기흥구'), ('김해시', '용인시 수지구'), ('김제시', '김제시'), ('김제시', '김포시'), ('김제시', '공주시'), ('김제시', '고양시 덕양구'), ('김제시', '고양시 일산동구'), ('김제시', '고양시 일산서구'), ('김제시', '구미시'), ('김제시', '군포시'), ('김제시', '군산시'), ('김제시', '구리시'), ('김제시', '과천시'), ('김제시', '광주시'), ('김제시', '광명시'), ('김제시', '광양시'), ('김제시', '경주시'), ('김제시', '경산시'), ('김제시', '계룡시'), ('김제시', '하남시'), ('김제시', '화성시'), ('김제시', '이천시'), ('김제시', '익산시'), ('김제시', '제천시'), ('김제시', '제주시'), ('김제시', '정읍시'), ('김제시', '전주시 덕진구'), ('김제시', '전주시 완산구'), ('김제시', '진주시'), ('김제시', '밀양시'), ('김제시', '목포시'), ('김제시', '문경시'), ('김제시', '나주시'), ('김제시', '남원시'), ('김제시', '남양주시'), ('김제시', '논산시'), ('김제시', '오산시'), ('김제시', '파주시'), ('김제시', '포천시'), ('김제시', '포항시 북구'), ('김제시', '포항시 남구'), ('김제시', '평택시'), ('김제시', '사천시'), ('김제시', '삼척시'), ('김제시', '상주시'), ('김제시', '서귀포시'), ('김제시', '성남시 분당구'), ('김제시', '성남시 중원구'), ('김제시', '성남시 수정구'), ('김제시', '서산시'), ('김제시', '시흥시'), ('김제시', '속초시'), ('김제시', '순천시'), ('김제시', '수원시 권선구'), ('김제시', '수원시 장안구'), ('김제시', '수원시 팔달구'), ('김제시', '수원시 영통구'), ('김제시', '태백시'), ('김제시', '통영시'), ('김제시', '의정부시'), ('김제시', '의왕시'), ('김제시', '원주시'), ('김제시', '양주시'), ('김제시', '양산시'), ('김제시', '여주시'), ('김제시', '영천시'), ('김제시', '영주시'), ('김제시', '여수시'), ('김제시', '용인시 처인구'), ('김제시', '용인시 기흥구'), ('김제시', '용인시 수지구'), ('김포시', '김포시'), ('김포시', '공주시'), ('김포시', '고양시 덕양구'), ('김포시', '고양시 일산동구'), ('김포시', '고양시 일산서구'), ('김포시', '구미시'), ('김포시', '군포시'), ('김포시', '군산시'), ('김포시', '구리시'), ('김포시', '과천시'), ('김포시', '광주시'), ('김포시', '광명시'), ('김포시', '광양시'), ('김포시', '경주시'), ('김포시', '경산시'), ('김포시', '계룡시'), ('김포시', '하남시'), ('김포시', '화성시'), ('김포시', '이천시'), ('김포시', '익산시'), ('김포시', '제천시'), ('김포시', '제주시'), ('김포시', '정읍시'), ('김포시', '전주시 덕진구'), ('김포시', '전주시 완산구'), ('김포시', '진주시'), ('김포시', '밀양시'), ('김포시', '목포시'), ('김포시', '문경시'), ('김포시', '나주시'), ('김포시', '남원시'), ('김포시', '남양주시'), ('김포시', '논산시'), ('김포시', '오산시'), ('김포시', '파주시'), ('김포시', '포천시'), ('김포시', '포항시 북구'), ('김포시', '포항시 남구'), ('김포시', '평택시'), ('김포시', '사천시'), ('김포시', '삼척시'), ('김포시', '상주시'), ('김포시', '서귀포시'), ('김포시', '성남시 분당구'), ('김포시', '성남시 중원구'), ('김포시', '성남시 수정구'), ('김포시', '서산시'), ('김포시', '시흥시'), ('김포시', '속초시'), ('김포시', '순천시'), ('김포시', '수원시 권선구'), ('김포시', '수원시 장안구'), ('김포시', '수원시 팔달구'), ('김포시', '수원시 영통구'), ('김포시', '태백시'), ('김포시', '통영시'), ('김포시', '의정부시'), ('김포시', '의왕시'), ('김포시', '원주시'), ('김포시', '양주시'), ('김포시', '양산시'), ('김포시', '여주시'), ('김포시', '영천시'), ('김포시', '영주시'), ('김포시', '여수시'), ('김포시', '용인시 처인구'), ('김포시', '용인시 기흥구'), ('김포시', '용인시 수지구'), ('공주시', '공주시'), ('공주시', '고양시 덕양구'), ('공주시', '고양시 일산동구'), ('공주시', '고양시 일산서구'), ('공주시', '구미시'), ('공주시', '군포시'), ('공주시', '군산시'), ('공주시', '구리시'), ('공주시', '과천시'), ('공주시', '광주시'), ('공주시', '광명시'), ('공주시', '광양시'), ('공주시', '경주시'), ('공주시', '경산시'), ('공주시', '계룡시'), ('공주시', '하남시'), ('공주시', '화성시'), ('공주시', '이천시'), ('공주시', '익산시'), ('공주시', '제천시'), ('공주시', '제주시'), ('공주시', '정읍시'), ('공주시', '전주시 덕진구'), ('공주시', '전주시 완산구'), ('공주시', '진주시'), ('공주시', '밀양시'), ('공주시', '목포시'), ('공주시', '문경시'), ('공주시', '나주시'), ('공주시', '남원시'), ('공주시', '남양주시'), ('공주시', '논산시'), ('공주시', '오산시'), ('공주시', '파주시'), ('공주시', '포천시'), ('공주시', '포항시 북구'), ('공주시', '포항시 남구'), ('공주시', '평택시'), ('공주시', '사천시'), ('공주시', '삼척시'), ('공주시', '상주시'), ('공주시', '서귀포시'), ('공주시', '성남시 분당구'), ('공주시', '성남시 중원구'), ('공주시', '성남시 수정구'), ('공주시', '서산시'), ('공주시', '시흥시'), ('공주시', '속초시'), ('공주시', '순천시'), ('공주시', '수원시 권선구'), ('공주시', '수원시 장안구'), ('공주시', '수원시 팔달구'), ('공주시', '수원시 영통구'), ('공주시', '태백시'), ('공주시', '통영시'), ('공주시', '의정부시'), ('공주시', '의왕시'), ('공주시', '원주시'), ('공주시', '양주시'), ('공주시', '양산시'), ('공주시', '여주시'), ('공주시', '영천시'), ('공주시', '영주시'), ('공주시', '여수시'), ('공주시', '용인시 처인구'), ('공주시', '용인시 기흥구'), ('공주시', '용인시 수지구'), ('고양시 덕양구', '고양시 덕양구'), ('고양시 덕양구', '고양시 일산동구'), ('고양시 덕양구', '고양시 일산서구'), ('고양시 덕양구', '구미시'), ('고양시 덕양구', '군포시'), ('고양시 덕양구', '군산시'), ('고양시 덕양구', '구리시'), ('고양시 덕양구', '과천시'), ('고양시 덕양구', '광주시'), ('고양시 덕양구', '광명시'), ('고양시 덕양구', '광양시'), ('고양시 덕양구', '경주시'), ('고양시 덕양구', '경산시'), ('고양시 덕양구', '계룡시'), ('고양시 덕양구', '하남시'), ('고양시 덕양구', '화성시'), ('고양시 덕양구', '이천시'), ('고양시 덕양구', '익산시'), ('고양시 덕양구', '제천시'), ('고양시 덕양구', '제주시'), ('고양시 덕양구', '정읍시'), ('고양시 덕양구', '전주시 덕진구'), ('고양시 덕양구', '전주시 완산구'), ('고양시 덕양구', '진주시'), ('고양시 덕양구', '밀양시'), ('고양시 덕양구', '목포시'), ('고양시 덕양구', '문경시'), ('고양시 덕양구', '나주시'), ('고양시 덕양구', '남원시'), ('고양시 덕양구', '남양주시'), ('고양시 덕양구', '논산시'), ('고양시 덕양구', '오산시'), ('고양시 덕양구', '파주시'), ('고양시 덕양구', '포천시'), ('고양시 덕양구', '포항시 북구'), ('고양시 덕양구', '포항시 남구'), ('고양시 덕양구', '평택시'), ('고양시 덕양구', '사천시'), ('고양시 덕양구', '삼척시'), ('고양시 덕양구', '상주시'), ('고양시 덕양구', '서귀포시'), ('고양시 덕양구', '성남시 분당구'), ('고양시 덕양구', '성남시 중원구'), ('고양시 덕양구', '성남시 수정구'), ('고양시 덕양구', '서산시'), ('고양시 덕양구', '시흥시'), ('고양시 덕양구', '속초시'), ('고양시 덕양구', '순천시'), ('고양시 덕양구', '수원시 권선구'), ('고양시 덕양구', '수원시 장안구'), ('고양시 덕양구', '수원시 팔달구'), ('고양시 덕양구', '수원시 영통구'), ('고양시 덕양구', '태백시'), ('고양시 덕양구', '통영시'), ('고양시 덕양구', '의정부시'), ('고양시 덕양구', '의왕시'), ('고양시 덕양구', '원주시'), ('고양시 덕양구', '양주시'), ('고양시 덕양구', '양산시'), ('고양시 덕양구', '여주시'), ('고양시 덕양구', '영천시'), ('고양시 덕양구', '영주시'), ('고양시 덕양구', '여수시'), ('고양시 덕양구', '용인시 처인구'), ('고양시 덕양구', '용인시 기흥구'), ('고양시 덕양구', '용인시 수지구'), ('고양시 일산동구', '고양시 일산동구'), ('고양시 일산동구', '고양시 일산서구'), ('고양시 일산동구', '구미시'), ('고양시 일산동구', '군포시'), ('고양시 일산동구', '군산시'), ('고양시 일산동구', '구리시'), ('고양시 일산동구', '과천시'), ('고양시 일산동구', '광주시'), ('고양시 일산동구', '광명시'), ('고양시 일산동구', '광양시'), ('고양시 일산동구', '경주시'), ('고양시 일산동구', '경산시'), ('고양시 일산동구', '계룡시'), ('고양시 일산동구', '하남시'), ('고양시 일산동구', '화성시'), ('고양시 일산동구', '이천시'), ('고양시 일산동구', '익산시'), ('고양시 일산동구', '제천시'), ('고양시 일산동구', '제주시'), ('고양시 일산동구', '정읍시'), ('고양시 일산동구', '전주시 덕진구'), ('고양시 일산동구', '전주시 완산구'), ('고양시 일산동구', '진주시'), ('고양시 일산동구', '밀양시'), ('고양시 일산동구', '목포시'), ('고양시 일산동구', '문경시'), ('고양시 일산동구', '나주시'), ('고양시 일산동구', '남원시'), ('고양시 일산동구', '남양주시'), ('고양시 일산동구', '논산시'), ('고양시 일산동구', '오산시'), ('고양시 일산동구', '파주시'), ('고양시 일산동구', '포천시'), ('고양시 일산동구', '포항시 북구'), ('고양시 일산동구', '포항시 남구'), ('고양시 일산동구', '평택시'), ('고양시 일산동구', '사천시'), ('고양시 일산동구', '삼척시'), ('고양시 일산동구', '상주시'), ('고양시 일산동구', '서귀포시'), ('고양시 일산동구', '성남시 분당구'), ('고양시 일산동구', '성남시 중원구'), ('고양시 일산동구', '성남시 수정구'), ('고양시 일산동구', '서산시'), ('고양시 일산동구', '시흥시'), ('고양시 일산동구', '속초시'), ('고양시 일산동구', '순천시'), ('고양시 일산동구', '수원시 권선구'), ('고양시 일산동구', '수원시 장안구'), ('고양시 일산동구', '수원시 팔달구'), ('고양시 일산동구', '수원시 영통구'), ('고양시 일산동구', '태백시'), ('고양시 일산동구', '통영시'), ('고양시 일산동구', '의정부시'), ('고양시 일산동구', '의왕시'), ('고양시 일산동구', '원주시'), ('고양시 일산동구', '양주시'), ('고양시 일산동구', '양산시'), ('고양시 일산동구', '여주시'), ('고양시 일산동구', '영천시'), ('고양시 일산동구', '영주시'), ('고양시 일산동구', '여수시'), ('고양시 일산동구', '용인시 처인구'), ('고양시 일산동구', '용인시 기흥구'), ('고양시 일산동구', '용인시 수지구'), ('고양시 일산서구', '고양시 일산서구'), ('고양시 일산서구', '구미시'), ('고양시 일산서구', '군포시'), ('고양시 일산서구', '군산시'), ('고양시 일산서구', '구리시'), ('고양시 일산서구', '과천시'), ('고양시 일산서구', '광주시'), ('고양시 일산서구', '광명시'), ('고양시 일산서구', '광양시'), ('고양시 일산서구', '경주시'), ('고양시 일산서구', '경산시'), ('고양시 일산서구', '계룡시'), ('고양시 일산서구', '하남시'), ('고양시 일산서구', '화성시'), ('고양시 일산서구', '이천시'), ('고양시 일산서구', '익산시'), ('고양시 일산서구', '제천시'), ('고양시 일산서구', '제주시'), ('고양시 일산서구', '정읍시'), ('고양시 일산서구', '전주시 덕진구'), ('고양시 일산서구', '전주시 완산구'), ('고양시 일산서구', '진주시'), ('고양시 일산서구', '밀양시'), ('고양시 일산서구', '목포시'), ('고양시 일산서구', '문경시'), ('고양시 일산서구', '나주시'), ('고양시 일산서구', '남원시'), ('고양시 일산서구', '남양주시'), ('고양시 일산서구', '논산시'), ('고양시 일산서구', '오산시'), ('고양시 일산서구', '파주시'), ('고양시 일산서구', '포천시'), ('고양시 일산서구', '포항시 북구'), ('고양시 일산서구', '포항시 남구'), ('고양시 일산서구', '평택시'), ('고양시 일산서구', '사천시'), ('고양시 일산서구', '삼척시'), ('고양시 일산서구', '상주시'), ('고양시 일산서구', '서귀포시'), ('고양시 일산서구', '성남시 분당구'), ('고양시 일산서구', '성남시 중원구'), ('고양시 일산서구', '성남시 수정구'), ('고양시 일산서구', '서산시'), ('고양시 일산서구', '시흥시'), ('고양시 일산서구', '속초시'), ('고양시 일산서구', '순천시'), ('고양시 일산서구', '수원시 권선구'), ('고양시 일산서구', '수원시 장안구'), ('고양시 일산서구', '수원시 팔달구'), ('고양시 일산서구', '수원시 영통구'), ('고양시 일산서구', '태백시'), ('고양시 일산서구', '통영시'), ('고양시 일산서구', '의정부시'), ('고양시 일산서구', '의왕시'), ('고양시 일산서구', '원주시'), ('고양시 일산서구', '양주시'), ('고양시 일산서구', '양산시'), ('고양시 일산서구', '여주시'), ('고양시 일산서구', '영천시'), ('고양시 일산서구', '영주시'), ('고양시 일산서구', '여수시'), ('고양시 일산서구', '용인시 처인구'), ('고양시 일산서구', '용인시 기흥구'), ('고양시 일산서구', '용인시 수지구'), ('구미시', '구미시'), ('구미시', '군포시'), ('구미시', '군산시'), ('구미시', '구리시'), ('구미시', '과천시'), ('구미시', '광주시'), ('구미시', '광명시'), ('구미시', '광양시'), ('구미시', '경주시'), ('구미시', '경산시'), ('구미시', '계룡시'), ('구미시', '하남시'), ('구미시', '화성시'), ('구미시', '이천시'), ('구미시', '익산시'), ('구미시', '제천시'), ('구미시', '제주시'), ('구미시', '정읍시'), ('구미시', '전주시 덕진구'), ('구미시', '전주시 완산구'), ('구미시', '진주시'), ('구미시', '밀양시'), ('구미시', '목포시'), ('구미시', '문경시'), ('구미시', '나주시'), ('구미시', '남원시'), ('구미시', '남양주시'), ('구미시', '논산시'), ('구미시', '오산시'), ('구미시', '파주시'), ('구미시', '포천시'), ('구미시', '포항시 북구'), ('구미시', '포항시 남구'), ('구미시', '평택시'), ('구미시', '사천시'), ('구미시', '삼척시'), ('구미시', '상주시'), ('구미시', '서귀포시'), ('구미시', '성남시 분당구'), ('구미시', '성남시 중원구'), ('구미시', '성남시 수정구'), ('구미시', '서산시'), ('구미시', '시흥시'), ('구미시', '속초시'), ('구미시', '순천시'), ('구미시', '수원시 권선구'), ('구미시', '수원시 장안구'), ('구미시', '수원시 팔달구'), ('구미시', '수원시 영통구'), ('구미시', '태백시'), ('구미시', '통영시'), ('구미시', '의정부시'), ('구미시', '의왕시'), ('구미시', '원주시'), ('구미시', '양주시'), ('구미시', '양산시'), ('구미시', '여주시'), ('구미시', '영천시'), ('구미시', '영주시'), ('구미시', '여수시'), ('구미시', '용인시 처인구'), ('구미시', '용인시 기흥구'), ('구미시', '용인시 수지구'), ('군포시', '군포시'), ('군포시', '군산시'), ('군포시', '구리시'), ('군포시', '과천시'), ('군포시', '광주시'), ('군포시', '광명시'), ('군포시', '광양시'), ('군포시', '경주시'), ('군포시', '경산시'), ('군포시', '계룡시'), ('군포시', '하남시'), ('군포시', '화성시'), ('군포시', '이천시'), ('군포시', '익산시'), ('군포시', '제천시'), ('군포시', '제주시'), ('군포시', '정읍시'), ('군포시', '전주시 덕진구'), ('군포시', '전주시 완산구'), ('군포시', '진주시'), ('군포시', '밀양시'), ('군포시', '목포시'), ('군포시', '문경시'), ('군포시', '나주시'), ('군포시', '남원시'), ('군포시', '남양주시'), ('군포시', '논산시'), ('군포시', '오산시'), ('군포시', '파주시'), ('군포시', '포천시'), ('군포시', '포항시 북구'), ('군포시', '포항시 남구'), ('군포시', '평택시'), ('군포시', '사천시'), ('군포시', '삼척시'), ('군포시', '상주시'), ('군포시', '서귀포시'), ('군포시', '성남시 분당구'), ('군포시', '성남시 중원구'), ('군포시', '성남시 수정구'), ('군포시', '서산시'), ('군포시', '시흥시'), ('군포시', '속초시'), ('군포시', '순천시'), ('군포시', '수원시 권선구'), ('군포시', '수원시 장안구'), ('군포시', '수원시 팔달구'), ('군포시', '수원시 영통구'), ('군포시', '태백시'), ('군포시', '통영시'), ('군포시', '의정부시'), ('군포시', '의왕시'), ('군포시', '원주시'), ('군포시', '양주시'), ('군포시', '양산시'), ('군포시', '여주시'), ('군포시', '영천시'), ('군포시', '영주시'), ('군포시', '여수시'), ('군포시', '용인시 처인구'), ('군포시', '용인시 기흥구'), ('군포시', '용인시 수지구'), ('군산시', '군산시'), ('군산시', '구리시'), ('군산시', '과천시'), ('군산시', '광주시'), ('군산시', '광명시'), ('군산시', '광양시'), ('군산시', '경주시'), ('군산시', '경산시'), ('군산시', '계룡시'), ('군산시', '하남시'), ('군산시', '화성시'), ('군산시', '이천시'), ('군산시', '익산시'), ('군산시', '제천시'), ('군산시', '제주시'), ('군산시', '정읍시'), ('군산시', '전주시 덕진구'), ('군산시', '전주시 완산구'), ('군산시', '진주시'), ('군산시', '밀양시'), ('군산시', '목포시'), ('군산시', '문경시'), ('군산시', '나주시'), ('군산시', '남원시'), ('군산시', '남양주시'), ('군산시', '논산시'), ('군산시', '오산시'), ('군산시', '파주시'), ('군산시', '포천시'), ('군산시', '포항시 북구'), ('군산시', '포항시 남구'), ('군산시', '평택시'), ('군산시', '사천시'), ('군산시', '삼척시'), ('군산시', '상주시'), ('군산시', '서귀포시'), ('군산시', '성남시 분당구'), ('군산시', '성남시 중원구'), ('군산시', '성남시 수정구'), ('군산시', '서산시'), ('군산시', '시흥시'), ('군산시', '속초시'), ('군산시', '순천시'), ('군산시', '수원시 권선구'), ('군산시', '수원시 장안구'), ('군산시', '수원시 팔달구'), ('군산시', '수원시 영통구'), ('군산시', '태백시'), ('군산시', '통영시'), ('군산시', '의정부시'), ('군산시', '의왕시'), ('군산시', '원주시'), ('군산시', '양주시'), ('군산시', '양산시'), ('군산시', '여주시'), ('군산시', '영천시'), ('군산시', '영주시'), ('군산시', '여수시'), ('군산시', '용인시 처인구'), ('군산시', '용인시 기흥구'), ('군산시', '용인시 수지구'), ('구리시', '구리시'), ('구리시', '과천시'), ('구리시', '광주시'), ('구리시', '광명시'), ('구리시', '광양시'), ('구리시', '경주시'), ('구리시', '경산시'), ('구리시', '계룡시'), ('구리시', '하남시'), ('구리시', '화성시'), ('구리시', '이천시'), ('구리시', '익산시'), ('구리시', '제천시'), ('구리시', '제주시'), ('구리시', '정읍시'), ('구리시', '전주시 덕진구'), ('구리시', '전주시 완산구'), ('구리시', '진주시'), ('구리시', '밀양시'), ('구리시', '목포시'), ('구리시', '문경시'), ('구리시', '나주시'), ('구리시', '남원시'), ('구리시', '남양주시'), ('구리시', '논산시'), ('구리시', '오산시'), ('구리시', '파주시'), ('구리시', '포천시'), ('구리시', '포항시 북구'), ('구리시', '포항시 남구'), ('구리시', '평택시'), ('구리시', '사천시'), ('구리시', '삼척시'), ('구리시', '상주시'), ('구리시', '서귀포시'), ('구리시', '성남시 분당구'), ('구리시', '성남시 중원구'), ('구리시', '성남시 수정구'), ('구리시', '서산시'), ('구리시', '시흥시'), ('구리시', '속초시'), ('구리시', '순천시'), ('구리시', '수원시 권선구'), ('구리시', '수원시 장안구'), ('구리시', '수원시 팔달구'), ('구리시', '수원시 영통구'), ('구리시', '태백시'), ('구리시', '통영시'), ('구리시', '의정부시'), ('구리시', '의왕시'), ('구리시', '원주시'), ('구리시', '양주시'), ('구리시', '양산시'), ('구리시', '여주시'), ('구리시', '영천시'), ('구리시', '영주시'), ('구리시', '여수시'), ('구리시', '용인시 처인구'), ('구리시', '용인시 기흥구'), ('구리시', '용인시 수지구'), ('과천시', '과천시'), ('과천시', '광주시'), ('과천시', '광명시'), ('과천시', '광양시'), ('과천시', '경주시'), ('과천시', '경산시'), ('과천시', '계룡시'), ('과천시', '하남시'), ('과천시', '화성시'), ('과천시', '이천시'), ('과천시', '익산시'), ('과천시', '제천시'), ('과천시', '제주시'), ('과천시', '정읍시'), ('과천시', '전주시 덕진구'), ('과천시', '전주시 완산구'), ('과천시', '진주시'), ('과천시', '밀양시'), ('과천시', '목포시'), ('과천시', '문경시'), ('과천시', '나주시'), ('과천시', '남원시'), ('과천시', '남양주시'), ('과천시', '논산시'), ('과천시', '오산시'), ('과천시', '파주시'), ('과천시', '포천시'), ('과천시', '포항시 북구'), ('과천시', '포항시 남구'), ('과천시', '평택시'), ('과천시', '사천시'), ('과천시', '삼척시'), ('과천시', '상주시'), ('과천시', '서귀포시'), ('과천시', '성남시 분당구'), ('과천시', '성남시 중원구'), ('과천시', '성남시 수정구'), ('과천시', '서산시'), ('과천시', '시흥시'), ('과천시', '속초시'), ('과천시', '순천시'), ('과천시', '수원시 권선구'), ('과천시', '수원시 장안구'), ('과천시', '수원시 팔달구'), ('과천시', '수원시 영통구'), ('과천시', '태백시'), ('과천시', '통영시'), ('과천시', '의정부시'), ('과천시', '의왕시'), ('과천시', '원주시'), ('과천시', '양주시'), ('과천시', '양산시'), ('과천시', '여주시'), ('과천시', '영천시'), ('과천시', '영주시'), ('과천시', '여수시'), ('과천시', '용인시 처인구'), ('과천시', '용인시 기흥구'), ('과천시', '용인시 수지구'), ('광주시', '광주시'), ('광주시', '광명시'), ('광주시', '광양시'), ('광주시', '경주시'), ('광주시', '경산시'), ('광주시', '계룡시'), ('광주시', '하남시'), ('광주시', '화성시'), ('광주시', '이천시'), ('광주시', '익산시'), ('광주시', '제천시'), ('광주시', '제주시'), ('광주시', '정읍시'), ('광주시', '전주시 덕진구'), ('광주시', '전주시 완산구'), ('광주시', '진주시'), ('광주시', '밀양시'), ('광주시', '목포시'), ('광주시', '문경시'), ('광주시', '나주시'), ('광주시', '남원시'), ('광주시', '남양주시'), ('광주시', '논산시'), ('광주시', '오산시'), ('광주시', '파주시'), ('광주시', '포천시'), ('광주시', '포항시 북구'), ('광주시', '포항시 남구'), ('광주시', '평택시'), ('광주시', '사천시'), ('광주시', '삼척시'), ('광주시', '상주시'), ('광주시', '서귀포시'), ('광주시', '성남시 분당구'), ('광주시', '성남시 중원구'), ('광주시', '성남시 수정구'), ('광주시', '서산시'), ('광주시', '시흥시'), ('광주시', '속초시'), ('광주시', '순천시'), ('광주시', '수원시 권선구'), ('광주시', '수원시 장안구'), ('광주시', '수원시 팔달구'), ('광주시', '수원시 영통구'), ('광주시', '태백시'), ('광주시', '통영시'), ('광주시', '의정부시'), ('광주시', '의왕시'), ('광주시', '원주시'), ('광주시', '양주시'), ('광주시', '양산시'), ('광주시', '여주시'), ('광주시', '영천시'), ('광주시', '영주시'), ('광주시', '여수시'), ('광주시', '용인시 처인구'), ('광주시', '용인시 기흥구'), ('광주시', '용인시 수지구'), ('광명시', '광명시'), ('광명시', '광양시'), ('광명시', '경주시'), ('광명시', '경산시'), ('광명시', '계룡시'), ('광명시', '하남시'), ('광명시', '화성시'), ('광명시', '이천시'), ('광명시', '익산시'), ('광명시', '제천시'), ('광명시', '제주시'), ('광명시', '정읍시'), ('광명시', '전주시 덕진구'), ('광명시', '전주시 완산구'), ('광명시', '진주시'), ('광명시', '밀양시'), ('광명시', '목포시'), ('광명시', '문경시'), ('광명시', '나주시'), ('광명시', '남원시'), ('광명시', '남양주시'), ('광명시', '논산시'), ('광명시', '오산시'), ('광명시', '파주시'), ('광명시', '포천시'), ('광명시', '포항시 북구'), ('광명시', '포항시 남구'), ('광명시', '평택시'), ('광명시', '사천시'), ('광명시', '삼척시'), ('광명시', '상주시'), ('광명시', '서귀포시'), ('광명시', '성남시 분당구'), ('광명시', '성남시 중원구'), ('광명시', '성남시 수정구'), ('광명시', '서산시'), ('광명시', '시흥시'), ('광명시', '속초시'), ('광명시', '순천시'), ('광명시', '수원시 권선구'), ('광명시', '수원시 장안구'), ('광명시', '수원시 팔달구'), ('광명시', '수원시 영통구'), ('광명시', '태백시'), ('광명시', '통영시'), ('광명시', '의정부시'), ('광명시', '의왕시'), ('광명시', '원주시'), ('광명시', '양주시'), ('광명시', '양산시'), ('광명시', '여주시'), ('광명시', '영천시'), ('광명시', '영주시'), ('광명시', '여수시'), ('광명시', '용인시 처인구'), ('광명시', '용인시 기흥구'), ('광명시', '용인시 수지구'), ('광양시', '광양시'), ('광양시', '경주시'), ('광양시', '경산시'), ('광양시', '계룡시'), ('광양시', '하남시'), ('광양시', '화성시'), ('광양시', '이천시'), ('광양시', '익산시'), ('광양시', '제천시'), ('광양시', '제주시'), ('광양시', '정읍시'), ('광양시', '전주시 덕진구'), ('광양시', '전주시 완산구'), ('광양시', '진주시'), ('광양시', '밀양시'), ('광양시', '목포시'), ('광양시', '문경시'), ('광양시', '나주시'), ('광양시', '남원시'), ('광양시', '남양주시'), ('광양시', '논산시'), ('광양시', '오산시'), ('광양시', '파주시'), ('광양시', '포천시'), ('광양시', '포항시 북구'), ('광양시', '포항시 남구'), ('광양시', '평택시'), ('광양시', '사천시'), ('광양시', '삼척시'), ('광양시', '상주시'), ('광양시', '서귀포시'), ('광양시', '성남시 분당구'), ('광양시', '성남시 중원구'), ('광양시', '성남시 수정구'), ('광양시', '서산시'), ('광양시', '시흥시'), ('광양시', '속초시'), ('광양시', '순천시'), ('광양시', '수원시 권선구'), ('광양시', '수원시 장안구'), ('광양시', '수원시 팔달구'), ('광양시', '수원시 영통구'), ('광양시', '태백시'), ('광양시', '통영시'), ('광양시', '의정부시'), ('광양시', '의왕시'), ('광양시', '원주시'), ('광양시', '양주시'), ('광양시', '양산시'), ('광양시', '여주시'), ('광양시', '영천시'), ('광양시', '영주시'), ('광양시', '여수시'), ('광양시', '용인시 처인구'), ('광양시', '용인시 기흥구'), ('광양시', '용인시 수지구'), ('경주시', '경주시'), ('경주시', '경산시'), ('경주시', '계룡시'), ('경주시', '하남시'), ('경주시', '화성시'), ('경주시', '이천시'), ('경주시', '익산시'), ('경주시', '제천시'), ('경주시', '제주시'), ('경주시', '정읍시'), ('경주시', '전주시 덕진구'), ('경주시', '전주시 완산구'), ('경주시', '진주시'), ('경주시', '밀양시'), ('경주시', '목포시'), ('경주시', '문경시'), ('경주시', '나주시'), ('경주시', '남원시'), ('경주시', '남양주시'), ('경주시', '논산시'), ('경주시', '오산시'), ('경주시', '파주시'), ('경주시', '포천시'), ('경주시', '포항시 북구'), ('경주시', '포항시 남구'), ('경주시', '평택시'), ('경주시', '사천시'), ('경주시', '삼척시'), ('경주시', '상주시'), ('경주시', '서귀포시'), ('경주시', '성남시 분당구'), ('경주시', '성남시 중원구'), ('경주시', '성남시 수정구'), ('경주시', '서산시'), ('경주시', '시흥시'), ('경주시', '속초시'), ('경주시', '순천시'), ('경주시', '수원시 권선구'), ('경주시', '수원시 장안구'), ('경주시', '수원시 팔달구'), ('경주시', '수원시 영통구'), ('경주시', '태백시'), ('경주시', '통영시'), ('경주시', '의정부시'), ('경주시', '의왕시'), ('경주시', '원주시'), ('경주시', '양주시'), ('경주시', '양산시'), ('경주시', '여주시'), ('경주시', '영천시'), ('경주시', '영주시'), ('경주시', '여수시'), ('경주시', '용인시 처인구'), ('경주시', '용인시 기흥구'), ('경주시', '용인시 수지구'), ('경산시', '경산시'), ('경산시', '계룡시'), ('경산시', '하남시'), ('경산시', '화성시'), ('경산시', '이천시'), ('경산시', '익산시'), ('경산시', '제천시'), ('경산시', '제주시'), ('경산시', '정읍시'), ('경산시', '전주시 덕진구'), ('경산시', '전주시 완산구'), ('경산시', '진주시'), ('경산시', '밀양시'), ('경산시', '목포시'), ('경산시', '문경시'), ('경산시', '나주시'), ('경산시', '남원시'), ('경산시', '남양주시'), ('경산시', '논산시'), ('경산시', '오산시'), ('경산시', '파주시'), ('경산시', '포천시'), ('경산시', '포항시 북구'), ('경산시', '포항시 남구'), ('경산시', '평택시'), ('경산시', '사천시'), ('경산시', '삼척시'), ('경산시', '상주시'), ('경산시', '서귀포시'), ('경산시', '성남시 분당구'), ('경산시', '성남시 중원구'), ('경산시', '성남시 수정구'), ('경산시', '서산시'), ('경산시', '시흥시'), ('경산시', '속초시'), ('경산시', '순천시'), ('경산시', '수원시 권선구'), ('경산시', '수원시 장안구'), ('경산시', '수원시 팔달구'), ('경산시', '수원시 영통구'), ('경산시', '태백시'), ('경산시', '통영시'), ('경산시', '의정부시'), ('경산시', '의왕시'), ('경산시', '원주시'), ('경산시', '양주시'), ('경산시', '양산시'), ('경산시', '여주시'), ('경산시', '영천시'), ('경산시', '영주시'), ('경산시', '여수시'), ('경산시', '용인시 처인구'), ('경산시', '용인시 기흥구'), ('경산시', '용인시 수지구'), ('계룡시', '계룡시'), ('계룡시', '하남시'), ('계룡시', '화성시'), ('계룡시', '이천시'), ('계룡시', '익산시'), ('계룡시', '제천시'), ('계룡시', '제주시'), ('계룡시', '정읍시'), ('계룡시', '전주시 덕진구'), ('계룡시', '전주시 완산구'), ('계룡시', '진주시'), ('계룡시', '밀양시'), ('계룡시', '목포시'), ('계룡시', '문경시'), ('계룡시', '나주시'), ('계룡시', '남원시'), ('계룡시', '남양주시'), ('계룡시', '논산시'), ('계룡시', '오산시'), ('계룡시', '파주시'), ('계룡시', '포천시'), ('계룡시', '포항시 북구'), ('계룡시', '포항시 남구'), ('계룡시', '평택시'), ('계룡시', '사천시'), ('계룡시', '삼척시'), ('계룡시', '상주시'), ('계룡시', '서귀포시'), ('계룡시', '성남시 분당구'), ('계룡시', '성남시 중원구'), ('계룡시', '성남시 수정구'), ('계룡시', '서산시'), ('계룡시', '시흥시'), ('계룡시', '속초시'), ('계룡시', '순천시'), ('계룡시', '수원시 권선구'), ('계룡시', '수원시 장안구'), ('계룡시', '수원시 팔달구'), ('계룡시', '수원시 영통구'), ('계룡시', '태백시'), ('계룡시', '통영시'), ('계룡시', '의정부시'), ('계룡시', '의왕시'), ('계룡시', '원주시'), ('계룡시', '양주시'), ('계룡시', '양산시'), ('계룡시', '여주시'), ('계룡시', '영천시'), ('계룡시', '영주시'), ('계룡시', '여수시'), ('계룡시', '용인시 처인구'), ('계룡시', '용인시 기흥구'), ('계룡시', '용인시 수지구'), ('하남시', '하남시'), ('하남시', '화성시'), ('하남시', '이천시'), ('하남시', '익산시'), ('하남시', '제천시'), ('하남시', '제주시'), ('하남시', '정읍시'), ('하남시', '전주시 덕진구'), ('하남시', '전주시 완산구'), ('하남시', '진주시'), ('하남시', '밀양시'), ('하남시', '목포시'), ('하남시', '문경시'), ('하남시', '나주시'), ('하남시', '남원시'), ('하남시', '남양주시'), ('하남시', '논산시'), ('하남시', '오산시'), ('하남시', '파주시'), ('하남시', '포천시'), ('하남시', '포항시 북구'), ('하남시', '포항시 남구'), ('하남시', '평택시'), ('하남시', '사천시'), ('하남시', '삼척시'), ('하남시', '상주시'), ('하남시', '서귀포시'), ('하남시', '성남시 분당구'), ('하남시', '성남시 중원구'), ('하남시', '성남시 수정구'), ('하남시', '서산시'), ('하남시', '시흥시'), ('하남시', '속초시'), ('하남시', '순천시'), ('하남시', '수원시 권선구'), ('하남시', '수원시 장안구'), ('하남시', '수원시 팔달구'), ('하남시', '수원시 영통구'), ('하남시', '태백시'), ('하남시', '통영시'), ('하남시', '의정부시'), ('하남시', '의왕시'), ('하남시', '원주시'), ('하남시', '양주시'), ('하남시', '양산시'), ('하남시', '여주시'), ('하남시', '영천시'), ('하남시', '영주시'), ('하남시', '여수시'), ('하남시', '용인시 처인구'), ('하남시', '용인시 기흥구'), ('하남시', '용인시 수지구'), ('화성시', '화성시'), ('화성시', '이천시'), ('화성시', '익산시'), ('화성시', '제천시'), ('화성시', '제주시'), ('화성시', '정읍시'), ('화성시', '전주시 덕진구'), ('화성시', '전주시 완산구'), ('화성시', '진주시'), ('화성시', '밀양시'), ('화성시', '목포시'), ('화성시', '문경시'), ('화성시', '나주시'), ('화성시', '남원시'), ('화성시', '남양주시'), ('화성시', '논산시'), ('화성시', '오산시'), ('화성시', '파주시'), ('화성시', '포천시'), ('화성시', '포항시 북구'), ('화성시', '포항시 남구'), ('화성시', '평택시'), ('화성시', '사천시'), ('화성시', '삼척시'), ('화성시', '상주시'), ('화성시', '서귀포시'), ('화성시', '성남시 분당구'), ('화성시', '성남시 중원구'), ('화성시', '성남시 수정구'), ('화성시', '서산시'), ('화성시', '시흥시'), ('화성시', '속초시'), ('화성시', '순천시'), ('화성시', '수원시 권선구'), ('화성시', '수원시 장안구'), ('화성시', '수원시 팔달구'), ('화성시', '수원시 영통구'), ('화성시', '태백시'), ('화성시', '통영시'), ('화성시', '의정부시'), ('화성시', '의왕시'), ('화성시', '원주시'), ('화성시', '양주시'), ('화성시', '양산시'), ('화성시', '여주시'), ('화성시', '영천시'), ('화성시', '영주시'), ('화성시', '여수시'), ('화성시', '용인시 처인구'), ('화성시', '용인시 기흥구'), ('화성시', '용인시 수지구'), ('이천시', '이천시'), ('이천시', '익산시'), ('이천시', '제천시'), ('이천시', '제주시'), ('이천시', '정읍시'), ('이천시', '전주시 덕진구'), ('이천시', '전주시 완산구'), ('이천시', '진주시'), ('이천시', '밀양시'), ('이천시', '목포시'), ('이천시', '문경시'), ('이천시', '나주시'), ('이천시', '남원시'), ('이천시', '남양주시'), ('이천시', '논산시'), ('이천시', '오산시'), ('이천시', '파주시'), ('이천시', '포천시'), ('이천시', '포항시 북구'), ('이천시', '포항시 남구'), ('이천시', '평택시'), ('이천시', '사천시'), ('이천시', '삼척시'), ('이천시', '상주시'), ('이천시', '서귀포시'), ('이천시', '성남시 분당구'), ('이천시', '성남시 중원구'), ('이천시', '성남시 수정구'), ('이천시', '서산시'), ('이천시', '시흥시'), ('이천시', '속초시'), ('이천시', '순천시'), ('이천시', '수원시 권선구'), ('이천시', '수원시 장안구'), ('이천시', '수원시 팔달구'), ('이천시', '수원시 영통구'), ('이천시', '태백시'), ('이천시', '통영시'), ('이천시', '의정부시'), ('이천시', '의왕시'), ('이천시', '원주시'), ('이천시', '양주시'), ('이천시', '양산시'), ('이천시', '여주시'), ('이천시', '영천시'), ('이천시', '영주시'), ('이천시', '여수시'), ('이천시', '용인시 처인구'), ('이천시', '용인시 기흥구'), ('이천시', '용인시 수지구'), ('익산시', '익산시'), ('익산시', '제천시'), ('익산시', '제주시'), ('익산시', '정읍시'), ('익산시', '전주시 덕진구'), ('익산시', '전주시 완산구'), ('익산시', '진주시'), ('익산시', '밀양시'), ('익산시', '목포시'), ('익산시', '문경시'), ('익산시', '나주시'), ('익산시', '남원시'), ('익산시', '남양주시'), ('익산시', '논산시'), ('익산시', '오산시'), ('익산시', '파주시'), ('익산시', '포천시'), ('익산시', '포항시 북구'), ('익산시', '포항시 남구'), ('익산시', '평택시'), ('익산시', '사천시'), ('익산시', '삼척시'), ('익산시', '상주시'), ('익산시', '서귀포시'), ('익산시', '성남시 분당구'), ('익산시', '성남시 중원구'), ('익산시', '성남시 수정구'), ('익산시', '서산시'), ('익산시', '시흥시'), ('익산시', '속초시'), ('익산시', '순천시'), ('익산시', '수원시 권선구'), ('익산시', '수원시 장안구'), ('익산시', '수원시 팔달구'), ('익산시', '수원시 영통구'), ('익산시', '태백시'), ('익산시', '통영시'), ('익산시', '의정부시'), ('익산시', '의왕시'), ('익산시', '원주시'), ('익산시', '양주시'), ('익산시', '양산시'), ('익산시', '여주시'), ('익산시', '영천시'), ('익산시', '영주시'), ('익산시', '여수시'), ('익산시', '용인시 처인구'), ('익산시', '용인시 기흥구'), ('익산시', '용인시 수지구'), ('제천시', '제천시'), ('제천시', '제주시'), ('제천시', '정읍시'), ('제천시', '전주시 덕진구'), ('제천시', '전주시 완산구'), ('제천시', '진주시'), ('제천시', '밀양시'), ('제천시', '목포시'), ('제천시', '문경시'), ('제천시', '나주시'), ('제천시', '남원시'), ('제천시', '남양주시'), ('제천시', '논산시'), ('제천시', '오산시'), ('제천시', '파주시'), ('제천시', '포천시'), ('제천시', '포항시 북구'), ('제천시', '포항시 남구'), ('제천시', '평택시'), ('제천시', '사천시'), ('제천시', '삼척시'), ('제천시', '상주시'), ('제천시', '서귀포시'), ('제천시', '성남시 분당구'), ('제천시', '성남시 중원구'), ('제천시', '성남시 수정구'), ('제천시', '서산시'), ('제천시', '시흥시'), ('제천시', '속초시'), ('제천시', '순천시'), ('제천시', '수원시 권선구'), ('제천시', '수원시 장안구'), ('제천시', '수원시 팔달구'), ('제천시', '수원시 영통구'), ('제천시', '태백시'), ('제천시', '통영시'), ('제천시', '의정부시'), ('제천시', '의왕시'), ('제천시', '원주시'), ('제천시', '양주시'), ('제천시', '양산시'), ('제천시', '여주시'), ('제천시', '영천시'), ('제천시', '영주시'), ('제천시', '여수시'), ('제천시', '용인시 처인구'), ('제천시', '용인시 기흥구'), ('제천시', '용인시 수지구'), ('제주시', '제주시'), ('제주시', '정읍시'), ('제주시', '전주시 덕진구'), ('제주시', '전주시 완산구'), ('제주시', '진주시'), ('제주시', '밀양시'), ('제주시', '목포시'), ('제주시', '문경시'), ('제주시', '나주시'), ('제주시', '남원시'), ('제주시', '남양주시'), ('제주시', '논산시'), ('제주시', '오산시'), ('제주시', '파주시'), ('제주시', '포천시'), ('제주시', '포항시 북구'), ('제주시', '포항시 남구'), ('제주시', '평택시'), ('제주시', '사천시'), ('제주시', '삼척시'), ('제주시', '상주시'), ('제주시', '서귀포시'), ('제주시', '성남시 분당구'), ('제주시', '성남시 중원구'), ('제주시', '성남시 수정구'), ('제주시', '서산시'), ('제주시', '시흥시'), ('제주시', '속초시'), ('제주시', '순천시'), ('제주시', '수원시 권선구'), ('제주시', '수원시 장안구'), ('제주시', '수원시 팔달구'), ('제주시', '수원시 영통구'), ('제주시', '태백시'), ('제주시', '통영시'), ('제주시', '의정부시'), ('제주시', '의왕시'), ('제주시', '원주시'), ('제주시', '양주시'), ('제주시', '양산시'), ('제주시', '여주시'), ('제주시', '영천시'), ('제주시', '영주시'), ('제주시', '여수시'), ('제주시', '용인시 처인구'), ('제주시', '용인시 기흥구'), ('제주시', '용인시 수지구'), ('정읍시', '정읍시'), ('정읍시', '전주시 덕진구'), ('정읍시', '전주시 완산구'), ('정읍시', '진주시'), ('정읍시', '밀양시'), ('정읍시', '목포시'), ('정읍시', '문경시'), ('정읍시', '나주시'), ('정읍시', '남원시'), ('정읍시', '남양주시'), ('정읍시', '논산시'), ('정읍시', '오산시'), ('정읍시', '파주시'), ('정읍시', '포천시'), ('정읍시', '포항시 북구'), ('정읍시', '포항시 남구'), ('정읍시', '평택시'), ('정읍시', '사천시'), ('정읍시', '삼척시'), ('정읍시', '상주시'), ('정읍시', '서귀포시'), ('정읍시', '성남시 분당구'), ('정읍시', '성남시 중원구'), ('정읍시', '성남시 수정구'), ('정읍시', '서산시'), ('정읍시', '시흥시'), ('정읍시', '속초시'), ('정읍시', '순천시'), ('정읍시', '수원시 권선구'), ('정읍시', '수원시 장안구'), ('정읍시', '수원시 팔달구'), ('정읍시', '수원시 영통구'), ('정읍시', '태백시'), ('정읍시', '통영시'), ('정읍시', '의정부시'), ('정읍시', '의왕시'), ('정읍시', '원주시'), ('정읍시', '양주시'), ('정읍시', '양산시'), ('정읍시', '여주시'), ('정읍시', '영천시'), ('정읍시', '영주시'), ('정읍시', '여수시'), ('정읍시', '용인시 처인구'), ('정읍시', '용인시 기흥구'), ('정읍시', '용인시 수지구'), ('전주시 덕진구', '전주시 덕진구'), ('전주시 덕진구', '전주시 완산구'), ('전주시 덕진구', '진주시'), ('전주시 덕진구', '밀양시'), ('전주시 덕진구', '목포시'), ('전주시 덕진구', '문경시'), ('전주시 덕진구', '나주시'), ('전주시 덕진구', '남원시'), ('전주시 덕진구', '남양주시'), ('전주시 덕진구', '논산시'), ('전주시 덕진구', '오산시'), ('전주시 덕진구', '파주시'), ('전주시 덕진구', '포천시'), ('전주시 덕진구', '포항시 북구'), ('전주시 덕진구', '포항시 남구'), ('전주시 덕진구', '평택시'), ('전주시 덕진구', '사천시'), ('전주시 덕진구', '삼척시'), ('전주시 덕진구', '상주시'), ('전주시 덕진구', '서귀포시'), ('전주시 덕진구', '성남시 분당구'), ('전주시 덕진구', '성남시 중원구'), ('전주시 덕진구', '성남시 수정구'), ('전주시 덕진구', '서산시'), ('전주시 덕진구', '시흥시'), ('전주시 덕진구', '속초시'), ('전주시 덕진구', '순천시'), ('전주시 덕진구', '수원시 권선구'), ('전주시 덕진구', '수원시 장안구'), ('전주시 덕진구', '수원시 팔달구'), ('전주시 덕진구', '수원시 영통구'), ('전주시 덕진구', '태백시'), ('전주시 덕진구', '통영시'), ('전주시 덕진구', '의정부시'), ('전주시 덕진구', '의왕시'), ('전주시 덕진구', '원주시'), ('전주시 덕진구', '양주시'), ('전주시 덕진구', '양산시'), ('전주시 덕진구', '여주시'), ('전주시 덕진구', '영천시'), ('전주시 덕진구', '영주시'), ('전주시 덕진구', '여수시'), ('전주시 덕진구', '용인시 처인구'), ('전주시 덕진구', '용인시 기흥구'), ('전주시 덕진구', '용인시 수지구'), ('전주시 완산구', '전주시 완산구'), ('전주시 완산구', '진주시'), ('전주시 완산구', '밀양시'), ('전주시 완산구', '목포시'), ('전주시 완산구', '문경시'), ('전주시 완산구', '나주시'), ('전주시 완산구', '남원시'), ('전주시 완산구', '남양주시'), ('전주시 완산구', '논산시'), ('전주시 완산구', '오산시'), ('전주시 완산구', '파주시'), ('전주시 완산구', '포천시'), ('전주시 완산구', '포항시 북구'), ('전주시 완산구', '포항시 남구'), ('전주시 완산구', '평택시'), ('전주시 완산구', '사천시'), ('전주시 완산구', '삼척시'), ('전주시 완산구', '상주시'), ('전주시 완산구', '서귀포시'), ('전주시 완산구', '성남시 분당구'), ('전주시 완산구', '성남시 중원구'), ('전주시 완산구', '성남시 수정구'), ('전주시 완산구', '서산시'), ('전주시 완산구', '시흥시'), ('전주시 완산구', '속초시'), ('전주시 완산구', '순천시'), ('전주시 완산구', '수원시 권선구'), ('전주시 완산구', '수원시 장안구'), ('전주시 완산구', '수원시 팔달구'), ('전주시 완산구', '수원시 영통구'), ('전주시 완산구', '태백시'), ('전주시 완산구', '통영시'), ('전주시 완산구', '의정부시'), ('전주시 완산구', '의왕시'), ('전주시 완산구', '원주시'), ('전주시 완산구', '양주시'), ('전주시 완산구', '양산시'), ('전주시 완산구', '여주시'), ('전주시 완산구', '영천시'), ('전주시 완산구', '영주시'), ('전주시 완산구', '여수시'), ('전주시 완산구', '용인시 처인구'), ('전주시 완산구', '용인시 기흥구'), ('전주시 완산구', '용인시 수지구'), ('진주시', '진주시'), ('진주시', '밀양시'), ('진주시', '목포시'), ('진주시', '문경시'), ('진주시', '나주시'), ('진주시', '남원시'), ('진주시', '남양주시'), ('진주시', '논산시'), ('진주시', '오산시'), ('진주시', '파주시'), ('진주시', '포천시'), ('진주시', '포항시 북구'), ('진주시', '포항시 남구'), ('진주시', '평택시'), ('진주시', '사천시'), ('진주시', '삼척시'), ('진주시', '상주시'), ('진주시', '서귀포시'), ('진주시', '성남시 분당구'), ('진주시', '성남시 중원구'), ('진주시', '성남시 수정구'), ('진주시', '서산시'), ('진주시', '시흥시'), ('진주시', '속초시'), ('진주시', '순천시'), ('진주시', '수원시 권선구'), ('진주시', '수원시 장안구'), ('진주시', '수원시 팔달구'), ('진주시', '수원시 영통구'), ('진주시', '태백시'), ('진주시', '통영시'), ('진주시', '의정부시'), ('진주시', '의왕시'), ('진주시', '원주시'), ('진주시', '양주시'), ('진주시', '양산시'), ('진주시', '여주시'), ('진주시', '영천시'), ('진주시', '영주시'), ('진주시', '여수시'), ('진주시', '용인시 처인구'), ('진주시', '용인시 기흥구'), ('진주시', '용인시 수지구'), ('밀양시', '밀양시'), ('밀양시', '목포시'), ('밀양시', '문경시'), ('밀양시', '나주시'), ('밀양시', '남원시'), ('밀양시', '남양주시'), ('밀양시', '논산시'), ('밀양시', '오산시'), ('밀양시', '파주시'), ('밀양시', '포천시'), ('밀양시', '포항시 북구'), ('밀양시', '포항시 남구'), ('밀양시', '평택시'), ('밀양시', '사천시'), ('밀양시', '삼척시'), ('밀양시', '상주시'), ('밀양시', '서귀포시'), ('밀양시', '성남시 분당구'), ('밀양시', '성남시 중원구'), ('밀양시', '성남시 수정구'), ('밀양시', '서산시'), ('밀양시', '시흥시'), ('밀양시', '속초시'), ('밀양시', '순천시'), ('밀양시', '수원시 권선구'), ('밀양시', '수원시 장안구'), ('밀양시', '수원시 팔달구'), ('밀양시', '수원시 영통구'), ('밀양시', '태백시'), ('밀양시', '통영시'), ('밀양시', '의정부시'), ('밀양시', '의왕시'), ('밀양시', '원주시'), ('밀양시', '양주시'), ('밀양시', '양산시'), ('밀양시', '여주시'), ('밀양시', '영천시'), ('밀양시', '영주시'), ('밀양시', '여수시'), ('밀양시', '용인시 처인구'), ('밀양시', '용인시 기흥구'), ('밀양시', '용인시 수지구'), ('목포시', '목포시'), ('목포시', '문경시'), ('목포시', '나주시'), ('목포시', '남원시'), ('목포시', '남양주시'), ('목포시', '논산시'), ('목포시', '오산시'), ('목포시', '파주시'), ('목포시', '포천시'), ('목포시', '포항시 북구'), ('목포시', '포항시 남구'), ('목포시', '평택시'), ('목포시', '사천시'), ('목포시', '삼척시'), ('목포시', '상주시'), ('목포시', '서귀포시'), ('목포시', '성남시 분당구'), ('목포시', '성남시 중원구'), ('목포시', '성남시 수정구'), ('목포시', '서산시'), ('목포시', '시흥시'), ('목포시', '속초시'), ('목포시', '순천시'), ('목포시', '수원시 권선구'), ('목포시', '수원시 장안구'), ('목포시', '수원시 팔달구'), ('목포시', '수원시 영통구'), ('목포시', '태백시'), ('목포시', '통영시'), ('목포시', '의정부시'), ('목포시', '의왕시'), ('목포시', '원주시'), ('목포시', '양주시'), ('목포시', '양산시'), ('목포시', '여주시'), ('목포시', '영천시'), ('목포시', '영주시'), ('목포시', '여수시'), ('목포시', '용인시 처인구'), ('목포시', '용인시 기흥구'), ('목포시', '용인시 수지구'), ('문경시', '문경시'), ('문경시', '나주시'), ('문경시', '남원시'), ('문경시', '남양주시'), ('문경시', '논산시'), ('문경시', '오산시'), ('문경시', '파주시'), ('문경시', '포천시'), ('문경시', '포항시 북구'), ('문경시', '포항시 남구'), ('문경시', '평택시'), ('문경시', '사천시'), ('문경시', '삼척시'), ('문경시', '상주시'), ('문경시', '서귀포시'), ('문경시', '성남시 분당구'), ('문경시', '성남시 중원구'), ('문경시', '성남시 수정구'), ('문경시', '서산시'), ('문경시', '시흥시'), ('문경시', '속초시'), ('문경시', '순천시'), ('문경시', '수원시 권선구'), ('문경시', '수원시 장안구'), ('문경시', '수원시 팔달구'), ('문경시', '수원시 영통구'), ('문경시', '태백시'), ('문경시', '통영시'), ('문경시', '의정부시'), ('문경시', '의왕시'), ('문경시', '원주시'), ('문경시', '양주시'), ('문경시', '양산시'), ('문경시', '여주시'), ('문경시', '영천시'), ('문경시', '영주시'), ('문경시', '여수시'), ('문경시', '용인시 처인구'), ('문경시', '용인시 기흥구'), ('문경시', '용인시 수지구'), ('나주시', '나주시'), ('나주시', '남원시'), ('나주시', '남양주시'), ('나주시', '논산시'), ('나주시', '오산시'), ('나주시', '파주시'), ('나주시', '포천시'), ('나주시', '포항시 북구'), ('나주시', '포항시 남구'), ('나주시', '평택시'), ('나주시', '사천시'), ('나주시', '삼척시'), ('나주시', '상주시'), ('나주시', '서귀포시'), ('나주시', '성남시 분당구'), ('나주시', '성남시 중원구'), ('나주시', '성남시 수정구'), ('나주시', '서산시'), ('나주시', '시흥시'), ('나주시', '속초시'), ('나주시', '순천시'), ('나주시', '수원시 권선구'), ('나주시', '수원시 장안구'), ('나주시', '수원시 팔달구'), ('나주시', '수원시 영통구'), ('나주시', '태백시'), ('나주시', '통영시'), ('나주시', '의정부시'), ('나주시', '의왕시'), ('나주시', '원주시'), ('나주시', '양주시'), ('나주시', '양산시'), ('나주시', '여주시'), ('나주시', '영천시'), ('나주시', '영주시'), ('나주시', '여수시'), ('나주시', '용인시 처인구'), ('나주시', '용인시 기흥구'), ('나주시', '용인시 수지구'), ('남원시', '남원시'), ('남원시', '남양주시'), ('남원시', '논산시'), ('남원시', '오산시'), ('남원시', '파주시'), ('남원시', '포천시'), ('남원시', '포항시 북구'), ('남원시', '포항시 남구'), ('남원시', '평택시'), ('남원시', '사천시'), ('남원시', '삼척시'), ('남원시', '상주시'), ('남원시', '서귀포시'), ('남원시', '성남시 분당구'), ('남원시', '성남시 중원구'), ('남원시', '성남시 수정구'), ('남원시', '서산시'), ('남원시', '시흥시'), ('남원시', '속초시'), ('남원시', '순천시'), ('남원시', '수원시 권선구'), ('남원시', '수원시 장안구'), ('남원시', '수원시 팔달구'), ('남원시', '수원시 영통구'), ('남원시', '태백시'), ('남원시', '통영시'), ('남원시', '의정부시'), ('남원시', '의왕시'), ('남원시', '원주시'), ('남원시', '양주시'), ('남원시', '양산시'), ('남원시', '여주시'), ('남원시', '영천시'), ('남원시', '영주시'), ('남원시', '여수시'), ('남원시', '용인시 처인구'), ('남원시', '용인시 기흥구'), ('남원시', '용인시 수지구'), ('남양주시', '남양주시'), ('남양주시', '논산시'), ('남양주시', '오산시'), ('남양주시', '파주시'), ('남양주시', '포천시'), ('남양주시', '포항시 북구'), ('남양주시', '포항시 남구'), ('남양주시', '평택시'), ('남양주시', '사천시'), ('남양주시', '삼척시'), ('남양주시', '상주시'), ('남양주시', '서귀포시'), ('남양주시', '성남시 분당구'), ('남양주시', '성남시 중원구'), ('남양주시', '성남시 수정구'), ('남양주시', '서산시'), ('남양주시', '시흥시'), ('남양주시', '속초시'), ('남양주시', '순천시'), ('남양주시', '수원시 권선구'), ('남양주시', '수원시 장안구'), ('남양주시', '수원시 팔달구'), ('남양주시', '수원시 영통구'), ('남양주시', '태백시'), ('남양주시', '통영시'), ('남양주시', '의정부시'), ('남양주시', '의왕시'), ('남양주시', '원주시'), ('남양주시', '양주시'), ('남양주시', '양산시'), ('남양주시', '여주시'), ('남양주시', '영천시'), ('남양주시', '영주시'), ('남양주시', '여수시'), ('남양주시', '용인시 처인구'), ('남양주시', '용인시 기흥구'), ('남양주시', '용인시 수지구'), ('논산시', '논산시'), ('논산시', '오산시'), ('논산시', '파주시'), ('논산시', '포천시'), ('논산시', '포항시 북구'), ('논산시', '포항시 남구'), ('논산시', '평택시'), ('논산시', '사천시'), ('논산시', '삼척시'), ('논산시', '상주시'), ('논산시', '서귀포시'), ('논산시', '성남시 분당구'), ('논산시', '성남시 중원구'), ('논산시', '성남시 수정구'), ('논산시', '서산시'), ('논산시', '시흥시'), ('논산시', '속초시'), ('논산시', '순천시'), ('논산시', '수원시 권선구'), ('논산시', '수원시 장안구'), ('논산시', '수원시 팔달구'), ('논산시', '수원시 영통구'), ('논산시', '태백시'), ('논산시', '통영시'), ('논산시', '의정부시'), ('논산시', '의왕시'), ('논산시', '원주시'), ('논산시', '양주시'), ('논산시', '양산시'), ('논산시', '여주시'), ('논산시', '영천시'), ('논산시', '영주시'), ('논산시', '여수시'), ('논산시', '용인시 처인구'), ('논산시', '용인시 기흥구'), ('논산시', '용인시 수지구'), ('오산시', '오산시'), ('오산시', '파주시'), ('오산시', '포천시'), ('오산시', '포항시 북구'), ('오산시', '포항시 남구'), ('오산시', '평택시'), ('오산시', '사천시'), ('오산시', '삼척시'), ('오산시', '상주시'), ('오산시', '서귀포시'), ('오산시', '성남시 분당구'), ('오산시', '성남시 중원구'), ('오산시', '성남시 수정구'), ('오산시', '서산시'), ('오산시', '시흥시'), ('오산시', '속초시'), ('오산시', '순천시'), ('오산시', '수원시 권선구'), ('오산시', '수원시 장안구'), ('오산시', '수원시 팔달구'), ('오산시', '수원시 영통구'), ('오산시', '태백시'), ('오산시', '통영시'), ('오산시', '의정부시'), ('오산시', '의왕시'), ('오산시', '원주시'), ('오산시', '양주시'), ('오산시', '양산시'), ('오산시', '여주시'), ('오산시', '영천시'), ('오산시', '영주시'), ('오산시', '여수시'), ('오산시', '용인시 처인구'), ('오산시', '용인시 기흥구'), ('오산시', '용인시 수지구'), ('파주시', '파주시'), ('파주시', '포천시'), ('파주시', '포항시 북구'), ('파주시', '포항시 남구'), ('파주시', '평택시'), ('파주시', '사천시'), ('파주시', '삼척시'), ('파주시', '상주시'), ('파주시', '서귀포시'), ('파주시', '성남시 분당구'), ('파주시', '성남시 중원구'), ('파주시', '성남시 수정구'), ('파주시', '서산시'), ('파주시', '시흥시'), ('파주시', '속초시'), ('파주시', '순천시'), ('파주시', '수원시 권선구'), ('파주시', '수원시 장안구'), ('파주시', '수원시 팔달구'), ('파주시', '수원시 영통구'), ('파주시', '태백시'), ('파주시', '통영시'), ('파주시', '의정부시'), ('파주시', '의왕시'), ('파주시', '원주시'), ('파주시', '양주시'), ('파주시', '양산시'), ('파주시', '여주시'), ('파주시', '영천시'), ('파주시', '영주시'), ('파주시', '여수시'), ('파주시', '용인시 처인구'), ('파주시', '용인시 기흥구'), ('파주시', '용인시 수지구'), ('포천시', '포천시'), ('포천시', '포항시 북구'), ('포천시', '포항시 남구'), ('포천시', '평택시'), ('포천시', '사천시'), ('포천시', '삼척시'), ('포천시', '상주시'), ('포천시', '서귀포시'), ('포천시', '성남시 분당구'), ('포천시', '성남시 중원구'), ('포천시', '성남시 수정구'), ('포천시', '서산시'), ('포천시', '시흥시'), ('포천시', '속초시'), ('포천시', '순천시'), ('포천시', '수원시 권선구'), ('포천시', '수원시 장안구'), ('포천시', '수원시 팔달구'), ('포천시', '수원시 영통구'), ('포천시', '태백시'), ('포천시', '통영시'), ('포천시', '의정부시'), ('포천시', '의왕시'), ('포천시', '원주시'), ('포천시', '양주시'), ('포천시', '양산시'), ('포천시', '여주시'), ('포천시', '영천시'), ('포천시', '영주시'), ('포천시', '여수시'), ('포천시', '용인시 처인구'), ('포천시', '용인시 기흥구'), ('포천시', '용인시 수지구'), ('포항시 북구', '포항시 북구'), ('포항시 북구', '포항시 남구'), ('포항시 북구', '평택시'), ('포항시 북구', '사천시'), ('포항시 북구', '삼척시'), ('포항시 북구', '상주시'), ('포항시 북구', '서귀포시'), ('포항시 북구', '성남시 분당구'), ('포항시 북구', '성남시 중원구'), ('포항시 북구', '성남시 수정구'), ('포항시 북구', '서산시'), ('포항시 북구', '시흥시'), ('포항시 북구', '속초시'), ('포항시 북구', '순천시'), ('포항시 북구', '수원시 권선구'), ('포항시 북구', '수원시 장안구'), ('포항시 북구', '수원시 팔달구'), ('포항시 북구', '수원시 영통구'), ('포항시 북구', '태백시'), ('포항시 북구', '통영시'), ('포항시 북구', '의정부시'), ('포항시 북구', '의왕시'), ('포항시 북구', '원주시'), ('포항시 북구', '양주시'), ('포항시 북구', '양산시'), ('포항시 북구', '여주시'), ('포항시 북구', '영천시'), ('포항시 북구', '영주시'), ('포항시 북구', '여수시'), ('포항시 북구', '용인시 처인구'), ('포항시 북구', '용인시 기흥구'), ('포항시 북구', '용인시 수지구'), ('포항시 남구', '포항시 남구'), ('포항시 남구', '평택시'), ('포항시 남구', '사천시'), ('포항시 남구', '삼척시'), ('포항시 남구', '상주시'), ('포항시 남구', '서귀포시'), ('포항시 남구', '성남시 분당구'), ('포항시 남구', '성남시 중원구'), ('포항시 남구', '성남시 수정구'), ('포항시 남구', '서산시'), ('포항시 남구', '시흥시'), ('포항시 남구', '속초시'), ('포항시 남구', '순천시'), ('포항시 남구', '수원시 권선구'), ('포항시 남구', '수원시 장안구'), ('포항시 남구', '수원시 팔달구'), ('포항시 남구', '수원시 영통구'), ('포항시 남구', '태백시'), ('포항시 남구', '통영시'), ('포항시 남구', '의정부시'), ('포항시 남구', '의왕시'), ('포항시 남구', '원주시'), ('포항시 남구', '양주시'), ('포항시 남구', '양산시'), ('포항시 남구', '여주시'), ('포항시 남구', '영천시'), ('포항시 남구', '영주시'), ('포항시 남구', '여수시'), ('포항시 남구', '용인시 처인구'), ('포항시 남구', '용인시 기흥구'), ('포항시 남구', '용인시 수지구'), ('평택시', '평택시'), ('평택시', '사천시'), ('평택시', '삼척시'), ('평택시', '상주시'), ('평택시', '서귀포시'), ('평택시', '성남시 분당구'), ('평택시', '성남시 중원구'), ('평택시', '성남시 수정구'), ('평택시', '서산시'), ('평택시', '시흥시'), ('평택시', '속초시'), ('평택시', '순천시'), ('평택시', '수원시 권선구'), ('평택시', '수원시 장안구'), ('평택시', '수원시 팔달구'), ('평택시', '수원시 영통구'), ('평택시', '태백시'), ('평택시', '통영시'), ('평택시', '의정부시'), ('평택시', '의왕시'), ('평택시', '원주시'), ('평택시', '양주시'), ('평택시', '양산시'), ('평택시', '여주시'), ('평택시', '영천시'), ('평택시', '영주시'), ('평택시', '여수시'), ('평택시', '용인시 처인구'), ('평택시', '용인시 기흥구'), ('평택시', '용인시 수지구'), ('사천시', '사천시'), ('사천시', '삼척시'), ('사천시', '상주시'), ('사천시', '서귀포시'), ('사천시', '성남시 분당구'), ('사천시', '성남시 중원구'), ('사천시', '성남시 수정구'), ('사천시', '서산시'), ('사천시', '시흥시'), ('사천시', '속초시'), ('사천시', '순천시'), ('사천시', '수원시 권선구'), ('사천시', '수원시 장안구'), ('사천시', '수원시 팔달구'), ('사천시', '수원시 영통구'), ('사천시', '태백시'), ('사천시', '통영시'), ('사천시', '의정부시'), ('사천시', '의왕시'), ('사천시', '원주시'), ('사천시', '양주시'), ('사천시', '양산시'), ('사천시', '여주시'), ('사천시', '영천시'), ('사천시', '영주시'), ('사천시', '여수시'), ('사천시', '용인시 처인구'), ('사천시', '용인시 기흥구'), ('사천시', '용인시 수지구'), ('삼척시', '삼척시'), ('삼척시', '상주시'), ('삼척시', '서귀포시'), ('삼척시', '성남시 분당구'), ('삼척시', '성남시 중원구'), ('삼척시', '성남시 수정구'), ('삼척시', '서산시'), ('삼척시', '시흥시'), ('삼척시', '속초시'), ('삼척시', '순천시'), ('삼척시', '수원시 권선구'), ('삼척시', '수원시 장안구'), ('삼척시', '수원시 팔달구'), ('삼척시', '수원시 영통구'), ('삼척시', '태백시'), ('삼척시', '통영시'), ('삼척시', '의정부시'), ('삼척시', '의왕시'), ('삼척시', '원주시'), ('삼척시', '양주시'), ('삼척시', '양산시'), ('삼척시', '여주시'), ('삼척시', '영천시'), ('삼척시', '영주시'), ('삼척시', '여수시'), ('삼척시', '용인시 처인구'), ('삼척시', '용인시 기흥구'), ('삼척시', '용인시 수지구'), ('상주시', '상주시'), ('상주시', '서귀포시'), ('상주시', '성남시 분당구'), ('상주시', '성남시 중원구'), ('상주시', '성남시 수정구'), ('상주시', '서산시'), ('상주시', '시흥시'), ('상주시', '속초시'), ('상주시', '순천시'), ('상주시', '수원시 권선구'), ('상주시', '수원시 장안구'), ('상주시', '수원시 팔달구'), ('상주시', '수원시 영통구'), ('상주시', '태백시'), ('상주시', '통영시'), ('상주시', '의정부시'), ('상주시', '의왕시'), ('상주시', '원주시'), ('상주시', '양주시'), ('상주시', '양산시'), ('상주시', '여주시'), ('상주시', '영천시'), ('상주시', '영주시'), ('상주시', '여수시'), ('상주시', '용인시 처인구'), ('상주시', '용인시 기흥구'), ('상주시', '용인시 수지구'), ('서귀포시', '서귀포시'), ('서귀포시', '성남시 분당구'), ('서귀포시', '성남시 중원구'), ('서귀포시', '성남시 수정구'), ('서귀포시', '서산시'), ('서귀포시', '시흥시'), ('서귀포시', '속초시'), ('서귀포시', '순천시'), ('서귀포시', '수원시 권선구'), ('서귀포시', '수원시 장안구'), ('서귀포시', '수원시 팔달구'), ('서귀포시', '수원시 영통구'), ('서귀포시', '태백시'), ('서귀포시', '통영시'), ('서귀포시', '의정부시'), ('서귀포시', '의왕시'), ('서귀포시', '원주시'), ('서귀포시', '양주시'), ('서귀포시', '양산시'), ('서귀포시', '여주시'), ('서귀포시', '영천시'), ('서귀포시', '영주시'), ('서귀포시', '여수시'), ('서귀포시', '용인시 처인구'), ('서귀포시', '용인시 기흥구'), ('서귀포시', '용인시 수지구'), ('성남시 분당구', '성남시 분당구'), ('성남시 분당구', '성남시 중원구'), ('성남시 분당구', '성남시 수정구'), ('성남시 분당구', '서산시'), ('성남시 분당구', '시흥시'), ('성남시 분당구', '속초시'), ('성남시 분당구', '순천시'), ('성남시 분당구', '수원시 권선구'), ('성남시 분당구', '수원시 장안구'), ('성남시 분당구', '수원시 팔달구'), ('성남시 분당구', '수원시 영통구'), ('성남시 분당구', '태백시'), ('성남시 분당구', '통영시'), ('성남시 분당구', '의정부시'), ('성남시 분당구', '의왕시'), ('성남시 분당구', '원주시'), ('성남시 분당구', '양주시'), ('성남시 분당구', '양산시'), ('성남시 분당구', '여주시'), ('성남시 분당구', '영천시'), ('성남시 분당구', '영주시'), ('성남시 분당구', '여수시'), ('성남시 분당구', '용인시 처인구'), ('성남시 분당구', '용인시 기흥구'), ('성남시 분당구', '용인시 수지구'), ('성남시 중원구', '성남시 중원구'), ('성남시 중원구', '성남시 수정구'), ('성남시 중원구', '서산시'), ('성남시 중원구', '시흥시'), ('성남시 중원구', '속초시'), ('성남시 중원구', '순천시'), ('성남시 중원구', '수원시 권선구'), ('성남시 중원구', '수원시 장안구'), ('성남시 중원구', '수원시 팔달구'), ('성남시 중원구', '수원시 영통구'), ('성남시 중원구', '태백시'), ('성남시 중원구', '통영시'), ('성남시 중원구', '의정부시'), ('성남시 중원구', '의왕시'), ('성남시 중원구', '원주시'), ('성남시 중원구', '양주시'), ('성남시 중원구', '양산시'), ('성남시 중원구', '여주시'), ('성남시 중원구', '영천시'), ('성남시 중원구', '영주시'), ('성남시 중원구', '여수시'), ('성남시 중원구', '용인시 처인구'), ('성남시 중원구', '용인시 기흥구'), ('성남시 중원구', '용인시 수지구'), ('성남시 수정구', '성남시 수정구'), ('성남시 수정구', '서산시'), ('성남시 수정구', '시흥시'), ('성남시 수정구', '속초시'), ('성남시 수정구', '순천시'), ('성남시 수정구', '수원시 권선구'), ('성남시 수정구', '수원시 장안구'), ('성남시 수정구', '수원시 팔달구'), ('성남시 수정구', '수원시 영통구'), ('성남시 수정구', '태백시'), ('성남시 수정구', '통영시'), ('성남시 수정구', '의정부시'), ('성남시 수정구', '의왕시'), ('성남시 수정구', '원주시'), ('성남시 수정구', '양주시'), ('성남시 수정구', '양산시'), ('성남시 수정구', '여주시'), ('성남시 수정구', '영천시'), ('성남시 수정구', '영주시'), ('성남시 수정구', '여수시'), ('성남시 수정구', '용인시 처인구'), ('성남시 수정구', '용인시 기흥구'), ('성남시 수정구', '용인시 수지구'), ('서산시', '서산시'), ('서산시', '시흥시'), ('서산시', '속초시'), ('서산시', '순천시'), ('서산시', '수원시 권선구'), ('서산시', '수원시 장안구'), ('서산시', '수원시 팔달구'), ('서산시', '수원시 영통구'), ('서산시', '태백시'), ('서산시', '통영시'), ('서산시', '의정부시'), ('서산시', '의왕시'), ('서산시', '원주시'), ('서산시', '양주시'), ('서산시', '양산시'), ('서산시', '여주시'), ('서산시', '영천시'), ('서산시', '영주시'), ('서산시', '여수시'), ('서산시', '용인시 처인구'), ('서산시', '용인시 기흥구'), ('서산시', '용인시 수지구'), ('시흥시', '시흥시'), ('시흥시', '속초시'), ('시흥시', '순천시'), ('시흥시', '수원시 권선구'), ('시흥시', '수원시 장안구'), ('시흥시', '수원시 팔달구'), ('시흥시', '수원시 영통구'), ('시흥시', '태백시'), ('시흥시', '통영시'), ('시흥시', '의정부시'), ('시흥시', '의왕시'), ('시흥시', '원주시'), ('시흥시', '양주시'), ('시흥시', '양산시'), ('시흥시', '여주시'), ('시흥시', '영천시'), ('시흥시', '영주시'), ('시흥시', '여수시'), ('시흥시', '용인시 처인구'), ('시흥시', '용인시 기흥구'), ('시흥시', '용인시 수지구'), ('속초시', '속초시'), ('속초시', '순천시'), ('속초시', '수원시 권선구'), ('속초시', '수원시 장안구'), ('속초시', '수원시 팔달구'), ('속초시', '수원시 영통구'), ('속초시', '태백시'), ('속초시', '통영시'), ('속초시', '의정부시'), ('속초시', '의왕시'), ('속초시', '원주시'), ('속초시', '양주시'), ('속초시', '양산시'), ('속초시', '여주시'), ('속초시', '영천시'), ('속초시', '영주시'), ('속초시', '여수시'), ('속초시', '용인시 처인구'), ('속초시', '용인시 기흥구'), ('속초시', '용인시 수지구'), ('순천시', '순천시'), ('순천시', '수원시 권선구'), ('순천시', '수원시 장안구'), ('순천시', '수원시 팔달구'), ('순천시', '수원시 영통구'), ('순천시', '태백시'), ('순천시', '통영시'), ('순천시', '의정부시'), ('순천시', '의왕시'), ('순천시', '원주시'), ('순천시', '양주시'), ('순천시', '양산시'), ('순천시', '여주시'), ('순천시', '영천시'), ('순천시', '영주시'), ('순천시', '여수시'), ('순천시', '용인시 처인구'), ('순천시', '용인시 기흥구'), ('순천시', '용인시 수지구'), ('수원시 권선구', '수원시 권선구'), ('수원시 권선구', '수원시 장안구'), ('수원시 권선구', '수원시 팔달구'), ('수원시 권선구', '수원시 영통구'), ('수원시 권선구', '태백시'), ('수원시 권선구', '통영시'), ('수원시 권선구', '의정부시'), ('수원시 권선구', '의왕시'), ('수원시 권선구', '원주시'), ('수원시 권선구', '양주시'), ('수원시 권선구', '양산시'), ('수원시 권선구', '여주시'), ('수원시 권선구', '영천시'), ('수원시 권선구', '영주시'), ('수원시 권선구', '여수시'), ('수원시 권선구', '용인시 처인구'), ('수원시 권선구', '용인시 기흥구'), ('수원시 권선구', '용인시 수지구'), ('수원시 장안구', '수원시 장안구'), ('수원시 장안구', '수원시 팔달구'), ('수원시 장안구', '수원시 영통구'), ('수원시 장안구', '태백시'), ('수원시 장안구', '통영시'), ('수원시 장안구', '의정부시'), ('수원시 장안구', '의왕시'), ('수원시 장안구', '원주시'), ('수원시 장안구', '양주시'), ('수원시 장안구', '양산시'), ('수원시 장안구', '여주시'), ('수원시 장안구', '영천시'), ('수원시 장안구', '영주시'), ('수원시 장안구', '여수시'), ('수원시 장안구', '용인시 처인구'), ('수원시 장안구', '용인시 기흥구'), ('수원시 장안구', '용인시 수지구'), ('수원시 팔달구', '수원시 팔달구'), ('수원시 팔달구', '수원시 영통구'), ('수원시 팔달구', '태백시'), ('수원시 팔달구', '통영시'), ('수원시 팔달구', '의정부시'), ('수원시 팔달구', '의왕시'), ('수원시 팔달구', '원주시'), ('수원시 팔달구', '양주시'), ('수원시 팔달구', '양산시'), ('수원시 팔달구', '여주시'), ('수원시 팔달구', '영천시'), ('수원시 팔달구', '영주시'), ('수원시 팔달구', '여수시'), ('수원시 팔달구', '용인시 처인구'), ('수원시 팔달구', '용인시 기흥구'), ('수원시 팔달구', '용인시 수지구'), ('수원시 영통구', '수원시 영통구'), ('수원시 영통구', '태백시'), ('수원시 영통구', '통영시'), ('수원시 영통구', '의정부시'), ('수원시 영통구', '의왕시'), ('수원시 영통구', '원주시'), ('수원시 영통구', '양주시'), ('수원시 영통구', '양산시'), ('수원시 영통구', '여주시'), ('수원시 영통구', '영천시'), ('수원시 영통구', '영주시'), ('수원시 영통구', '여수시'), ('수원시 영통구', '용인시 처인구'), ('수원시 영통구', '용인시 기흥구'), ('수원시 영통구', '용인시 수지구'), ('태백시', '태백시'), ('태백시', '통영시'), ('태백시', '의정부시'), ('태백시', '의왕시'), ('태백시', '원주시'), ('태백시', '양주시'), ('태백시', '양산시'), ('태백시', '여주시'), ('태백시', '영천시'), ('태백시', '영주시'), ('태백시', '여수시'), ('태백시', '용인시 처인구'), ('태백시', '용인시 기흥구'), ('태백시', '용인시 수지구'), ('통영시', '통영시'), ('통영시', '의정부시'), ('통영시', '의왕시'), ('통영시', '원주시'), ('통영시', '양주시'), ('통영시', '양산시'), ('통영시', '여주시'), ('통영시', '영천시'), ('통영시', '영주시'), ('통영시', '여수시'), ('통영시', '용인시 처인구'), ('통영시', '용인시 기흥구'), ('통영시', '용인시 수지구'), ('의정부시', '의정부시'), ('의정부시', '의왕시'), ('의정부시', '원주시'), ('의정부시', '양주시'), ('의정부시', '양산시'), ('의정부시', '여주시'), ('의정부시', '영천시'), ('의정부시', '영주시'), ('의정부시', '여수시'), ('의정부시', '용인시 처인구'), ('의정부시', '용인시 기흥구'), ('의정부시', '용인시 수지구'), ('의왕시', '의왕시'), ('의왕시', '원주시'), ('의왕시', '양주시'), ('의왕시', '양산시'), ('의왕시', '여주시'), ('의왕시', '영천시'), ('의왕시', '영주시'), ('의왕시', '여수시'), ('의왕시', '용인시 처인구'), ('의왕시', '용인시 기흥구'), ('의왕시', '용인시 수지구'), ('원주시', '원주시'), ('원주시', '양주시'), ('원주시', '양산시'), ('원주시', '여주시'), ('원주시', '영천시'), ('원주시', '영주시'), ('원주시', '여수시'), ('원주시', '용인시 처인구'), ('원주시', '용인시 기흥구'), ('원주시', '용인시 수지구'), ('양주시', '양주시'), ('양주시', '양산시'), ('양주시', '여주시'), ('양주시', '영천시'), ('양주시', '영주시'), ('양주시', '여수시'), ('양주시', '용인시 처인구'), ('양주시', '용인시 기흥구'), ('양주시', '용인시 수지구'), ('양산시', '양산시'), ('양산시', '여주시'), ('양산시', '영천시'), ('양산시', '영주시'), ('양산시', '여수시'), ('양산시', '용인시 처인구'), ('양산시', '용인시 기흥구'), ('양산시', '용인시 수지구'), ('여주시', '여주시'), ('여주시', '영천시'), ('여주시', '영주시'), ('여주시', '여수시'), ('여주시', '용인시 처인구'), ('여주시', '용인시 기흥구'), ('여주시', '용인시 수지구'), ('영천시', '영천시'), ('영천시', '영주시'), ('영천시', '여수시'), ('영천시', '용인시 처인구'), ('영천시', '용인시 기흥구'), ('영천시', '용인시 수지구'), ('영주시', '영주시'), ('영주시', '여수시'), ('영주시', '용인시 처인구'), ('영주시', '용인시 기흥구'), ('영주시', '용인시 수지구'), ('여수시', '여수시'), ('여수시', '용인시 처인구'), ('여수시', '용인시 기흥구'), ('여수시', '용인시 수지구'), ('용인시 처인구', '용인시 처인구'), ('용인시 처인구', '용인시 기흥구'), ('용인시 처인구', '용인시 수지구'), ('용인시 기흥구', '용인시 기흥구'), ('용인시 기흥구', '용인시 수지구'), ('용인시 수지구', '용인시 수지구')]\n"
     ]
    }
   ],
   "source": [
    "from itertools import combinations_with_replacement\n",
    "\n",
    "# 중복 조합 구하기\n",
    "combination_length = 2\n",
    "\n",
    "combinations = list(combinations_with_replacement(list_region, combination_length))\n",
    "print(combinations)"
   ]
  },
  {
   "cell_type": "code",
   "execution_count": 94,
   "id": "9de8689b",
   "metadata": {
    "scrolled": true
   },
   "outputs": [
    {
     "data": {
      "text/plain": [
       "2425.5"
      ]
     },
     "execution_count": 94,
     "metadata": {},
     "output_type": "execute_result"
    }
   ],
   "source": [
    "len(combinations)/2"
   ]
  },
  {
   "cell_type": "code",
   "execution_count": 95,
   "id": "621abe6b",
   "metadata": {},
   "outputs": [],
   "source": [
    "comb1 = combinations[:2425]\n",
    "comb2 = combinations[2425:]"
   ]
  },
  {
   "cell_type": "code",
   "execution_count": 98,
   "id": "45b52eea",
   "metadata": {},
   "outputs": [],
   "source": [
    "import pickle\n",
    "\n",
    "with open('E:/금보원_데이터챌린지대회/region.pkl','wb') as f:\n",
    "    pickle.dump(comb2,f)"
   ]
  },
  {
   "cell_type": "code",
   "execution_count": 101,
   "id": "b57e67d0",
   "metadata": {
    "scrolled": true
   },
   "outputs": [
    {
     "data": {
      "text/plain": [
       "'안동시'"
      ]
     },
     "execution_count": 101,
     "metadata": {},
     "output_type": "execute_result"
    }
   ],
   "source": [
    "comb1[0][0]"
   ]
  },
  {
   "cell_type": "code",
   "execution_count": null,
   "id": "5e0d9bdf",
   "metadata": {},
   "outputs": [],
   "source": [
    "\n",
    "for c in comb1:\n",
    "    print(c[0],c[1])"
   ]
  },
  {
   "cell_type": "code",
   "execution_count": 76,
   "id": "add95624",
   "metadata": {
    "scrolled": false
   },
   "outputs": [
    {
     "name": "stdout",
     "output_type": "stream",
     "text": [
      "Span 태그 사이의 텍스트: 44\n",
      "Span 태그 사이의 텍스트: 16km \n"
     ]
    }
   ],
   "source": [
    "from selenium.webdriver.common.by import By\n",
    "#,dk\n",
    "driver = webdriver.Chrome()\n",
    "driver.get('https://map.naver.com/v5/directions/-/-/-/')\n",
    "#네이버 길찾기 주소\n",
    "\n",
    "#driver.find_element_by_xpath('//*[@id=\"intro_popup_close\"]/span').click()\n",
    "\n",
    "delay = 10\n",
    "driver.implicitly_wait(delay) # 3초 기달림 \n",
    "\n",
    "\n",
    "driver.find_element(By.ID, 'directionStart0').send_keys('서울 성북구')\n",
    "driver.find_element(By.ID, \"directionStart0\").send_keys(Keys.RETURN) # 엔터 \n",
    "\n",
    "driver.find_element(By.CLASS_NAME, 'link_search.selected.ng-star-inserted').click()\n",
    "# driver.find_element(By.XPATH, '//*[@class=\"main\"]/div[1]/shrinkable-layout/directions-layout/directions-result/directions-search-list/search-list/search-list-contents/perfect-scrollbar/div/div[1]/div/div/div/search-item-place/div').click()\n",
    "\n",
    "driver.find_element(By.ID, 'directionGoal1').send_keys('서울 동작구')\n",
    "driver.find_element(By.ID, 'directionGoal1').send_keys(Keys.RETURN)\n",
    "driver.find_element(By.CLASS_NAME, 'link_search.selected.ng-star-inserted').click()\n",
    "\n",
    "timeout = 10\n",
    "WebDriverWait(driver, timeout).until(EC.presence_of_element_located((By.CLASS_NAME, 'btn.btn_direction.active')))\n",
    "driver.find_element(By.CLASS_NAME, 'btn.btn_direction.active').click()\n",
    "time.sleep(1)\n",
    "\n",
    "#WebDriverWait(driver, timeout).until(EC.presence_of_element_located((By.CLASS_NAME, 'link_tab.car')))\n",
    "driver.find_element(By.CLASS_NAME,'link_tab.car').click()\n",
    "\n",
    "#WebDriverWait(driver, timeout).until(EC.presence_of_element_located((By.CLASS_NAME, 'value.ng-star-inserted')))\n",
    "#WebDriverWait(driver, timeout).until(EC.presence_of_element_located((By.CLASS_NAME, 'summary_info.distance')))\n",
    "\n",
    "time.sleep(1)\n",
    "html_source = driver.page_source\n",
    "soup = BeautifulSoup(html_source,'html.parser')\n",
    "\n",
    "#wait = WebDriverWait(driver, 10)\n",
    "#target_span = wait.until(EC.presence_of_element_located((By.CLASS_NAME, 'value.ng-star-inserted')))\n",
    "#data = soup.find('div',class_ = 'route_summary_info_area')\n",
    "time.sleep(2)\n",
    "                                     \n",
    "span_element = soup.select_one('span.value.ng-star-inserted')\n",
    "\n",
    "data2 = soup.select_one('span.summary_info.distance')\n",
    "\n",
    "# WebElement 객체에서 텍스트 추출 및 출력\n",
    "\n",
    "print(\"Span 태그 사이의 텍스트:\", span_element.text)\n",
    "\n",
    "print(\"Span 태그 사이의 텍스트:\", data2.text)\n",
    "#print(target_span)\n",
    "driver.quit()\n",
    "#span.value.ng-star-inserted\n",
    "\n",
    "# try :\n",
    "#     #driver.find_element_by_xpath('//*[@id=\"container\"]/div[1]/shrinkable-layout/directions-layout/directions-result/div/directions-search/div[2]/button[2]').click()\n",
    "#     driver.find_element(By.CLASS_NAME, 'btn.btn_direction.active').click()\n",
    "# except:\n",
    "#     print('1')"
   ]
  },
  {
   "cell_type": "markdown",
   "id": "6b461b4f",
   "metadata": {},
   "source": [
    "## 2. 등급 부여하기\n",
    "- 등급은 값이 높을 수록 평균 사용금액이 높은 것을 의미한다."
   ]
  },
  {
   "cell_type": "markdown",
   "id": "f5299607",
   "metadata": {},
   "source": [
    "def grade(bin_number,series):\n",
    "    min_ = min(series.values)\n",
    "    max_ = max(series.values)\n",
    "    bin_size = (max_-min_)/bin_number\n",
    "    grade_list = series.values\n",
    "    # 등급 생성\n",
    "    grade_list = []\n",
    "    data = min_\n",
    "    for i in range(bin_number+1):\n",
    "        grade_list.append(data)\n",
    "        data+= bin_size\n",
    "    return grade_list"
   ]
  },
  {
   "cell_type": "code",
   "execution_count": 15,
   "id": "95261700",
   "metadata": {},
   "outputs": [],
   "source": [
    "def grade_apply(x,columns_list):\n",
    "    for i in range(len(columns_list)-1) :\n",
    "        if x<=columns_list[i+1]:\n",
    "            return i+1\n",
    "    return len(columns_list)-1"
   ]
  },
  {
   "cell_type": "code",
   "execution_count": 90,
   "id": "016c71f0",
   "metadata": {},
   "outputs": [],
   "source": [
    "# grade_list 전역변수로 지정 "
   ]
  },
  {
   "cell_type": "code",
   "execution_count": 16,
   "id": "fe025e14",
   "metadata": {},
   "outputs": [],
   "source": [
    "columns_grade_list = [\"요식_평균사용금액\", '자동차_평균사용금액', '교육_평균사용금액', '건강_평균사용금액', '여가_평균사용금액',\n",
    "       '생활_평균사용금액', '유흥_평균사용금액', '쇼핑_평균사용금액','UMRD_SCORE',\n",
    "       'WEDD_EXP_SCORE', 'CHDB_EXP_SCORE', 'PSCH_OCH_SCORE', 'ESTUD_OCH_SCORE',\n",
    "       'MHSTUD_OCH_SCORE', 'CSTUD_OCH_SCORE', 'OCH_WEDD_EXP_SCORE',\n",
    "       'HOUSEWF_SCORE', 'ONL_PRSN', 'ERADP_TNDC', 'PRMM_CSM_TNDC', 'MDLV_PRSN',\n",
    "       'PET_PRSN', 'ODS_ACTI_INRT_TNDC', 'FRN_TRV_INRT_TNDC',\n",
    "       'INTERI_SLNG_TNDC', 'INTERI_REMDL_TNDC', 'HL_MNGT_INRT_TNDC',]\n",
    " "
   ]
  },
  {
   "cell_type": "code",
   "execution_count": 17,
   "id": "39a61935",
   "metadata": {},
   "outputs": [],
   "source": [
    "#보험 사고율 등급 \n",
    "grade_list_1 = grade(5,df['생명보험사고율'])\n",
    "grade_list_2 = grade(5,df['장기보험사고율'])\n",
    "grade_list_3 = grade(5,df['자동차보험사고율'])"
   ]
  },
  {
   "cell_type": "code",
   "execution_count": 18,
   "id": "70bfda0f",
   "metadata": {},
   "outputs": [],
   "source": [
    "for c in columns_grade_list:\n",
    "    grade_list = grade(10,df[c]) # 분류별 범위 리스트 생성\n",
    "    df.loc[:,c+\"등급\"]=df[c].apply(grade_apply,args=(grade_list,)) # apply 작성"
   ]
  },
  {
   "cell_type": "code",
   "execution_count": 19,
   "id": "dd95132a",
   "metadata": {},
   "outputs": [],
   "source": [
    "df.loc[:,\"생명보험사고율_등급\"]=df[\"생명보험사고율\"].apply(grade_apply,args=(grade_list_1,)) # apply 작성\n",
    "df.loc[:,\"장기보험사고율_등급\"]=df[\"장기보험사고율\"].apply(grade_apply,args=(grade_list_2,)) # apply 작성\n",
    "df.loc[:,\"자동차보험사고율_등급\"]=df[\"자동차보험사고율\"].apply(grade_apply,args=(grade_list_3,)) # apply 작성"
   ]
  },
  {
   "cell_type": "markdown",
   "id": "c7e0c6c9",
   "metadata": {},
   "source": [
    "# 3. 대분류 그래프 생성"
   ]
  },
  {
   "cell_type": "code",
   "execution_count": null,
   "id": "bbda0f9c",
   "metadata": {},
   "outputs": [],
   "source": [
    "# 데이터셋 train test나눌꺼면 나누기 \n",
    "X = []\n",
    "y = []\n",
    "train_x, test_x, train_y, test_y = train_test_split(X, y, test_size = 0.2, random_state = 42)"
   ]
  },
  {
   "cell_type": "markdown",
   "id": "6b8c9e2d",
   "metadata": {},
   "source": [
    "## 1)사고율 별 그룹 생성"
   ]
  },
  {
   "cell_type": "markdown",
   "id": "df0dee3c",
   "metadata": {},
   "source": [
    "data drop"
   ]
  },
  {
   "cell_type": "code",
   "execution_count": 20,
   "id": "fc0b1d71",
   "metadata": {},
   "outputs": [],
   "source": [
    "feature_list = ['AGE', 'GENDER', 'JOB', 'INCOME','요식_평균사용금액등급',\n",
    "       '자동차_평균사용금액등급', '교육_평균사용금액등급', '건강_평균사용금액등급', '여가_평균사용금액등급',\n",
    "       '생활_평균사용금액등급', '유흥_평균사용금액등급', '쇼핑_평균사용금액등급', 'UMRD_SCORE등급',\n",
    "       'WEDD_EXP_SCORE등급', 'CHDB_EXP_SCORE등급', 'PSCH_OCH_SCORE등급',\n",
    "       'ESTUD_OCH_SCORE등급', 'MHSTUD_OCH_SCORE등급', 'CSTUD_OCH_SCORE등급',\n",
    "       'OCH_WEDD_EXP_SCORE등급', 'HOUSEWF_SCORE등급', 'ONL_PRSN등급', 'ERADP_TNDC등급',\n",
    "       'PRMM_CSM_TNDC등급', 'MDLV_PRSN등급', 'PET_PRSN등급', 'ODS_ACTI_INRT_TNDC등급',\n",
    "       'FRN_TRV_INRT_TNDC등급', 'INTERI_SLNG_TNDC등급', 'INTERI_REMDL_TNDC등급',\n",
    "       'HL_MNGT_INRT_TNDC등급']"
   ]
  },
  {
   "cell_type": "code",
   "execution_count": 42,
   "id": "fbcddde4",
   "metadata": {
    "scrolled": true
   },
   "outputs": [
    {
     "data": {
      "text/html": [
       "<div>\n",
       "<style scoped>\n",
       "    .dataframe tbody tr th:only-of-type {\n",
       "        vertical-align: middle;\n",
       "    }\n",
       "\n",
       "    .dataframe tbody tr th {\n",
       "        vertical-align: top;\n",
       "    }\n",
       "\n",
       "    .dataframe thead th {\n",
       "        text-align: right;\n",
       "    }\n",
       "</style>\n",
       "<table border=\"1\" class=\"dataframe\">\n",
       "  <thead>\n",
       "    <tr style=\"text-align: right;\">\n",
       "      <th></th>\n",
       "      <th>AGE</th>\n",
       "      <th>GENDER</th>\n",
       "    </tr>\n",
       "  </thead>\n",
       "  <tbody>\n",
       "    <tr>\n",
       "      <th>0</th>\n",
       "      <td>A</td>\n",
       "      <td>M</td>\n",
       "    </tr>\n",
       "    <tr>\n",
       "      <th>1</th>\n",
       "      <td>B</td>\n",
       "      <td>F</td>\n",
       "    </tr>\n",
       "    <tr>\n",
       "      <th>2</th>\n",
       "      <td>C</td>\n",
       "      <td>M</td>\n",
       "    </tr>\n",
       "    <tr>\n",
       "      <th>3</th>\n",
       "      <td>D</td>\n",
       "      <td>F</td>\n",
       "    </tr>\n",
       "    <tr>\n",
       "      <th>4</th>\n",
       "      <td>E</td>\n",
       "      <td>M</td>\n",
       "    </tr>\n",
       "    <tr>\n",
       "      <th>5</th>\n",
       "      <td>F</td>\n",
       "      <td>F</td>\n",
       "    </tr>\n",
       "    <tr>\n",
       "      <th>6</th>\n",
       "      <td>G</td>\n",
       "      <td>M</td>\n",
       "    </tr>\n",
       "    <tr>\n",
       "      <th>7</th>\n",
       "      <td>H</td>\n",
       "      <td>F</td>\n",
       "    </tr>\n",
       "    <tr>\n",
       "      <th>8</th>\n",
       "      <td>I</td>\n",
       "      <td>M</td>\n",
       "    </tr>\n",
       "    <tr>\n",
       "      <th>9</th>\n",
       "      <td>B</td>\n",
       "      <td>F</td>\n",
       "    </tr>\n",
       "  </tbody>\n",
       "</table>\n",
       "</div>"
      ],
      "text/plain": [
       "  AGE GENDER\n",
       "0   A      M\n",
       "1   B      F\n",
       "2   C      M\n",
       "3   D      F\n",
       "4   E      M\n",
       "5   F      F\n",
       "6   G      M\n",
       "7   H      F\n",
       "8   I      M\n",
       "9   B      F"
      ]
     },
     "execution_count": 42,
     "metadata": {},
     "output_type": "execute_result"
    }
   ],
   "source": [
    "df[['AGE','GENDER']]"
   ]
  },
  {
   "cell_type": "code",
   "execution_count": 43,
   "id": "c2704f98",
   "metadata": {},
   "outputs": [
    {
     "data": {
      "text/plain": [
       "Index(['기준년도', 'AGE', 'GENDER', 'JOB', 'INCOME', 'HOM_MGPO', 'HOM_SGG',\n",
       "       'OFFI_MGPO', 'OFFI_SGG', 'ONEPER_GD_C',\n",
       "       ...\n",
       "       '산후조리원_평균사용금액', '안경_평균사용금액', '건강보조식품_평균사용금액', '요양원_평균사용금액', '병원_평균사용금액',\n",
       "       '쇼핑_평균사용금액', '온라인쇼핑_평균사용금액', '생명보험사고율_등급', '장기보험사고율_등급', '자동차보험사고율_등급'],\n",
       "      dtype='object', length=439)"
      ]
     },
     "execution_count": 43,
     "metadata": {},
     "output_type": "execute_result"
    }
   ],
   "source": [
    "df.columns"
   ]
  },
  {
   "cell_type": "code",
   "execution_count": 44,
   "id": "9066c901",
   "metadata": {},
   "outputs": [],
   "source": [
    "tmp =['AGE', 'GENDER', 'JOB', 'INCOME','요식_평균사용금액등급',\n",
    "       '자동차_평균사용금액등급', '교육_평균사용금액등급', '건강_평균사용금액등급', '여가_평균사용금액등급',\n",
    "       '생활_평균사용금액등급', '유흥_평균사용금액등급', '쇼핑_평균사용금액등급', 'UMRD_SCORE등급',\n",
    "       'WEDD_EXP_SCORE등급', 'CHDB_EXP_SCORE등급', 'PSCH_OCH_SCORE등급',\n",
    "       'ESTUD_OCH_SCORE등급', 'MHSTUD_OCH_SCORE등급', 'CSTUD_OCH_SCORE등급',\n",
    "       'OCH_WEDD_EXP_SCORE등급', 'HOUSEWF_SCORE등급', 'ONL_PRSN등급', 'ERADP_TNDC등급',\n",
    "       'PRMM_CSM_TNDC등급', 'MDLV_PRSN등급', 'PET_PRSN등급', 'ODS_ACTI_INRT_TNDC등급',\n",
    "       'FRN_TRV_INRT_TNDC등급', 'INTERI_SLNG_TNDC등급', 'INTERI_REMDL_TNDC등급',\n",
    "       'HL_MNGT_INRT_TNDC등급']"
   ]
  },
  {
   "cell_type": "code",
   "execution_count": 46,
   "id": "45088298",
   "metadata": {
    "scrolled": true
   },
   "outputs": [
    {
     "name": "stdout",
     "output_type": "stream",
     "text": [
      "요식_평균사용금액등급\n",
      "자동차_평균사용금액등급\n",
      "교육_평균사용금액등급\n",
      "건강_평균사용금액등급\n",
      "여가_평균사용금액등급\n",
      "생활_평균사용금액등급\n",
      "유흥_평균사용금액등급\n",
      "쇼핑_평균사용금액등급\n",
      "UMRD_SCORE등급\n",
      "WEDD_EXP_SCORE등급\n",
      "CHDB_EXP_SCORE등급\n",
      "PSCH_OCH_SCORE등급\n",
      "ESTUD_OCH_SCORE등급\n",
      "MHSTUD_OCH_SCORE등급\n",
      "CSTUD_OCH_SCORE등급\n",
      "OCH_WEDD_EXP_SCORE등급\n",
      "HOUSEWF_SCORE등급\n",
      "ONL_PRSN등급\n",
      "ERADP_TNDC등급\n",
      "PRMM_CSM_TNDC등급\n",
      "MDLV_PRSN등급\n",
      "PET_PRSN등급\n",
      "ODS_ACTI_INRT_TNDC등급\n",
      "FRN_TRV_INRT_TNDC등급\n",
      "INTERI_SLNG_TNDC등급\n",
      "INTERI_REMDL_TNDC등급\n",
      "HL_MNGT_INRT_TNDC등급\n"
     ]
    }
   ],
   "source": [
    "for t in tmp:\n",
    "    if t not in df_columns:\n",
    "        print(t)\n",
    "        "
   ]
  },
  {
   "cell_type": "markdown",
   "id": "2e6b27f3",
   "metadata": {},
   "source": [
    "보험별로 나누는거는 코드는 짜도 지금 적용하면 데이터가 없어서 pass "
   ]
  },
  {
   "cell_type": "markdown",
   "id": "2750dd0d",
   "metadata": {},
   "source": [
    "## 2) 그래프 생성"
   ]
  },
  {
   "cell_type": "code",
   "execution_count": 23,
   "id": "7bca6bd8",
   "metadata": {},
   "outputs": [],
   "source": [
    "def filter_graph(acc_dic, acc_data, min_count, max_group, feature_list):\n",
    "    for column in feature_list:\n",
    "        value_counts = acc_data[column].value_counts()\n",
    "        \n",
    "        value_counts = {key: value for key, value in value_counts.items() if value > min_count}\n",
    "        \n",
    "        if len(value_counts) > max_group:\n",
    "            continue\n",
    "        \n",
    "        for value, count in value_counts.items():\n",
    "            acc_dic[f'{column}_{value}'] = set(acc_data[acc_data[column] == value]['index'])"
   ]
  },
  {
   "cell_type": "code",
   "execution_count": 24,
   "id": "780d8906",
   "metadata": {},
   "outputs": [],
   "source": [
    "def merge_big_graph(acc_dic, acc_data, max_group):\n",
    "    temp = dict()\n",
    "    c_list = list()\n",
    "    \n",
    "    group_list = acc_dic.keys()\n",
    "    \n",
    "    for group in group_list:\n",
    "        big_set = set()\n",
    "        big_group_data = acc_data[acc_data['index'].isin(acc_dic[group])]\n",
    "        \n",
    "        for column in feature_list:\n",
    "            value_counts = acc_data[column].value_counts()\n",
    "\n",
    "            if len(value_counts) > max_group:\n",
    "                continue\n",
    "            \n",
    "            for value, count in value_counts.items():\n",
    "                c_list.append(f'{column}_{value}')\n",
    "            \n",
    "            for big in class_dic.keys():\n",
    "                if big in column:\n",
    "                    big_set.add(big)\n",
    "                    \n",
    "        group_result = '-'.join(c_list)\n",
    "        temp[group_result] = (big_set, big_group_data['index'])\n",
    "        \n",
    "    acc_dic = temp"
   ]
  },
  {
   "cell_type": "code",
   "execution_count": 62,
   "id": "8c69f0f7",
   "metadata": {},
   "outputs": [
    {
     "data": {
      "text/plain": [
       "5"
      ]
     },
     "execution_count": 62,
     "metadata": {},
     "output_type": "execute_result"
    }
   ],
   "source": [
    "num_acc_group"
   ]
  },
  {
   "cell_type": "code",
   "execution_count": 31,
   "id": "b3fbec76",
   "metadata": {},
   "outputs": [],
   "source": [
    "df = df.reset_index()"
   ]
  },
  {
   "cell_type": "code",
   "execution_count": 33,
   "id": "2fe618f3",
   "metadata": {},
   "outputs": [],
   "source": [
    "graph = {}\n",
    "num_acc_group = 5\n",
    "max_group = 2\n",
    "min_count = 0\n",
    "\n",
    "for i in range(1,4):\n",
    "    insurance_data = df[df['보험종류']==i]\n",
    "    \n",
    "    graph[i] = dict()\n",
    "    biggroup_dic = graph[i]\n",
    "    for j in range(1, num_acc_group+1): # 사고율 별 계산\n",
    "        if j==1 :\n",
    "            name = \"생명보험사고율_등급\"\n",
    "            acc_data = insurance_data[insurance_data['생명보험사고율_등급']==j]\n",
    "        elif j==2 :\n",
    "            name = \"장기보험사고율_등급\"\n",
    "            acc_data = insurance_data[insurance_data['장기보험사고율_등급']==j]\n",
    "        else:\n",
    "            name = \"자동차보험사고율_등급\"\n",
    "            acc_data = insurance_data[insurance_data['자동차보험사고율_등급']==j]\n",
    "            \n",
    "        \n",
    "        \n",
    "        biggroup_dic[j] = dict()\n",
    "        acc_dic = biggroup_dic[j]\n",
    "        \n",
    "        # 대분류 필터링\n",
    "        filter_graph(acc_dic, acc_data, min_count, max_group, feature_list) # 사고율 별 1차 필터링\n",
    "        merge_big_graph(acc_dic, acc_data, max_group) # 대분류 2차 필터링\n",
    "        \n",
    "        # 중분류 필터링\n",
    "        for big_feature in acc_dic.keys(): # 대분류 별 진행\n",
    "            feature_list = []\n",
    "            print(big_list)\n",
    "            big_list = acc_dic[big_feature][0] # 대분류 리스트\n",
    "            mid_data = acc_data[acc_data['index'].isin(acc_dic[big_feature][1])] # 해당 대분류에 해당하는 데이터\n",
    "            \n",
    "            mid_dic = dict()\n",
    "            big_graph = acc_dic[big_feature]\n",
    "            \n",
    "            for b in big_list:\n",
    "                feature_list.append(i for i in class_dic[b].keys())\n",
    "            \n",
    "            # 중분류 필터링\n",
    "            filter_graph(acc_dic, acc_data, min_count, max_group, feature_list) # 중분류 1차 그래프 생성\n",
    "            merge_big_graph(acc_dic, acc_data, max_group) # 중분류 2차 필터링\n",
    "        \n",
    "            # 소분류도 중분류와 같은 방식으로 진행\n",
    "            # ...."
   ]
  },
  {
   "cell_type": "code",
   "execution_count": 34,
   "id": "6b3bf650",
   "metadata": {},
   "outputs": [
    {
     "data": {
      "text/plain": [
       "{1: {1: {}, 2: {}, 3: {}, 4: {}, 5: {}},\n",
       " 2: {1: {}, 2: {}, 3: {}, 4: {}, 5: {}},\n",
       " 3: {1: {}, 2: {}, 3: {}, 4: {}, 5: {}}}"
      ]
     },
     "execution_count": 34,
     "metadata": {},
     "output_type": "execute_result"
    }
   ],
   "source": [
    "graph"
   ]
  },
  {
   "cell_type": "markdown",
   "id": "07dbb62a",
   "metadata": {},
   "source": [
    "## 중복제거"
   ]
  },
  {
   "cell_type": "code",
   "execution_count": 35,
   "id": "6078eb85",
   "metadata": {},
   "outputs": [
    {
     "ename": "KeyError",
     "evalue": "0",
     "output_type": "error",
     "traceback": [
      "\u001b[1;31m---------------------------------------------------------------------------\u001b[0m",
      "\u001b[1;31mKeyError\u001b[0m                                  Traceback (most recent call last)",
      "Input \u001b[1;32mIn [35]\u001b[0m, in \u001b[0;36m<cell line: 3>\u001b[1;34m()\u001b[0m\n\u001b[0;32m     11\u001b[0m         feature_set[j]\u001b[38;5;241m.\u001b[39madd(feature)\n\u001b[0;32m     13\u001b[0m \u001b[38;5;28;01mfor\u001b[39;00m now \u001b[38;5;129;01min\u001b[39;00m \u001b[38;5;28mrange\u001b[39m(\u001b[38;5;28mlen\u001b[39m(feature_set)):\n\u001b[1;32m---> 14\u001b[0m     temp \u001b[38;5;241m=\u001b[39m \u001b[43mfeature_set\u001b[49m\u001b[43m[\u001b[49m\u001b[43mnow\u001b[49m\u001b[43m]\u001b[49m\n\u001b[0;32m     15\u001b[0m     \u001b[38;5;28;01mfor\u001b[39;00m other \u001b[38;5;129;01min\u001b[39;00m \u001b[38;5;28mrange\u001b[39m(\u001b[38;5;28mlen\u001b[39m(feature_set)):\n\u001b[0;32m     16\u001b[0m         \u001b[38;5;28;01mif\u001b[39;00m now \u001b[38;5;241m==\u001b[39m other:\n",
      "\u001b[1;31mKeyError\u001b[0m: 0"
     ]
    }
   ],
   "source": [
    "result = dict()\n",
    "\n",
    "for i in range(1,4): # 보험 별\n",
    "    biggroup_dic = graph[i]\n",
    "    feature_set = dict()\n",
    "        \n",
    "    for j in range(1, num_acc_group+1): # 사고율 별 feature 집합 구분\n",
    "        feature_set[j] = set()\n",
    "        \n",
    "        for feature in biggroup_dic[j].keys():\n",
    "            feature_set[j].add(feature)\n",
    "        \n",
    "    for now in range(len(feature_set)):\n",
    "        temp = feature_set[now]\n",
    "        for other in range(len(feature_set)):\n",
    "            if now == other:\n",
    "                continue\n",
    "            temp = temp.difference(feature_set[other])\n",
    "    \n",
    "        result[now] = temp\n"
   ]
  },
  {
   "cell_type": "markdown",
   "id": "ecd377bd",
   "metadata": {},
   "source": [
    "## 3) 검증\n",
    "- 모델: randomforest "
   ]
  },
  {
   "cell_type": "code",
   "execution_count": null,
   "id": "46738c7a",
   "metadata": {
    "scrolled": false
   },
   "outputs": [],
   "source": [
    "for i in range(1,4): # 보험 별\n",
    "    biggroup_dic = graph[i]\n",
    "    \n",
    "    for j in range(1, num_acc_group+1): # 사고율 별 F1-Score 계산 -> 높은 사고율만 할꺼니까 j 수정해야함. \n",
    "        answer = set(df[(df['보험종류'] == i) & (df['보험_사고율_등급'] == j)]['index'])\n",
    "        predict = set()\n",
    "        \n",
    "        acc_graph = biggroup_dic[j]\n",
    "        feature_set = set(acc_graph.keys())\n",
    "        \n",
    "        for feature_join in feature_set: # 각 조건 별 해당하는 index 추출 , 일단 나는 feature_set이 \n",
    "            f_dict = dict()\n",
    "            feature_pair = feature_join.split('-')\n",
    "            \n",
    "            for f in feature_pair:\n",
    "                feature = f.split('_')\n",
    "                f_dict[feature[0]] = feature[1]\n",
    "                \n",
    "            df_temp = df\n",
    "            for key, value in f_dict.items():\n",
    "                df_temp = df_temp[df_temp[key] == value]\n",
    "            \n",
    "            predict &= set(df_temp['index'])\n",
    "                \n",
    "        TP = len(answer & predict)\n",
    "        FP = len(predict - answer)\n",
    "        FN = len(answer - predict)\n",
    "        \n",
    "        precision = TP / (TP + FP)\n",
    "        recall = TP / (TP + FN)\n",
    "        f1_score = 2 * (precision * recall) / (precision + recall)\n",
    "    \n",
    "        print(f'{i}보험 {j}사고율에 해당하는 F1-Score : ', f1_score)"
   ]
  },
  {
   "cell_type": "markdown",
   "id": "3ba09dcd",
   "metadata": {},
   "source": [
    "1. graph signature자료구조 \n",
    "2. 각 df itterrow에 대해서 일치하는지 체크\n",
    "-> 각 string으로 만들고 하는게 나을지 ? in으로해서? \n",
    "3. 일치하면 label list에 1 로 채우기"
   ]
  },
  {
   "cell_type": "code",
   "execution_count": null,
   "id": "3717a833",
   "metadata": {},
   "outputs": [],
   "source": [
    "from sklearn.ensemble import RandomForestClassifier"
   ]
  },
  {
   "cell_type": "code",
   "execution_count": null,
   "id": "b885a8e8",
   "metadata": {
    "scrolled": false
   },
   "outputs": [],
   "source": [
    "for i in range(1,4): # 보험 별\n",
    "    biggroup_dic = graph[i]\n",
    "    \n",
    "    for j in range(1, num_acc_group+1): # 사고율 별 F1-Score 계산 -> 높은 사고율만 이니까 j 수정해야함. \n",
    "        answer = set(df[(df['보험종류'] == i) & (df['보험_사고율_등급'] == j)]['index'])\n",
    "        predict = []\n",
    "        \n",
    "        acc_graph = biggroup_dic[j]\n",
    "        feature_set = set(acc_graph.keys())#중복제거 위에서 한거 아니였나욥? \n",
    "        check = False\n",
    "        for row in df.iterrows():\n",
    "            \n",
    "            for feature_join in feature_set: # 각 조건 별 해당하는 index 추출\n",
    "                \n",
    "                feature_pair = feature_join.split('-')\n",
    "                \n",
    "                for f in feature_pair:\n",
    "                    feature = f.split('_')\n",
    "                    if row[feature[0]]!=feature[1]:\n",
    "                        check = False\n",
    "                        break\n",
    "                    else: \n",
    "                        check=True\n",
    "                if check==True:\n",
    "                    predict.append(1)\n",
    "                    break\n",
    "            if check==False:\n",
    "                predict.append(0)\n",
    "        \n",
    "                \n",
    "\n",
    "        TP = len(answer & predict)\n",
    "        FP = len(predict - answer)\n",
    "        FN = len(answer - predict)\n",
    "        \n",
    "        precision = TP / (TP + FP)\n",
    "        recall = TP / (TP + FN)\n",
    "        f1_score = 2 * (precision * recall) / (precision + recall)\n",
    "        \n",
    "        print(f'{i}보험 {j}사고율에 해당하는 F1-Score : ', f1_score)\n",
    "        print('TP',TP)\n",
    "        print('FP',FP)\n",
    "        print('FN',FN)"
   ]
  },
  {
   "cell_type": "code",
   "execution_count": null,
   "id": "184604a2",
   "metadata": {},
   "outputs": [],
   "source": [
    "from sklearn.ensemble import RandomForestClassifier\n",
    "from sklearn.metrics import accuracy_score, precision_score, recall_score, f1_score, plot_confusion_matrix"
   ]
  },
  {
   "cell_type": "code",
   "execution_count": null,
   "id": "15050fac",
   "metadata": {
    "scrolled": false
   },
   "outputs": [],
   "source": [
    "for i in range(1,4): # 보험 별\n",
    "    biggroup_dic = graph[i]\n",
    "    \n",
    "    for j in range(1, num_acc_group+1): # 사고율 별 F1-Score 계산 -> 높은 사고율만 이니까 j 수정해야함. \n",
    "        answer = set(df[(df['보험종류'] == i) & (df['보험_사고율_등급'] == j)]['index'])\n",
    "        \n",
    "        acc_graph = biggroup_dic[j]\n",
    "        feature_set = set(acc_graph.keys())#중복제거 위에서 한거 아니였나욥? \n",
    "        \n",
    "        feature_model = []\n",
    "        \n",
    "            \n",
    "        for feature_join in feature_set: # 각 조건 별 해당하는 index 추출\n",
    "\n",
    "            feature_pair = feature_join.split('-') # 특징 조각들 \n",
    "\n",
    "            for f in feature_pair:\n",
    "                feature = f.split('_')\n",
    "                feature_model.append(feature[0])\n",
    "                \n",
    "        rf = RandomForestClassifier(n_estimators=100, max_depth=5,random_state=0)\n",
    "        trainX = train_x[feature_model]\n",
    "        rf.fit(trainX,train_y)\n",
    "        \n",
    "        testX = testx[feature_model]\n",
    "        pre = rf.predict(testX)\n",
    "        \n",
    "        print(accuracy_score(test_y,pre))\n",
    "        print(confusion_matrix(test_y, pre)"
   ]
  },
  {
   "cell_type": "markdown",
   "id": "fb48004d",
   "metadata": {},
   "source": [
    "## 4) 평가 코드"
   ]
  },
  {
   "cell_type": "code",
   "execution_count": null,
   "id": "f0ffdcb2",
   "metadata": {},
   "outputs": [],
   "source": [
    "test_df = 'temp'\n",
    "\n",
    "# test도 같은 과정 거쳐서 생성되는 특징 set이 유사한지 살펴보기.. ?\n",
    "\n",
    "# 전처리\n",
    "df[\"보험료\"]=df[\"보험료\"].apply(lambda x: x.strip().replace(\",\",\"\")).astype(int)\n",
    "df[\"지급금액\"]=df[\"지급금액\"].apply(lambda x: x.strip().replace(\",\",\"\")).astype(int)\n",
    "\n",
    "df['생명보험사고율']=df[\"사고건수\"]/df[\"계약건수\"]\n",
    "df['장기보험사고율']=df[\"지급금액\"]/df[\"보험료\"]\n",
    "df['자동차보험사고율']= df[\"지급금액\"]/df[\"보험료\"]\n",
    "\n",
    "df.loc[:,'총사용건수_합'] = (df['총사용건수_A'].values+df['총사용건수_B'].values+df['총사용건수_C'].values+df['총사용건수_D'].values+df['총사용건수_E'].values)\n",
    "df.loc[:,'총사용금액_합'] = (df['총사용금액_A'].values+df['총사용금액_B'].values+df['총사용금액_C'].values+df['총사용금액_D'].values+df['총사용금액_E'].values)\n",
    "df.loc[:,'총_평균금액_합'] = df['총사용금액_합']/df['총사용건수_합']\n",
    "\n",
    "\n",
    "# 등급 생성\n",
    "# graph 생성 및 print "
   ]
  },
  {
   "cell_type": "code",
   "execution_count": null,
   "id": "4da5f439",
   "metadata": {},
   "outputs": [],
   "source": [
    "for big in class_dic.keys():\n",
    "    \n",
    "    if (\"매출건수합계_\"+big+\"_A\") not in df_columns:\n",
    "        print(big,'없음')\n",
    "        continue\n",
    "    tmp_count = []\n",
    "    tmp_money = []\n",
    "    for a in alpha:\n",
    "        tmp_count.append(\"매출건수합계_\"+big+\"_\"+a)\n",
    "        tmp_money.append(\"매출금액합계_\"+big+\"_\"+a)\n",
    "    \n",
    "    tmp_count_sum = df[tmp_count].sum(axis=1)\n",
    "    tmp_money_sum = df[tmp_money].sum(axis=1)\n",
    "    \n",
    "    total = tmp_money_sum/tmp_count_sum\n",
    "    df.loc[:,big+'_평균사용금액']= total\n",
    "    \n",
    "    for mid in class_dic[big].keys():\n",
    "        if (\"매출건수합계_\"+mid+\"_A\") not in df_columns:\n",
    "            print(big,'의 ',mid,'없음')\n",
    "            continue\n",
    "        tmp_count = []\n",
    "        tmp_money = []\n",
    "        for a in alpha:\n",
    "            tmp_count.append(\"매출건수합계_\"+mid+\"_\"+a)\n",
    "            tmp_money.append(\"매출금액합계_\"+mid+\"_\"+a)\n",
    "    \n",
    "        tmp_count_sum = df[tmp_count].sum(axis=1)\n",
    "        tmp_money_sum = df[tmp_money].sum(axis=1)\n",
    "        df.loc[:,mid+'_평균사용금액']= total\n",
    "        \n",
    "        for small in class_dic[big][mid]:\n",
    "            if (\"매출건수합계_\"+small+\"_A\") not in df_columns:\n",
    "                print(big,'의 ',mid,'의',small,'없음')\n",
    "                continue\n",
    "            tmp_count = []\n",
    "            tmp_money = []\n",
    "            for a in alpha:\n",
    "                tmp_count.append(\"매출건수합계_\"+small+\"_\"+a)\n",
    "                tmp_money.append(\"매출금액합계_\"+small+\"_\"+a)\n",
    "\n",
    "            tmp_count_sum = df[tmp_count].sum(axis=1)\n",
    "            tmp_money_sum = df[tmp_money].sum(axis=1)\n",
    "            df.loc[:,small+'_평균사용금액']= total\n",
    "    "
   ]
  },
  {
   "cell_type": "code",
   "execution_count": null,
   "id": "1d6caf0d",
   "metadata": {},
   "outputs": [],
   "source": [
    "df.loc[:,\"생명보험사고율_등급\"]=df[\"생명보험사고율\"].apply(grade_apply,args=(grade_list_1,)) # apply 작성\n",
    "df.loc[:,\"장기보험사고율_등급\"]=df[\"장기보험사고율\"].apply(grade_apply,args=(grade_list_2,)) # apply 작성\n",
    "df.loc[:,\"자동차보험사고율_등급\"]=df[\"자동차보험사고율\"].apply(grade_apply,args=(grade_list_3,)) # apply 작성"
   ]
  },
  {
   "cell_type": "code",
   "execution_count": null,
   "id": "d4ca12fa",
   "metadata": {},
   "outputs": [],
   "source": [
    "graph_test = {}\n",
    "num_acc_group = 5\n",
    "max_group = 2\n",
    "min_count = 0\n",
    "\n",
    "for i in range(1,4):\n",
    "    insurance_data = df[df['보험종류']==i]\n",
    "    \n",
    "    graph[i] = dict()\n",
    "    biggroup_dic = graph[i]\n",
    "    for j in range(1, num_acc_group+1): # 사고율 별 계산\n",
    "        if j==1 :\n",
    "            name = \"생명보험사고율_등급\"\n",
    "            acc_data = insurance_data[insurance_data['생명보험사고율_등급']==j]\n",
    "        elif j==2 :\n",
    "            name = \"장기보험사고율_등급\"\n",
    "            acc_data = insurance_data[insurance_data['장기보험사고율_등급']==j]\n",
    "        else:\n",
    "            name = \"자동차보험사고율_등급\"\n",
    "            acc_data = insurance_data[insurance_data['자동차보험사고율_등급']==j]\n",
    "            \n",
    "        \n",
    "        \n",
    "        biggroup_dic[j] = dict()\n",
    "        acc_dic = biggroup_dic[j]\n",
    "        \n",
    "        # 대분류 필터링\n",
    "        filter_graph(acc_dic, acc_data, min_count, max_group, feature_list) # 사고율 별 1차 필터링\n",
    "        merge_big_graph(acc_dic, acc_data, max_group) # 대분류 2차 필터링\n",
    "        \n",
    "        # 중분류 필터링\n",
    "        for big_feature in acc_dic.keys(): # 대분류 별 진행\n",
    "            feature_list = []\n",
    "            print(big_list)\n",
    "            big_list = acc_dic[big_feature][0] # 대분류 리스트\n",
    "            mid_data = acc_data[acc_data['index'].isin(acc_dic[big_feature][1])] # 해당 대분류에 해당하는 데이터\n",
    "            \n",
    "            mid_dic = dict()\n",
    "            big_graph = acc_dic[big_feature]\n",
    "            \n",
    "            for b in big_list:\n",
    "                feature_list.append(i for i in class_dic[b].keys())\n",
    "            \n",
    "            # 중분류 필터링\n",
    "            filter_graph(acc_dic, acc_data, min_count, max_group, feature_list) # 중분류 1차 그래프 생성\n",
    "            merge_big_graph(acc_dic, acc_data, max_group) # 중분류 2차 필터링\n",
    "        \n",
    "            # 소분류도 중분류와 같은 방식으로 진행\n",
    "            # ...."
   ]
  },
  {
   "cell_type": "markdown",
   "id": "b3e816bb",
   "metadata": {},
   "source": [
    "## 5) 그래프 그리기"
   ]
  },
  {
   "cell_type": "code",
   "execution_count": 329,
   "id": "64b6686f",
   "metadata": {},
   "outputs": [],
   "source": [
    "import networkx as nx\n",
    "import matplotlib.pyplot as plt\n",
    "\n",
    "def draw_graph(graph, ensurance, file_name): # 임시 코드 (현재 데이터로 그래프 생성 불가)\n",
    "    G = nx.DiGraph()\n",
    "\n",
    "    def add_edges(graph, node, parent_node=None):\n",
    "        if parent_node:\n",
    "            G.add_edge(parent_node, node)\n",
    "        for child_node, value in graph[node].items():\n",
    "            G.add_edge(node, child_node)\n",
    "            add_edges(graph[node], child_node, node)\n",
    "\n",
    "    add_edges(graph, list(graph.keys())[0])\n",
    "\n",
    "    pos = nx.spring_layout(G)\n",
    "    nx.draw_networkx(G, pos, with_labels=True, node_color='lightblue', node_size=500, \\\n",
    "                     font_size=12, edge_color='gray',\\\n",
    "                     width=1.0, arrowsize=15, arrowstyle='->')\n",
    "\n",
    "    plt.axis('off')\n",
    "    plt.save(f'./figure/{ensurance}/{file_name}_graph.jpeg')\n",
    "    plt.show()"
   ]
  },
  {
   "cell_type": "code",
   "execution_count": null,
   "id": "8456230a",
   "metadata": {},
   "outputs": [],
   "source": [
    "for i in range(1,4): # 보험 별 그래프 생성\n",
    "    biggroup_dic = graph[i]\n",
    "    \n",
    "    for j in range(1, num_acc_group+1): # 사고율 별 그래프 생성\n",
    "        acc_graph = biggroup_dic[j]\n",
    "        draw_graph(acc_graph, i, j) # 폴더이름은 추후 변경"
   ]
  }
 ],
 "metadata": {
  "kernelspec": {
   "display_name": "Python 3 (ipykernel)",
   "language": "python",
   "name": "python3"
  },
  "language_info": {
   "codemirror_mode": {
    "name": "ipython",
    "version": 3
   },
   "file_extension": ".py",
   "mimetype": "text/x-python",
   "name": "python",
   "nbconvert_exporter": "python",
   "pygments_lexer": "ipython3",
   "version": "3.9.12"
  }
 },
 "nbformat": 4,
 "nbformat_minor": 5
}
