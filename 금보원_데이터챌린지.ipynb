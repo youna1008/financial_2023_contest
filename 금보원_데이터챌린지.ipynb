{
 "cells": [
  {
   "cell_type": "markdown",
   "id": "bbd593fb",
   "metadata": {},
   "source": [
    "# 금보원 데이터챌린지_계획서 제출 코드"
   ]
  },
  {
   "cell_type": "markdown",
   "id": "9e2d3b73",
   "metadata": {},
   "source": [
    "## 1. 데이터셋 및 라이브러리 불러오기"
   ]
  },
  {
   "cell_type": "code",
   "execution_count": 1,
   "id": "d43e5b9c",
   "metadata": {},
   "outputs": [],
   "source": [
    "import pandas as pd"
   ]
  },
  {
   "cell_type": "code",
   "execution_count": 2,
   "id": "e5bdfbff",
   "metadata": {},
   "outputs": [],
   "source": [
    "samsung = pd.read_csv(r\"E:\\금보원_데이터챌린지대회\\삼성카드_data.csv\",encoding='cp949')\n",
    "insurance = pd.read_csv(r\"E:\\금보원_데이터챌린지대회\\보험개발원_data.csv\",encoding='cp949')\n",
    "class_name = pd.read_csv('./카드_대중소분류.csv',encoding='cp949')"
   ]
  },
  {
   "cell_type": "markdown",
   "id": "34ce26fa",
   "metadata": {},
   "source": [
    "### 데이터셋 concat"
   ]
  },
  {
   "cell_type": "code",
   "execution_count": 3,
   "id": "42e2dbfe",
   "metadata": {},
   "outputs": [],
   "source": [
    "df= pd.concat([samsung, insurance], axis=1)"
   ]
  },
  {
   "cell_type": "code",
   "execution_count": 38,
   "id": "8fd179a7",
   "metadata": {
    "scrolled": true
   },
   "outputs": [
    {
     "name": "stdout",
     "output_type": "stream",
     "text": [
      "<class 'pandas.core.frame.DataFrame'>\n",
      "RangeIndex: 10 entries, 0 to 9\n",
      "Columns: 405 entries, 기준년도 to 자동차보험가입경력\n",
      "dtypes: float64(3), int64(391), object(11)\n",
      "memory usage: 31.8+ KB\n"
     ]
    }
   ],
   "source": [
    "df.info()"
   ]
  },
  {
   "cell_type": "code",
   "execution_count": 4,
   "id": "bdd2e842",
   "metadata": {},
   "outputs": [],
   "source": [
    "df.fillna(0,inplace=True)"
   ]
  },
  {
   "cell_type": "markdown",
   "id": "9eb03fb3",
   "metadata": {},
   "source": [
    "## 생명 보험 1, 장기 보험 2, 자동차 보험 3"
   ]
  },
  {
   "cell_type": "code",
   "execution_count": 4,
   "id": "389269b7",
   "metadata": {},
   "outputs": [],
   "source": [
    "df[\"보험료\"]=df[\"보험료\"].apply(lambda x: x.strip().replace(\",\",\"\")).astype(int)\n",
    "df[\"지급금액\"]=df[\"지급금액\"].apply(lambda x: x.strip().replace(\",\",\"\")).astype(int)\n",
    "\n",
    "df['생명보험사고율']=df[\"사고건수\"]/df[\"계약건수\"]\n",
    "df['장기보험사고율']=df[\"지급금액\"]/df[\"보험료\"]\n",
    "df['자동차보험사고율']= df[\"지급금액\"]/df[\"보험료\"]"
   ]
  },
  {
   "cell_type": "code",
   "execution_count": 31,
   "id": "ac312460",
   "metadata": {},
   "outputs": [],
   "source": [
    "def grade_acc(row):\n",
    "    if row['보험종류'] == 1:\n",
    "        ratio=row[\"생명보험사고율\"]\n",
    "    \n",
    "    else:\n",
    "        ratio=row[\"장기보험사고율\"]\n",
    "        \n",
    "    if ratio <= 0.2:\n",
    "            return 0\n",
    "    elif ratio <= 0.4:\n",
    "        return 1\n",
    "\n",
    "    elif ratio <= 0.6:\n",
    "        return 2\n",
    "\n",
    "    elif ratio <= 0.8:\n",
    "        return 3  \n",
    "    else:\n",
    "        return 4 \n",
    "\n",
    "    \n",
    "    return 4"
   ]
  },
  {
   "cell_type": "code",
   "execution_count": 26,
   "id": "d50329c8",
   "metadata": {},
   "outputs": [],
   "source": [
    "df[\"보험_사고율_등급\"]= df.apply(grade_acc, axis=1)"
   ]
  },
  {
   "cell_type": "code",
   "execution_count": 32,
   "id": "ef6fe0e4",
   "metadata": {
    "scrolled": true
   },
   "outputs": [
    {
     "name": "stdout",
     "output_type": "stream",
     "text": [
      "0.0    4\n",
      "1.0    1\n",
      "Name: 생명보험사고율, dtype: int64\n",
      "0.0     1\n",
      "40.0    1\n",
      "Name: 장기보험사고율, dtype: int64\n",
      "35.00    1\n",
      "43.75    1\n",
      "0.00     1\n",
      "Name: 자동차보험사고율, dtype: int64\n"
     ]
    }
   ],
   "source": [
    "print(df[df['보험종류']==1]['생명보험사고율'].value_counts())\n",
    "print(df[df['보험종류']==2]['장기보험사고율'].value_counts())\n",
    "print(df[df['보험종류']==3]['자동차보험사고율'].value_counts())"
   ]
  },
  {
   "cell_type": "code",
   "execution_count": 78,
   "id": "ec51f1cc",
   "metadata": {
    "scrolled": false
   },
   "outputs": [
    {
     "data": {
      "text/html": [
       "<div>\n",
       "<style scoped>\n",
       "    .dataframe tbody tr th:only-of-type {\n",
       "        vertical-align: middle;\n",
       "    }\n",
       "\n",
       "    .dataframe tbody tr th {\n",
       "        vertical-align: top;\n",
       "    }\n",
       "\n",
       "    .dataframe thead th {\n",
       "        text-align: right;\n",
       "    }\n",
       "</style>\n",
       "<table border=\"1\" class=\"dataframe\">\n",
       "  <thead>\n",
       "    <tr style=\"text-align: right;\">\n",
       "      <th></th>\n",
       "      <th>보험종류</th>\n",
       "      <th>보험_사고율_등급</th>\n",
       "      <th>사고건수</th>\n",
       "      <th>계약건수</th>\n",
       "      <th>생명보험사고율</th>\n",
       "    </tr>\n",
       "  </thead>\n",
       "  <tbody>\n",
       "    <tr>\n",
       "      <th>0</th>\n",
       "      <td>1</td>\n",
       "      <td>0</td>\n",
       "      <td>0</td>\n",
       "      <td>0.5</td>\n",
       "      <td>0.00</td>\n",
       "    </tr>\n",
       "    <tr>\n",
       "      <th>1</th>\n",
       "      <td>1</td>\n",
       "      <td>0</td>\n",
       "      <td>0</td>\n",
       "      <td>1.0</td>\n",
       "      <td>0.00</td>\n",
       "    </tr>\n",
       "    <tr>\n",
       "      <th>2</th>\n",
       "      <td>1</td>\n",
       "      <td>4</td>\n",
       "      <td>1</td>\n",
       "      <td>1.0</td>\n",
       "      <td>1.00</td>\n",
       "    </tr>\n",
       "    <tr>\n",
       "      <th>3</th>\n",
       "      <td>1</td>\n",
       "      <td>0</td>\n",
       "      <td>0</td>\n",
       "      <td>1.0</td>\n",
       "      <td>0.00</td>\n",
       "    </tr>\n",
       "    <tr>\n",
       "      <th>4</th>\n",
       "      <td>2</td>\n",
       "      <td>0</td>\n",
       "      <td>0</td>\n",
       "      <td>2.0</td>\n",
       "      <td>0.00</td>\n",
       "    </tr>\n",
       "    <tr>\n",
       "      <th>5</th>\n",
       "      <td>2</td>\n",
       "      <td>4</td>\n",
       "      <td>2</td>\n",
       "      <td>1.0</td>\n",
       "      <td>2.00</td>\n",
       "    </tr>\n",
       "    <tr>\n",
       "      <th>6</th>\n",
       "      <td>3</td>\n",
       "      <td>4</td>\n",
       "      <td>1</td>\n",
       "      <td>0.8</td>\n",
       "      <td>1.25</td>\n",
       "    </tr>\n",
       "    <tr>\n",
       "      <th>7</th>\n",
       "      <td>3</td>\n",
       "      <td>4</td>\n",
       "      <td>1</td>\n",
       "      <td>1.0</td>\n",
       "      <td>1.00</td>\n",
       "    </tr>\n",
       "    <tr>\n",
       "      <th>8</th>\n",
       "      <td>3</td>\n",
       "      <td>0</td>\n",
       "      <td>0</td>\n",
       "      <td>1.0</td>\n",
       "      <td>0.00</td>\n",
       "    </tr>\n",
       "    <tr>\n",
       "      <th>9</th>\n",
       "      <td>1</td>\n",
       "      <td>0</td>\n",
       "      <td>0</td>\n",
       "      <td>1.0</td>\n",
       "      <td>0.00</td>\n",
       "    </tr>\n",
       "  </tbody>\n",
       "</table>\n",
       "</div>"
      ],
      "text/plain": [
       "   보험종류  보험_사고율_등급  사고건수  계약건수  생명보험사고율\n",
       "0     1          0     0   0.5     0.00\n",
       "1     1          0     0   1.0     0.00\n",
       "2     1          4     1   1.0     1.00\n",
       "3     1          0     0   1.0     0.00\n",
       "4     2          0     0   2.0     0.00\n",
       "5     2          4     2   1.0     2.00\n",
       "6     3          4     1   0.8     1.25\n",
       "7     3          4     1   1.0     1.00\n",
       "8     3          0     0   1.0     0.00\n",
       "9     1          0     0   1.0     0.00"
      ]
     },
     "execution_count": 78,
     "metadata": {},
     "output_type": "execute_result"
    }
   ],
   "source": [
    "df[['보험종류', '보험_사고율_등급', '사고건수', '계약건수', '생명보험사고율']]"
   ]
  },
  {
   "cell_type": "markdown",
   "id": "5d3fb9ba",
   "metadata": {},
   "source": [
    "사고율 feature 추가"
   ]
  },
  {
   "cell_type": "markdown",
   "id": "663a1867",
   "metadata": {},
   "source": [
    "## 2. 데이터 분석 "
   ]
  },
  {
   "cell_type": "markdown",
   "id": "2b0335e3",
   "metadata": {},
   "source": [
    "## 3. feature 생성\n",
    "\n",
    "- 평균 매출 금액 = 매출 금액 합 / 매출 금액 건수"
   ]
  },
  {
   "cell_type": "markdown",
   "id": "904856d7",
   "metadata": {},
   "source": [
    "0. feature 대분류 dictionary 만들기"
   ]
  },
  {
   "cell_type": "code",
   "execution_count": 6,
   "id": "28a949d0",
   "metadata": {
    "scrolled": true
   },
   "outputs": [
    {
     "name": "stdout",
     "output_type": "stream",
     "text": [
      "{'쇼핑': {'문구사무용품': {'문구사무용품'}, '면세점': {'면세점'}, '아울렛': {'아울렛'}, '마트/할인점': {'대형마트/할인점', '마트'}, '스포츠의류용품': {'스포츠의류용품'}, '가전': {'가전'}, '쇼핑기타': {'방문판매'}, '패션잡화': {'패션잡화'}, '백화점': {'백화점'}, '의류': {'의류'}, '자': {'주류판매점'}, '화장품': {'화장품', '미용용품'}, '온라인쇼핑': {'오픈마켓', '종합몰', 'PG_일반인증', '기타쇼핑몰', '홈쇼핑'}, '상품권': {'상품권'}, '편의점': {'연금_복지매장', '편의점'}}, '생활': {'공과금': {'국세', '공공요금', '지방세'}, '가례': {'가례'}, '정기결제': {'4대보험', '전기', '통신비', '도시가스', '관리비'}, '보험': {'생명보험', '손해보험'}, '주생활관리': {'주생활관리'}, '인테리어': {'인테리어'}}, '유흥': {'유흥': {'유흥'}}, '여행': {'교통': {'고속버스', '철도', '여객선', '항공', '렌터카', '고속도로휴게실'}, '숙박': {'여관', '호텔', '콘도', '캠프장'}, '여행상품': {'관광여행사'}}, '자동차': {'주차': {'주차장'}, '차량구매': {'중고차', '수입차', '국산차', '오토바이'}, '대중교통': {'통행료', '택시', '버스/지하철'}, '주유': {'주유'}, '차량관리': {'차량관리'}}, '여가': {'동물병원': {'동물병원'}, '놀이공원': {'놀이공원'}, '취미': {'취미시설', '취미용품'}, '관람': {'관람_기타', '영화'}, '스포츠시설': {'스포츠시설'}, '골프장': {'골프장', '실내외골프연습장'}}, '건강': {'병원': {'이비인후과', '양방종합', '치과', '안과', '피부비뇨기과', '한방종합', '내과', '비뇨기과', '보건소', '기타외과', '한의원', '산부인과_조산원', '성형외과', '피부과', '양한방종합', '방사선과'}, '뷰티': {'미용실', '미용관리', '이발소'}, '건강보조': {'건강보조식품', '안경', '산후조리원', '의료기기용품', '요양원', '양약국'}}, '요식': {'커피/음료': {'커피/음료'}, '제과점': {'제과점_아이스크림점'}, '음식점': {'간이음식점', '주점', '부페', '한식', '일식', '양식', '중식', '패스트푸드점'}, '배달앱': {'배달앱'}}, '교육': {'교육기타': {'교육기타'}, '학원': {'문리계학원', '기능학원', '외국어학원', '예체능계학원'}, '학교': {'대학교', '특수학교', '초_중_고등학교'}, '서적': {'서적'}, '유아교육': {'유아교육'}}}\n"
     ]
    }
   ],
   "source": [
    "big_group = set(class_name['대'])\n",
    "\n",
    "class_dic = {}\n",
    "\n",
    "for big in big_group:\n",
    "    class_dic[big] = {}\n",
    "    \n",
    "    middle_group = set(class_name[class_name['대']==big]['중'])\n",
    "    \n",
    "    for middle in middle_group:\n",
    "        small_group = set(class_name[(class_name['대']==big) & (class_name['중']==middle)]['소'])\n",
    "        class_dic[big][middle] = small_group\n",
    "\n",
    "print(class_dic)"
   ]
  },
  {
   "cell_type": "markdown",
   "id": "415352e8",
   "metadata": {},
   "source": [
    "1) 대분류별 데이터셋 생성"
   ]
  },
  {
   "cell_type": "code",
   "execution_count": 12,
   "id": "1b65ae42",
   "metadata": {},
   "outputs": [
    {
     "data": {
      "text/plain": [
       "{'건강', '교육', '생활', '쇼핑', '여가', '여행', '요식', '유흥', '자동차'}"
      ]
     },
     "execution_count": 12,
     "metadata": {},
     "output_type": "execute_result"
    }
   ],
   "source": [
    "big_group"
   ]
  },
  {
   "cell_type": "code",
   "execution_count": 7,
   "id": "97330774",
   "metadata": {},
   "outputs": [],
   "source": [
    "big_list = list(big_group)#[\"요식\",\"자동차\",\"교육\",\"건강\",\"여가\",\"생활\",\"유흥\",\"쇼핑\",\"여행\"]"
   ]
  },
  {
   "cell_type": "code",
   "execution_count": 8,
   "id": "3b5f46b1",
   "metadata": {},
   "outputs": [],
   "source": [
    "alpha = [\"A\",\"B\",\"C\",\"D\",\"E\",\"F\",\"G\"]"
   ]
  },
  {
   "cell_type": "code",
   "execution_count": 9,
   "id": "61404a6e",
   "metadata": {},
   "outputs": [],
   "source": [
    "data = df[['기준년도', 'AGE', 'GENDER', 'JOB', 'INCOME', 'HOM_MGPO', 'HOM_SGG',\n",
    "       'OFFI_MGPO', 'OFFI_SGG', 'ONEPER_GD_C', 'EST_LFSTG', 'UMRD_SCORE',\n",
    "       'WEDD_EXP_SCORE', 'CHDB_EXP_SCORE', 'PSCH_OCH_SCORE', 'ESTUD_OCH_SCORE',\n",
    "       'MHSTUD_OCH_SCORE', 'CSTUD_OCH_SCORE', 'OCH_WEDD_EXP_SCORE',\n",
    "       'HOUSEWF_SCORE', 'ONL_PRSN', 'ERADP_TNDC', 'PRMM_CSM_TNDC', 'MDLV_PRSN',\n",
    "       'PET_PRSN', 'ODS_ACTI_INRT_TNDC', 'FRN_TRV_INRT_TNDC',\n",
    "       'INTERI_SLNG_TNDC', 'INTERI_REMDL_TNDC', 'HL_MNGT_INRT_TNDC']].copy()"
   ]
  },
  {
   "cell_type": "code",
   "execution_count": 10,
   "id": "45edadc2",
   "metadata": {
    "scrolled": false
   },
   "outputs": [],
   "source": [
    "df.loc[:,'총사용건수_합'] = (df['총사용건수_A'].values+df['총사용건수_B'].values+df['총사용건수_C'].values+df['총사용건수_D'].values+df['총사용건수_E'].values)\n",
    "df.loc[:,'총사용금액_합'] = (df['총사용금액_A'].values+df['총사용금액_B'].values+df['총사용금액_C'].values+df['총사용금액_D'].values+df['총사용금액_E'].values)\n",
    "df.loc[:,'총_평균금액_합'] = df['총사용금액_합']/df['총사용건수_합']"
   ]
  },
  {
   "cell_type": "code",
   "execution_count": 34,
   "id": "2cfaeae4",
   "metadata": {},
   "outputs": [
    {
     "data": {
      "text/html": [
       "<div>\n",
       "<style scoped>\n",
       "    .dataframe tbody tr th:only-of-type {\n",
       "        vertical-align: middle;\n",
       "    }\n",
       "\n",
       "    .dataframe tbody tr th {\n",
       "        vertical-align: top;\n",
       "    }\n",
       "\n",
       "    .dataframe thead th {\n",
       "        text-align: right;\n",
       "    }\n",
       "</style>\n",
       "<table border=\"1\" class=\"dataframe\">\n",
       "  <thead>\n",
       "    <tr style=\"text-align: right;\">\n",
       "      <th></th>\n",
       "      <th>기준년도</th>\n",
       "      <th>AGE</th>\n",
       "      <th>GENDER</th>\n",
       "      <th>JOB</th>\n",
       "      <th>INCOME</th>\n",
       "      <th>HOM_MGPO</th>\n",
       "      <th>HOM_SGG</th>\n",
       "      <th>OFFI_MGPO</th>\n",
       "      <th>OFFI_SGG</th>\n",
       "      <th>ONEPER_GD_C</th>\n",
       "      <th>...</th>\n",
       "      <th>보장내용</th>\n",
       "      <th>계약건수</th>\n",
       "      <th>보험료</th>\n",
       "      <th>사고건수</th>\n",
       "      <th>지급금액</th>\n",
       "      <th>자동차국외산구분코드</th>\n",
       "      <th>자동차보험가입경력</th>\n",
       "      <th>생명보험사고율</th>\n",
       "      <th>장기보험사고율</th>\n",
       "      <th>자동차보험사고율</th>\n",
       "    </tr>\n",
       "  </thead>\n",
       "  <tbody>\n",
       "    <tr>\n",
       "      <th>0</th>\n",
       "      <td>2018</td>\n",
       "      <td>A</td>\n",
       "      <td>M</td>\n",
       "      <td>A</td>\n",
       "      <td>A</td>\n",
       "      <td>Seoul</td>\n",
       "      <td>Jung-gu</td>\n",
       "      <td>Seoul</td>\n",
       "      <td>Dongdaemun-gu</td>\n",
       "      <td>5</td>\n",
       "      <td>...</td>\n",
       "      <td>1</td>\n",
       "      <td>0.5</td>\n",
       "      <td>13000</td>\n",
       "      <td>0</td>\n",
       "      <td>0</td>\n",
       "      <td>NaN</td>\n",
       "      <td>NaN</td>\n",
       "      <td>0.0</td>\n",
       "      <td>0.0</td>\n",
       "      <td>0.0</td>\n",
       "    </tr>\n",
       "  </tbody>\n",
       "</table>\n",
       "<p>1 rows × 408 columns</p>\n",
       "</div>"
      ],
      "text/plain": [
       "   기준년도 AGE GENDER JOB INCOME HOM_MGPO  HOM_SGG OFFI_MGPO       OFFI_SGG  \\\n",
       "0  2018   A      M   A      A    Seoul  Jung-gu     Seoul  Dongdaemun-gu   \n",
       "\n",
       "   ONEPER_GD_C  ... 보장내용  계약건수    보험료  사고건수  지급금액  자동차국외산구분코드  자동차보험가입경력  \\\n",
       "0            5  ...    1   0.5  13000     0     0         NaN        NaN   \n",
       "\n",
       "   생명보험사고율  장기보험사고율  자동차보험사고율  \n",
       "0      0.0      0.0       0.0  \n",
       "\n",
       "[1 rows x 408 columns]"
      ]
     },
     "execution_count": 34,
     "metadata": {},
     "output_type": "execute_result"
    }
   ],
   "source": [
    "df.head(1)"
   ]
  },
  {
   "cell_type": "code",
   "execution_count": 35,
   "id": "2d573a3a",
   "metadata": {
    "scrolled": true
   },
   "outputs": [
    {
     "data": {
      "text/plain": [
       "Index(['기준년도', 'AGE', 'GENDER', 'JOB', 'INCOME', 'HOM_MGPO', 'HOM_SGG',\n",
       "       'OFFI_MGPO', 'OFFI_SGG', 'ONEPER_GD_C', 'EST_LFSTG', 'UMRD_SCORE',\n",
       "       'WEDD_EXP_SCORE', 'CHDB_EXP_SCORE', 'PSCH_OCH_SCORE', 'ESTUD_OCH_SCORE',\n",
       "       'MHSTUD_OCH_SCORE', 'CSTUD_OCH_SCORE', 'OCH_WEDD_EXP_SCORE',\n",
       "       'HOUSEWF_SCORE', 'ONL_PRSN', 'ERADP_TNDC', 'PRMM_CSM_TNDC', 'MDLV_PRSN',\n",
       "       'PET_PRSN', 'ODS_ACTI_INRT_TNDC', 'FRN_TRV_INRT_TNDC',\n",
       "       'INTERI_SLNG_TNDC', 'INTERI_REMDL_TNDC', 'HL_MNGT_INRT_TNDC', '총사용건수_A',\n",
       "       '총사용건수_B', '총사용건수_C', '총사용건수_D', '총사용건수_E', '총사용건수_F', '총사용건수_G',\n",
       "       '매출건수합계_요식_A', '매출건수합계_요식_B', '매출건수합계_요식_C', '매출건수합계_요식_D',\n",
       "       '매출건수합계_요식_E', '매출건수합계_요식_F', '매출건수합계_요식_G', '매출건수합계_자동차_A',\n",
       "       '매출건수합계_자동차_B', '매출건수합계_자동차_C', '매출건수합계_자동차_D', '매출건수합계_자동차_E',\n",
       "       '매출건수합계_자동차_F', '매출건수합계_자동차_G', '매출건수합계_교육_A', '매출건수합계_교육_B',\n",
       "       '매출건수합계_교육_C', '매출건수합계_교육_D', '매출건수합계_교육_E', '매출건수합계_교육_F',\n",
       "       '매출건수합계_교육_G', '매출건수합계_건강_A', '매출건수합계_건강_B', '매출건수합계_건강_C',\n",
       "       '매출건수합계_건강_D', '매출건수합계_건강_E', '매출건수합계_건강_F', '매출건수합계_건강_G',\n",
       "       '매출건수합계_여가_A', '매출건수합계_여가_B', '매출건수합계_여가_C', '매출건수합계_여가_D',\n",
       "       '매출건수합계_여가_E', '매출건수합계_여가_F', '매출건수합계_여가_G', '매출건수합계_생활_A',\n",
       "       '매출건수합계_생활_B', '매출건수합계_생활_C', '매출건수합계_생활_D', '매출건수합계_생활_E',\n",
       "       '매출건수합계_생활_F', '매출건수합계_생활_G', '매출건수합계_유흥_A', '매출건수합계_유흥_B',\n",
       "       '매출건수합계_유흥_C', '매출건수합계_유흥_D', '매출건수합계_유흥_E', '매출건수합계_유흥_F',\n",
       "       '매출건수합계_유흥_G', '매출건수합계_쇼핑_A', '매출건수합계_쇼핑_B', '매출건수합계_쇼핑_C',\n",
       "       '매출건수합계_쇼핑_D', '매출건수합계_쇼핑_E', '매출건수합계_쇼핑_F', '매출건수합계_쇼핑_G',\n",
       "       '매출건수합계_여행_A', '매출건수합계_여행_B', '매출건수합계_여행_C', '매출건수합계_여행_D',\n",
       "       '매출건수합계_여행_E', '매출건수합계_여행_F', '매출건수합계_여행_G'],\n",
       "      dtype='object')"
      ]
     },
     "execution_count": 35,
     "metadata": {},
     "output_type": "execute_result"
    }
   ],
   "source": [
    "df.columns[:100]"
   ]
  },
  {
   "cell_type": "code",
   "execution_count": 12,
   "id": "03e97670",
   "metadata": {},
   "outputs": [],
   "source": [
    "df_columns = df.columns"
   ]
  },
  {
   "cell_type": "markdown",
   "id": "f669c1a4",
   "metadata": {},
   "source": [
    "for big in class_dic.keys():\n",
    "    df.loc[:,big+'_총사용건수_합']=0\n",
    "    df.loc[:,big+'_총사용금액_합']=0\n",
    "    for a in alpha:\n",
    "        df.loc[:,big+'_총사용건수_합'] += df[\"매출건수합계_\"+big+\"_\"+a].values\n",
    "        df.loc[:,big+'_총사용금액_합'] += df[\"매출금액합계_\"+big+\"_\"+a].values\n",
    "    df.loc[:,big+'_평균사용금액']= df[big+'_총사용금액_합']/df[big+'_총사용건수_합']\n",
    "    for mid in class_dic[big].keys():\n",
    "        df.loc[:,mid+'_총사용건수_합']=0\n",
    "        df.loc[:,mid+'_총사용금액_합']=0\n",
    "        if mid not in df_columns:\n",
    "            print(big,'의',mid,'없음')\n",
    "            continue\n",
    "        for a in alpha:\n",
    "            df.loc[:,mid+'_총사용건수_합'] += df[\"매출건수합계_\"+mid+\"_\"+a].values\n",
    "            df.loc[:,mid+'_총사용금액_합'] += df[\"매출금액합계_\"+mid+\"_\"+a].values\n",
    "        df.loc[:,mid+'_평균사용금액']= df[mid+'_총사용금액_합']/df[mid+'_총사용건수_합']\n",
    "        for small in class_dic[big][mid]:\n",
    "            df.loc[:,small+'_총사용건수_합']=0\n",
    "            df.loc[:,small+'_총사용금액_합']=0\n",
    "            if small in df_columns:\n",
    "                for a in alpha:\n",
    "                    df.loc[:,small+'_총사용건수_합'] += df[\"매출건수합계_\"+small+\"_\"+a].values\n",
    "                    df.loc[:,small+'_총사용금액_합'] += df[\"매출금액합계_\"+small+\"_\"+a].values\n",
    "                df.loc[:,small+'_평균사용금액']= df[small+'_총사용금액_합']/df[small+'_총사용건수_합']\n",
    "            else:\n",
    "                print(big,'의',mid,'의 ',small,'없음')\n",
    "            "
   ]
  },
  {
   "cell_type": "code",
   "execution_count": 13,
   "id": "0a1dd753",
   "metadata": {
    "scrolled": true
   },
   "outputs": [
    {
     "name": "stdout",
     "output_type": "stream",
     "text": [
      "쇼핑 의  문구사무용품 없음\n",
      "쇼핑 의  면세점 없음\n",
      "쇼핑 의  아울렛 없음\n",
      "쇼핑 의  마트/할인점 없음\n",
      "쇼핑 의  스포츠의류용품 없음\n",
      "쇼핑 의  가전 없음\n",
      "쇼핑 의  쇼핑기타 없음\n",
      "쇼핑 의  패션잡화 없음\n",
      "쇼핑 의  백화점 없음\n",
      "쇼핑 의  의류 없음\n",
      "쇼핑 의  자 없음\n",
      "쇼핑 의  화장품 없음\n",
      "쇼핑 의  온라인쇼핑 의 오픈마켓 없음\n",
      "쇼핑 의  온라인쇼핑 의 종합몰 없음\n",
      "쇼핑 의  온라인쇼핑 의 PG_일반인증 없음\n",
      "쇼핑 의  온라인쇼핑 의 기타쇼핑몰 없음\n",
      "쇼핑 의  온라인쇼핑 의 홈쇼핑 없음\n",
      "쇼핑 의  상품권 없음\n",
      "쇼핑 의  편의점 없음\n",
      "생활 의  공과금 없음\n",
      "생활 의  가례 없음\n",
      "생활 의  정기결제 없음\n",
      "생활 의  보험 없음\n",
      "생활 의  주생활관리 없음\n",
      "생활 의  인테리어 없음\n",
      "여행 의  교통 없음\n",
      "여행 의  숙박 없음\n",
      "여행 의  여행상품 없음\n",
      "자동차 의  주차 의 주차장 없음\n",
      "자동차 의  차량구매 의 중고차 없음\n",
      "자동차 의  차량구매 의 수입차 없음\n",
      "자동차 의  차량구매 의 국산차 없음\n",
      "자동차 의  차량구매 의 오토바이 없음\n",
      "자동차 의  대중교통 의 통행료 없음\n",
      "자동차 의  대중교통 의 택시 없음\n",
      "자동차 의  대중교통 의 버스/지하철 없음\n",
      "자동차 의  차량관리 없음\n",
      "여가 의  놀이공원 없음\n",
      "여가 의  취미 없음\n",
      "여가 의  관람 없음\n",
      "여가 의  골프장 의 실내외골프연습장 없음\n",
      "건강 의  병원 의 이비인후과 없음\n",
      "건강 의  병원 의 양방종합 없음\n",
      "건강 의  병원 의 치과 없음\n",
      "건강 의  병원 의 안과 없음\n",
      "건강 의  병원 의 피부비뇨기과 없음\n",
      "건강 의  병원 의 한방종합 없음\n",
      "건강 의  병원 의 내과 없음\n",
      "건강 의  병원 의 비뇨기과 없음\n",
      "건강 의  병원 의 보건소 없음\n",
      "건강 의  병원 의 기타외과 없음\n",
      "건강 의  병원 의 한의원 없음\n",
      "건강 의  병원 의 산부인과_조산원 없음\n",
      "건강 의  병원 의 성형외과 없음\n",
      "건강 의  병원 의 피부과 없음\n",
      "건강 의  병원 의 양한방종합 없음\n",
      "건강 의  병원 의 방사선과 없음\n",
      "건강 의  뷰티 없음\n",
      "요식 의  커피/음료 없음\n",
      "요식 의  제과점 없음\n",
      "요식 의  음식점 없음\n",
      "요식 의  배달앱 없음\n",
      "교육 의  교육기타 없음\n",
      "교육 의  학원 없음\n",
      "교육 의  학교 없음\n",
      "교육 의  서적 없음\n",
      "교육 의  유아교육 없음\n"
     ]
    }
   ],
   "source": [
    "for big in class_dic.keys():\n",
    "    \n",
    "    if (\"매출건수합계_\"+big+\"_A\") not in df_columns:\n",
    "        print(big,'없음')\n",
    "        continue\n",
    "    tmp_count = []\n",
    "    tmp_money = []\n",
    "    for a in alpha:\n",
    "        tmp_count.append(\"매출건수합계_\"+big+\"_\"+a)\n",
    "        tmp_money.append(\"매출금액합계_\"+big+\"_\"+a)\n",
    "    \n",
    "    tmp_count_sum = df[tmp_count].sum(axis=1)\n",
    "    tmp_money_sum = df[tmp_money].sum(axis=1)\n",
    "    \n",
    "    total = tmp_money_sum/tmp_count_sum\n",
    "    df.loc[:,big+'_평균사용금액']= total\n",
    "    \n",
    "    for mid in class_dic[big].keys():\n",
    "        if (\"매출건수합계_\"+mid+\"_A\") not in df_columns:\n",
    "            print(big,'의 ',mid,'없음')\n",
    "            continue\n",
    "        tmp_count = []\n",
    "        tmp_money = []\n",
    "        for a in alpha:\n",
    "            tmp_count.append(\"매출건수합계_\"+mid+\"_\"+a)\n",
    "            tmp_money.append(\"매출금액합계_\"+mid+\"_\"+a)\n",
    "    \n",
    "        tmp_count_sum = df[tmp_count].sum(axis=1)\n",
    "        tmp_money_sum = df[tmp_money].sum(axis=1)\n",
    "        df.loc[:,mid+'_평균사용금액']= total\n",
    "        \n",
    "        for small in class_dic[big][mid]:\n",
    "            if (\"매출건수합계_\"+small+\"_A\") not in df_columns:\n",
    "                print(big,'의 ',mid,'의',small,'없음')\n",
    "                continue\n",
    "            tmp_count = []\n",
    "            tmp_money = []\n",
    "            for a in alpha:\n",
    "                tmp_count.append(\"매출건수합계_\"+small+\"_\"+a)\n",
    "                tmp_money.append(\"매출금액합계_\"+small+\"_\"+a)\n",
    "\n",
    "            tmp_count_sum = df[tmp_count].sum(axis=1)\n",
    "            tmp_money_sum = df[tmp_money].sum(axis=1)\n",
    "            df.loc[:,small+'_평균사용금액']= total\n",
    "    "
   ]
  },
  {
   "cell_type": "code",
   "execution_count": 15,
   "id": "5a41a6a6",
   "metadata": {
    "scrolled": true
   },
   "outputs": [
    {
     "data": {
      "text/plain": [
       "{'건강', '교육', '생활', '쇼핑', '여가', '여행', '요식', '유흥', '자동차'}"
      ]
     },
     "execution_count": 15,
     "metadata": {},
     "output_type": "execute_result"
    }
   ],
   "source": [
    "big_group"
   ]
  },
  {
   "cell_type": "code",
   "execution_count": 23,
   "id": "7accd02f",
   "metadata": {},
   "outputs": [
    {
     "data": {
      "text/plain": [
       "Index(['매출건수합계_요양원_C', '매출건수합계_요양원_D', '매출건수합계_요양원_E', '매출건수합계_요양원_F',\n",
       "       '매출건수합계_요양원_G', '매출건수합계_의료기기용품_A', '매출건수합계_의료기기용품_B', '매출건수합계_의료기기용품_C',\n",
       "       '매출건수합계_의료기기용품_D', '매출건수합계_의료기기용품_E', '매출건수합계_의료기기용품_F',\n",
       "       '매출건수합계_의료기기용품_G', '총사용금액_A', '총사용금액_B', '총사용금액_C', '총사용금액_D',\n",
       "       '총사용금액_E', '총사용금액_F', '총사용금액_G', '매출금액합계_요식_A', '매출금액합계_요식_B',\n",
       "       '매출금액합계_요식_C', '매출금액합계_요식_D', '매출금액합계_요식_E', '매출금액합계_요식_F',\n",
       "       '매출금액합계_요식_G', '매출금액합계_자동차_A', '매출금액합계_자동차_B', '매출금액합계_자동차_C',\n",
       "       '매출금액합계_자동차_D', '매출금액합계_자동차_E', '매출금액합계_자동차_F', '매출금액합계_자동차_G',\n",
       "       '매출금액합계_교육_A', '매출금액합계_교육_B', '매출금액합계_교육_C', '매출금액합계_교육_D',\n",
       "       '매출금액합계_교육_E', '매출금액합계_교육_F', '매출금액합계_교육_G', '매출금액합계_건강_A',\n",
       "       '매출금액합계_건강_B', '매출금액합계_건강_C', '매출금액합계_건강_D', '매출금액합계_건강_E',\n",
       "       '매출금액합계_건강_F', '매출금액합계_건강_G', '매출금액합계_여가_A', '매출금액합계_여가_B',\n",
       "       '매출금액합계_여가_C'],\n",
       "      dtype='object')"
      ]
     },
     "execution_count": 23,
     "metadata": {},
     "output_type": "execute_result"
    }
   ],
   "source": [
    "df.columns[200:250]"
   ]
  },
  {
   "cell_type": "code",
   "execution_count": 17,
   "id": "4eef55bc",
   "metadata": {
    "scrolled": false
   },
   "outputs": [
    {
     "data": {
      "text/plain": [
       "{'생활': {'보험': {'생명보험', '손해보험'},\n",
       "  '인테리어': {'인테리어'},\n",
       "  '정기결제': {'4대보험', '관리비', '도시가스', '전기', '통신비'},\n",
       "  '주생활관리': {'주생활관리'},\n",
       "  '가례': {'가례'},\n",
       "  '공과금': {'공공요금', '국세', '지방세'}},\n",
       " '여행': {'교통': {'고속도로휴게실', '고속버스', '렌터카', '여객선', '철도', '항공'},\n",
       "  '숙박': {'여관', '캠프장', '콘도', '호텔'},\n",
       "  '여행상품': {'관광여행사'}},\n",
       " '요식': {'커피/음료': {'커피/음료'},\n",
       "  '제과점': {'제과점_아이스크림점'},\n",
       "  '음식점': {'간이음식점', '부페', '양식', '일식', '주점', '중식', '패스트푸드점', '한식'},\n",
       "  '배달앱': {'배달앱'}},\n",
       " '자동차': {'차량관리': {'차량관리'},\n",
       "  '대중교통': {'버스/지하철', '택시', '통행료'},\n",
       "  '주유': {'주유'},\n",
       "  '주차': {'주차장'},\n",
       "  '차량구매': {'국산차', '수입차', '오토바이', '중고차'}},\n",
       " '교육': {'서적': {'서적'},\n",
       "  '교육기타': {'교육기타'},\n",
       "  '학원': {'기능학원', '문리계학원', '예체능계학원', '외국어학원'},\n",
       "  '학교': {'대학교', '초_중_고등학교', '특수학교'},\n",
       "  '유아교육': {'유아교육'}},\n",
       " '유흥': {'유흥': {'유흥'}},\n",
       " '여가': {'스포츠시설': {'스포츠시설'},\n",
       "  '동물병원': {'동물병원'},\n",
       "  '관람': {'관람_기타', '영화'},\n",
       "  '골프장': {'골프장', '실내외골프연습장'},\n",
       "  '놀이공원': {'놀이공원'},\n",
       "  '취미': {'취미시설', '취미용품'}},\n",
       " '건강': {'건강보조': {'건강보조식품', '산후조리원', '안경', '양약국', '요양원', '의료기기용품'},\n",
       "  '뷰티': {'미용관리', '미용실', '이발소'},\n",
       "  '병원': {'기타외과',\n",
       "   '내과',\n",
       "   '방사선과',\n",
       "   '보건소',\n",
       "   '비뇨기과',\n",
       "   '산부인과_조산원',\n",
       "   '성형외과',\n",
       "   '안과',\n",
       "   '양방종합',\n",
       "   '양한방종합',\n",
       "   '이비인후과',\n",
       "   '치과',\n",
       "   '피부과',\n",
       "   '피부비뇨기과',\n",
       "   '한방종합',\n",
       "   '한의원'}},\n",
       " '쇼핑': {'온라인쇼핑': {'PG_일반인증', '기타쇼핑몰', '오픈마켓', '종합몰', '홈쇼핑'},\n",
       "  '화장품': {'미용용품', '화장품'},\n",
       "  '쇼핑기타': {'방문판매'},\n",
       "  '마트/할인점': {'대형마트/할인점', '마트'},\n",
       "  '스포츠의류용품': {'스포츠의류용품'},\n",
       "  '아울렛': {'아울렛'},\n",
       "  '편의점': {'연금_복지매장', '편의점'},\n",
       "  '상품권': {'상품권'},\n",
       "  '의류': {'의류'},\n",
       "  '패션잡화': {'패션잡화'},\n",
       "  '자': {'주류판매점'},\n",
       "  '백화점': {'백화점'},\n",
       "  '면세점': {'면세점'},\n",
       "  '가전': {'가전'},\n",
       "  '문구사무용품': {'문구사무용품'}}}"
      ]
     },
     "execution_count": 17,
     "metadata": {},
     "output_type": "execute_result"
    }
   ],
   "source": [
    "class_dic"
   ]
  },
  {
   "cell_type": "markdown",
   "id": "c74b9df2",
   "metadata": {},
   "source": [
    "### 새로운 feature 생성"
   ]
  },
  {
   "cell_type": "markdown",
   "id": "1bae9181",
   "metadata": {},
   "source": [
    "출퇴근 간격 생성"
   ]
  },
  {
   "cell_type": "code",
   "execution_count": 44,
   "id": "9e9591c0",
   "metadata": {},
   "outputs": [],
   "source": [
    "map_dict = {}"
   ]
  },
  {
   "cell_type": "code",
   "execution_count": 38,
   "id": "7ff1eac2",
   "metadata": {
    "scrolled": true
   },
   "outputs": [],
   "source": [
    "from selenium import webdriver\n",
    "from selenium.webdriver.common.keys import Keys"
   ]
  },
  {
   "cell_type": "code",
   "execution_count": 41,
   "id": "ffc2036d",
   "metadata": {},
   "outputs": [],
   "source": [
    "import googletrans\n",
    "translator = googletrans.Translator()\n",
    "\n",
    "\n",
    "def trans(text):#번역기\n",
    "    try:\n",
    "        if not text.encode().isalpha():#한글=>영어\n",
    "            return translator.translate(text, dest='en').text\n",
    "        else:#영어=>한글\n",
    "            return translator.translate(text, dest='ko').text\n",
    "    except:\n",
    "        print(\"번역 에러\")"
   ]
  },
  {
   "cell_type": "code",
   "execution_count": 43,
   "id": "f21aea74",
   "metadata": {
    "scrolled": true
   },
   "outputs": [
    {
     "name": "stdout",
     "output_type": "stream",
     "text": [
      "번역 에러\n",
      "None\n"
     ]
    }
   ],
   "source": [
    "print(trans('seoul seongbukgu'))"
   ]
  },
  {
   "cell_type": "code",
   "execution_count": 52,
   "id": "eb6b3869",
   "metadata": {},
   "outputs": [
    {
     "name": "stdout",
     "output_type": "stream",
     "text": [
      "{\"message\":{\"result\":{\"srcLangType\":\"en\",\"tarLangType\":\"ko\",\"translatedText\":\"서울성북구\",\"engineType\":\"N2MT\"},\"@type\":\"response\",\"@service\":\"naverservice.nmt.proxy\",\"@version\":\"1.0.0\"}}\n"
     ]
    }
   ],
   "source": [
    "import os\n",
    "import sys\n",
    "import urllib.request\n",
    "\n",
    "client_id = \"dfegGXhsPL7vfqj2yg3i\"\n",
    "client_secret = \"HXjgTp_aS5\"\n",
    "encText = urllib.parse.quote('seoul seongbukgu')\n",
    "data = \"source=en&target=ko&text=\"+encText\n",
    "url = \"https://openapi.naver.com/v1/papago/n2mt\"\n",
    "request = urllib.request.Request(url)\n",
    "request.add_header(\"X-Naver-Client-Id\",client_id)\n",
    "request.add_header(\"X-Naver-Client-Secret\",client_secret)\n",
    "response = urllib.request.urlopen(request,data=data.encode('utf-8'))\n",
    "rescode = response.getcode()\n",
    "\n",
    "if(rescode==200):\n",
    "    response_body = response.read()\n",
    "    print(response_body.decode('utf-8'))\n",
    "else:\n",
    "    print(\"error code\"+rescode)\n",
    "    \n"
   ]
  },
  {
   "cell_type": "code",
   "execution_count": 89,
   "id": "973e6bea",
   "metadata": {},
   "outputs": [],
   "source": [
    "for row in df.iterrows():\n",
    "    home = row[1][5]+\" \"+row[1][6]\n",
    "    office = row[1][7]+\" \"+row[1][8]\n",
    "    if home not in map_dict:\n",
    "        map_dict[home]=[]\n",
    "    if office not in map_dict:\n",
    "        map_dict[office]=[]"
   ]
  },
  {
   "cell_type": "code",
   "execution_count": 54,
   "id": "5d673cf8",
   "metadata": {},
   "outputs": [
    {
     "ename": "AttributeError",
     "evalue": "'str' object has no attribute 'capabilities'",
     "output_type": "error",
     "traceback": [
      "\u001b[1;31m---------------------------------------------------------------------------\u001b[0m",
      "\u001b[1;31mAttributeError\u001b[0m                            Traceback (most recent call last)",
      "File \u001b[1;32m~\\Anaconda3\\lib\\site-packages\\selenium\\webdriver\\common\\driver_finder.py:38\u001b[0m, in \u001b[0;36mDriverFinder.get_path\u001b[1;34m(service, options)\u001b[0m\n\u001b[0;32m     37\u001b[0m \u001b[38;5;28;01mtry\u001b[39;00m:\n\u001b[1;32m---> 38\u001b[0m     path \u001b[38;5;241m=\u001b[39m \u001b[43mSeleniumManager\u001b[49m\u001b[43m(\u001b[49m\u001b[43m)\u001b[49m\u001b[38;5;241;43m.\u001b[39;49m\u001b[43mdriver_location\u001b[49m\u001b[43m(\u001b[49m\u001b[43moptions\u001b[49m\u001b[43m)\u001b[49m \u001b[38;5;28;01mif\u001b[39;00m path \u001b[38;5;129;01mis\u001b[39;00m \u001b[38;5;28;01mNone\u001b[39;00m \u001b[38;5;28;01melse\u001b[39;00m path\n\u001b[0;32m     39\u001b[0m \u001b[38;5;28;01mexcept\u001b[39;00m \u001b[38;5;167;01mException\u001b[39;00m \u001b[38;5;28;01mas\u001b[39;00m err:\n",
      "File \u001b[1;32m~\\Anaconda3\\lib\\site-packages\\selenium\\webdriver\\common\\selenium_manager.py:71\u001b[0m, in \u001b[0;36mSeleniumManager.driver_location\u001b[1;34m(self, options)\u001b[0m\n\u001b[0;32m     64\u001b[0m \u001b[38;5;124;03m\"\"\"\u001b[39;00m\n\u001b[0;32m     65\u001b[0m \u001b[38;5;124;03mDetermines the path of the correct driver.\u001b[39;00m\n\u001b[0;32m     66\u001b[0m \u001b[38;5;124;03m:Args:\u001b[39;00m\n\u001b[0;32m     67\u001b[0m \u001b[38;5;124;03m - browser: which browser to get the driver path for.\u001b[39;00m\n\u001b[0;32m     68\u001b[0m \u001b[38;5;124;03m:Returns: The driver path to use\u001b[39;00m\n\u001b[0;32m     69\u001b[0m \u001b[38;5;124;03m\"\"\"\u001b[39;00m\n\u001b[1;32m---> 71\u001b[0m browser \u001b[38;5;241m=\u001b[39m \u001b[43moptions\u001b[49m\u001b[38;5;241;43m.\u001b[39;49m\u001b[43mcapabilities\u001b[49m[\u001b[38;5;124m\"\u001b[39m\u001b[38;5;124mbrowserName\u001b[39m\u001b[38;5;124m\"\u001b[39m]\n\u001b[0;32m     73\u001b[0m args \u001b[38;5;241m=\u001b[39m [\u001b[38;5;28mstr\u001b[39m(\u001b[38;5;28mself\u001b[39m\u001b[38;5;241m.\u001b[39mget_binary()), \u001b[38;5;124m\"\u001b[39m\u001b[38;5;124m--browser\u001b[39m\u001b[38;5;124m\"\u001b[39m, browser]\n",
      "\u001b[1;31mAttributeError\u001b[0m: 'str' object has no attribute 'capabilities'",
      "\nDuring handling of the above exception, another exception occurred:\n",
      "\u001b[1;31mAttributeError\u001b[0m                            Traceback (most recent call last)",
      "Input \u001b[1;32mIn [54]\u001b[0m, in \u001b[0;36m<cell line: 1>\u001b[1;34m()\u001b[0m\n\u001b[1;32m----> 1\u001b[0m driver \u001b[38;5;241m=\u001b[39m \u001b[43mwebdriver\u001b[49m\u001b[38;5;241;43m.\u001b[39;49m\u001b[43mChrome\u001b[49m\u001b[43m(\u001b[49m\u001b[38;5;124;43m'\u001b[39;49m\u001b[38;5;124;43mchromedriver\u001b[39;49m\u001b[38;5;124;43m'\u001b[39;49m\u001b[43m)\u001b[49m\n\u001b[0;32m      2\u001b[0m driver\u001b[38;5;241m.\u001b[39mget(\u001b[38;5;124m'\u001b[39m\u001b[38;5;124mhttps://map.naver.com/v5/directions/-/-/-/?c=14139078.9231079,4509745.6215210,15,0,0,0,dh\u001b[39m\u001b[38;5;124m'\u001b[39m)\n\u001b[0;32m      3\u001b[0m \u001b[38;5;66;03m#네이버 길찾기 주소\u001b[39;00m\n\u001b[0;32m      4\u001b[0m \n\u001b[0;32m      5\u001b[0m \u001b[38;5;66;03m#driver.find_element_by_xpath('//*[@id=\"intro_popup_close\"]/span').click()\u001b[39;00m\n",
      "File \u001b[1;32m~\\Anaconda3\\lib\\site-packages\\selenium\\webdriver\\chrome\\webdriver.py:45\u001b[0m, in \u001b[0;36mWebDriver.__init__\u001b[1;34m(self, options, service, keep_alive)\u001b[0m\n\u001b[0;32m     42\u001b[0m service \u001b[38;5;241m=\u001b[39m service \u001b[38;5;28;01mif\u001b[39;00m service \u001b[38;5;28;01melse\u001b[39;00m Service()\n\u001b[0;32m     43\u001b[0m options \u001b[38;5;241m=\u001b[39m options \u001b[38;5;28;01mif\u001b[39;00m options \u001b[38;5;28;01melse\u001b[39;00m Options()\n\u001b[1;32m---> 45\u001b[0m \u001b[38;5;28;43msuper\u001b[39;49m\u001b[43m(\u001b[49m\u001b[43m)\u001b[49m\u001b[38;5;241;43m.\u001b[39;49m\u001b[38;5;21;43m__init__\u001b[39;49m\u001b[43m(\u001b[49m\n\u001b[0;32m     46\u001b[0m \u001b[43m    \u001b[49m\u001b[43mDesiredCapabilities\u001b[49m\u001b[38;5;241;43m.\u001b[39;49m\u001b[43mCHROME\u001b[49m\u001b[43m[\u001b[49m\u001b[38;5;124;43m\"\u001b[39;49m\u001b[38;5;124;43mbrowserName\u001b[39;49m\u001b[38;5;124;43m\"\u001b[39;49m\u001b[43m]\u001b[49m\u001b[43m,\u001b[49m\n\u001b[0;32m     47\u001b[0m \u001b[43m    \u001b[49m\u001b[38;5;124;43m\"\u001b[39;49m\u001b[38;5;124;43mgoog\u001b[39;49m\u001b[38;5;124;43m\"\u001b[39;49m\u001b[43m,\u001b[49m\n\u001b[0;32m     48\u001b[0m \u001b[43m    \u001b[49m\u001b[43moptions\u001b[49m\u001b[43m,\u001b[49m\n\u001b[0;32m     49\u001b[0m \u001b[43m    \u001b[49m\u001b[43mservice\u001b[49m\u001b[43m,\u001b[49m\n\u001b[0;32m     50\u001b[0m \u001b[43m    \u001b[49m\u001b[43mkeep_alive\u001b[49m\u001b[43m,\u001b[49m\n\u001b[0;32m     51\u001b[0m \u001b[43m\u001b[49m\u001b[43m)\u001b[49m\n",
      "File \u001b[1;32m~\\Anaconda3\\lib\\site-packages\\selenium\\webdriver\\chromium\\webdriver.py:51\u001b[0m, in \u001b[0;36mChromiumDriver.__init__\u001b[1;34m(self, browser_name, vendor_prefix, options, service, keep_alive)\u001b[0m\n\u001b[0;32m     47\u001b[0m \u001b[38;5;28mself\u001b[39m\u001b[38;5;241m.\u001b[39mvendor_prefix \u001b[38;5;241m=\u001b[39m vendor_prefix\n\u001b[0;32m     49\u001b[0m \u001b[38;5;28mself\u001b[39m\u001b[38;5;241m.\u001b[39mservice \u001b[38;5;241m=\u001b[39m service\n\u001b[1;32m---> 51\u001b[0m \u001b[38;5;28mself\u001b[39m\u001b[38;5;241m.\u001b[39mservice\u001b[38;5;241m.\u001b[39mpath \u001b[38;5;241m=\u001b[39m \u001b[43mDriverFinder\u001b[49m\u001b[38;5;241;43m.\u001b[39;49m\u001b[43mget_path\u001b[49m\u001b[43m(\u001b[49m\u001b[38;5;28;43mself\u001b[39;49m\u001b[38;5;241;43m.\u001b[39;49m\u001b[43mservice\u001b[49m\u001b[43m,\u001b[49m\u001b[43m \u001b[49m\u001b[43moptions\u001b[49m\u001b[43m)\u001b[49m\n\u001b[0;32m     53\u001b[0m \u001b[38;5;28mself\u001b[39m\u001b[38;5;241m.\u001b[39mservice\u001b[38;5;241m.\u001b[39mstart()\n\u001b[0;32m     55\u001b[0m \u001b[38;5;28;01mtry\u001b[39;00m:\n",
      "File \u001b[1;32m~\\Anaconda3\\lib\\site-packages\\selenium\\webdriver\\common\\driver_finder.py:40\u001b[0m, in \u001b[0;36mDriverFinder.get_path\u001b[1;34m(service, options)\u001b[0m\n\u001b[0;32m     38\u001b[0m     path \u001b[38;5;241m=\u001b[39m SeleniumManager()\u001b[38;5;241m.\u001b[39mdriver_location(options) \u001b[38;5;28;01mif\u001b[39;00m path \u001b[38;5;129;01mis\u001b[39;00m \u001b[38;5;28;01mNone\u001b[39;00m \u001b[38;5;28;01melse\u001b[39;00m path\n\u001b[0;32m     39\u001b[0m \u001b[38;5;28;01mexcept\u001b[39;00m \u001b[38;5;167;01mException\u001b[39;00m \u001b[38;5;28;01mas\u001b[39;00m err:\n\u001b[1;32m---> 40\u001b[0m     msg \u001b[38;5;241m=\u001b[39m \u001b[38;5;124mf\u001b[39m\u001b[38;5;124m\"\u001b[39m\u001b[38;5;124mUnable to obtain driver for \u001b[39m\u001b[38;5;132;01m{\u001b[39;00moptions\u001b[38;5;241m.\u001b[39mcapabilities[\u001b[38;5;124m'\u001b[39m\u001b[38;5;124mbrowserName\u001b[39m\u001b[38;5;124m'\u001b[39m]\u001b[38;5;132;01m}\u001b[39;00m\u001b[38;5;124m using Selenium Manager.\u001b[39m\u001b[38;5;124m\"\u001b[39m\n\u001b[0;32m     41\u001b[0m     \u001b[38;5;28;01mraise\u001b[39;00m NoSuchDriverException(msg) \u001b[38;5;28;01mfrom\u001b[39;00m \u001b[38;5;21;01merr\u001b[39;00m\n\u001b[0;32m     43\u001b[0m \u001b[38;5;28;01mif\u001b[39;00m path \u001b[38;5;129;01mis\u001b[39;00m \u001b[38;5;28;01mNone\u001b[39;00m \u001b[38;5;129;01mor\u001b[39;00m \u001b[38;5;129;01mnot\u001b[39;00m Path(path)\u001b[38;5;241m.\u001b[39mis_file():\n",
      "\u001b[1;31mAttributeError\u001b[0m: 'str' object has no attribute 'capabilities'"
     ]
    }
   ],
   "source": [
    "driver = webdriver.Chrome('chromedriver')\n",
    "driver.get('https://map.naver.com/v5/directions/-/-/-/?c=14139078.9231079,4509745.6215210,15,0,0,0,dh')\n",
    "#네이버 길찾기 주소\n",
    "\n",
    "#driver.find_element_by_xpath('//*[@id=\"intro_popup_close\"]/span').click()\n",
    "\n",
    "delay = 3\n",
    "driver.implicitly_wait(delay) # 3초 기달림 \n",
    "\n",
    "\n",
    "driver.find_element_by_id('directionStart0').send_keys('서울 성북구')\n",
    "driver.find_element_by_id(\"directionStart0\").send_keys(Keys.RETURN) # 엔터 \n",
    "\n",
    "try:\n",
    "    driver.find_element_by_xpath('//*[@id=\"container\"]/div[1]/shrinkable-layout/directions-layout/directions-result/directions-search-list/search-list/search-list-contents/perfect-scrollbar/div/div[1]/div/div/div/search-item-place/div').click()\n",
    "\n",
    "except:\n",
    "    driver.find_element_by_id('directionGoal').send_keys('서울 동작구')\n",
    "    driver.find_element_by_id('directionGoal').send_keys(Keys.RETURN)\n",
    "\n",
    "try :\n",
    "    #driver.find_element_by_xpath('//*[@id=\"container\"]/div[1]/shrinkable-layout/directions-layout/directions-result/div/directions-search/div[2]/button[2]').click()\n",
    "    driver.find_element_by_class_name('btn.btn_direction.active').click()\n",
    "except:\n",
    "    print('1')"
   ]
  },
  {
   "cell_type": "code",
   "execution_count": 100,
   "id": "a68191fa",
   "metadata": {
    "scrolled": false
   },
   "outputs": [
    {
     "data": {
      "text/plain": [
       "{'Seoul Jung-gu': [],\n",
       " 'Seoul Dongdaemun-gu': [],\n",
       " 'Seoul Seocho-gu': [],\n",
       " 'Seoul Guro-gu': [],\n",
       " 'Seoul Songpa-gu': [],\n",
       " 'Gyeonggi Ansan-si danwon-gu': [],\n",
       " 'Seoul Yeongdeungpo-gu': [],\n",
       " 'Gyeonggi Seongnam-si bundang-gu': [],\n",
       " 'Gyeonggi Namyangju-si': [],\n",
       " 'Gyeonggi Goyang-si ilsandong-gu': [],\n",
       " 'Gyeonggi Siheung-si': [],\n",
       " 'Incheon Michuhol-gu': [],\n",
       " 'Gyeonggi Uijeongbu-si': [],\n",
       " 'Seoul Gwangjin-gu': [],\n",
       " 'Seoul Yangcheon-gu': [],\n",
       " 'Incheon Namdong-gu': [],\n",
       " 'Incheon Bupyeong-gu': [],\n",
       " 'Incheon Seo-gu': []}"
      ]
     },
     "execution_count": 100,
     "metadata": {},
     "output_type": "execute_result"
    }
   ],
   "source": [
    "map_dict"
   ]
  },
  {
   "cell_type": "code",
   "execution_count": 23,
   "id": "299cb446",
   "metadata": {},
   "outputs": [],
   "source": [
    "def result_location(map_dict):\n",
    "    for i in map_dict:\n",
    "        api_json = get_location(i)\n",
    "        print(api_json)\n",
    "        if api_json['documents']:\n",
    "            address = api_json['documents'][0]['address']\n",
    "            map_dict[i]= [address['x'],address['y']]     \n",
    "        time.sleep(2)\n",
    "    return map_dict"
   ]
  },
  {
   "cell_type": "code",
   "execution_count": 24,
   "id": "1799e542",
   "metadata": {},
   "outputs": [
    {
     "name": "stdout",
     "output_type": "stream",
     "text": [
      "{'documents': [{'address': {'address_name': '서울 종로구 수송동 146-12', 'b_code': '1111012400', 'h_code': '1111061500', 'main_address_no': '146', 'mountain_yn': 'N', 'region_1depth_name': '서울', 'region_2depth_name': '종로구', 'region_3depth_h_name': '종로1.2.3.4가동', 'region_3depth_name': '수송동', 'sub_address_no': '12', 'x': '126.978988255925', 'y': '37.5735051436739'}, 'address_name': '서울 종로구 종로1길 36', 'address_type': 'ROAD_ADDR', 'road_address': {'address_name': '서울 종로구 종로1길 36', 'building_name': '종로구청', 'main_building_no': '36', 'region_1depth_name': '서울', 'region_2depth_name': '종로구', 'region_3depth_name': '수송동', 'road_name': '종로1길', 'sub_building_no': '', 'underground_yn': 'N', 'x': '126.978988255925', 'y': '37.5735051436739', 'zone_no': '03152'}, 'x': '126.978988255925', 'y': '37.5735051436739'}], 'meta': {'is_end': True, 'pageable_count': 1, 'total_count': 1}}\n"
     ]
    },
    {
     "ename": "TypeError",
     "evalue": "'set' object does not support item assignment",
     "output_type": "error",
     "traceback": [
      "\u001b[1;31m---------------------------------------------------------------------------\u001b[0m",
      "\u001b[1;31mTypeError\u001b[0m                                 Traceback (most recent call last)",
      "Input \u001b[1;32mIn [24]\u001b[0m, in \u001b[0;36m<cell line: 2>\u001b[1;34m()\u001b[0m\n\u001b[0;32m      1\u001b[0m temp \u001b[38;5;241m=\u001b[39m {\u001b[38;5;124m'\u001b[39m\u001b[38;5;124m서울특별시 종로구 종로1길 36, 대림빌딩 (수송동)\u001b[39m\u001b[38;5;124m'\u001b[39m}\n\u001b[1;32m----> 2\u001b[0m map_dict_ \u001b[38;5;241m=\u001b[39m \u001b[43mresult_location\u001b[49m\u001b[43m(\u001b[49m\u001b[43mtemp\u001b[49m\u001b[43m)\u001b[49m\n",
      "Input \u001b[1;32mIn [23]\u001b[0m, in \u001b[0;36mresult_location\u001b[1;34m(map_dict)\u001b[0m\n\u001b[0;32m      5\u001b[0m     \u001b[38;5;28;01mif\u001b[39;00m api_json[\u001b[38;5;124m'\u001b[39m\u001b[38;5;124mdocuments\u001b[39m\u001b[38;5;124m'\u001b[39m]:\n\u001b[0;32m      6\u001b[0m         address \u001b[38;5;241m=\u001b[39m api_json[\u001b[38;5;124m'\u001b[39m\u001b[38;5;124mdocuments\u001b[39m\u001b[38;5;124m'\u001b[39m][\u001b[38;5;241m0\u001b[39m][\u001b[38;5;124m'\u001b[39m\u001b[38;5;124maddress\u001b[39m\u001b[38;5;124m'\u001b[39m]\n\u001b[1;32m----> 7\u001b[0m         map_dict[i]\u001b[38;5;241m=\u001b[39m [address[\u001b[38;5;124m'\u001b[39m\u001b[38;5;124mx\u001b[39m\u001b[38;5;124m'\u001b[39m],address[\u001b[38;5;124m'\u001b[39m\u001b[38;5;124my\u001b[39m\u001b[38;5;124m'\u001b[39m]]     \n\u001b[0;32m      8\u001b[0m     time\u001b[38;5;241m.\u001b[39msleep(\u001b[38;5;241m2\u001b[39m)\n\u001b[0;32m      9\u001b[0m \u001b[38;5;28;01mreturn\u001b[39;00m map_dict\n",
      "\u001b[1;31mTypeError\u001b[0m: 'set' object does not support item assignment"
     ]
    }
   ],
   "source": [
    "temp = {'서울특별시 종로구 종로1길 36, 대림빌딩 (수송동)'}\n",
    "map_dict_ = result_location(temp)"
   ]
  },
  {
   "cell_type": "markdown",
   "id": "6b461b4f",
   "metadata": {},
   "source": [
    "## 2. 등급 부여하기\n",
    "- 등급은 값이 높을 수록 평균 사용금액이 높은 것을 의미한다."
   ]
  },
  {
   "cell_type": "code",
   "execution_count": 14,
   "id": "0e87bcd4",
   "metadata": {},
   "outputs": [],
   "source": [
    "def grade(bin_number,series):\n",
    "    min_ = min(series.values)\n",
    "    max_ = max(series.values)\n",
    "    bin_size = (max_-min_)/bin_number\n",
    "    grade_list = series.values\n",
    "    # 등급 생성\n",
    "    grade_list = []\n",
    "    data = min_\n",
    "    for i in range(bin_number+1):\n",
    "        grade_list.append(data)\n",
    "        data+= bin_size\n",
    "    return grade_list"
   ]
  },
  {
   "cell_type": "code",
   "execution_count": 15,
   "id": "95261700",
   "metadata": {},
   "outputs": [],
   "source": [
    "def grade_apply(x,columns_list):\n",
    "    for i in range(len(columns_list)-1) :\n",
    "        if x<=columns_list[i+1]:\n",
    "            return i+1\n",
    "    return len(columns_list)-1"
   ]
  },
  {
   "cell_type": "code",
   "execution_count": 90,
   "id": "016c71f0",
   "metadata": {},
   "outputs": [],
   "source": [
    "# grade_list 전역변수로 지정 "
   ]
  },
  {
   "cell_type": "code",
   "execution_count": 16,
   "id": "fe025e14",
   "metadata": {},
   "outputs": [],
   "source": [
    "columns_grade_list = [\"요식_평균사용금액\", '자동차_평균사용금액', '교육_평균사용금액', '건강_평균사용금액', '여가_평균사용금액',\n",
    "       '생활_평균사용금액', '유흥_평균사용금액', '쇼핑_평균사용금액','UMRD_SCORE',\n",
    "       'WEDD_EXP_SCORE', 'CHDB_EXP_SCORE', 'PSCH_OCH_SCORE', 'ESTUD_OCH_SCORE',\n",
    "       'MHSTUD_OCH_SCORE', 'CSTUD_OCH_SCORE', 'OCH_WEDD_EXP_SCORE',\n",
    "       'HOUSEWF_SCORE', 'ONL_PRSN', 'ERADP_TNDC', 'PRMM_CSM_TNDC', 'MDLV_PRSN',\n",
    "       'PET_PRSN', 'ODS_ACTI_INRT_TNDC', 'FRN_TRV_INRT_TNDC',\n",
    "       'INTERI_SLNG_TNDC', 'INTERI_REMDL_TNDC', 'HL_MNGT_INRT_TNDC',]\n",
    " "
   ]
  },
  {
   "cell_type": "code",
   "execution_count": 17,
   "id": "39a61935",
   "metadata": {},
   "outputs": [],
   "source": [
    "#보험 사고율 등급 \n",
    "grade_list_1 = grade(5,df['생명보험사고율'])\n",
    "grade_list_2 = grade(5,df['장기보험사고율'])\n",
    "grade_list_3 = grade(5,df['자동차보험사고율'])"
   ]
  },
  {
   "cell_type": "code",
   "execution_count": 18,
   "id": "70bfda0f",
   "metadata": {},
   "outputs": [],
   "source": [
    "for c in columns_grade_list:\n",
    "    grade_list = grade(10,df[c]) # 분류별 범위 리스트 생성\n",
    "    df.loc[:,c+\"등급\"]=df[c].apply(grade_apply,args=(grade_list,)) # apply 작성"
   ]
  },
  {
   "cell_type": "code",
   "execution_count": 19,
   "id": "dd95132a",
   "metadata": {},
   "outputs": [],
   "source": [
    "df.loc[:,\"생명보험사고율_등급\"]=df[\"생명보험사고율\"].apply(grade_apply,args=(grade_list_1,)) # apply 작성\n",
    "df.loc[:,\"장기보험사고율_등급\"]=df[\"장기보험사고율\"].apply(grade_apply,args=(grade_list_2,)) # apply 작성\n",
    "df.loc[:,\"자동차보험사고율_등급\"]=df[\"자동차보험사고율\"].apply(grade_apply,args=(grade_list_3,)) # apply 작성"
   ]
  },
  {
   "cell_type": "markdown",
   "id": "c7e0c6c9",
   "metadata": {},
   "source": [
    "# 3. 대분류 그래프 생성"
   ]
  },
  {
   "cell_type": "code",
   "execution_count": null,
   "id": "997ed983",
   "metadata": {},
   "outputs": [],
   "source": [
    "# 데이터셋 train test나눌꺼면 나누기 \n",
    "X = []\n",
    "y = []\n",
    "train_x, test_x, train_y, test_y = train_test_split(X, y, test_size = 0.2, random_state = 42)"
   ]
  },
  {
   "cell_type": "markdown",
   "id": "6b8c9e2d",
   "metadata": {},
   "source": [
    "## 1)사고율 별 그룹 생성"
   ]
  },
  {
   "cell_type": "markdown",
   "id": "df0dee3c",
   "metadata": {},
   "source": [
    "data drop"
   ]
  },
  {
   "cell_type": "code",
   "execution_count": 20,
   "id": "fc0b1d71",
   "metadata": {},
   "outputs": [],
   "source": [
    "feature_list = ['AGE', 'GENDER', 'JOB', 'INCOME','요식_평균사용금액등급',\n",
    "       '자동차_평균사용금액등급', '교육_평균사용금액등급', '건강_평균사용금액등급', '여가_평균사용금액등급',\n",
    "       '생활_평균사용금액등급', '유흥_평균사용금액등급', '쇼핑_평균사용금액등급', 'UMRD_SCORE등급',\n",
    "       'WEDD_EXP_SCORE등급', 'CHDB_EXP_SCORE등급', 'PSCH_OCH_SCORE등급',\n",
    "       'ESTUD_OCH_SCORE등급', 'MHSTUD_OCH_SCORE등급', 'CSTUD_OCH_SCORE등급',\n",
    "       'OCH_WEDD_EXP_SCORE등급', 'HOUSEWF_SCORE등급', 'ONL_PRSN등급', 'ERADP_TNDC등급',\n",
    "       'PRMM_CSM_TNDC등급', 'MDLV_PRSN등급', 'PET_PRSN등급', 'ODS_ACTI_INRT_TNDC등급',\n",
    "       'FRN_TRV_INRT_TNDC등급', 'INTERI_SLNG_TNDC등급', 'INTERI_REMDL_TNDC등급',\n",
    "       'HL_MNGT_INRT_TNDC등급']"
   ]
  },
  {
   "cell_type": "code",
   "execution_count": 42,
   "id": "fbcddde4",
   "metadata": {
    "scrolled": true
   },
   "outputs": [
    {
     "data": {
      "text/html": [
       "<div>\n",
       "<style scoped>\n",
       "    .dataframe tbody tr th:only-of-type {\n",
       "        vertical-align: middle;\n",
       "    }\n",
       "\n",
       "    .dataframe tbody tr th {\n",
       "        vertical-align: top;\n",
       "    }\n",
       "\n",
       "    .dataframe thead th {\n",
       "        text-align: right;\n",
       "    }\n",
       "</style>\n",
       "<table border=\"1\" class=\"dataframe\">\n",
       "  <thead>\n",
       "    <tr style=\"text-align: right;\">\n",
       "      <th></th>\n",
       "      <th>AGE</th>\n",
       "      <th>GENDER</th>\n",
       "    </tr>\n",
       "  </thead>\n",
       "  <tbody>\n",
       "    <tr>\n",
       "      <th>0</th>\n",
       "      <td>A</td>\n",
       "      <td>M</td>\n",
       "    </tr>\n",
       "    <tr>\n",
       "      <th>1</th>\n",
       "      <td>B</td>\n",
       "      <td>F</td>\n",
       "    </tr>\n",
       "    <tr>\n",
       "      <th>2</th>\n",
       "      <td>C</td>\n",
       "      <td>M</td>\n",
       "    </tr>\n",
       "    <tr>\n",
       "      <th>3</th>\n",
       "      <td>D</td>\n",
       "      <td>F</td>\n",
       "    </tr>\n",
       "    <tr>\n",
       "      <th>4</th>\n",
       "      <td>E</td>\n",
       "      <td>M</td>\n",
       "    </tr>\n",
       "    <tr>\n",
       "      <th>5</th>\n",
       "      <td>F</td>\n",
       "      <td>F</td>\n",
       "    </tr>\n",
       "    <tr>\n",
       "      <th>6</th>\n",
       "      <td>G</td>\n",
       "      <td>M</td>\n",
       "    </tr>\n",
       "    <tr>\n",
       "      <th>7</th>\n",
       "      <td>H</td>\n",
       "      <td>F</td>\n",
       "    </tr>\n",
       "    <tr>\n",
       "      <th>8</th>\n",
       "      <td>I</td>\n",
       "      <td>M</td>\n",
       "    </tr>\n",
       "    <tr>\n",
       "      <th>9</th>\n",
       "      <td>B</td>\n",
       "      <td>F</td>\n",
       "    </tr>\n",
       "  </tbody>\n",
       "</table>\n",
       "</div>"
      ],
      "text/plain": [
       "  AGE GENDER\n",
       "0   A      M\n",
       "1   B      F\n",
       "2   C      M\n",
       "3   D      F\n",
       "4   E      M\n",
       "5   F      F\n",
       "6   G      M\n",
       "7   H      F\n",
       "8   I      M\n",
       "9   B      F"
      ]
     },
     "execution_count": 42,
     "metadata": {},
     "output_type": "execute_result"
    }
   ],
   "source": [
    "df[['AGE','GENDER']]"
   ]
  },
  {
   "cell_type": "code",
   "execution_count": 43,
   "id": "c2704f98",
   "metadata": {},
   "outputs": [
    {
     "data": {
      "text/plain": [
       "Index(['기준년도', 'AGE', 'GENDER', 'JOB', 'INCOME', 'HOM_MGPO', 'HOM_SGG',\n",
       "       'OFFI_MGPO', 'OFFI_SGG', 'ONEPER_GD_C',\n",
       "       ...\n",
       "       '산후조리원_평균사용금액', '안경_평균사용금액', '건강보조식품_평균사용금액', '요양원_평균사용금액', '병원_평균사용금액',\n",
       "       '쇼핑_평균사용금액', '온라인쇼핑_평균사용금액', '생명보험사고율_등급', '장기보험사고율_등급', '자동차보험사고율_등급'],\n",
       "      dtype='object', length=439)"
      ]
     },
     "execution_count": 43,
     "metadata": {},
     "output_type": "execute_result"
    }
   ],
   "source": [
    "df.columns"
   ]
  },
  {
   "cell_type": "code",
   "execution_count": 44,
   "id": "9066c901",
   "metadata": {},
   "outputs": [],
   "source": [
    "tmp =['AGE', 'GENDER', 'JOB', 'INCOME','요식_평균사용금액등급',\n",
    "       '자동차_평균사용금액등급', '교육_평균사용금액등급', '건강_평균사용금액등급', '여가_평균사용금액등급',\n",
    "       '생활_평균사용금액등급', '유흥_평균사용금액등급', '쇼핑_평균사용금액등급', 'UMRD_SCORE등급',\n",
    "       'WEDD_EXP_SCORE등급', 'CHDB_EXP_SCORE등급', 'PSCH_OCH_SCORE등급',\n",
    "       'ESTUD_OCH_SCORE등급', 'MHSTUD_OCH_SCORE등급', 'CSTUD_OCH_SCORE등급',\n",
    "       'OCH_WEDD_EXP_SCORE등급', 'HOUSEWF_SCORE등급', 'ONL_PRSN등급', 'ERADP_TNDC등급',\n",
    "       'PRMM_CSM_TNDC등급', 'MDLV_PRSN등급', 'PET_PRSN등급', 'ODS_ACTI_INRT_TNDC등급',\n",
    "       'FRN_TRV_INRT_TNDC등급', 'INTERI_SLNG_TNDC등급', 'INTERI_REMDL_TNDC등급',\n",
    "       'HL_MNGT_INRT_TNDC등급']"
   ]
  },
  {
   "cell_type": "code",
   "execution_count": 46,
   "id": "45088298",
   "metadata": {},
   "outputs": [
    {
     "name": "stdout",
     "output_type": "stream",
     "text": [
      "요식_평균사용금액등급\n",
      "자동차_평균사용금액등급\n",
      "교육_평균사용금액등급\n",
      "건강_평균사용금액등급\n",
      "여가_평균사용금액등급\n",
      "생활_평균사용금액등급\n",
      "유흥_평균사용금액등급\n",
      "쇼핑_평균사용금액등급\n",
      "UMRD_SCORE등급\n",
      "WEDD_EXP_SCORE등급\n",
      "CHDB_EXP_SCORE등급\n",
      "PSCH_OCH_SCORE등급\n",
      "ESTUD_OCH_SCORE등급\n",
      "MHSTUD_OCH_SCORE등급\n",
      "CSTUD_OCH_SCORE등급\n",
      "OCH_WEDD_EXP_SCORE등급\n",
      "HOUSEWF_SCORE등급\n",
      "ONL_PRSN등급\n",
      "ERADP_TNDC등급\n",
      "PRMM_CSM_TNDC등급\n",
      "MDLV_PRSN등급\n",
      "PET_PRSN등급\n",
      "ODS_ACTI_INRT_TNDC등급\n",
      "FRN_TRV_INRT_TNDC등급\n",
      "INTERI_SLNG_TNDC등급\n",
      "INTERI_REMDL_TNDC등급\n",
      "HL_MNGT_INRT_TNDC등급\n"
     ]
    }
   ],
   "source": [
    "for t in tmp:\n",
    "    if t not in df_columns:\n",
    "        print(t)\n",
    "        "
   ]
  },
  {
   "cell_type": "markdown",
   "id": "2e6b27f3",
   "metadata": {},
   "source": [
    "보험별로 나누는거는 코드는 짜도 지금 적용하면 데이터가 없어서 pass "
   ]
  },
  {
   "cell_type": "markdown",
   "id": "2750dd0d",
   "metadata": {},
   "source": [
    "## 2) 그래프 생성"
   ]
  },
  {
   "cell_type": "code",
   "execution_count": 23,
   "id": "7bca6bd8",
   "metadata": {},
   "outputs": [],
   "source": [
    "def filter_graph(acc_dic, acc_data, min_count, max_group, feature_list):\n",
    "    for column in feature_list:\n",
    "        value_counts = acc_data[column].value_counts()\n",
    "        \n",
    "        value_counts = {key: value for key, value in value_counts.items() if value > min_count}\n",
    "        \n",
    "        if len(value_counts) > max_group:\n",
    "            continue\n",
    "        \n",
    "        for value, count in value_counts.items():\n",
    "            acc_dic[f'{column}_{value}'] = set(acc_data[acc_data[column] == value]['index'])"
   ]
  },
  {
   "cell_type": "code",
   "execution_count": 24,
   "id": "780d8906",
   "metadata": {},
   "outputs": [],
   "source": [
    "def merge_big_graph(acc_dic, acc_data, max_group):\n",
    "    temp = dict()\n",
    "    c_list = list()\n",
    "    \n",
    "    group_list = acc_dic.keys()\n",
    "    \n",
    "    for group in group_list:\n",
    "        big_set = set()\n",
    "        big_group_data = acc_data[acc_data['index'].isin(acc_dic[group])]\n",
    "        \n",
    "        for column in feature_list:\n",
    "            value_counts = acc_data[column].value_counts()\n",
    "\n",
    "            if len(value_counts) > max_group:\n",
    "                continue\n",
    "            \n",
    "            for value, count in value_counts.items():\n",
    "                c_list.append(f'{column}_{value}')\n",
    "            \n",
    "            for big in class_dic.keys():\n",
    "                if big in column:\n",
    "                    big_set.add(big)\n",
    "                    \n",
    "        group_result = '-'.join(c_list)\n",
    "        temp[group_result] = (big_set, big_group_data['index'])\n",
    "        \n",
    "    acc_dic = temp"
   ]
  },
  {
   "cell_type": "code",
   "execution_count": 60,
   "id": "a7f1b7e5",
   "metadata": {},
   "outputs": [
    {
     "ename": "NameError",
     "evalue": "name 'biggroup_dic' is not defined",
     "output_type": "error",
     "traceback": [
      "\u001b[1;31m---------------------------------------------------------------------------\u001b[0m",
      "\u001b[1;31mNameError\u001b[0m                                 Traceback (most recent call last)",
      "Input \u001b[1;32mIn [60]\u001b[0m, in \u001b[0;36m<cell line: 1>\u001b[1;34m()\u001b[0m\n\u001b[1;32m----> 1\u001b[0m \u001b[43mbiggroup_dic\u001b[49m[j] \u001b[38;5;241m=\u001b[39m \u001b[38;5;28mdict\u001b[39m()\n\u001b[0;32m      2\u001b[0m acc_dic \u001b[38;5;241m=\u001b[39m biggroup_dic[j]\n\u001b[0;32m      4\u001b[0m \u001b[38;5;66;03m# 대분류 필터링\u001b[39;00m\n",
      "\u001b[1;31mNameError\u001b[0m: name 'biggroup_dic' is not defined"
     ]
    }
   ],
   "source": [
    "biggroup_dic[j] = dict()\n",
    "acc_dic = biggroup_dic[j]\n",
    "\n",
    "# 대분류 필터링\n",
    "filter_graph(acc_dic, acc_data, min_count, max_group, feature_list) # 사고율 별 1차 필터링\n",
    "merge_big_graph(acc_dic, acc_data, max_group) # 대분류 2차 필터링"
   ]
  },
  {
   "cell_type": "code",
   "execution_count": 62,
   "id": "8c69f0f7",
   "metadata": {},
   "outputs": [
    {
     "data": {
      "text/plain": [
       "5"
      ]
     },
     "execution_count": 62,
     "metadata": {},
     "output_type": "execute_result"
    }
   ],
   "source": [
    "num_acc_group"
   ]
  },
  {
   "cell_type": "code",
   "execution_count": 31,
   "id": "32d76dfa",
   "metadata": {},
   "outputs": [],
   "source": [
    "df = df.reset_index()"
   ]
  },
  {
   "cell_type": "code",
   "execution_count": 33,
   "id": "2fe618f3",
   "metadata": {},
   "outputs": [],
   "source": [
    "graph = {}\n",
    "num_acc_group = 5\n",
    "max_group = 2\n",
    "min_count = 0\n",
    "\n",
    "for i in range(1,4):\n",
    "    insurance_data = df[df['보험종류']==i]\n",
    "    \n",
    "    graph[i] = dict()\n",
    "    biggroup_dic = graph[i]\n",
    "    for j in range(1, num_acc_group+1): # 사고율 별 계산\n",
    "        if j==1 :\n",
    "            name = \"생명보험사고율_등급\"\n",
    "            acc_data = insurance_data[insurance_data['생명보험사고율_등급']==j]\n",
    "        elif j==2 :\n",
    "            name = \"장기보험사고율_등급\"\n",
    "            acc_data = insurance_data[insurance_data['장기보험사고율_등급']==j]\n",
    "        else:\n",
    "            name = \"자동차보험사고율_등급\"\n",
    "            acc_data = insurance_data[insurance_data['자동차보험사고율_등급']==j]\n",
    "            \n",
    "        \n",
    "        \n",
    "        biggroup_dic[j] = dict()\n",
    "        acc_dic = biggroup_dic[j]\n",
    "        \n",
    "        # 대분류 필터링\n",
    "        filter_graph(acc_dic, acc_data, min_count, max_group, feature_list) # 사고율 별 1차 필터링\n",
    "        merge_big_graph(acc_dic, acc_data, max_group) # 대분류 2차 필터링\n",
    "        \n",
    "        # 중분류 필터링\n",
    "        for big_feature in acc_dic.keys(): # 대분류 별 진행\n",
    "            feature_list = []\n",
    "            print(big_list)\n",
    "            big_list = acc_dic[big_feature][0] # 대분류 리스트\n",
    "            mid_data = acc_data[acc_data['index'].isin(acc_dic[big_feature][1])] # 해당 대분류에 해당하는 데이터\n",
    "            \n",
    "            mid_dic = dict()\n",
    "            big_graph = acc_dic[big_feature]\n",
    "            \n",
    "            for b in big_list:\n",
    "                feature_list.append(i for i in class_dic[b].keys())\n",
    "            \n",
    "            # 중분류 필터링\n",
    "            filter_graph(acc_dic, acc_data, min_count, max_group, feature_list) # 중분류 1차 그래프 생성\n",
    "            merge_big_graph(acc_dic, acc_data, max_group) # 중분류 2차 필터링\n",
    "        \n",
    "            # 소분류도 중분류와 같은 방식으로 진행\n",
    "            # ...."
   ]
  },
  {
   "cell_type": "code",
   "execution_count": 34,
   "id": "c42d90ef",
   "metadata": {},
   "outputs": [
    {
     "data": {
      "text/plain": [
       "{1: {1: {}, 2: {}, 3: {}, 4: {}, 5: {}},\n",
       " 2: {1: {}, 2: {}, 3: {}, 4: {}, 5: {}},\n",
       " 3: {1: {}, 2: {}, 3: {}, 4: {}, 5: {}}}"
      ]
     },
     "execution_count": 34,
     "metadata": {},
     "output_type": "execute_result"
    }
   ],
   "source": [
    "graph"
   ]
  },
  {
   "cell_type": "markdown",
   "id": "07dbb62a",
   "metadata": {},
   "source": [
    "## 중복제거"
   ]
  },
  {
   "cell_type": "code",
   "execution_count": 35,
   "id": "6078eb85",
   "metadata": {},
   "outputs": [
    {
     "ename": "KeyError",
     "evalue": "0",
     "output_type": "error",
     "traceback": [
      "\u001b[1;31m---------------------------------------------------------------------------\u001b[0m",
      "\u001b[1;31mKeyError\u001b[0m                                  Traceback (most recent call last)",
      "Input \u001b[1;32mIn [35]\u001b[0m, in \u001b[0;36m<cell line: 3>\u001b[1;34m()\u001b[0m\n\u001b[0;32m     11\u001b[0m         feature_set[j]\u001b[38;5;241m.\u001b[39madd(feature)\n\u001b[0;32m     13\u001b[0m \u001b[38;5;28;01mfor\u001b[39;00m now \u001b[38;5;129;01min\u001b[39;00m \u001b[38;5;28mrange\u001b[39m(\u001b[38;5;28mlen\u001b[39m(feature_set)):\n\u001b[1;32m---> 14\u001b[0m     temp \u001b[38;5;241m=\u001b[39m \u001b[43mfeature_set\u001b[49m\u001b[43m[\u001b[49m\u001b[43mnow\u001b[49m\u001b[43m]\u001b[49m\n\u001b[0;32m     15\u001b[0m     \u001b[38;5;28;01mfor\u001b[39;00m other \u001b[38;5;129;01min\u001b[39;00m \u001b[38;5;28mrange\u001b[39m(\u001b[38;5;28mlen\u001b[39m(feature_set)):\n\u001b[0;32m     16\u001b[0m         \u001b[38;5;28;01mif\u001b[39;00m now \u001b[38;5;241m==\u001b[39m other:\n",
      "\u001b[1;31mKeyError\u001b[0m: 0"
     ]
    }
   ],
   "source": [
    "result = dict()\n",
    "\n",
    "for i in range(1,4): # 보험 별\n",
    "    biggroup_dic = graph[i]\n",
    "    feature_set = dict()\n",
    "        \n",
    "    for j in range(1, num_acc_group+1): # 사고율 별 feature 집합 구분\n",
    "        feature_set[j] = set()\n",
    "        \n",
    "        for feature in biggroup_dic[j].keys():\n",
    "            feature_set[j].add(feature)\n",
    "        \n",
    "    for now in range(len(feature_set)):\n",
    "        temp = feature_set[now]\n",
    "        for other in range(len(feature_set)):\n",
    "            if now == other:\n",
    "                continue\n",
    "            temp = temp.difference(feature_set[other])\n",
    "    \n",
    "        result[now] = temp\n"
   ]
  },
  {
   "cell_type": "markdown",
   "id": "ecd377bd",
   "metadata": {},
   "source": [
    "## 3) 검증\n",
    "- 모델: randomforest "
   ]
  },
  {
   "cell_type": "code",
   "execution_count": null,
   "id": "46738c7a",
   "metadata": {
    "scrolled": false
   },
   "outputs": [],
   "source": [
    "for i in range(1,4): # 보험 별\n",
    "    biggroup_dic = graph[i]\n",
    "    \n",
    "    for j in range(1, num_acc_group+1): # 사고율 별 F1-Score 계산 -> 높은 사고율만 할꺼니까 j 수정해야함. \n",
    "        answer = set(df[(df['보험종류'] == i) & (df['보험_사고율_등급'] == j)]['index'])\n",
    "        predict = set()\n",
    "        \n",
    "        acc_graph = biggroup_dic[j]\n",
    "        feature_set = set(acc_graph.keys())\n",
    "        \n",
    "        for feature_join in feature_set: # 각 조건 별 해당하는 index 추출 , 일단 나는 feature_set이 \n",
    "            f_dict = dict()\n",
    "            feature_pair = feature_join.split('-')\n",
    "            \n",
    "            for f in feature_pair:\n",
    "                feature = f.split('_')\n",
    "                f_dict[feature[0]] = feature[1]\n",
    "                \n",
    "            df_temp = df\n",
    "            for key, value in f_dict.items():\n",
    "                df_temp = df_temp[df_temp[key] == value]\n",
    "            \n",
    "            predict &= set(df_temp['index'])\n",
    "                \n",
    "        TP = len(answer & predict)\n",
    "        FP = len(predict - answer)\n",
    "        FN = len(answer - predict)\n",
    "        \n",
    "        precision = TP / (TP + FP)\n",
    "        recall = TP / (TP + FN)\n",
    "        f1_score = 2 * (precision * recall) / (precision + recall)\n",
    "    \n",
    "        print(f'{i}보험 {j}사고율에 해당하는 F1-Score : ', f1_score)"
   ]
  },
  {
   "cell_type": "markdown",
   "id": "3ba09dcd",
   "metadata": {},
   "source": [
    "1. graph signature자료구조 \n",
    "2. 각 df itterrow에 대해서 일치하는지 체크\n",
    "-> 각 string으로 만들고 하는게 나을지 ? in으로해서? \n",
    "3. 일치하면 label list에 1 로 채우기"
   ]
  },
  {
   "cell_type": "code",
   "execution_count": null,
   "id": "3a75ef76",
   "metadata": {},
   "outputs": [],
   "source": [
    "from sklearn.ensemble import RandomForestClassifier"
   ]
  },
  {
   "cell_type": "code",
   "execution_count": null,
   "id": "b885a8e8",
   "metadata": {
    "scrolled": false
   },
   "outputs": [],
   "source": [
    "for i in range(1,4): # 보험 별\n",
    "    biggroup_dic = graph[i]\n",
    "    \n",
    "    for j in range(1, num_acc_group+1): # 사고율 별 F1-Score 계산 -> 높은 사고율만 이니까 j 수정해야함. \n",
    "        answer = set(df[(df['보험종류'] == i) & (df['보험_사고율_등급'] == j)]['index'])\n",
    "        predict = []\n",
    "        \n",
    "        acc_graph = biggroup_dic[j]\n",
    "        feature_set = set(acc_graph.keys())#중복제거 위에서 한거 아니였나욥? \n",
    "        check = False\n",
    "        for row in df.iterrows():\n",
    "            \n",
    "            for feature_join in feature_set: # 각 조건 별 해당하는 index 추출\n",
    "                \n",
    "                feature_pair = feature_join.split('-')\n",
    "                \n",
    "                for f in feature_pair:\n",
    "                    feature = f.split('_')\n",
    "                    if row[feature[0]]!=feature[1]:\n",
    "                        check = False\n",
    "                        break\n",
    "                    else: \n",
    "                        check=True\n",
    "                if check==True:\n",
    "                    predict.append(1)\n",
    "                    break\n",
    "            if check==False:\n",
    "                predict.append(0)\n",
    "        \n",
    "                \n",
    "\n",
    "        TP = len(answer & predict)\n",
    "        FP = len(predict - answer)\n",
    "        FN = len(answer - predict)\n",
    "        \n",
    "        precision = TP / (TP + FP)\n",
    "        recall = TP / (TP + FN)\n",
    "        f1_score = 2 * (precision * recall) / (precision + recall)\n",
    "        \n",
    "        print(f'{i}보험 {j}사고율에 해당하는 F1-Score : ', f1_score)\n",
    "        print('TP',TP)\n",
    "        print('FP',FP)\n",
    "        print('FN',FN)"
   ]
  },
  {
   "cell_type": "code",
   "execution_count": null,
   "id": "5f19103b",
   "metadata": {},
   "outputs": [],
   "source": [
    "from sklearn.ensemble import RandomForestClassifier\n",
    "from sklearn.metrics import accuracy_score, precision_score, recall_score, f1_score, plot_confusion_matrix"
   ]
  },
  {
   "cell_type": "code",
   "execution_count": null,
   "id": "043f2950",
   "metadata": {
    "scrolled": false
   },
   "outputs": [],
   "source": [
    "for i in range(1,4): # 보험 별\n",
    "    biggroup_dic = graph[i]\n",
    "    \n",
    "    for j in range(1, num_acc_group+1): # 사고율 별 F1-Score 계산 -> 높은 사고율만 이니까 j 수정해야함. \n",
    "        answer = set(df[(df['보험종류'] == i) & (df['보험_사고율_등급'] == j)]['index'])\n",
    "        \n",
    "        acc_graph = biggroup_dic[j]\n",
    "        feature_set = set(acc_graph.keys())#중복제거 위에서 한거 아니였나욥? \n",
    "        \n",
    "        feature_model = []\n",
    "        \n",
    "            \n",
    "        for feature_join in feature_set: # 각 조건 별 해당하는 index 추출\n",
    "\n",
    "            feature_pair = feature_join.split('-') # 특징 조각들 \n",
    "\n",
    "            for f in feature_pair:\n",
    "                feature = f.split('_')\n",
    "                feature_model.append(feature[0])\n",
    "                \n",
    "        rf = RandomForestClassifier(n_estimators=100, max_depth=5,random_state=0)\n",
    "        trainX = train_x[feature_model]\n",
    "        rf.fit(trainX,train_y)\n",
    "        \n",
    "        testX = testx[feature_model]\n",
    "        pre = rf.predict(testX)\n",
    "        \n",
    "        print(accuracy_score(test_y,pre))\n",
    "        print(confusion_matrix(test_y, pre)"
   ]
  },
  {
   "cell_type": "markdown",
   "id": "fb48004d",
   "metadata": {},
   "source": [
    "## 4) 평가 코드"
   ]
  },
  {
   "cell_type": "code",
   "execution_count": null,
   "id": "f0ffdcb2",
   "metadata": {},
   "outputs": [],
   "source": [
    "test_df = 'temp'\n",
    "\n",
    "# test도 같은 과정 거쳐서 생성되는 특징 set이 유사한지 살펴보기.. ?\n",
    "\n",
    "# 전처리\n",
    "df[\"보험료\"]=df[\"보험료\"].apply(lambda x: x.strip().replace(\",\",\"\")).astype(int)\n",
    "df[\"지급금액\"]=df[\"지급금액\"].apply(lambda x: x.strip().replace(\",\",\"\")).astype(int)\n",
    "\n",
    "df['생명보험사고율']=df[\"사고건수\"]/df[\"계약건수\"]\n",
    "df['장기보험사고율']=df[\"지급금액\"]/df[\"보험료\"]\n",
    "df['자동차보험사고율']= df[\"지급금액\"]/df[\"보험료\"]\n",
    "\n",
    "df.loc[:,'총사용건수_합'] = (df['총사용건수_A'].values+df['총사용건수_B'].values+df['총사용건수_C'].values+df['총사용건수_D'].values+df['총사용건수_E'].values)\n",
    "df.loc[:,'총사용금액_합'] = (df['총사용금액_A'].values+df['총사용금액_B'].values+df['총사용금액_C'].values+df['총사용금액_D'].values+df['총사용금액_E'].values)\n",
    "df.loc[:,'총_평균금액_합'] = df['총사용금액_합']/df['총사용건수_합']\n",
    "\n",
    "\n",
    "# 등급 생성\n",
    "# graph 생성 및 print "
   ]
  },
  {
   "cell_type": "code",
   "execution_count": null,
   "id": "a6ada74c",
   "metadata": {},
   "outputs": [],
   "source": [
    "for big in class_dic.keys():\n",
    "    \n",
    "    if (\"매출건수합계_\"+big+\"_A\") not in df_columns:\n",
    "        print(big,'없음')\n",
    "        continue\n",
    "    tmp_count = []\n",
    "    tmp_money = []\n",
    "    for a in alpha:\n",
    "        tmp_count.append(\"매출건수합계_\"+big+\"_\"+a)\n",
    "        tmp_money.append(\"매출금액합계_\"+big+\"_\"+a)\n",
    "    \n",
    "    tmp_count_sum = df[tmp_count].sum(axis=1)\n",
    "    tmp_money_sum = df[tmp_money].sum(axis=1)\n",
    "    \n",
    "    total = tmp_money_sum/tmp_count_sum\n",
    "    df.loc[:,big+'_평균사용금액']= total\n",
    "    \n",
    "    for mid in class_dic[big].keys():\n",
    "        if (\"매출건수합계_\"+mid+\"_A\") not in df_columns:\n",
    "            print(big,'의 ',mid,'없음')\n",
    "            continue\n",
    "        tmp_count = []\n",
    "        tmp_money = []\n",
    "        for a in alpha:\n",
    "            tmp_count.append(\"매출건수합계_\"+mid+\"_\"+a)\n",
    "            tmp_money.append(\"매출금액합계_\"+mid+\"_\"+a)\n",
    "    \n",
    "        tmp_count_sum = df[tmp_count].sum(axis=1)\n",
    "        tmp_money_sum = df[tmp_money].sum(axis=1)\n",
    "        df.loc[:,mid+'_평균사용금액']= total\n",
    "        \n",
    "        for small in class_dic[big][mid]:\n",
    "            if (\"매출건수합계_\"+small+\"_A\") not in df_columns:\n",
    "                print(big,'의 ',mid,'의',small,'없음')\n",
    "                continue\n",
    "            tmp_count = []\n",
    "            tmp_money = []\n",
    "            for a in alpha:\n",
    "                tmp_count.append(\"매출건수합계_\"+small+\"_\"+a)\n",
    "                tmp_money.append(\"매출금액합계_\"+small+\"_\"+a)\n",
    "\n",
    "            tmp_count_sum = df[tmp_count].sum(axis=1)\n",
    "            tmp_money_sum = df[tmp_money].sum(axis=1)\n",
    "            df.loc[:,small+'_평균사용금액']= total\n",
    "    "
   ]
  },
  {
   "cell_type": "code",
   "execution_count": null,
   "id": "5eff1163",
   "metadata": {},
   "outputs": [],
   "source": [
    "df.loc[:,\"생명보험사고율_등급\"]=df[\"생명보험사고율\"].apply(grade_apply,args=(grade_list_1,)) # apply 작성\n",
    "df.loc[:,\"장기보험사고율_등급\"]=df[\"장기보험사고율\"].apply(grade_apply,args=(grade_list_2,)) # apply 작성\n",
    "df.loc[:,\"자동차보험사고율_등급\"]=df[\"자동차보험사고율\"].apply(grade_apply,args=(grade_list_3,)) # apply 작성"
   ]
  },
  {
   "cell_type": "code",
   "execution_count": null,
   "id": "db91b263",
   "metadata": {},
   "outputs": [],
   "source": [
    "graph_test = {}\n",
    "num_acc_group = 5\n",
    "max_group = 2\n",
    "min_count = 0\n",
    "\n",
    "for i in range(1,4):\n",
    "    insurance_data = df[df['보험종류']==i]\n",
    "    \n",
    "    graph[i] = dict()\n",
    "    biggroup_dic = graph[i]\n",
    "    for j in range(1, num_acc_group+1): # 사고율 별 계산\n",
    "        if j==1 :\n",
    "            name = \"생명보험사고율_등급\"\n",
    "            acc_data = insurance_data[insurance_data['생명보험사고율_등급']==j]\n",
    "        elif j==2 :\n",
    "            name = \"장기보험사고율_등급\"\n",
    "            acc_data = insurance_data[insurance_data['장기보험사고율_등급']==j]\n",
    "        else:\n",
    "            name = \"자동차보험사고율_등급\"\n",
    "            acc_data = insurance_data[insurance_data['자동차보험사고율_등급']==j]\n",
    "            \n",
    "        \n",
    "        \n",
    "        biggroup_dic[j] = dict()\n",
    "        acc_dic = biggroup_dic[j]\n",
    "        \n",
    "        # 대분류 필터링\n",
    "        filter_graph(acc_dic, acc_data, min_count, max_group, feature_list) # 사고율 별 1차 필터링\n",
    "        merge_big_graph(acc_dic, acc_data, max_group) # 대분류 2차 필터링\n",
    "        \n",
    "        # 중분류 필터링\n",
    "        for big_feature in acc_dic.keys(): # 대분류 별 진행\n",
    "            feature_list = []\n",
    "            print(big_list)\n",
    "            big_list = acc_dic[big_feature][0] # 대분류 리스트\n",
    "            mid_data = acc_data[acc_data['index'].isin(acc_dic[big_feature][1])] # 해당 대분류에 해당하는 데이터\n",
    "            \n",
    "            mid_dic = dict()\n",
    "            big_graph = acc_dic[big_feature]\n",
    "            \n",
    "            for b in big_list:\n",
    "                feature_list.append(i for i in class_dic[b].keys())\n",
    "            \n",
    "            # 중분류 필터링\n",
    "            filter_graph(acc_dic, acc_data, min_count, max_group, feature_list) # 중분류 1차 그래프 생성\n",
    "            merge_big_graph(acc_dic, acc_data, max_group) # 중분류 2차 필터링\n",
    "        \n",
    "            # 소분류도 중분류와 같은 방식으로 진행\n",
    "            # ...."
   ]
  },
  {
   "cell_type": "markdown",
   "id": "b3e816bb",
   "metadata": {},
   "source": [
    "## 5) 그래프 그리기"
   ]
  },
  {
   "cell_type": "code",
   "execution_count": 329,
   "id": "64b6686f",
   "metadata": {},
   "outputs": [],
   "source": [
    "import networkx as nx\n",
    "import matplotlib.pyplot as plt\n",
    "\n",
    "def draw_graph(graph, ensurance, file_name): # 임시 코드 (현재 데이터로 그래프 생성 불가)\n",
    "    G = nx.DiGraph()\n",
    "\n",
    "    def add_edges(graph, node, parent_node=None):\n",
    "        if parent_node:\n",
    "            G.add_edge(parent_node, node)\n",
    "        for child_node, value in graph[node].items():\n",
    "            G.add_edge(node, child_node)\n",
    "            add_edges(graph[node], child_node, node)\n",
    "\n",
    "    add_edges(graph, list(graph.keys())[0])\n",
    "\n",
    "    pos = nx.spring_layout(G)\n",
    "    nx.draw_networkx(G, pos, with_labels=True, node_color='lightblue', node_size=500, \\\n",
    "                     font_size=12, edge_color='gray',\\\n",
    "                     width=1.0, arrowsize=15, arrowstyle='->')\n",
    "\n",
    "    plt.axis('off')\n",
    "    plt.save(f'./figure/{ensurance}/{file_name}_graph.jpeg')\n",
    "    plt.show()"
   ]
  },
  {
   "cell_type": "code",
   "execution_count": null,
   "id": "8456230a",
   "metadata": {},
   "outputs": [],
   "source": [
    "for i in range(1,4): # 보험 별 그래프 생성\n",
    "    biggroup_dic = graph[i]\n",
    "    \n",
    "    for j in range(1, num_acc_group+1): # 사고율 별 그래프 생성\n",
    "        acc_graph = biggroup_dic[j]\n",
    "        draw_graph(acc_graph, i, j) # 폴더이름은 추후 변경"
   ]
  }
 ],
 "metadata": {
  "kernelspec": {
   "display_name": "Python 3 (ipykernel)",
   "language": "python",
   "name": "python3"
  },
  "language_info": {
   "codemirror_mode": {
    "name": "ipython",
    "version": 3
   },
   "file_extension": ".py",
   "mimetype": "text/x-python",
   "name": "python",
   "nbconvert_exporter": "python",
   "pygments_lexer": "ipython3",
   "version": "3.9.12"
  }
 },
 "nbformat": 4,
 "nbformat_minor": 5
}
