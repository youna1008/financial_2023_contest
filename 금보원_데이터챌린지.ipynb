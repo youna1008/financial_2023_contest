{
 "cells": [
  {
   "cell_type": "markdown",
   "id": "bbd593fb",
   "metadata": {},
   "source": [
    "# 금보원 데이터챌린지_계획서 제출 코드"
   ]
  },
  {
   "cell_type": "markdown",
   "id": "9e2d3b73",
   "metadata": {},
   "source": [
    "## 1. 데이터셋 및 라이브러리 불러오기"
   ]
  },
  {
   "cell_type": "code",
   "execution_count": 2,
   "id": "d43e5b9c",
   "metadata": {},
   "outputs": [],
   "source": [
    "import pandas as pd"
   ]
  },
  {
   "cell_type": "code",
   "execution_count": 7,
   "id": "e5bdfbff",
   "metadata": {},
   "outputs": [],
   "source": [
    "samsung = pd.read_csv(r\"E:\\금보원_데이터챌린지대회\\삼성카드_data.csv\",encoding='cp949')\n",
    "insurance = pd.read_csv(r\"E:\\금보원_데이터챌린지대회\\보험개발원_data.csv\",encoding='cp949')"
   ]
  },
  {
   "cell_type": "markdown",
   "id": "34ce26fa",
   "metadata": {},
   "source": [
    "### 데이터셋 concat"
   ]
  },
  {
   "cell_type": "code",
   "execution_count": 10,
   "id": "42e2dbfe",
   "metadata": {},
   "outputs": [],
   "source": [
    "df= pd.concat([samsung, insurance], axis=1)"
   ]
  },
  {
   "cell_type": "code",
   "execution_count": 174,
   "id": "85b14e6a",
   "metadata": {},
   "outputs": [],
   "source": [
    "df = df.fillna(0)"
   ]
  },
  {
   "cell_type": "code",
   "execution_count": 179,
   "id": "42892e3f",
   "metadata": {},
   "outputs": [],
   "source": [
    "df[\"보험료\"]=df[\"보험료\"].apply(lambda x: x.strip().replace(\",\",\"\")).astype(int)\n",
    "df[\"지급금액\"]=df[\"지급금액\"].apply(lambda x: x.strip().replace(\",\",\"\")).astype(int)"
   ]
  },
  {
   "cell_type": "code",
   "execution_count": 180,
   "id": "7731720f",
   "metadata": {},
   "outputs": [],
   "source": [
    "df[\"자동차_사고율\"]= df[\"지급금액\"]/df[\"보험료\"]\n",
    "df[\"장기_사고율\"]=df[\"지급금액\"]/df[\"보험료\"]\n",
    "df[\"생명_사고율\"]=df[\"사고건수\"]/df[\"계약건수\"]"
   ]
  },
  {
   "cell_type": "markdown",
   "id": "5d3fb9ba",
   "metadata": {},
   "source": [
    "사고율 feature 추가"
   ]
  },
  {
   "cell_type": "markdown",
   "id": "663a1867",
   "metadata": {},
   "source": [
    "## 2. 데이터 분석 "
   ]
  },
  {
   "cell_type": "markdown",
   "id": "2b0335e3",
   "metadata": {},
   "source": [
    "## 3. feature 생성\n",
    "\n",
    "- 평균 매출 금액 = 매출 금액 합 / 매출 금액 건수"
   ]
  },
  {
   "cell_type": "markdown",
   "id": "415352e8",
   "metadata": {},
   "source": [
    "1) 대분류별 데이터셋 생성"
   ]
  },
  {
   "cell_type": "code",
   "execution_count": 182,
   "id": "97330774",
   "metadata": {},
   "outputs": [],
   "source": [
    "big_list = [\"요식\",\"자동차\",\"교육\",\"건강\",\"여가\",\"생활\",\"유흥\",\"쇼핑\",\"여행\"]"
   ]
  },
  {
   "cell_type": "code",
   "execution_count": 183,
   "id": "3b5f46b1",
   "metadata": {},
   "outputs": [],
   "source": [
    "alpha = [\"A\",\"B\",\"C\",\"D\",\"E\",\"F\",\"G\"]"
   ]
  },
  {
   "cell_type": "code",
   "execution_count": 184,
   "id": "61404a6e",
   "metadata": {},
   "outputs": [],
   "source": [
    "data = df[['기준년도', 'AGE', 'GENDER', 'JOB', 'INCOME', 'HOM_MGPO', 'HOM_SGG',\n",
    "       'OFFI_MGPO', 'OFFI_SGG', 'ONEPER_GD_C', 'EST_LFSTG', 'UMRD_SCORE',\n",
    "       'WEDD_EXP_SCORE', 'CHDB_EXP_SCORE', 'PSCH_OCH_SCORE', 'ESTUD_OCH_SCORE',\n",
    "       'MHSTUD_OCH_SCORE', 'CSTUD_OCH_SCORE', 'OCH_WEDD_EXP_SCORE',\n",
    "       'HOUSEWF_SCORE', 'ONL_PRSN', 'ERADP_TNDC', 'PRMM_CSM_TNDC', 'MDLV_PRSN',\n",
    "       'PET_PRSN', 'ODS_ACTI_INRT_TNDC', 'FRN_TRV_INRT_TNDC',\n",
    "       'INTERI_SLNG_TNDC', 'INTERI_REMDL_TNDC', 'HL_MNGT_INRT_TNDC']].copy()"
   ]
  },
  {
   "cell_type": "code",
   "execution_count": 185,
   "id": "c9a34f5f",
   "metadata": {
    "scrolled": false
   },
   "outputs": [],
   "source": [
    "data.loc[:,'총사용건수_합'] = (df['총사용건수_A'].values+df['총사용건수_B'].values+df['총사용건수_C'].values+df['총사용건수_D'].values+df['총사용건수_E'].values)\n",
    "#data[\"총사용금액_합\"] = df['총사용금액_A']+df['총사용금액_B']+df['총사용금액_C']+df['총사용금액_D']+df['총사용금액_E']"
   ]
  },
  {
   "cell_type": "code",
   "execution_count": 186,
   "id": "45edadc2",
   "metadata": {
    "scrolled": false
   },
   "outputs": [],
   "source": [
    "data.loc[:,'총사용금액_합'] = (df['총사용금액_A'].values+df['총사용금액_B'].values+df['총사용금액_C'].values+df['총사용금액_D'].values+df['총사용금액_E'].values)"
   ]
  },
  {
   "cell_type": "code",
   "execution_count": 187,
   "id": "804818d4",
   "metadata": {},
   "outputs": [],
   "source": [
    "data.loc[:,'총_평균금액_합'] = data['총사용금액_합']/data['총사용건수_합']"
   ]
  },
  {
   "cell_type": "code",
   "execution_count": 188,
   "id": "4444cb88",
   "metadata": {
    "scrolled": true
   },
   "outputs": [],
   "source": [
    "for i in big_list:\n",
    "    data.loc[:,i+'_총사용건수_합']=0\n",
    "    for j in alpha:\n",
    "        data.loc[:,i+'_총사용건수_합'] += df[\"매출건수합계_\"+i+\"_\"+j].values"
   ]
  },
  {
   "cell_type": "code",
   "execution_count": 189,
   "id": "dcc2db59",
   "metadata": {
    "scrolled": true
   },
   "outputs": [],
   "source": [
    "for i in big_list:\n",
    "    data.loc[:,i+'_총사용금액_합']=0\n",
    "    for j in alpha:\n",
    "        data.loc[:,i+'_총사용금액_합'] += df[\"매출금액합계_\"+i+\"_\"+j].values"
   ]
  },
  {
   "cell_type": "code",
   "execution_count": 190,
   "id": "2446ceba",
   "metadata": {},
   "outputs": [],
   "source": [
    "for i in big_list:\n",
    "    data.loc[:,i+'_평균사용금액']= data[i+'_총사용금액_합']/data[i+'_총사용건수_합']"
   ]
  },
  {
   "cell_type": "markdown",
   "id": "6b461b4f",
   "metadata": {},
   "source": [
    "## 2. 등급 부여하기\n",
    "- 등급은 값이 높을 수록 평균 사용금액이 높은 것을 의미한다."
   ]
  },
  {
   "cell_type": "code",
   "execution_count": 191,
   "id": "0e87bcd4",
   "metadata": {},
   "outputs": [],
   "source": [
    "def grade(bin_number,series):\n",
    "    min_ = min(series.values)\n",
    "    max_ = max(series.values)\n",
    "    bin_size = (max_-min_)/bin_number\n",
    "    grade_list = series.values\n",
    "    # 등급 생성\n",
    "    grade_list = []\n",
    "    data = min_\n",
    "    for i in range(bin_number+1):\n",
    "        grade_list.append(data)\n",
    "        data+= bin_size\n",
    "    return grade_list"
   ]
  },
  {
   "cell_type": "code",
   "execution_count": 192,
   "id": "95261700",
   "metadata": {},
   "outputs": [],
   "source": [
    "def grade_apply(x,columns_list):\n",
    "    for i in range(len(columns_list)-1) :\n",
    "        if x<=columns_list[i+1]:\n",
    "            return i+1\n",
    "    return len(columns_list)-1"
   ]
  },
  {
   "cell_type": "code",
   "execution_count": 88,
   "id": "016c71f0",
   "metadata": {},
   "outputs": [],
   "source": [
    "# grade_list 전역변수로 지정 "
   ]
  },
  {
   "cell_type": "code",
   "execution_count": 193,
   "id": "fe025e14",
   "metadata": {},
   "outputs": [],
   "source": [
    "columns_grade_list = [\"요식_평균사용금액\", '자동차_평균사용금액', '교육_평균사용금액', '건강_평균사용금액', '여가_평균사용금액',\n",
    "       '생활_평균사용금액', '유흥_평균사용금액', '쇼핑_평균사용금액','UMRD_SCORE',\n",
    "       'WEDD_EXP_SCORE', 'CHDB_EXP_SCORE', 'PSCH_OCH_SCORE', 'ESTUD_OCH_SCORE',\n",
    "       'MHSTUD_OCH_SCORE', 'CSTUD_OCH_SCORE', 'OCH_WEDD_EXP_SCORE',\n",
    "       'HOUSEWF_SCORE', 'ONL_PRSN', 'ERADP_TNDC', 'PRMM_CSM_TNDC', 'MDLV_PRSN',\n",
    "       'PET_PRSN', 'ODS_ACTI_INRT_TNDC', 'FRN_TRV_INRT_TNDC',\n",
    "       'INTERI_SLNG_TNDC', 'INTERI_REMDL_TNDC', 'HL_MNGT_INRT_TNDC']\n",
    " "
   ]
  },
  {
   "cell_type": "code",
   "execution_count": 194,
   "id": "70bfda0f",
   "metadata": {},
   "outputs": [],
   "source": [
    "for c in columns_grade_list:\n",
    "    grade_list = grade(10,data[c]) # 분류별 범위 리스트 생성\n",
    "    data.loc[:,c+\"등급\"]=data[c].apply(grade_apply,args=(grade_list,)) # apply 작성"
   ]
  },
  {
   "cell_type": "markdown",
   "id": "c7e0c6c9",
   "metadata": {},
   "source": [
    "# 3. 대분류 그래프 생성"
   ]
  },
  {
   "cell_type": "markdown",
   "id": "6b8c9e2d",
   "metadata": {},
   "source": [
    "## 1)사고율 별 그룹 생성"
   ]
  },
  {
   "cell_type": "markdown",
   "id": "df0dee3c",
   "metadata": {},
   "source": [
    "data drop"
   ]
  },
  {
   "cell_type": "code",
   "execution_count": 204,
   "id": "f27d7656",
   "metadata": {},
   "outputs": [],
   "source": [
    "data = data[['AGE', 'GENDER', 'JOB', 'INCOME','요식_평균사용금액등급',\n",
    "       '자동차_평균사용금액등급', '교육_평균사용금액등급', '건강_평균사용금액등급', '여가_평균사용금액등급',\n",
    "       '생활_평균사용금액등급', '유흥_평균사용금액등급', '쇼핑_평균사용금액등급', 'UMRD_SCORE등급',\n",
    "       'WEDD_EXP_SCORE등급', 'CHDB_EXP_SCORE등급', 'PSCH_OCH_SCORE등급',\n",
    "       'ESTUD_OCH_SCORE등급', 'MHSTUD_OCH_SCORE등급', 'CSTUD_OCH_SCORE등급',\n",
    "       'OCH_WEDD_EXP_SCORE등급', 'HOUSEWF_SCORE등급', 'ONL_PRSN등급', 'ERADP_TNDC등급',\n",
    "       'PRMM_CSM_TNDC등급', 'MDLV_PRSN등급', 'PET_PRSN등급', 'ODS_ACTI_INRT_TNDC등급',\n",
    "       'FRN_TRV_INRT_TNDC등급', 'INTERI_SLNG_TNDC등급', 'INTERI_REMDL_TNDC등급',\n",
    "       'HL_MNGT_INRT_TNDC등급']].copy()"
   ]
  },
  {
   "cell_type": "code",
   "execution_count": 215,
   "id": "a6b3f9ae",
   "metadata": {},
   "outputs": [],
   "source": [
    "columns = data.columns"
   ]
  },
  {
   "cell_type": "code",
   "execution_count": 206,
   "id": "d4c43022",
   "metadata": {},
   "outputs": [],
   "source": [
    "data = data.reset_index()"
   ]
  },
  {
   "cell_type": "markdown",
   "id": "2750dd0d",
   "metadata": {},
   "source": [
    "## 2) 그래프 생성"
   ]
  },
  {
   "cell_type": "code",
   "execution_count": 207,
   "id": "2389bd7c",
   "metadata": {},
   "outputs": [],
   "source": [
    "biggroup_dic = {}"
   ]
  },
  {
   "cell_type": "code",
   "execution_count": 221,
   "id": "3ac38843",
   "metadata": {},
   "outputs": [],
   "source": [
    "biggroup_dic = {}\n",
    "for idx,row in data.iterrows():\n",
    "    for r in range(1,len(row)):\n",
    "        value_ = columns[r]+\"_\"+str(row[r])\n",
    "        if value_ in biggroup_dic:\n",
    "            biggroup_dic[value_].append(idx)\n",
    "        else:\n",
    "            biggroup_dic[value_]= [idx]"
   ]
  },
  {
   "cell_type": "markdown",
   "id": "ecd377bd",
   "metadata": {},
   "source": [
    "## 3) 조건에 따라 불필요한 feature 필터링"
   ]
  },
  {
   "cell_type": "code",
   "execution_count": null,
   "id": "ed0a6baf",
   "metadata": {},
   "outputs": [],
   "source": []
  }
 ],
 "metadata": {
  "kernelspec": {
   "display_name": "Python 3 (ipykernel)",
   "language": "python",
   "name": "python3"
  },
  "language_info": {
   "codemirror_mode": {
    "name": "ipython",
    "version": 3
   },
   "file_extension": ".py",
   "mimetype": "text/x-python",
   "name": "python",
   "nbconvert_exporter": "python",
   "pygments_lexer": "ipython3",
   "version": "3.9.12"
  }
 },
 "nbformat": 4,
 "nbformat_minor": 5
}
