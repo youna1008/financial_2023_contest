{
 "cells": [
  {
   "cell_type": "markdown",
   "id": "bbd593fb",
   "metadata": {},
   "source": [
    "# 금보원 데이터챌린지_계획서 제출 코드"
   ]
  },
  {
   "cell_type": "markdown",
   "id": "9e2d3b73",
   "metadata": {},
   "source": [
    "## 1. 데이터셋 및 라이브러리 불러오기"
   ]
  },
  {
   "cell_type": "code",
   "execution_count": 68,
   "id": "d43e5b9c",
   "metadata": {},
   "outputs": [],
   "source": [
    "import pandas as pd"
   ]
  },
  {
   "cell_type": "code",
   "execution_count": 151,
   "id": "e5bdfbff",
   "metadata": {},
   "outputs": [],
   "source": [
    "samsung = pd.read_csv(r\".\\data\\삼성카드_data.csv\",encoding='cp949')\n",
    "insurance = pd.read_csv(r\".\\data\\보험개발원_data.csv\",encoding='cp949')\n",
    "class_name = pd.read_csv('./data/카드_대중소분류.csv',encoding='cp949')"
   ]
  },
  {
   "cell_type": "markdown",
   "id": "34ce26fa",
   "metadata": {},
   "source": [
    "### 데이터셋 concat"
   ]
  },
  {
   "cell_type": "code",
   "execution_count": 70,
   "id": "42e2dbfe",
   "metadata": {},
   "outputs": [],
   "source": [
    "df= pd.concat([samsung, insurance], axis=1)"
   ]
  },
  {
   "cell_type": "code",
   "execution_count": 71,
   "id": "85b14e6a",
   "metadata": {},
   "outputs": [],
   "source": [
    "df = df.fillna(0)"
   ]
  },
  {
   "cell_type": "code",
   "execution_count": 72,
   "id": "42892e3f",
   "metadata": {},
   "outputs": [],
   "source": [
    "df[\"보험료\"]=df[\"보험료\"].apply(lambda x: x.strip().replace(\",\",\"\")).astype(int)\n",
    "df[\"지급금액\"]=df[\"지급금액\"].apply(lambda x: x.strip().replace(\",\",\"\")).astype(int)"
   ]
  },
  {
   "cell_type": "markdown",
   "id": "9eb03fb3",
   "metadata": {},
   "source": [
    "## 생명 보험 1, 장기 보험 2, 자동차 보험 3"
   ]
  },
  {
   "cell_type": "code",
   "execution_count": 73,
   "id": "2fbec884",
   "metadata": {},
   "outputs": [
    {
     "data": {
      "text/plain": [
       "0    1\n",
       "1    1\n",
       "2    1\n",
       "3    1\n",
       "4    2\n",
       "5    2\n",
       "6    3\n",
       "7    3\n",
       "8    3\n",
       "9    1\n",
       "Name: 보험종류, dtype: int64"
      ]
     },
     "execution_count": 73,
     "metadata": {},
     "output_type": "execute_result"
    }
   ],
   "source": [
    "df['보험종류']"
   ]
  },
  {
   "cell_type": "code",
   "execution_count": 74,
   "id": "389269b7",
   "metadata": {},
   "outputs": [],
   "source": [
    "df['생명보험사고율']=df[\"사고건수\"]/df[\"계약건수\"]\n",
    "df['장기보험사고율']=df[\"지급금액\"]/df[\"보험료\"]\n",
    "df['자동차보험사고율']= df[\"지급금액\"]/df[\"보험료\"]"
   ]
  },
  {
   "cell_type": "code",
   "execution_count": 75,
   "id": "ac312460",
   "metadata": {},
   "outputs": [],
   "source": [
    "def grade_acc(row):\n",
    "    if row['보험종류'] == 1:\n",
    "        ratio=row[\"사고건수\"]/row[\"계약건수\"]\n",
    "    \n",
    "    elif row['보험종류'] == 2:\n",
    "        ratio=row[\"지급금액\"]/row[\"보험료\"]\n",
    "    \n",
    "    else:\n",
    "        ratio= row[\"지급금액\"]/row[\"보험료\"]\n",
    "        \n",
    "    if ratio <= 0.2:\n",
    "        return 0\n",
    "    \n",
    "    elif ratio <= 0.4:\n",
    "        return 1\n",
    "\n",
    "    elif ratio <= 0.6:\n",
    "        return 2\n",
    "    \n",
    "    elif ratio <= 0.8:\n",
    "        return 3\n",
    "    \n",
    "    return 4"
   ]
  },
  {
   "cell_type": "code",
   "execution_count": 76,
   "id": "d50329c8",
   "metadata": {},
   "outputs": [],
   "source": [
    "df[\"보험_사고율_등급\"]= df.apply(grade_acc, axis=1)"
   ]
  },
  {
   "cell_type": "code",
   "execution_count": 77,
   "id": "fc62f22b",
   "metadata": {},
   "outputs": [
    {
     "data": {
      "text/plain": [
       "<Axes: ylabel='Frequency'>"
      ]
     },
     "execution_count": 77,
     "metadata": {},
     "output_type": "execute_result"
    },
    {
     "data": {
      "image/png": "[encoded data removed]",
      "text/plain": [
       "<Figure size 640x480 with 1 Axes>"
      ]
     },
     "metadata": {},
     "output_type": "display_data"
    }
   ],
   "source": [
    "df[df['보험종류']==1]['생명보험사고율'].plot.hist()\n",
    "df[df['보험종류']==2]['장기보험사고율'].plot.hist()\n",
    "df[df['보험종류']==3]['자동차보험사고율'].plot.hist()"
   ]
  },
  {
   "cell_type": "code",
   "execution_count": 78,
   "id": "ec51f1cc",
   "metadata": {},
   "outputs": [
    {
     "data": {
      "text/html": [
       "<div>\n",
       "<style scoped>\n",
       "    .dataframe tbody tr th:only-of-type {\n",
       "        vertical-align: middle;\n",
       "    }\n",
       "\n",
       "    .dataframe tbody tr th {\n",
       "        vertical-align: top;\n",
       "    }\n",
       "\n",
       "    .dataframe thead th {\n",
       "        text-align: right;\n",
       "    }\n",
       "</style>\n",
       "<table border=\"1\" class=\"dataframe\">\n",
       "  <thead>\n",
       "    <tr style=\"text-align: right;\">\n",
       "      <th></th>\n",
       "      <th>보험종류</th>\n",
       "      <th>보험_사고율_등급</th>\n",
       "      <th>사고건수</th>\n",
       "      <th>계약건수</th>\n",
       "      <th>생명보험사고율</th>\n",
       "    </tr>\n",
       "  </thead>\n",
       "  <tbody>\n",
       "    <tr>\n",
       "      <th>0</th>\n",
       "      <td>1</td>\n",
       "      <td>0</td>\n",
       "      <td>0</td>\n",
       "      <td>0.5</td>\n",
       "      <td>0.00</td>\n",
       "    </tr>\n",
       "    <tr>\n",
       "      <th>1</th>\n",
       "      <td>1</td>\n",
       "      <td>0</td>\n",
       "      <td>0</td>\n",
       "      <td>1.0</td>\n",
       "      <td>0.00</td>\n",
       "    </tr>\n",
       "    <tr>\n",
       "      <th>2</th>\n",
       "      <td>1</td>\n",
       "      <td>4</td>\n",
       "      <td>1</td>\n",
       "      <td>1.0</td>\n",
       "      <td>1.00</td>\n",
       "    </tr>\n",
       "    <tr>\n",
       "      <th>3</th>\n",
       "      <td>1</td>\n",
       "      <td>0</td>\n",
       "      <td>0</td>\n",
       "      <td>1.0</td>\n",
       "      <td>0.00</td>\n",
       "    </tr>\n",
       "    <tr>\n",
       "      <th>4</th>\n",
       "      <td>2</td>\n",
       "      <td>0</td>\n",
       "      <td>0</td>\n",
       "      <td>2.0</td>\n",
       "      <td>0.00</td>\n",
       "    </tr>\n",
       "    <tr>\n",
       "      <th>5</th>\n",
       "      <td>2</td>\n",
       "      <td>4</td>\n",
       "      <td>2</td>\n",
       "      <td>1.0</td>\n",
       "      <td>2.00</td>\n",
       "    </tr>\n",
       "    <tr>\n",
       "      <th>6</th>\n",
       "      <td>3</td>\n",
       "      <td>4</td>\n",
       "      <td>1</td>\n",
       "      <td>0.8</td>\n",
       "      <td>1.25</td>\n",
       "    </tr>\n",
       "    <tr>\n",
       "      <th>7</th>\n",
       "      <td>3</td>\n",
       "      <td>4</td>\n",
       "      <td>1</td>\n",
       "      <td>1.0</td>\n",
       "      <td>1.00</td>\n",
       "    </tr>\n",
       "    <tr>\n",
       "      <th>8</th>\n",
       "      <td>3</td>\n",
       "      <td>0</td>\n",
       "      <td>0</td>\n",
       "      <td>1.0</td>\n",
       "      <td>0.00</td>\n",
       "    </tr>\n",
       "    <tr>\n",
       "      <th>9</th>\n",
       "      <td>1</td>\n",
       "      <td>0</td>\n",
       "      <td>0</td>\n",
       "      <td>1.0</td>\n",
       "      <td>0.00</td>\n",
       "    </tr>\n",
       "  </tbody>\n",
       "</table>\n",
       "</div>"
      ],
      "text/plain": [
       "   보험종류  보험_사고율_등급  사고건수  계약건수  생명보험사고율\n",
       "0     1          0     0   0.5     0.00\n",
       "1     1          0     0   1.0     0.00\n",
       "2     1          4     1   1.0     1.00\n",
       "3     1          0     0   1.0     0.00\n",
       "4     2          0     0   2.0     0.00\n",
       "5     2          4     2   1.0     2.00\n",
       "6     3          4     1   0.8     1.25\n",
       "7     3          4     1   1.0     1.00\n",
       "8     3          0     0   1.0     0.00\n",
       "9     1          0     0   1.0     0.00"
      ]
     },
     "execution_count": 78,
     "metadata": {},
     "output_type": "execute_result"
    }
   ],
   "source": [
    "df[['보험종류', '보험_사고율_등급', '사고건수', '계약건수', '생명보험사고율']]"
   ]
  },
  {
   "cell_type": "markdown",
   "id": "5d3fb9ba",
   "metadata": {},
   "source": [
    "사고율 feature 추가"
   ]
  },
  {
   "cell_type": "markdown",
   "id": "0fe6ff30",
   "metadata": {},
   "source": [
    "## 데이터 전처리 코드 모음"
   ]
  },
  {
   "cell_type": "code",
   "execution_count": 331,
   "id": "df5b8c04",
   "metadata": {},
   "outputs": [
    {
     "ename": "AttributeError",
     "evalue": "'int' object has no attribute 'strip'",
     "output_type": "error",
     "traceback": [
      "\u001b[1;31m---------------------------------------------------------------------------\u001b[0m",
      "\u001b[1;31mAttributeError\u001b[0m                            Traceback (most recent call last)",
      "Cell \u001b[1;32mIn[331], line 1\u001b[0m\n\u001b[1;32m----> 1\u001b[0m df[\u001b[38;5;124m\"\u001b[39m\u001b[38;5;124m보험료\u001b[39m\u001b[38;5;124m\"\u001b[39m]\u001b[38;5;241m=\u001b[39m\u001b[43mdf\u001b[49m\u001b[43m[\u001b[49m\u001b[38;5;124;43m\"\u001b[39;49m\u001b[38;5;124;43m보험료\u001b[39;49m\u001b[38;5;124;43m\"\u001b[39;49m\u001b[43m]\u001b[49m\u001b[38;5;241;43m.\u001b[39;49m\u001b[43mapply\u001b[49m\u001b[43m(\u001b[49m\u001b[38;5;28;43;01mlambda\u001b[39;49;00m\u001b[43m \u001b[49m\u001b[43mx\u001b[49m\u001b[43m:\u001b[49m\u001b[43m \u001b[49m\u001b[43mx\u001b[49m\u001b[38;5;241;43m.\u001b[39;49m\u001b[43mstrip\u001b[49m\u001b[43m(\u001b[49m\u001b[43m)\u001b[49m\u001b[38;5;241;43m.\u001b[39;49m\u001b[43mreplace\u001b[49m\u001b[43m(\u001b[49m\u001b[38;5;124;43m\"\u001b[39;49m\u001b[38;5;124;43m,\u001b[39;49m\u001b[38;5;124;43m\"\u001b[39;49m\u001b[43m,\u001b[49m\u001b[38;5;124;43m\"\u001b[39;49m\u001b[38;5;124;43m\"\u001b[39;49m\u001b[43m)\u001b[49m\u001b[43m)\u001b[49m\u001b[38;5;241m.\u001b[39mastype(\u001b[38;5;28mint\u001b[39m)\n\u001b[0;32m      2\u001b[0m df[\u001b[38;5;124m\"\u001b[39m\u001b[38;5;124m지급금액\u001b[39m\u001b[38;5;124m\"\u001b[39m]\u001b[38;5;241m=\u001b[39mdf[\u001b[38;5;124m\"\u001b[39m\u001b[38;5;124m지급금액\u001b[39m\u001b[38;5;124m\"\u001b[39m]\u001b[38;5;241m.\u001b[39mapply(\u001b[38;5;28;01mlambda\u001b[39;00m x: x\u001b[38;5;241m.\u001b[39mstrip()\u001b[38;5;241m.\u001b[39mreplace(\u001b[38;5;124m\"\u001b[39m\u001b[38;5;124m,\u001b[39m\u001b[38;5;124m\"\u001b[39m,\u001b[38;5;124m\"\u001b[39m\u001b[38;5;124m\"\u001b[39m))\u001b[38;5;241m.\u001b[39mastype(\u001b[38;5;28mint\u001b[39m)\n",
      "File \u001b[1;32m~\\AppData\\Local\\Programs\\Python\\Python38\\lib\\site-packages\\pandas\\core\\series.py:4213\u001b[0m, in \u001b[0;36mapply\u001b[1;34m(self, func, convert_dtype, args, **kwds)\u001b[0m\n\u001b[0;32m   4201\u001b[0m \u001b[38;5;28;01mdef\u001b[39;00m \u001b[38;5;21mexplode\u001b[39m(\u001b[38;5;28mself\u001b[39m, ignore_index: \u001b[38;5;28mbool\u001b[39m \u001b[38;5;241m=\u001b[39m \u001b[38;5;28;01mFalse\u001b[39;00m) \u001b[38;5;241m-\u001b[39m\u001b[38;5;241m>\u001b[39m Series:\n\u001b[0;32m   4202\u001b[0m \u001b[38;5;250m    \u001b[39m\u001b[38;5;124;03m\"\"\"\u001b[39;00m\n\u001b[0;32m   4203\u001b[0m \u001b[38;5;124;03m    Transform each element of a list-like to a row.\u001b[39;00m\n\u001b[0;32m   4204\u001b[0m \n\u001b[0;32m   4205\u001b[0m \u001b[38;5;124;03m    Parameters\u001b[39;00m\n\u001b[0;32m   4206\u001b[0m \u001b[38;5;124;03m    ----------\u001b[39;00m\n\u001b[0;32m   4207\u001b[0m \u001b[38;5;124;03m    ignore_index : bool, default False\u001b[39;00m\n\u001b[0;32m   4208\u001b[0m \u001b[38;5;124;03m        If True, the resulting index will be labeled 0, 1, …, n - 1.\u001b[39;00m\n\u001b[0;32m   4209\u001b[0m \n\u001b[0;32m   4210\u001b[0m \u001b[38;5;124;03m        .. versionadded:: 1.1.0\u001b[39;00m\n\u001b[0;32m   4211\u001b[0m \n\u001b[0;32m   4212\u001b[0m \u001b[38;5;124;03m    Returns\u001b[39;00m\n\u001b[1;32m-> 4213\u001b[0m \u001b[38;5;124;03m    -------\u001b[39;00m\n\u001b[0;32m   4214\u001b[0m \u001b[38;5;124;03m    Series\u001b[39;00m\n\u001b[0;32m   4215\u001b[0m \u001b[38;5;124;03m        Exploded lists to rows; index will be duplicated for these rows.\u001b[39;00m\n\u001b[0;32m   4216\u001b[0m \n\u001b[0;32m   4217\u001b[0m \u001b[38;5;124;03m    See Also\u001b[39;00m\n\u001b[0;32m   4218\u001b[0m \u001b[38;5;124;03m    --------\u001b[39;00m\n\u001b[0;32m   4219\u001b[0m \u001b[38;5;124;03m    Series.str.split : Split string values on specified separator.\u001b[39;00m\n\u001b[0;32m   4220\u001b[0m \u001b[38;5;124;03m    Series.unstack : Unstack, a.k.a. pivot, Series with MultiIndex\u001b[39;00m\n\u001b[0;32m   4221\u001b[0m \u001b[38;5;124;03m        to produce DataFrame.\u001b[39;00m\n\u001b[0;32m   4222\u001b[0m \u001b[38;5;124;03m    DataFrame.melt : Unpivot a DataFrame from wide format to long format.\u001b[39;00m\n\u001b[0;32m   4223\u001b[0m \u001b[38;5;124;03m    DataFrame.explode : Explode a DataFrame from list-like\u001b[39;00m\n\u001b[0;32m   4224\u001b[0m \u001b[38;5;124;03m        columns to long format.\u001b[39;00m\n\u001b[0;32m   4225\u001b[0m \n\u001b[0;32m   4226\u001b[0m \u001b[38;5;124;03m    Notes\u001b[39;00m\n\u001b[0;32m   4227\u001b[0m \u001b[38;5;124;03m    -----\u001b[39;00m\n\u001b[0;32m   4228\u001b[0m \u001b[38;5;124;03m    This routine will explode list-likes including lists, tuples, sets,\u001b[39;00m\n\u001b[0;32m   4229\u001b[0m \u001b[38;5;124;03m    Series, and np.ndarray. The result dtype of the subset rows will\u001b[39;00m\n\u001b[0;32m   4230\u001b[0m \u001b[38;5;124;03m    be object. Scalars will be returned unchanged, and empty list-likes will\u001b[39;00m\n\u001b[0;32m   4231\u001b[0m \u001b[38;5;124;03m    result in a np.nan for that row. In addition, the ordering of elements in\u001b[39;00m\n\u001b[0;32m   4232\u001b[0m \u001b[38;5;124;03m    the output will be non-deterministic when exploding sets.\u001b[39;00m\n\u001b[0;32m   4233\u001b[0m \n\u001b[0;32m   4234\u001b[0m \u001b[38;5;124;03m    Reference :ref:`the user guide <reshaping.explode>` for more examples.\u001b[39;00m\n\u001b[0;32m   4235\u001b[0m \n\u001b[0;32m   4236\u001b[0m \u001b[38;5;124;03m    Examples\u001b[39;00m\n\u001b[0;32m   4237\u001b[0m \u001b[38;5;124;03m    --------\u001b[39;00m\n\u001b[0;32m   4238\u001b[0m \u001b[38;5;124;03m    >>> s = pd.Series([[1, 2, 3], 'foo', [], [3, 4]])\u001b[39;00m\n\u001b[0;32m   4239\u001b[0m \u001b[38;5;124;03m    >>> s\u001b[39;00m\n\u001b[0;32m   4240\u001b[0m \u001b[38;5;124;03m    0    [1, 2, 3]\u001b[39;00m\n\u001b[0;32m   4241\u001b[0m \u001b[38;5;124;03m    1          foo\u001b[39;00m\n\u001b[0;32m   4242\u001b[0m \u001b[38;5;124;03m    2           []\u001b[39;00m\n\u001b[0;32m   4243\u001b[0m \u001b[38;5;124;03m    3       [3, 4]\u001b[39;00m\n\u001b[0;32m   4244\u001b[0m \u001b[38;5;124;03m    dtype: object\u001b[39;00m\n\u001b[0;32m   4245\u001b[0m \n\u001b[0;32m   4246\u001b[0m \u001b[38;5;124;03m    >>> s.explode()\u001b[39;00m\n\u001b[0;32m   4247\u001b[0m \u001b[38;5;124;03m    0      1\u001b[39;00m\n\u001b[0;32m   4248\u001b[0m \u001b[38;5;124;03m    0      2\u001b[39;00m\n\u001b[0;32m   4249\u001b[0m \u001b[38;5;124;03m    0      3\u001b[39;00m\n\u001b[0;32m   4250\u001b[0m \u001b[38;5;124;03m    1    foo\u001b[39;00m\n\u001b[0;32m   4251\u001b[0m \u001b[38;5;124;03m    2    NaN\u001b[39;00m\n\u001b[0;32m   4252\u001b[0m \u001b[38;5;124;03m    3      3\u001b[39;00m\n\u001b[0;32m   4253\u001b[0m \u001b[38;5;124;03m    3      4\u001b[39;00m\n\u001b[0;32m   4254\u001b[0m \u001b[38;5;124;03m    dtype: object\u001b[39;00m\n\u001b[0;32m   4255\u001b[0m \u001b[38;5;124;03m    \"\"\"\u001b[39;00m\n\u001b[0;32m   4256\u001b[0m     \u001b[38;5;28;01mif\u001b[39;00m \u001b[38;5;129;01mnot\u001b[39;00m \u001b[38;5;28mlen\u001b[39m(\u001b[38;5;28mself\u001b[39m) \u001b[38;5;129;01mor\u001b[39;00m \u001b[38;5;129;01mnot\u001b[39;00m is_object_dtype(\u001b[38;5;28mself\u001b[39m):\n\u001b[0;32m   4257\u001b[0m         result \u001b[38;5;241m=\u001b[39m \u001b[38;5;28mself\u001b[39m\u001b[38;5;241m.\u001b[39mcopy()\n",
      "File \u001b[1;32m~\\AppData\\Local\\Programs\\Python\\Python38\\lib\\site-packages\\pandas\\_libs\\lib.pyx:2403\u001b[0m, in \u001b[0;36mpandas._libs.lib.map_infer\u001b[1;34m()\u001b[0m\n",
      "Cell \u001b[1;32mIn[331], line 1\u001b[0m, in \u001b[0;36m<lambda>\u001b[1;34m(x)\u001b[0m\n\u001b[1;32m----> 1\u001b[0m df[\u001b[38;5;124m\"\u001b[39m\u001b[38;5;124m보험료\u001b[39m\u001b[38;5;124m\"\u001b[39m]\u001b[38;5;241m=\u001b[39mdf[\u001b[38;5;124m\"\u001b[39m\u001b[38;5;124m보험료\u001b[39m\u001b[38;5;124m\"\u001b[39m]\u001b[38;5;241m.\u001b[39mapply(\u001b[38;5;28;01mlambda\u001b[39;00m x: \u001b[43mx\u001b[49m\u001b[38;5;241;43m.\u001b[39;49m\u001b[43mstrip\u001b[49m()\u001b[38;5;241m.\u001b[39mreplace(\u001b[38;5;124m\"\u001b[39m\u001b[38;5;124m,\u001b[39m\u001b[38;5;124m\"\u001b[39m,\u001b[38;5;124m\"\u001b[39m\u001b[38;5;124m\"\u001b[39m))\u001b[38;5;241m.\u001b[39mastype(\u001b[38;5;28mint\u001b[39m)\n\u001b[0;32m      2\u001b[0m df[\u001b[38;5;124m\"\u001b[39m\u001b[38;5;124m지급금액\u001b[39m\u001b[38;5;124m\"\u001b[39m]\u001b[38;5;241m=\u001b[39mdf[\u001b[38;5;124m\"\u001b[39m\u001b[38;5;124m지급금액\u001b[39m\u001b[38;5;124m\"\u001b[39m]\u001b[38;5;241m.\u001b[39mapply(\u001b[38;5;28;01mlambda\u001b[39;00m x: x\u001b[38;5;241m.\u001b[39mstrip()\u001b[38;5;241m.\u001b[39mreplace(\u001b[38;5;124m\"\u001b[39m\u001b[38;5;124m,\u001b[39m\u001b[38;5;124m\"\u001b[39m,\u001b[38;5;124m\"\u001b[39m\u001b[38;5;124m\"\u001b[39m))\u001b[38;5;241m.\u001b[39mastype(\u001b[38;5;28mint\u001b[39m)\n",
      "\u001b[1;31mAttributeError\u001b[0m: 'int' object has no attribute 'strip'"
     ]
    }
   ],
   "source": [
    "# 금액을 int로 변경\n",
    "df[\"보험료\"]=df[\"보험료\"].apply(lambda x: x.strip().replace(\",\",\"\")).astype(int)\n",
    "df[\"지급금액\"]=df[\"지급금액\"].apply(lambda x: x.strip().replace(\",\",\"\")).astype(int)\n",
    "\n",
    "# 각 보험별 사고율 계산\n",
    "df['생명보험사고율']=df[\"사고건수\"]/df[\"계약건수\"]\n",
    "df['장기보험사고율']=df[\"지급금액\"]/df[\"보험료\"]\n",
    "df['자동차보험사고율']= df[\"지급금액\"]/df[\"보험료\"]\n",
    "\n",
    "df[\"보험_사고율_등급\"]= df.apply(grade_acc, axis=1)\n",
    "\n"
   ]
  },
  {
   "cell_type": "markdown",
   "id": "663a1867",
   "metadata": {},
   "source": [
    "## 2. 데이터 분석 "
   ]
  },
  {
   "cell_type": "markdown",
   "id": "2b0335e3",
   "metadata": {},
   "source": [
    "## 3. feature 생성\n",
    "\n",
    "- 평균 매출 금액 = 매출 금액 합 / 매출 금액 건수"
   ]
  },
  {
   "cell_type": "markdown",
   "id": "904856d7",
   "metadata": {},
   "source": [
    "0. feature 대분류 dictionary 만들기"
   ]
  },
  {
   "cell_type": "code",
   "execution_count": 161,
   "id": "28a949d0",
   "metadata": {},
   "outputs": [
    {
     "name": "stdout",
     "output_type": "stream",
     "text": [
      "{'쇼핑': {'화장품': {'화장품', '미용용품'}, '자': {'주류판매점'}, '의류': {'의류'}, '면세점': {'면세점'}, '백화점': {'백화점'}, '쇼핑기타': {'방문판매'}, '아울렛': {'아울렛'}, '패션잡화': {'패션잡화'}, '온라인쇼핑': {'종합몰', '오픈마켓', 'PG_일반인증', '홈쇼핑', '기타쇼핑몰'}, '상품권': {'상품권'}, '문구사무용품': {'문구사무용품'}, '스포츠의류용품': {'스포츠의류용품'}, '마트/할인점': {'마트', '대형마트/할인점'}, '편의점': {'연금_복지매장', '편의점'}, '가전': {'가전'}}, '건강': {'건강보조': {'요양원', '건강보조식품', '산후조리원', '안경', '양약국', '의료기기용품'}, '병원': {'피부과', '내과', '비뇨기과', '보건소', '한의원', '기타외과', '한방종합', '이비인후과', '산부인과_조산원', '안과', '피부비뇨기과', '양방종합', '방사선과', '양한방종합', '성형외과', '치과'}, '뷰티': {'이발소', '미용관리', '미용실'}}, '여행': {'숙박': {'캠프장', '호텔', '여관', '콘도'}, '여행상품': {'관광여행사'}, '교통': {'고속도로휴게실', '철도', '렌터카', '항공', '고속버스', '여객선'}}, '요식': {'제과점': {'제과점_아이스크림점'}, '음식점': {'일식', '한식', '부페', '양식', '주점', '중식', '패스트푸드점', '간이음식점'}, '커피/음료': {'커피/음료'}, '배달앱': {'배달앱'}}, '유흥': {'유흥': {'유흥'}}, '생활': {'정기결제': {'도시가스', '통신비', '전기', '4대보험', '관리비'}, '가례': {'가례'}, '보험': {'손해보험', '생명보험'}, '공과금': {'국세', '지방세', '공공요금'}, '인테리어': {'인테리어'}, '주생활관리': {'주생활관리'}}, '여가': {'놀이공원': {'놀이공원'}, '골프장': {'골프장', '실내외골프연습장'}, '스포츠시설': {'스포츠시설'}, '관람': {'영화', '관람_기타'}, '취미': {'취미시설', '취미용품'}, '동물병원': {'동물병원'}}, '자동차': {'차량관리': {'차량관리'}, '주유': {'주유'}, '대중교통': {'통행료', '버스/지하철', '택시'}, '주차': {'주차장'}, '차량구매': {'오토바이', '수입차', '국산차', '중고차'}}, '교육': {'학교': {'초_중_고등학교', '대학교', '특수학교'}, '유아교육': {'유아교육'}, '교육기타': {'교육기타'}, '학원': {'문리계학원', '기능학원', '예체능계학원', '외국어학원'}, '서적': {'서적'}}}\n"
     ]
    }
   ],
   "source": [
    "big_group = set(class_name['대'])\n",
    "\n",
    "class_dic = {}\n",
    "\n",
    "for big in big_group:\n",
    "    class_dic[big] = {}\n",
    "    \n",
    "    middle_group = set(class_name[class_name['대']==big]['중'])\n",
    "    \n",
    "    for middle in middle_group:\n",
    "        small_group = set(class_name[(class_name['대']==big) & (class_name['중']==middle)]['소'])\n",
    "        class_dic[big][middle] = small_group\n",
    "\n",
    "print(class_dic)"
   ]
  },
  {
   "cell_type": "markdown",
   "id": "415352e8",
   "metadata": {},
   "source": [
    "1) 대분류별 데이터셋 생성"
   ]
  },
  {
   "cell_type": "code",
   "execution_count": 79,
   "id": "97330774",
   "metadata": {},
   "outputs": [],
   "source": [
    "big_list = [\"요식\",\"자동차\",\"교육\",\"건강\",\"여가\",\"생활\",\"유흥\",\"쇼핑\",\"여행\"]"
   ]
  },
  {
   "cell_type": "code",
   "execution_count": 325,
   "id": "3b5f46b1",
   "metadata": {},
   "outputs": [],
   "source": [
    "alpha = [\"A\",\"B\",\"C\",\"D\",\"E\",\"F\",\"G\"]"
   ]
  },
  {
   "cell_type": "code",
   "execution_count": 81,
   "id": "61404a6e",
   "metadata": {},
   "outputs": [],
   "source": [
    "data = df[['기준년도', 'AGE', 'GENDER', 'JOB', 'INCOME', 'HOM_MGPO', 'HOM_SGG',\n",
    "       'OFFI_MGPO', 'OFFI_SGG', 'ONEPER_GD_C', 'EST_LFSTG', 'UMRD_SCORE',\n",
    "       'WEDD_EXP_SCORE', 'CHDB_EXP_SCORE', 'PSCH_OCH_SCORE', 'ESTUD_OCH_SCORE',\n",
    "       'MHSTUD_OCH_SCORE', 'CSTUD_OCH_SCORE', 'OCH_WEDD_EXP_SCORE',\n",
    "       'HOUSEWF_SCORE', 'ONL_PRSN', 'ERADP_TNDC', 'PRMM_CSM_TNDC', 'MDLV_PRSN',\n",
    "       'PET_PRSN', 'ODS_ACTI_INRT_TNDC', 'FRN_TRV_INRT_TNDC',\n",
    "       'INTERI_SLNG_TNDC', 'INTERI_REMDL_TNDC', 'HL_MNGT_INRT_TNDC']].copy()"
   ]
  },
  {
   "cell_type": "code",
   "execution_count": 104,
   "id": "49f0433d",
   "metadata": {},
   "outputs": [],
   "source": [
    "df.loc[:,'총사용건수_합'] = (df['총사용건수_A'].values+df['총사용건수_B'].values+df['총사용건수_C'].values+df['총사용건수_D'].values+df['총사용건수_E'].values)\n",
    "#df[\"총사용금액_합\"] = df['총사용금액_A']+df['총사용금액_B']+df['총사용금액_C']+df['총사용금액_D']+df['총사용금액_E']"
   ]
  },
  {
   "cell_type": "code",
   "execution_count": 105,
   "id": "45edadc2",
   "metadata": {
    "scrolled": false
   },
   "outputs": [],
   "source": [
    "df.loc[:,'총사용금액_합'] = (df['총사용금액_A'].values+df['총사용금액_B'].values+df['총사용금액_C'].values+df['총사용금액_D'].values+df['총사용금액_E'].values)"
   ]
  },
  {
   "cell_type": "code",
   "execution_count": 106,
   "id": "804818d4",
   "metadata": {},
   "outputs": [],
   "source": [
    "df.loc[:,'총_평균금액_합'] = df['총사용금액_합']/df['총사용건수_합']"
   ]
  },
  {
   "cell_type": "code",
   "execution_count": 326,
   "id": "ba9561ec",
   "metadata": {},
   "outputs": [
    {
     "ename": "KeyError",
     "evalue": "'매출건수합계_화장품_A'",
     "output_type": "error",
     "traceback": [
      "\u001b[1;31m---------------------------------------------------------------------------\u001b[0m",
      "\u001b[1;31mKeyError\u001b[0m                                  Traceback (most recent call last)",
      "File \u001b[1;32m~\\AppData\\Local\\Programs\\Python\\Python38\\lib\\site-packages\\pandas\\core\\indexes\\base.py:2898\u001b[0m, in \u001b[0;36mIndex.get_loc\u001b[1;34m(self, key, method, tolerance)\u001b[0m\n\u001b[0;32m   2897\u001b[0m \u001b[38;5;28;01mtry\u001b[39;00m:\n\u001b[1;32m-> 2898\u001b[0m     \u001b[38;5;28;01mreturn\u001b[39;00m \u001b[38;5;28;43mself\u001b[39;49m\u001b[38;5;241;43m.\u001b[39;49m\u001b[43m_engine\u001b[49m\u001b[38;5;241;43m.\u001b[39;49m\u001b[43mget_loc\u001b[49m\u001b[43m(\u001b[49m\u001b[43mcasted_key\u001b[49m\u001b[43m)\u001b[49m\n\u001b[0;32m   2899\u001b[0m \u001b[38;5;28;01mexcept\u001b[39;00m \u001b[38;5;167;01mKeyError\u001b[39;00m \u001b[38;5;28;01mas\u001b[39;00m err:\n",
      "File \u001b[1;32m~\\AppData\\Local\\Programs\\Python\\Python38\\lib\\site-packages\\pandas\\_libs\\index.pyx:70\u001b[0m, in \u001b[0;36mpandas._libs.index.IndexEngine.get_loc\u001b[1;34m()\u001b[0m\n",
      "File \u001b[1;32m~\\AppData\\Local\\Programs\\Python\\Python38\\lib\\site-packages\\pandas\\_libs\\index.pyx:96\u001b[0m, in \u001b[0;36mpandas._libs.index.IndexEngine.get_loc\u001b[1;34m()\u001b[0m\n",
      "File \u001b[1;32m~\\AppData\\Local\\Programs\\Python\\Python38\\lib\\site-packages\\pandas\\_libs\\index.pyx:126\u001b[0m, in \u001b[0;36mpandas._libs.index.IndexEngine._get_loc_duplicates\u001b[1;34m()\u001b[0m\n",
      "File \u001b[1;32m~\\AppData\\Local\\Programs\\Python\\Python38\\lib\\site-packages\\pandas\\_libs\\index.pyx:133\u001b[0m, in \u001b[0;36mpandas._libs.index.IndexEngine._maybe_get_bool_indexer\u001b[1;34m()\u001b[0m\n",
      "File \u001b[1;32m~\\AppData\\Local\\Programs\\Python\\Python38\\lib\\site-packages\\pandas\\_libs\\index.pyx:150\u001b[0m, in \u001b[0;36mpandas._libs.index.IndexEngine._unpack_bool_indexer\u001b[1;34m()\u001b[0m\n",
      "\u001b[1;31mKeyError\u001b[0m: '매출건수합계_화장품_A'",
      "\nThe above exception was the direct cause of the following exception:\n",
      "\u001b[1;31mKeyError\u001b[0m                                  Traceback (most recent call last)",
      "Cell \u001b[1;32mIn[326], line 9\u001b[0m\n\u001b[0;32m      7\u001b[0m df\u001b[38;5;241m.\u001b[39mloc[:,mid\u001b[38;5;241m+\u001b[39m\u001b[38;5;124m'\u001b[39m\u001b[38;5;124m_총사용건수_합\u001b[39m\u001b[38;5;124m'\u001b[39m]\u001b[38;5;241m=\u001b[39m\u001b[38;5;241m0\u001b[39m\n\u001b[0;32m      8\u001b[0m \u001b[38;5;28;01mfor\u001b[39;00m a \u001b[38;5;129;01min\u001b[39;00m alpha:\n\u001b[1;32m----> 9\u001b[0m     df\u001b[38;5;241m.\u001b[39mloc[:,mid\u001b[38;5;241m+\u001b[39m\u001b[38;5;124m'\u001b[39m\u001b[38;5;124m_총사용건수_합\u001b[39m\u001b[38;5;124m'\u001b[39m] \u001b[38;5;241m+\u001b[39m\u001b[38;5;241m=\u001b[39m \u001b[43mdf\u001b[49m\u001b[43m[\u001b[49m\u001b[38;5;124;43m\"\u001b[39;49m\u001b[38;5;124;43m매출건수합계_\u001b[39;49m\u001b[38;5;124;43m\"\u001b[39;49m\u001b[38;5;241;43m+\u001b[39;49m\u001b[43mmid\u001b[49m\u001b[38;5;241;43m+\u001b[39;49m\u001b[38;5;124;43m\"\u001b[39;49m\u001b[38;5;124;43m_\u001b[39;49m\u001b[38;5;124;43m\"\u001b[39;49m\u001b[38;5;241;43m+\u001b[39;49m\u001b[43ma\u001b[49m\u001b[43m]\u001b[49m\u001b[38;5;241m.\u001b[39mvalues\n\u001b[0;32m     11\u001b[0m \u001b[38;5;28;01mfor\u001b[39;00m small \u001b[38;5;129;01min\u001b[39;00m class_dic[big][mid]\u001b[38;5;241m.\u001b[39mkeys():\n\u001b[0;32m     12\u001b[0m     df\u001b[38;5;241m.\u001b[39mloc[:,small\u001b[38;5;241m+\u001b[39m\u001b[38;5;124m'\u001b[39m\u001b[38;5;124m_총사용건수_합\u001b[39m\u001b[38;5;124m'\u001b[39m]\u001b[38;5;241m=\u001b[39m\u001b[38;5;241m0\u001b[39m\n",
      "File \u001b[1;32m~\\AppData\\Local\\Programs\\Python\\Python38\\lib\\site-packages\\pandas\\core\\frame.py:2906\u001b[0m, in \u001b[0;36mDataFrame.__getitem__\u001b[1;34m(self, key)\u001b[0m\n\u001b[0;32m   2904\u001b[0m \u001b[38;5;28;01mif\u001b[39;00m \u001b[38;5;28mself\u001b[39m\u001b[38;5;241m.\u001b[39mcolumns\u001b[38;5;241m.\u001b[39mnlevels \u001b[38;5;241m>\u001b[39m \u001b[38;5;241m1\u001b[39m:\n\u001b[0;32m   2905\u001b[0m     \u001b[38;5;28;01mreturn\u001b[39;00m \u001b[38;5;28mself\u001b[39m\u001b[38;5;241m.\u001b[39m_getitem_multilevel(key)\n\u001b[1;32m-> 2906\u001b[0m indexer \u001b[38;5;241m=\u001b[39m \u001b[38;5;28;43mself\u001b[39;49m\u001b[38;5;241;43m.\u001b[39;49m\u001b[43mcolumns\u001b[49m\u001b[38;5;241;43m.\u001b[39;49m\u001b[43mget_loc\u001b[49m\u001b[43m(\u001b[49m\u001b[43mkey\u001b[49m\u001b[43m)\u001b[49m\n\u001b[0;32m   2907\u001b[0m \u001b[38;5;28;01mif\u001b[39;00m is_integer(indexer):\n\u001b[0;32m   2908\u001b[0m     indexer \u001b[38;5;241m=\u001b[39m [indexer]\n",
      "File \u001b[1;32m~\\AppData\\Local\\Programs\\Python\\Python38\\lib\\site-packages\\pandas\\core\\indexes\\base.py:2900\u001b[0m, in \u001b[0;36mIndex.get_loc\u001b[1;34m(self, key, method, tolerance)\u001b[0m\n\u001b[0;32m   2898\u001b[0m         \u001b[38;5;28;01mreturn\u001b[39;00m \u001b[38;5;28mself\u001b[39m\u001b[38;5;241m.\u001b[39m_engine\u001b[38;5;241m.\u001b[39mget_loc(casted_key)\n\u001b[0;32m   2899\u001b[0m     \u001b[38;5;28;01mexcept\u001b[39;00m \u001b[38;5;167;01mKeyError\u001b[39;00m \u001b[38;5;28;01mas\u001b[39;00m err:\n\u001b[1;32m-> 2900\u001b[0m         \u001b[38;5;28;01mraise\u001b[39;00m \u001b[38;5;167;01mKeyError\u001b[39;00m(key) \u001b[38;5;28;01mfrom\u001b[39;00m \u001b[38;5;21;01merr\u001b[39;00m\n\u001b[0;32m   2902\u001b[0m \u001b[38;5;28;01mif\u001b[39;00m tolerance \u001b[38;5;129;01mis\u001b[39;00m \u001b[38;5;129;01mnot\u001b[39;00m \u001b[38;5;28;01mNone\u001b[39;00m:\n\u001b[0;32m   2903\u001b[0m     tolerance \u001b[38;5;241m=\u001b[39m \u001b[38;5;28mself\u001b[39m\u001b[38;5;241m.\u001b[39m_convert_tolerance(tolerance, np\u001b[38;5;241m.\u001b[39masarray(key))\n",
      "\u001b[1;31mKeyError\u001b[0m: '매출건수합계_화장품_A'"
     ]
    }
   ],
   "source": [
    "for big in class_dic.keys():\n",
    "    df.loc[:,big+'_총사용건수_합']=0\n",
    "    for a in alpha:\n",
    "        df.loc[:,big+'_총사용건수_합'] += df[\"매출건수합계_\"+big+\"_\"+a].values\n",
    "    \n",
    "    for mid in class_dic[big].keys():\n",
    "        df.loc[:,mid+'_총사용건수_합']=0\n",
    "        for a in alpha:\n",
    "            df.loc[:,mid+'_총사용건수_합'] += df[\"매출건수합계_\"+mid+\"_\"+a].values\n",
    "            \n",
    "        for small in class_dic[big][mid].keys():\n",
    "            df.loc[:,small+'_총사용건수_합']=0\n",
    "            for a in alpha:\n",
    "                df.loc[:,small+'_총사용건수_합'] += df[\"매출건수합계_\"+small+\"_\"+a].values\n",
    "# for i in big_list:\n",
    "#     df.loc[:,i+'_총사용금액_합']=0\n",
    "#     for j in alpha:\n",
    "#         df.loc[:,i+'_총사용금액_합'] += df[\"매출금액합계_\"+i+\"_\"+j].values\n",
    "        \n",
    "# for i in big_list:\n",
    "#     df.loc[:,i+'_평균사용금액']= df[i+'_총사용금액_합']/df[i+'_총사용건수_합']"
   ]
  },
  {
   "cell_type": "code",
   "execution_count": 107,
   "id": "4444cb88",
   "metadata": {
    "scrolled": true
   },
   "outputs": [],
   "source": [
    "for i in big_list:\n",
    "    df.loc[:,i+'_총사용건수_합']=0\n",
    "    for j in alpha:\n",
    "        df.loc[:,i+'_총사용건수_합'] += df[\"매출건수합계_\"+i+\"_\"+j].values"
   ]
  },
  {
   "cell_type": "code",
   "execution_count": 108,
   "id": "dcc2db59",
   "metadata": {
    "scrolled": true
   },
   "outputs": [],
   "source": [
    "for i in big_list:\n",
    "    df.loc[:,i+'_총사용금액_합']=0\n",
    "    for j in alpha:\n",
    "        df.loc[:,i+'_총사용금액_합'] += df[\"매출금액합계_\"+i+\"_\"+j].values"
   ]
  },
  {
   "cell_type": "code",
   "execution_count": 109,
   "id": "2446ceba",
   "metadata": {},
   "outputs": [],
   "source": [
    "for i in big_list:\n",
    "    df.loc[:,i+'_평균사용금액']= df[i+'_총사용금액_합']/df[i+'_총사용건수_합']"
   ]
  },
  {
   "cell_type": "markdown",
   "id": "6b461b4f",
   "metadata": {},
   "source": [
    "## 2. 등급 부여하기\n",
    "- 등급은 값이 높을 수록 평균 사용금액이 높은 것을 의미한다."
   ]
  },
  {
   "cell_type": "code",
   "execution_count": 88,
   "id": "0e87bcd4",
   "metadata": {},
   "outputs": [],
   "source": [
    "def grade(bin_number,series):\n",
    "    min_ = min(series.values)\n",
    "    max_ = max(series.values)\n",
    "    bin_size = (max_-min_)/bin_number\n",
    "    grade_list = series.values\n",
    "    # 등급 생성\n",
    "    grade_list = []\n",
    "    data = min_\n",
    "    for i in range(bin_number+1):\n",
    "        grade_list.append(data)\n",
    "        data+= bin_size\n",
    "    return grade_list"
   ]
  },
  {
   "cell_type": "code",
   "execution_count": 89,
   "id": "95261700",
   "metadata": {},
   "outputs": [],
   "source": [
    "def grade_apply(x,columns_list):\n",
    "    for i in range(len(columns_list)-1) :\n",
    "        if x<=columns_list[i+1]:\n",
    "            return i+1\n",
    "    return len(columns_list)-1"
   ]
  },
  {
   "cell_type": "code",
   "execution_count": 90,
   "id": "016c71f0",
   "metadata": {},
   "outputs": [],
   "source": [
    "# grade_list 전역변수로 지정 "
   ]
  },
  {
   "cell_type": "code",
   "execution_count": 91,
   "id": "fe025e14",
   "metadata": {},
   "outputs": [],
   "source": [
    "columns_grade_list = [\"요식_평균사용금액\", '자동차_평균사용금액', '교육_평균사용금액', '건강_평균사용금액', '여가_평균사용금액',\n",
    "       '생활_평균사용금액', '유흥_평균사용금액', '쇼핑_평균사용금액','UMRD_SCORE',\n",
    "       'WEDD_EXP_SCORE', 'CHDB_EXP_SCORE', 'PSCH_OCH_SCORE', 'ESTUD_OCH_SCORE',\n",
    "       'MHSTUD_OCH_SCORE', 'CSTUD_OCH_SCORE', 'OCH_WEDD_EXP_SCORE',\n",
    "       'HOUSEWF_SCORE', 'ONL_PRSN', 'ERADP_TNDC', 'PRMM_CSM_TNDC', 'MDLV_PRSN',\n",
    "       'PET_PRSN', 'ODS_ACTI_INRT_TNDC', 'FRN_TRV_INRT_TNDC',\n",
    "       'INTERI_SLNG_TNDC', 'INTERI_REMDL_TNDC', 'HL_MNGT_INRT_TNDC']\n",
    " "
   ]
  },
  {
   "cell_type": "code",
   "execution_count": 110,
   "id": "70bfda0f",
   "metadata": {},
   "outputs": [],
   "source": [
    "for c in columns_grade_list:\n",
    "    grade_list = grade(10,df[c]) # 분류별 범위 리스트 생성\n",
    "    df.loc[:,c+\"등급\"]=df[c].apply(grade_apply,args=(grade_list,)) # apply 작성"
   ]
  },
  {
   "cell_type": "markdown",
   "id": "c7e0c6c9",
   "metadata": {},
   "source": [
    "# 3. 대분류 그래프 생성"
   ]
  },
  {
   "cell_type": "markdown",
   "id": "6b8c9e2d",
   "metadata": {},
   "source": [
    "## 1)사고율 별 그룹 생성"
   ]
  },
  {
   "cell_type": "markdown",
   "id": "df0dee3c",
   "metadata": {},
   "source": [
    "data drop"
   ]
  },
  {
   "cell_type": "code",
   "execution_count": 93,
   "id": "fc0b1d71",
   "metadata": {},
   "outputs": [],
   "source": [
    "feature_list = ['AGE', 'GENDER', 'JOB', 'INCOME','요식_평균사용금액등급',\n",
    "       '자동차_평균사용금액등급', '교육_평균사용금액등급', '건강_평균사용금액등급', '여가_평균사용금액등급',\n",
    "       '생활_평균사용금액등급', '유흥_평균사용금액등급', '쇼핑_평균사용금액등급', 'UMRD_SCORE등급',\n",
    "       'WEDD_EXP_SCORE등급', 'CHDB_EXP_SCORE등급', 'PSCH_OCH_SCORE등급',\n",
    "       'ESTUD_OCH_SCORE등급', 'MHSTUD_OCH_SCORE등급', 'CSTUD_OCH_SCORE등급',\n",
    "       'OCH_WEDD_EXP_SCORE등급', 'HOUSEWF_SCORE등급', 'ONL_PRSN등급', 'ERADP_TNDC등급',\n",
    "       'PRMM_CSM_TNDC등급', 'MDLV_PRSN등급', 'PET_PRSN등급', 'ODS_ACTI_INRT_TNDC등급',\n",
    "       'FRN_TRV_INRT_TNDC등급', 'INTERI_SLNG_TNDC등급', 'INTERI_REMDL_TNDC등급',\n",
    "       'HL_MNGT_INRT_TNDC등급']"
   ]
  },
  {
   "cell_type": "code",
   "execution_count": 111,
   "id": "d4c43022",
   "metadata": {},
   "outputs": [],
   "source": [
    "df = df.reset_index()"
   ]
  },
  {
   "cell_type": "markdown",
   "id": "2750dd0d",
   "metadata": {},
   "source": [
    "## 2) 그래프 생성"
   ]
  },
  {
   "cell_type": "code",
   "execution_count": 319,
   "id": "780d8906",
   "metadata": {},
   "outputs": [],
   "source": [
    "def merge_big_graph(acc_dic, acc_data, max_group):\n",
    "    temp = dict()\n",
    "    c_list = list()\n",
    "    \n",
    "    group_list = acc_dic.keys()\n",
    "    \n",
    "    for group in group_list:\n",
    "        big_set = set()\n",
    "        big_group_data = acc_data[acc_data['index'].isin(acc_dic[group])]\n",
    "        \n",
    "        for column in feature_list:\n",
    "            value_counts = acc_data[column].value_counts()\n",
    "\n",
    "            if len(value_counts) > max_group:\n",
    "                continue\n",
    "            \n",
    "            for value, count in value_counts.items():\n",
    "                c_list.append(f'{column}_{value}')\n",
    "            \n",
    "            for big in class_dic.keys():\n",
    "                if big in column:\n",
    "                    big_set.add(big)\n",
    "                    \n",
    "        group_result = '-'.join(c_list)\n",
    "        temp[group_result] = (big_set, big_group_data['index'])\n",
    "        \n",
    "    acc_dic = temp"
   ]
  },
  {
   "cell_type": "code",
   "execution_count": 320,
   "id": "7bca6bd8",
   "metadata": {},
   "outputs": [],
   "source": [
    "def filter_graph(acc_dic, acc_data, min_count, max_group, feature_list):\n",
    "    for column in feature_list:\n",
    "        value_counts = acc_data[column].value_counts()\n",
    "        \n",
    "        value_counts = {key: value for key, value in value_counts.items() if value > min_count}\n",
    "        \n",
    "        if len(value_counts) > max_group:\n",
    "            continue\n",
    "        \n",
    "        for value, count in value_counts.items():\n",
    "            acc_dic[f'{column}_{value}'] = set(acc_data[acc_data[column] == value]['index'])"
   ]
  },
  {
   "cell_type": "code",
   "execution_count": null,
   "id": "a7f1b7e5",
   "metadata": {},
   "outputs": [],
   "source": [
    "biggroup_dic[j] = dict()\n",
    "acc_dic = biggroup_dic[j]\n",
    "\n",
    "# 대분류 필터링\n",
    "filter_graph(acc_dic, acc_data, min_count, max_group, feature_list) # 사고율 별 1차 필터링\n",
    "merge_big_graph(acc_dic, acc_data, max_group) # 대분류 2차 필터링"
   ]
  },
  {
   "cell_type": "code",
   "execution_count": 321,
   "id": "2fe618f3",
   "metadata": {},
   "outputs": [],
   "source": [
    "graph = {}\n",
    "num_acc_group = 5\n",
    "max_group = 2\n",
    "min_count = 0\n",
    "\n",
    "for i in range(1,4):\n",
    "    insurance_data = df[df['보험종류']==i]\n",
    "    \n",
    "    graph[i] = dict()\n",
    "    biggroup_dic = graph[i]\n",
    "    for j in range(1, num_acc_group+1): # 사고율 별 계산\n",
    "        acc_data = insurance_data[insurance_data['보험_사고율_등급']==j]\n",
    "        \n",
    "        biggroup_dic[j] = dict()\n",
    "        acc_dic = biggroup_dic[j]\n",
    "        \n",
    "        # 대분류 필터링\n",
    "        filter_graph(acc_dic, acc_data, min_count, max_group, feature_list) # 사고율 별 1차 필터링\n",
    "        merge_big_graph(acc_dic, acc_data, max_group) # 대분류 2차 필터링\n",
    "        \n",
    "        # 중분류 필터링\n",
    "        for big_feature in acc_dic.keys(): # 대분류 별 진행\n",
    "            feature_list = []\n",
    "            big_list = acc_dic[big_feature][0] # 대분류 리스트\n",
    "            mid_data = acc_data[acc_data['index'].isin(acc_dic[big_feature][1])] # 해당 대분류에 해당하는 데이터\n",
    "            \n",
    "            mid_dic = dict()\n",
    "            big_graph = acc_dic[big_feature]\n",
    "            \n",
    "            for b in big_list:\n",
    "                feature_list.append(i for i in class_dic[b].keys())\n",
    "            \n",
    "            # 중분류 필터링\n",
    "            filter_graph(acc_dic, acc_data, min_count, max_group, feature_list) # 중분류 1차 그래프 생성\n",
    "            merge_big_graph(acc_dic, acc_data, max_group) # 중분류 2차 필터링\n",
    "        \n",
    "            # 소분류도 중분류와 같은 방식으로 진행\n",
    "            # ...."
   ]
  },
  {
   "cell_type": "markdown",
   "id": "07dbb62a",
   "metadata": {},
   "source": [
    "## 중복제거"
   ]
  },
  {
   "cell_type": "code",
   "execution_count": null,
   "id": "6078eb85",
   "metadata": {},
   "outputs": [],
   "source": [
    "result = dict()\n",
    "\n",
    "for i in range(1,4): # 보험 별\n",
    "    biggroup_dic = graph[i]\n",
    "    feature_set = dict()\n",
    "        \n",
    "    for j in range(1, num_acc_group+1): # 사고율 별 feature 집합 구분\n",
    "        feature_set[j] = set()\n",
    "        \n",
    "        for feature in biggroup_dic[j].keys():\n",
    "            feature_set[j].add(feature)\n",
    "        \n",
    "    for now in range(len(feature_set)):\n",
    "        temp = feature_set[now]\n",
    "        for other in range(len(feature_set)):\n",
    "            if now == other:\n",
    "                continue\n",
    "            temp = temp.difference(feature_set[other])\n",
    "    \n",
    "        result[now] = temp\n"
   ]
  },
  {
   "cell_type": "markdown",
   "id": "ecd377bd",
   "metadata": {},
   "source": [
    "## 3) 검증"
   ]
  },
  {
   "cell_type": "code",
   "execution_count": null,
   "id": "46738c7a",
   "metadata": {
    "scrolled": false
   },
   "outputs": [],
   "source": [
    "for i in range(1,4): # 보험 별\n",
    "    biggroup_dic = graph[i]\n",
    "    \n",
    "    for j in range(1, num_acc_group+1): # 사고율 별 F1-Score 계산\n",
    "        answer = set(df[(df['보험종류'] == i) & (df['보험_사고율_등급'] == j)]['index'])\n",
    "        predict = set()\n",
    "        \n",
    "        acc_graph = biggroup_dic[j]\n",
    "        feature_set = set(acc_graph.keys())\n",
    "        \n",
    "        for feature_join in feature_set: # 각 조건 별 해당하는 index 추출\n",
    "            f_dict = dict()\n",
    "            feature_pair = feature_join.split('-')\n",
    "            \n",
    "            for f in feature_pair:\n",
    "                feature = f.split('_')\n",
    "                f_dict[feature[0]] = feature[1]\n",
    "                \n",
    "            df_temp = df\n",
    "            for key, value in f_dict.items():\n",
    "                df_temp = df_temp[df_temp[key] == value]\n",
    "            \n",
    "            predict &= set(df_temp['index'])\n",
    "                \n",
    "        TP = len(answer & predict)\n",
    "        FP = len(predict - answer)\n",
    "        FN = len(answer - predict)\n",
    "        \n",
    "        precision = TP / (TP + FP)\n",
    "        recall = TP / (TP + FN)\n",
    "        f1_score = 2 * (precision * recall) / (precision + recall)\n",
    "    \n",
    "        print(f'{i}보험 {j}사고율에 해당하는 F1-Score : ', f1_score)"
   ]
  },
  {
   "cell_type": "markdown",
   "id": "b3e816bb",
   "metadata": {},
   "source": [
    "## 4) 그래프 그리기"
   ]
  },
  {
   "cell_type": "code",
   "execution_count": 329,
   "id": "64b6686f",
   "metadata": {},
   "outputs": [],
   "source": [
    "import networkx as nx\n",
    "import matplotlib.pyplot as plt\n",
    "\n",
    "def draw_graph(graph, ensurance, file_name): # 임시 코드 (현재 데이터로 그래프 생성 불가)\n",
    "    G = nx.DiGraph()\n",
    "\n",
    "    def add_edges(graph, node, parent_node=None):\n",
    "        if parent_node:\n",
    "            G.add_edge(parent_node, node)\n",
    "        for child_node, value in graph[node].items():\n",
    "            G.add_edge(node, child_node)\n",
    "            add_edges(graph[node], child_node, node)\n",
    "\n",
    "    add_edges(graph, list(graph.keys())[0])\n",
    "\n",
    "    pos = nx.spring_layout(G)\n",
    "    nx.draw_networkx(G, pos, with_labels=True, node_color='lightblue', node_size=500, \\\n",
    "                     font_size=12, edge_color='gray',\\\n",
    "                     width=1.0, arrowsize=15, arrowstyle='->')\n",
    "\n",
    "    plt.axis('off')\n",
    "    plt.save(f'./figure/{ensurance}/{file_name}_graph.jpeg')\n",
    "    plt.show()"
   ]
  },
  {
   "cell_type": "code",
   "execution_count": null,
   "id": "8456230a",
   "metadata": {},
   "outputs": [],
   "source": [
    "for i in range(1,4): # 보험 별 그래프 생성\n",
    "    biggroup_dic = graph[i]\n",
    "    \n",
    "    for j in range(1, num_acc_group+1): # 사고율 별 그래프 생성\n",
    "        acc_graph = biggroup_dic[j]\n",
    "        draw_graph(acc_graph, i, j) # 폴더이름은 추후 변경"
   ]
  }
 ],
 "metadata": {
  "kernelspec": {
   "display_name": "Python 3 (ipykernel)",
   "language": "python",
   "name": "python3"
  },
  "language_info": {
   "codemirror_mode": {
    "name": "ipython",
    "version": 3
   },
   "file_extension": ".py",
   "mimetype": "text/x-python",
   "name": "python",
   "nbconvert_exporter": "python",
   "pygments_lexer": "ipython3",
   "version": "3.8.10"
  }
 },
 "nbformat": 4,
 "nbformat_minor": 5
}
